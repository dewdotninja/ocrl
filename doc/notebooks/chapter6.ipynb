{
 "cells": [
  {
   "cell_type": "markdown",
   "metadata": {},
   "source": [
    "การควบคุมเหมาะที่สุดและการเรียนรูู้เสริมกำลัง -- ดร.วโรดม ตู้จินดา"
   ]
  },
  {
   "cell_type": "markdown",
   "metadata": {},
   "source": [
    "# 6 การหาค่าเหมาะที่สุดของการหมุน\n",
    "\n",
    "ในตัวอย่างการหาค่าเหมาะที่สุดที่กล่าวถึงในบทก่อนหน้านี้ เพื่อความเข้าใจหลักการพิ้นฐานเราจะใช้พลวัตในระนาบ \n",
    "เช่นหุ่นยนต์กายกรรม คาร์ทโพล หรือโดรน 2 มิติ แม้สถานะบางตัวของพลวัตนิยามเป็นค่าเชิงมุม แต่การหมุนใน 2 \n",
    "มิติ สามารถใช้การคำนวณทางเรขาคณิตอย่างง่าย ในบทนี้จะเป็นการศึกษาระบบที่มีการหมุนในระบบ 3 มิติ \n",
    "เช่นโดรนหรืออากาศยาน ยานสำรวจใต้น้ำ หุ่นยนต์เคลื่อนที่ผาดโผน ฯลฯ ซึ่งจะต้องการคณิตศาสตร์ที่มีประสิทธิภาพดีกว่าตรีโกณ \n",
    "\n",
    "## 6.1 การกำหนดทิศทาง\n",
    "\n",
    "*การกำหนดทิศทาง (orientation)* คือการศึกษาการเคลื่อนที่อย่างอิสระของพลวัตระบบที่มีฐานลอยตัว และมีการหมุนขนาดใหญ่ การแทนการหมุนโดยวิธีการอย่างง่ายเช่นมุมออยเลอร์ (Euler angles) มีข้อเสียเช่นการเป็นเอกฐาน (singularities) ทำให้เกิดปัญหาเชิงเลข จึงควรหลีกเลี่ยง \n",
    "วิธีการที่ไม่เกิดปัญหาเอกฐานคือใช้เมทริกซ์การหมุนหรือควอเทอร์เนียน แต่วิธีเหล่านี้ไม่ใช่การแทนค่าโดยใช้พารามิเตอร์น้อยที่สุด $^\\dagger$  และการหาค่าเหมาะที่สุดจำเป็นต้องใช้กลเม็ดที่จะได้ศึกษาในบทนี้\n",
    "\n",
    "การกำหนดทิศทางนิยามได้เป็นการหมุนของเฟรมพิกัด (coordinate frame) ที่ยึดติดกับวัตถุเทียบกับเฟรมพิกัดโลก  (world frame) $^{\\dagger\\dagger}$ ดังแสดงในรูปที่ 6.1 \n",
    "ซึ่งต่อไปจะเรียกสั้นลงว่า เฟรมวัตถุ (ใช้อักษร B) และเฟรมโลก (ใช้อักษร W) \n",
    "โดยเฟรมที่ใช้อ้างอิงเป็นตัวยกกำลังทางด้านซ้าย ดังนั้น $^WQ^B$ คือการกำหนดทิศทางที่บรรยายการหมุนของเฟรมวัตถุเทียบกับเฟรมโลก โดย $^WQ^B$ อาจเป็นเมทริกซ์การหมุนหรือควอเทอร์เนียนก็ได้ ดังนั้นเราสามารถเขียนความสัมพันธ์ระหว่างเวกเตอร์ $^BV$ ในเฟรมวัตถุกับเวกเตอร์ $^WV$ ในเฟรมโลกได้เป็น\n",
    "$$\n",
    "^WV = (^WQ^B) ^BV \\tag{6.1}\n",
    "$$\n",
    "\n",
    "ยกตัวอย่างเราติดตั้งไจโรสโคป (gyroscope) ไว้บนวัตถุหนึ่งเช่นโดรน มุมที่วัดได้จากไจโรคือมุมที่อ้างอิงกับเฟรมวัตถุ หากต้องการแปลงเป็นมุมที่อ้างอิงกับเฟรมโลกได้โดย (6.1) \n",
    "\n",
    "<img src=\"https://raw.githubusercontent.com/dewdotninja/ocrl/refs/heads/main/doc/figs/ch6_b2w.png\" width=700 />\n",
    "\n",
    "รูปที่ 6.1 การหมุนของเฟรมวัตถุเทียบกับเฟรมโลก\n",
    "\n",
    "<hr>\n",
    "\n",
    "$^\\dagger$ การหมุนใน 3 มิติต้องการองศาเสรีเท่ากับ 3 เมทริกซ์การหมุนประกอบด้วย 9 สมาชิก ดังนั้นจะต้องมีเงื่อนไขบังคับเท่ากับ 6 ส่วนควอเทอร์เนียนประกอบด้วย 4 สมาชิก ดังนั้นต้องมี 1 เงื่อนไขบังคับ\n",
    "\n",
    "$^{\\dagger\\dagger}$ คำศัพท์อื่นที่ใช้เรียกเฟรมอ้างอิงนี้คือ เฟรมตรึง (fixed frame) เฟรมเฉื่อย (inertial frame) หรือเฟรมนิวโทเนียน (Newtonian frame)\n",
    "\n",
    "<hr>\n",
    "\n",
    "ประเด็นที่น่าสนใจประการหนึ่งคือ แม้ว่าการกำหนดทิศทางจะมีองศาเสรีเท่ากับ 3 แต่เราไม่สามารถหา พารามิเตอร์ 3 ตัวที่แทนความสัมพันธ์ (6.1) อย่างครอบคลุมได้โดยไม่เกิดภาวะเอกฐาน (อาจหาได้เพียงเฉพาะที่โดยการประมาณค่ามุมขนาดเล็ก)"
   ]
  },
  {
   "cell_type": "markdown",
   "metadata": {},
   "source": [
    "### 6.1.1 เมทริกซ์การหมุน\n",
    "\n",
    "หากแทน $^WQ^B$ ใน (6.1) โดย *เมทริกซ์การหมุน (rotation matrix)* หรือที่เรียกอีกชื่อหนึ่งว่า \n",
    "*เมทริกซ์โคไซน์ทิศทาง (direction-cosine matrix)* \n",
    "เขียน $^WQ^B$ ในรูปเวกเตอร์แถวได้ดังนี้ \n",
    "$$\n",
    "\\left[\\begin{array}{c}\n",
    "^Wv_1 \\\\\n",
    "^Wv_2 \\\\\n",
    "^Wv_3\n",
    "\\end{array}\\right] = \n",
    "\\left[\\begin{array}{c}\n",
    "^Bw_1^T \\\\\n",
    "^Bw_2^T \\\\\n",
    "^Bw_3^T \n",
    "\\end{array}\\right]\n",
    "\\left[\\begin{array}{c}\n",
    "^Bv_1 \\\\\n",
    "^Bv_2 \\\\\n",
    "^Bv_3\n",
    "\\end{array}\\right] \\tag{6.2}\n",
    "$$\n",
    "\n",
    "เมื่อพิจารณาตามหลักการของเวกเตอร์ฐานหลัก (basis vector) ของเฟรมพิกัด อธิบายได้ว่าแต่ละแถวของเมทริกซ์การหมุน $^WQ^B$ คือส่วนประกอบของเวกเตอร์ฐานหลักของเฟรมเอาต์พุตบรรยายในพิกัดของเฟรมอินพุต \n",
    "\n",
    "หากแจกแจง $^WQ^B$ ในรูปคอลัมน์จะได้เป็น \n",
    "$$\n",
    "\\left[\\begin{array}{c}\n",
    "^Wv_1 \\\\\n",
    "^Wv_2 \\\\\n",
    "^Wv_3\n",
    "\\end{array}\\right] = \n",
    "\\left[\\begin{array}{ccc}\n",
    "^Wb_1 & ^Wb_2 & ^Wb_3 \n",
    "\\end{array}\\right]\n",
    "\\left[\\begin{array}{c}\n",
    "^Bv_1 \\\\\n",
    "^Bv_2 \\\\\n",
    "^Bv_3\n",
    "\\end{array}\\right] \\tag{6.3}\n",
    "$$\n",
    "\n",
    "แต่ละคอลัมน์คือส่วนประกอบของเฟรม W ในรูปเวกเตอร์ฐานหลักของเฟรม B \n",
    "เพื่อให้เขียนง่ายขึ้น จะละทิ้งตัวยกและตัวห้อยใน $^WQ^B$ จาก (6.2) และ (6.3) \n",
    "และความตั้งฉากของเวกเตอร์ฐานหลักระหว่างสองเฟรม จะได้ว่า \n",
    "$$\n",
    "Q^TQ  = I  \\Rightarrow Q^{-1} = Q^T \\tag{6.4}\n",
    "$$\n",
    "กล่าวคือ $Q$ เป็นเมทริกซ์เชิงตั้งฉาก (orthogonal matrix) นอกจากนั้นความพิเศษอีกประการหนึ่งคือ \n",
    "ค่าดีเทอร์มิแนนต์ (determinant) ของเมทริกซ์ในทางเรขาคณิตคือผลคูณของค่าลักษณะเฉพาะหรือ ปริมาตรที่คิดเครื่องหมาย (signed volume) ตามกฎมือขวา เนื่องจากเวกเตอร์ฐานหลักเป็นเวกเตอร์หนึ่งหน่วย ดังนั้นหากเฟรมสอดคล้องกับกฎมือขวา จะได้ว่า\n",
    "$$\n",
    "det(Q) = 1 \\tag{6.5}\n",
    "$$\n",
    "\n",
    "**หมายเหตุ :** หากเฟรมไม่เป็นไปตามกฎมือขวา จะได้ $det(Q) = -1$ เรียกว่าการสะท้อน (reflection) \n",
    "\n",
    "คุณสมบัติ (6.4),(6.5) รวมเป็นนิยามของกลุ่มเชิงตั้งฉากพิเศษ (special orthogonal group) ในระบบสามมิติ นิยมเขียนย่อว่า SO(3) \n"
   ]
  },
  {
   "cell_type": "code",
   "execution_count": null,
   "metadata": {},
   "outputs": [],
   "source": []
  },
  {
   "cell_type": "code",
   "execution_count": null,
   "metadata": {},
   "outputs": [],
   "source": []
  },
  {
   "cell_type": "code",
   "execution_count": null,
   "metadata": {},
   "outputs": [],
   "source": []
  },
  {
   "cell_type": "code",
   "execution_count": null,
   "metadata": {},
   "outputs": [],
   "source": []
  },
  {
   "cell_type": "code",
   "execution_count": null,
   "metadata": {},
   "outputs": [],
   "source": []
  },
  {
   "cell_type": "code",
   "execution_count": null,
   "metadata": {},
   "outputs": [],
   "source": []
  },
  {
   "cell_type": "code",
   "execution_count": null,
   "metadata": {},
   "outputs": [],
   "source": []
  },
  {
   "cell_type": "code",
   "execution_count": null,
   "metadata": {},
   "outputs": [],
   "source": []
  },
  {
   "cell_type": "code",
   "execution_count": null,
   "metadata": {},
   "outputs": [],
   "source": []
  },
  {
   "cell_type": "code",
   "execution_count": null,
   "metadata": {},
   "outputs": [],
   "source": []
  },
  {
   "cell_type": "code",
   "execution_count": null,
   "metadata": {},
   "outputs": [],
   "source": []
  },
  {
   "cell_type": "code",
   "execution_count": null,
   "metadata": {},
   "outputs": [],
   "source": []
  },
  {
   "cell_type": "markdown",
   "metadata": {},
   "source": [
    "## บรรณานุกรม\n",
    "\n",
    "1. Z. Manchester et.al. [16-745 Optimal Control & Reinforcement Learning, \n",
    "Course materials](https://optimalcontrol.ri.cmu.edu/#learning-resources), Carnegie Mellon University. 2025.\n"
   ]
  },
  {
   "cell_type": "markdown",
   "metadata": {},
   "source": [
    "## โจทย์ปัญหา"
   ]
  },
  {
   "cell_type": "markdown",
   "metadata": {},
   "source": [
    "<div align=\"center\">\n",
    "<img src=\"https://raw.githubusercontent.com/dewdotninja/sharing-github/refs/heads/master/dewninja_logo50.jpg\" alt=\"dewninja\"/>\n",
    "</div>\n",
    "<div align=\"center\">dew.ninja 2025</div>"
   ]
  }
 ],
 "metadata": {
  "kernelspec": {
   "display_name": "Python 3.7 (controlenv)",
   "language": "python",
   "name": "controlennv"
  },
  "language_info": {
   "codemirror_mode": {
    "name": "ipython",
    "version": 3
   },
   "file_extension": ".py",
   "mimetype": "text/x-python",
   "name": "python",
   "nbconvert_exporter": "python",
   "pygments_lexer": "ipython3",
   "version": "3.7.9"
  }
 },
 "nbformat": 4,
 "nbformat_minor": 4
}
