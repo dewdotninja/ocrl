{
 "cells": [
  {
   "cell_type": "markdown",
   "metadata": {},
   "source": [
    "การควบคุมเหมาะที่สุดและการเรียนรูู้เสริมกำลัง -- ดร.วโรดม ตู้จินดา"
   ]
  },
  {
   "cell_type": "markdown",
   "metadata": {
    "vscode": {
     "languageId": "plaintext"
    }
   },
   "source": [
    "# 5 แนววิถีเหมาะที่สุดแบบไม่เป็นเชิงเส้น\n",
    "\n",
    "จากบทที่ 4 เราได้ศึกษาการโปรแกรมพลวัตขั้นพื้นฐานสำหรับระบบเชิงเส้นที่เป็นคอนเวกซ์ โดยยกตัวอย่างตัวควบคุม MPC \n",
    "แบบคอนเวกซ์ เมื่อจัดรูปเป็นปัญหา QP สามารถหาคำตอบเหมาะที่สุดได้ภายในคาบเวลาที่สั้น \n",
    "ทำให้ปัจจุบันมีการใช้งานอย่างแพร่หลายในหุ่นยนต์และอุตสาหกรรมยานยนต์\n",
    "\n",
    "ในบทนี้จะขยายไปยังปัญหาทั่วไปที่พลวัตไม่เป็นเชิงเส้น \n",
    "และไม่คอนเวกซ์ แต่ก่อนจะเข้าสู่เนื้อหา เราเน้นย้ำว่าหากการประมาณค่าเป็นพลวัตเชิงเส้นทำงานได้ดี \n",
    "การใช้การควบคุม LQR หรือ MPC จะรับประกันการลู่เข้าสู่คำตอบภายในเวลาที่กำหนดได้ \n",
    "และมีขั้นตอนการแก้ปัญหาเพื่อหาคำตอบอย่างเป็นระบบ ในขณะที่วิธีการไม่เป็นเชิงเส้นที่จะได้ศึกษาต่อไปนี้ \n",
    "ไม่มีการรับประกันการลู่เข้าสู่ค่าเหมาะที่สุด โดยอาจลู่เข้าสู่ค่าต่ำสุดเฉพาะที่ หรือเราอาจจำเป็นต้องหยุดอัลกอริทึมก่อนกำหนดเพื่อได้เอาต์พุตตัวควบคุมภายในคาบเวลาที่กำหนด \n",
    "เรียกว่าเป็นคำตอบเกือบเหมาะที่สุด (sub-optimal) อย่างไรก็ตาม วิธีหาแนววิถีเหมาะที่สุดแบบไม่เป็นเชิงเส้น (nonlinear optimal trajectory) สามารถใช้งานได้ดี เพียงต้องใช้ความพยายามมากขึ้น \n",
    "\n",
    "## 5.1 การหาแนววิถีเหมาะที่สุดโดยอ้อม\n",
    "\n",
    "วิธีการแรกที่จะกล่าวถึงเรียกว่า การโปรแกรมพลวัติเชิงอนุพันธ์ (differential dynamic programming เรียกย่อว่า DDP) [1,2]\n",
    "ที่มีความคล้ายกับวิธีคุมค่ากำลังสองเชิงเส้นทำซ้ำ (iterative linear quadratic regulator เรียกย่อว่า iLQR) โดยหลักการจะแตกต่างกันในรายละเอียดปลีกย่อยที่ได้กล่าวถึงในบทที่ 2 กล่าวคือวิธี DDP ประยุกต์ใช้อัลกอริทึมนิวตันโดยตรง ส่วนวิธี iLQR ใช้อัลกอริทึมเกาส์-นิวตันเพื่อทำให้การคำนวณง่ายขึ้นทำให้ทำงานเร็วกว่า อย่างไรก็ตามในบทความและงานวิจัยพบว่ามีการใช้สองชื่อนี้ปะปนกันโดยไม่คำนึงถึงความแตกต่าง ดังนั้นเราจะใช้ตัวย่อ DDP เป็นหลักในเนื้อหาของบทนี้\n",
    "\n",
    "วิธีการนี้จัดอยู่ในประเภทการหาแนววิถีเหมาะที่สุดโดยอ้อม (indirect trajectory optimization) โดยหากเปรียบเทียบกับวิธีการยิงโดยอ้อมในบทที่ 3 ซึ่งเป็นการลดค่าเกรเดียนต์ หรือรูปแบบอันดับหนึ่ง  วิธีการนี้จะมีพื้นฐานอยู่บนวิธีนิวตันคือมีรูปแบบอันดับสอง\n",
    "\n",
    "**หมายเหตุ :** สัญกรณ์ที่ใช้จะอ้างอิงตามรายวิชา [3] ส่วนที่แตกต่างจากบทที่ 4 คือใช้ $l_k(x_k,u_k)$ และ $l_N(x_N)$ แทนมูลค่าขั้นและมูลค่าขั้นสุดท้ายตามลำดับ $V_k(x)$ แทนมูลค่ารายทาง และ $S_k(x,u)$ แทนฟังก์ชันตัวกระทำ-มูลค่า​ (action-value function นิยมเรียกว่าฟังก์ชัน $\\mathcal{Q}$ แต่เหตุผลที่ใช้ $S_k$ เพื่อหลีกเลี่ยงการซ้ำกับเมทริกซ์น้ำหนัก $Q$ ในฟังก์ชันมูลค่า) \n",
    "\n",
    "เราจะเริ่มต้นจากปัญหาที่ไม่มีเงื่อนไขบังคับอสมการ รูปแบบปัญหาการหาแนววิถีเหมาะที่สุดแบบไม่เป็นเชิงเส้นเขียนได้เป็นดังนี้\n",
    "\n",
    "$$\n",
    "\\begin{align*}\n",
    "\\underset{\\substack{x_{1:N} \\\\ u_{1:N-1}}}{min} \\; J &=  \\sum_{k=1}^{N-1} \\; l_k(x_k,u_k) + l_N(x_N) \\\\\n",
    "s.t. \\;\\; x_{k+1} &= f(x_k,u_k) \\\\\n",
    "x_k &\\in \\mathcal{X}_k \\\\\n",
    "u_k &\\in \\mathcal{U}_k \\tag{5.1}\n",
    "\\end{align*}\n",
    "$$\n",
    "\n",
    "โดยที่พลวัต $f(x_k,u_k)$ ไม่เป็นเชิงเส้น และเงื่อนไขบังคับสำหรับ $x_k, u_k$ ไม่เป็นคอนเวกซ์ โดยทั่วไปจะตั้งสมมุติฐานว่าฟังก์ชันมูลค่าและเงื่อนไขบังคับเป็นแบบอย่างน้อย $\\mathcal{C}^2$ คือสามารถหาอนุพันธ์ได้ถึงอันดับสอง\n",
    "\n",
    "วิธีการ DDP มีพื้นฐานอยู่บนวิธี DP แบบประมาณค่า โดยใช้การกระจายเทเลอร์อันดับสองของฟังก์ชันมูลค่ารายทางใน DP เพื่อคำนวณขั้นนิวตัน การทำงานสามารถลู่เข้าได้เร็ว หรืออาจหยุดก่อนหน้าในการใช้งานแบบเรียลไทม์\n",
    "\n",
    "จากฟังก์ชันมูลค่ารายทาง สามารถประมาณค่าโดยกระจายเทเลอร์ได้ดังนี้\n",
    "\n",
    "$$\n",
    "V_k(x + \\Delta x) \\approx V_k(x) + p_k^T\\Delta x + \\frac{1}{2}\\Delta x^T P_k \\Delta x \\tag{5.2}\n",
    "$$\n",
    "\n",
    "โดยนิยาม\n",
    "$$\n",
    "p_N = \\nabla_x l_N(x) \\tag{5.3}\n",
    "$$\n",
    "$$\n",
    "P_N = \\nabla_{xx}^2 l_N(x) \\tag{5.4}\n",
    "$$\n",
    "\n",
    "สังเกตข้อแตกต่างระหว่าง (5.2) กับปัญหา LQR เชิงเส้นก่อนหน้านี้คือมีพจน์สัมพรรค $p_k^T\\Delta x$ เป็นเกรเดียนต์ของฟังก์ชันมูลค่าขั้นเพิ่มเข้ามา\n",
    "\n",
    "ต่อมาพิจารณาฟังก์ชันตัวกระทำ-มูลค่า \n",
    "$$\n",
    "S_k(x,u) = l_k(x,u) + V_{k+1}(f(x,u)) \\tag{5.5}\n",
    "$$\n",
    "\n",
    "เมื่อประมาณค่าโดยกระจายเทเลอร์จะได้เป็น\n",
    "$$\n",
    "S_k(x+\\Delta x, u+\\Delta u) \\approx S_k(x,u) + \n",
    "\\left[\\begin{array}{c}\n",
    "g_x \\\\\n",
    "g_u\n",
    "\\end{array}\\right]^T\n",
    "\\left[\\begin{array}{c}\n",
    "\\Delta x \\\\\n",
    "\\Delta u\n",
    "\\end{array}\\right] + \\frac{1}{2}\n",
    "\\left[\\begin{array}{c}\n",
    "\\Delta x \\\\\n",
    "\\Delta u\n",
    "\\end{array}\\right]^T \n",
    "\\left[\\begin{array}{cc}\n",
    "G_{xx} & G_{xu} \\\\\n",
    "G_{ux} & G_{uu}\n",
    "\\end{array}\\right]\n",
    "\\left[\\begin{array}{c}\n",
    "\\Delta x \\\\\n",
    "\\Delta u\n",
    "\\end{array}\\right] \\tag{5.6}\n",
    "$$\n",
    "โดยเมทริกซ์ในพจน์ด้านขวา (เฮสเชียน) เป็นแบบสมมาตร $G_{ux} = G_{xu}^T$ \n",
    "\n",
    "ต้องการแทนค่าย้อนหลังในวิธี DP มูลค่ารายทางย้อนหลังหนึ่งขั้นเวลามีค่าเป็น\n",
    "\n",
    "$$\n",
    "\\begin{align*}\n",
    "V_{k-1}(x) = \\underset{\\Delta u}{min} \\;\\Big[ & S_{k-1}(x,u) + g_x^T\\Delta x + g_u^T \\Delta u \\\\\n",
    "&+ \\frac{1}{2}\\Delta x^TG_{xx}\\Delta x + \\frac{1}{2}\\Delta u^TG_{uu}\\Delta u \\\\ \n",
    "&+ \\frac{1}{2}\\Delta x^TG_{xu}\\Delta u + \\frac{1}{2}\\Delta u^TG_{ux}\\Delta x \\Big] \\tag{5.7} \n",
    "\\end{align*}\n",
    "$$\n",
    "\n",
    "หาเกรเดียนต์เทียบกับ $\\Delta u$ และให้เท่ากับศูนย์ \n",
    "$$\n",
    "\\nabla_{\\Delta u}[V_{k-1}(x)] = g_u + G_{uu}\\Delta u + G_{ux}\\Delta x = 0 \\tag{5.8}\n",
    "$$\n",
    "\n",
    "จาก (5.8) สามารถหาคำตอบของ $\\Delta u$ เป็นฟังก์ชันของพจน์ที่เหลือโดยการจัดรูปสมการได้เป็น\n",
    "$$\n",
    "\\begin{align*}\n",
    "\\Delta u_{k-1} &= - G_{uu}^{-1}g_u - G_{uu}^{-1}G_{ux}\\Delta x \\\\\n",
    "&\\triangleq -d_{k-1} - K_{k-1} \\Delta x \\tag{5.9}\n",
    "\\end{align*}\n",
    "$$\n",
    "\n",
    "โดยนิยาม $d_{k-1}$ คือพจน์ป้อนข้างหน้า​ (feedforward) ซึ่งเป็นค่าคงที่ และ $K_{k-1}$  คือพจน์ป้อนกลับ (feedback) แทนค่า (5.9) ลงใน $S_{k-1}$ เพื่อได้ $V_{k-1}(x + \\Delta x)$ \n",
    "$$\n",
    "\\begin{align*}\n",
    "V_{k-1}(x + \\Delta x) & \\approx V_{k-1}(x) + g_x^T\\Delta x + g_u^T (-d_{k-1} - K_{k-1} \\Delta x) \\\\\n",
    "&+ \\frac{1}{2}\\Delta x^TG_{xx}\\Delta x + \\frac{1}{2}(-d_{k-1} - K_{k-1} \\Delta x)^TG_{uu}(-d_{k-1} - K_{k-1} \\Delta x) \\\\ \n",
    "&+ \\frac{1}{2}\\Delta x^TG_{xu}(-d_{k-1} - K_{k-1} \\Delta x) + \\frac{1}{2}(-d_{k-1} - K_{k-1} \\Delta x)^TG_{ux}\\Delta x  \\tag{5.10} \n",
    "\\end{align*}\n",
    "$$\n",
    "\n",
    "ดังนั้น $P_{k-1}$ และ $p_{k-1}$ ที่นิยามใน (5.2) จะได้เป็นดังนี้\n",
    "$$\n",
    "P_{k-1} = G_{xx} + K_{k-1}^TG_{uu}K_{k-1} - G_{xu}K_{k-1} - K_{k-1}^TG_{ux} \\tag{5.11}\n",
    "$$\n",
    "$$\n",
    "p_{k-1} = g_x - K_{k-1}^Tg_u + K_{k-1}^TG_{uu}d_{k-1} - G_{xu}d_{k-1} \\tag{5.12}\n",
    "$$\n"
   ]
  },
  {
   "cell_type": "markdown",
   "metadata": {},
   "source": [
    "จากฟังก์ชันตัวกระทำ-มูลค่า (5.5) โดยอาศัยกลเม็ดที่อธิบายในหัวข้อ B.2 ของภาคผนวก B ในการหาอนุพันธ์ จะได้ว่า\n",
    "\n",
    "$$\n",
    "\\begin{align*}\n",
    "\\frac{\\partial S}{\\partial x} &= \\frac{\\partial l_k}{\\partial x} + \\frac{\\partial V}{\\partial f}\\frac{\\partial f}{\\partial x} \\\\\n",
    "\\Rightarrow g_x &= \\nabla_x l_k + A_k^Tp_{k+1} \\tag{5.13}\n",
    "\\end{align*}\n",
    "$$\n",
    "$$\n",
    "\\begin{align*}\n",
    "\\frac{\\partial S}{\\partial u} &= \\frac{\\partial l_k}{\\partial u} + \\frac{\\partial V}{\\partial f}\\frac{\\partial f}{\\partial u} \\\\\n",
    "\\Rightarrow g_u &= \\nabla_u l_k + B_k^Tp_{k+1} \\tag{5.14}\n",
    "\\end{align*}\n",
    "$$\n",
    "\n",
    "และ\n",
    "$$\n",
    "G_{xx} = \\frac{\\partial g_x}{\\partial x} = \\nabla_{xx}^2l_k + A_k^TP_{k+1}A_k + \n",
    "(p_{k+1} \\otimes I)T\\frac{\\partial A_k}{\\partial x} \\tag{5.15}\n",
    "$$\n",
    "$$\n",
    "G_{uu} = \\frac{\\partial g_u}{\\partial u} = \\nabla_{uu}^2l_k + B_k^TP_{k+1}B_k + \n",
    "(p_{k+1} \\otimes I)T\\frac{\\partial B_k}{\\partial u} \\tag{5.16}\n",
    "$$\n",
    "$$\n",
    "G_{xu} = \\frac{\\partial g_x}{\\partial u} = \\nabla_{xu}^2l_k + A_k^TP_{k+1}B_k + \n",
    "(p_{k+1} \\otimes I)T\\frac{\\partial A_k}{\\partial u} \\tag{5.17}\n",
    "$$\n",
    "โดย $T$ คือเมทริกซ์สลับเปลี่ยนที่นิยามในหัวข้อ B.2 ภาคผนวก B \n",
    "\n",
    "**หมายเหตุ :** กรณีใช้วิธีเกาส์-นิวตัน (iLQR) จะลดความซับซ้อนในการคำนวณโดยละทิ้งพจน์สุดท้ายของ (5.15) - (5.17)"
   ]
  },
  {
   "cell_type": "markdown",
   "metadata": {},
   "source": [
    "**ตัวอย่าง 5.1** \n",
    "\n",
    "หุ่นยนต์กายกรรม (acrobot) [1] เป็นชื่อเรียกแขนกลในระนาบที่มีตัวขับเคลื่อนอยู่ที่ข้อศอกเพียงตัวเดียวดังแสดงในรูปที่ 5.1 \n",
    "ชื่อภาษาอังกฤษได้มาจากการเคลี่อนที่ที่คล้ายกับนักกายกรรมโหนบาร์คู่ (acrobat) ที่ใช้แรงจากสะโพกเพื่อเหวี่ยงตัวขึ้นสู่ตำแหน่งแนวดิ่งด้านบน \n",
    "และทรงตัวอยู่ในตำแหน่งนั้น เป็นตัวอย่างหนึ่งของระบบที่ถูกกระตุ้นไม่เต็มที่ (underactuated) \n",
    "และยังมีความสำคัญเพราะพลวัตมีความคล้ายกับโมเดลอย่างง่ายในการเดินของหุ่นยนต์\n",
    "\n",
    "<img src=\"https://raw.githubusercontent.com/dewdotninja/ocrl/refs/heads/main/doc/figs/ch5_acrobot.png\" width=700 />\n",
    "\n",
    "รูปที่ 5.1 หุ่นยนต์กายกรรม\n",
    "\n",
    "ในตัวอย่างนี้จะใช้วิธี DDP เพื่อหาแนววิถีเหมาะที่สุดของหุ่นยนต์กายกรรมจากตำแหน่งเริ่มต้น \n",
    "คือเมื่อแขนทั้งสองชี้ลงในแนวดิ่งอันเป็นจุดสมดุลที่เสถียร \n",
    "ไปยังตำแหน่งสุดท้ายคือแขนทั้งสองเหยียตตรงชี้ขึ้นในแนวดิ่ง \n",
    "ลักษณะเหมือนการทรงตัวของนักกายกรรมในตำแหน่งหัวกลับ \n",
    "\n",
    "นำเข้าไลบรารีที่ต้องการใช้ "
   ]
  },
  {
   "cell_type": "code",
   "execution_count": 1,
   "metadata": {},
   "outputs": [],
   "source": [
    "import numpy as np \n",
    "import matplotlib.pyplot as plt \n",
    "from numpy.linalg import solve,inv\n",
    "from scipy.linalg import block_diag, kron\n",
    "from pydrake import forwarddiff\n",
    "from pydrake.autodiffutils import AutoDiffXd, ExtractGradient, ExtractValue, InitializeAutoDiff"
   ]
  },
  {
   "cell_type": "markdown",
   "metadata": {},
   "source": [
    "เนื่องจากการหาอนุพันธ์อัตโนมัติสำหรับพลวัตของหุ่นยนต์กายกรรมไม่สามารถใช้เครื่องมือพื้นฐานของ \n",
    "drake จึงต้องมีการนำเข้าเครื่องมือเสริมสำหรับจัดการกับโครงสร้างข้อมูลในรูป AutoDiffXd \n",
    "\n",
    "เมื่อนิยามสถานะ $x = [\\theta_1, \\;\\theta_2, \\;\\dot{\\theta}_1, \\;\\dot{\\theta}_2]$ และอินพุต \n",
    "$u$ เป็นค่าแรงบิดของข้อต่อ 2 พลวัตหุ่นยนต์สามารถเขียนเป็นฟังก์ชัน acrobot_dynamics() ได้ดังนี้ โดยละเว้นรายละเอียดการอนุพัทธ์ \n",
    "ผู้สนใจอาจศึกษาเพิ่มเติมได้จาก [5]\n",
    "\n",
    "**หมายเหตุ :** นอกจากการคำนวณพลวัตแล้ว ยังเพิ่มโค้ดสำหรับจัดการกับ forwarddiff ของ Drake \n",
    "ตามที่ได้อธิบายในภาคผนวก C ทำให้ฟังก์ชันมีความยาวขึ้น"
   ]
  },
  {
   "cell_type": "code",
   "execution_count": 2,
   "metadata": {},
   "outputs": [],
   "source": [
    "def acrobot_dynamics(x, u):\n",
    "    g = 9.81\n",
    "    m1 = m2 = 1.0\n",
    "    l1 = l2 = 1.0\n",
    "    J1 = J2 = 1.0\n",
    "    theta1 = x[0]\n",
    "    theta2 = x[1]\n",
    "    theta1dot = x[2]\n",
    "    theta2dot = x[3]\n",
    "    s1 = np.sin(theta1)\n",
    "    c1 = np.cos(theta1)\n",
    "    s2 = np.sin(theta2)\n",
    "    c2 = np.cos(theta2)\n",
    "    c12 = np.cos(theta1 + theta2)\n",
    "\n",
    "    # mass matrix\n",
    "    m11 = (m1*l1*l1 + J1 + m2*(l1*l1 + l2*l2 + 2*l1*l2*c2) + J2)\n",
    "    m12 = (m2*(l2*l2 + l1*l2*c2 + J2))\n",
    "    m22 = (l2*l2*m2 + J2)\n",
    "\n",
    "    if isinstance(m11,AutoDiffXd):  # avoid error\n",
    "        M = np.array([[m11,m12],[ m12,m22]])\n",
    "    else:\n",
    "        M = np.array([[m11.item(), m12.item()],[ m12.item(), m22]])\n",
    "    \n",
    "    # bias term\n",
    "    tmp = l1*l2*m2*s2\n",
    "    b1 = -(2*theta1dot*theta2dot + theta2dot**2)*tmp\n",
    "    b2 = tmp * theta1dot**2\n",
    "    B = np.array([b1, b2]).reshape(2,1)\n",
    "\n",
    "    # friction\n",
    "    c = 1.0\n",
    "    C = np.array([c*theta1dot, c*theta2dot]).reshape(2,1)\n",
    "\n",
    "    # gravity term\n",
    "    g1 = ((m1 + m2)*l2*c1 + m2*l2*c12) * g\n",
    "    g2 = m2*l2*c12*g\n",
    "    G = np.array([g1, g2]).reshape(2,1)\n",
    "\n",
    "    # equations of motion\n",
    "    tau = np.array([0, u]).reshape(2,1)\n",
    "    b = tau - B - G - C\n",
    "    if not adflag: # not called from forwarddiff\n",
    "        thetaddot = solve(M,b)\n",
    "        y = np.array([theta1dot.item(), theta2dot.item(), thetaddot[0].item(), thetaddot[1].item()]).reshape(4,1)\n",
    "    else:  # this part is to handle drake's forwarddiff properly\n",
    "        M_value = ExtractValue(M)\n",
    "        b_value = ExtractValue(b)\n",
    "        y0 = ExtractGradient(x)[2,:]\n",
    "        y1 = ExtractGradient(x)[3,:]\n",
    "        M_grad = ExtractGradient(M)\n",
    "        b_grad = ExtractGradient(b)\n",
    "        thetaddot_value = solve(M_value,b_value)\n",
    "        theta1dot_value = ExtractValue(x)[2].item()\n",
    "        theta2dot_value = ExtractValue(x)[3].item()\n",
    "        y_value = [theta1dot_value, theta2dot_value, thetaddot_value[0].item(), thetaddot_value[1].item()]        \n",
    "        if adflag==1: # Jacobian w.r.t x\n",
    "            ys = np.array([y_value[2], y_value[3]]).reshape(2,1)\n",
    "            ygs_c1 = inv(M_value)@(b_grad[:,[0]] - M_grad[:,0].reshape(2,2)@ys)\n",
    "            ygs_c2 = inv(M_value)@(b_grad[:,[1]] - M_grad[:,1].reshape(2,2)@ys)\n",
    "            ygs_c3 = inv(M_value)@(b_grad[:,[2]] - M_grad[:,2].reshape(2,2)@ys)\n",
    "            ygs_c4 = inv(M_value)@(b_grad[:,[3]] - M_grad[:,3].reshape(2,2)@ys)\n",
    "            y23 = np.hstack((ygs_c1,ygs_c2,ygs_c3, ygs_c4))                            \n",
    "            y_grad = np.vstack((y0,y1,y23))\n",
    "            y = InitializeAutoDiff(y_value, y_grad)\n",
    "        else: # derivative w.r.t u\n",
    "            ygs = inv(M_value)@ b_grad\n",
    "            y_grad = np.vstack((np.zeros((2,1)),ygs))\n",
    "            y = InitializeAutoDiff(y_value,y_grad)\n",
    "    return y"
   ]
  },
  {
   "cell_type": "markdown",
   "metadata": {},
   "source": [
    "โดยวิธีการเหมือนที่ใช้ในบทที่ 4 สร้างฟังก์ชัน acrobot_dynamics_rk4() เพื่อคำนวณปริพันธ์โดยวิธีรุงเงอ คุททา (RK4) \n",
    "ใช้ร่วมกับการหาอนุพันธ์อัตโนมัติเพื่อประมาณค่าเชิงเส้นแบบดีสครีต "
   ]
  },
  {
   "cell_type": "code",
   "execution_count": 3,
   "metadata": {},
   "outputs": [],
   "source": [
    "def acrobot_dynamics_rk4(x,u):\n",
    "    #RK4 integration with zero-order hold on u\n",
    "    x_1 = x\n",
    "    f1 = acrobot_dynamics(x, u)\n",
    "    \n",
    "    x_a = x.reshape(4,1)\n",
    "    x_2 = x_a + 0.5*h*f1\n",
    "    f2 = acrobot_dynamics(x_2.flatten(), u)\n",
    "    \n",
    "    x_3 = x_a + 0.5*h*f2\n",
    "    f3 = acrobot_dynamics(x_3.flatten(), u)\n",
    "\n",
    "    x_4 = x_a + 0.5*h*f3\n",
    "    f4 = acrobot_dynamics(x_4.flatten(), u)\n",
    "\n",
    "    ft = x_a + (h/6.0)*(f1 + 2*f2 + 2*f3 + f4)\n",
    "    \n",
    "    return ft"
   ]
  },
  {
   "cell_type": "markdown",
   "metadata": {},
   "source": [
    "ดังเช่นที่อธิบายในภาคผนวก C ในการคำนวณอนุพันธ์อัตโนมัติเพื่อหาค่าเมทริกซ์ B \n",
    "จากอินพุตที่เป็นสเกลาร์ ไม่รองรับโดย forwarddiff \n",
    "ต้องนำโค้ดจากแพ็กเกจของ Drake มาดัดแปลงแก้ไขเป็นดังนี้"
   ]
  },
  {
   "cell_type": "code",
   "execution_count": 4,
   "metadata": {},
   "outputs": [],
   "source": [
    "def vecout_derivative(function, x):\n",
    "    \"\"\" originally from pydrake's forwarddiff.derivative()\n",
    "    Compute the derivative of the function evaluated at the scalar input x\n",
    "    using Eigen's automatic differentiation.\n",
    "\n",
    "    The function should be scalar-input and vector-output.\n",
    "    \"\"\"\n",
    "    x_ad = AutoDiffXd(value=x, size=1, offset=0)\n",
    "    y_ad = function(x_ad)\n",
    "    y_derivative = ExtractGradient(y_ad) # modified\n",
    "    return y_derivative\n"
   ]
  },
  {
   "cell_type": "markdown",
   "metadata": {},
   "source": [
    "สร้างฟังก์ชันห่อหุ้มและฟังก์ชันหาอนุพันธ์อัตโนมัติ "
   ]
  },
  {
   "cell_type": "code",
   "execution_count": 5,
   "metadata": {},
   "outputs": [],
   "source": [
    "adflag = 0 \n",
    "def acrobot_dynamics_rk4_x(x):\n",
    "    #global u_global \n",
    "    return acrobot_dynamics_rk4(x, u_global)\n",
    "\n",
    "def acrobot_dynamics_rk4_u(u):\n",
    "    #global x_global \n",
    "    return acrobot_dynamics_rk4(x_global.flatten(), u)    \n",
    "    \n",
    "def dfdx(x,u):\n",
    "    global adflag, u_global\n",
    "    u_global = u\n",
    "    adflag = 1\n",
    "    df = np.squeeze(forwarddiff.jacobian(acrobot_dynamics_rk4_x,x.flatten()))\n",
    "    adflag = 0\n",
    "    return df\n",
    "    \n",
    "def dfdu(x,u):\n",
    "    global adflag, x_global\n",
    "    x_global = x\n",
    "    adflag = 2\n",
    "    df = vecout_derivative(acrobot_dynamics_rk4_u,u)\n",
    "    adflag = 0\n",
    "    return df\n",
    "    "
   ]
  },
  {
   "cell_type": "markdown",
   "metadata": {},
   "source": [
    "กำหนดค่าขั้นเวลา จำนวนสถานะ อินพุต เวลาปลาย จำนวนขั้นเวลา และเวกเตอร์สำหรับจุดค่าเวลา"
   ]
  },
  {
   "cell_type": "code",
   "execution_count": 14,
   "metadata": {},
   "outputs": [],
   "source": [
    "h = 0.05  # time step\n",
    "Nx = 4     # number of state\n",
    "Nu = 1     # number of controls\n",
    "Tfinal = 10.0 # final time \n",
    "Nt = int(Tfinal/h)+1    # number of time steps\n",
    "thist = np.arange(0,h*(Nt),h)"
   ]
  },
  {
   "cell_type": "markdown",
   "metadata": {},
   "source": [
    "กำหนดค่าน้ำหนักสำหรับมูลค่าขั้นของสถานะและอินพุต และน้ำหนักของสถานะสุดท้ายซึ่งเราจะให้มีค่ามาก \n",
    "เพื่อให้ความสำคัญกับการลู่เข้าสู่ตำแหน่งเป้าหมาย"
   ]
  },
  {
   "cell_type": "code",
   "execution_count": 15,
   "metadata": {},
   "outputs": [],
   "source": [
    "# Cost weights\n",
    "Q = block_diag(1.0*np.eye(2), 0.1*np.eye(2))\n",
    "R = 0.01\n",
    "Qn = 100*np.eye(Nx) # large weight on terminal cost\n"
   ]
  },
  {
   "cell_type": "markdown",
   "metadata": {},
   "source": [
    "สร้างฟังก์ชันคำนวณมูลค่า"
   ]
  },
  {
   "cell_type": "code",
   "execution_count": 16,
   "metadata": {},
   "outputs": [],
   "source": [
    "def stage_cost(x,u):\n",
    "    xbar = x-xgoal\n",
    "    return 0.5*((xbar.T@Q@xbar) + R*u*u)\n",
    "\n",
    "def terminal_cost(x):\n",
    "    xbar = x-xgoal\n",
    "    return 0.5*xbar.T@Qn@xbar\n",
    "\n",
    "def cost(xtraj, utraj):\n",
    "    J = 0.0\n",
    "    for k in range(Nt-1):\n",
    "        J += stage_cost(xtraj[:,[k]],utraj[k])\n",
    "    J += terminal_cost(xtraj[:,[Nt-1]])\n",
    "    return J.item()"
   ]
  },
  {
   "cell_type": "markdown",
   "metadata": {},
   "source": [
    "กำหนดค่าสถานะเริ่มต้นเป็นตำแหน่งแขนห้อยลงแนวดิ่ง $\\theta_1 = \\pi /2, \\theta_2 = 0$ และสถานะปลายคือตำแหน่งตั้งขึ้น \n",
    "$\\theta_1 = -\\pi /2, \\theta_2 = 0$ ค่าแนววิถีสถานะกำหนดให้เท่ากับค่าสถานะเริ่มต้นทั้งหมด\n",
    "ส่วนค่าแนววิถีตัวควบคุมเริ่มต้นให้เป็นค่าสุ่ม \n",
    "\n",
    "**หมายเหตุ :** หากกำหนดให้แนววิถีเริ่มต้นของตัวควบคุมเป็นศูนย์ทั้งหมด \n",
    "ความสมมาตรจะทำให้อัลกอริทึมไม่สามารถเริ่มต้นได้ เพราะตัดสินใจไม่ได้ว่าจะแกว่งแขนขึ้นทางซ้ายหรือขวา\n",
    "\n"
   ]
  },
  {
   "cell_type": "code",
   "execution_count": 17,
   "metadata": {},
   "outputs": [],
   "source": [
    "x0 = np.array([-np.pi/2,0,0,0]).reshape(4,1)\n",
    "xgoal = np.array([np.pi/2,0,0,0]).reshape(4,1)\n",
    "xtraj = np.kron(np.ones((1,Nt)),x0)\n",
    "utraj = np.random.rand(Nt-1)"
   ]
  },
  {
   "cell_type": "markdown",
   "metadata": {},
   "source": [
    "คำนวณแผ่ไปข้างหน้าครั้งแรกโดยใช้ตัวควบคุมค่าสุ่ม และตรวจสอบมูลค่าเบื้องต้น"
   ]
  },
  {
   "cell_type": "code",
   "execution_count": 18,
   "metadata": {},
   "outputs": [
    {
     "data": {
      "text/plain": [
       "1505.8872391627049"
      ]
     },
     "execution_count": 18,
     "metadata": {},
     "output_type": "execute_result"
    }
   ],
   "source": [
    "for k in range(Nt-1):\n",
    "    xtraj[:,[k+1]] = acrobot_dynamics_rk4(xtraj[:,k], utraj[k])\n",
    "J = cost(xtraj, utraj)\n",
    "J"
   ]
  },
  {
   "cell_type": "markdown",
   "metadata": {},
   "source": [
    "สร้างอัลกอริทึม DDP ตามขั้นตอนด้านบน โดยแต่ละครั้งของการวนรอบประกอบด้วยการวนรอบย้อนหลัง \n",
    "เพื่อคำนวณค่าการเปลี่ยนแปลงของแนววิถีตัวควบคุม \n",
    "โดยสังเกตว่าในโค้ดนี้เลือกใช้วิธีเกาส์-นิวตันในการคำนวณ (5.15)-(5.17) เพื่อลดความซับซ้อนในการคำนวณพจน์เฮสเซียน \n",
    "หลังจากนั้นแผ่ไปด้านหน้าโดยมีการค้นหาตามเส้น อัลกอริทึมจะพิมพ์ค่าตัวแปรสำคัญทุก 10 รอบเพื่อตรวจสอบการทำงาน \n",
    "และจะหยุดเมื่อค่าการเปลี่ยนแปลงสูงสุดของตัวควบคุมน้อยกว่าที่กำหนด หรือว่าจำนวนการวนรอบเกินกว่าค่าที่กำหนด \n",
    "ซึ่งตั้งไว้ 500 รอบ ซึ่งเป็นแนวทางที่ดีเพราะสำหรับพลวัตที่ไม่เป็นเชิงเส้นและไม่เป็นคอนเวกซ์ \n",
    "ไม่สามารถรับประกันได้ว่าคำตอบจะลู่เข้า \n",
    "\n",
    "**หมายเหตู :** การรันเซลล์ด้านล่างนี้ใช้เวลาค่อนข้างนาน \n",
    "และอาจต้องมีการปรับค่าสูงสุดของการเปลี่ยนแปลงตัวควบคุมตามความเหมาะสม \n",
    "จากการทดสอบเปรียบเทียบกับโค้ดจูเลียพบว่าไพทอนใช้เวลามากกว่าอย่างเห็นได้ชัด "
   ]
  },
  {
   "cell_type": "code",
   "execution_count": null,
   "metadata": {},
   "outputs": [
    {
     "name": "stdout",
     "output_type": "stream",
     "text": [
      "iter        J                  ΔJ                   |d|             α       \n",
      "-----------------------------------------------------------------------------\n",
      "1   1505.8872391627049    473.8098792663217   42.877436174773    1.0 \n",
      "11   1209.6073498528635    4.237201850306129   5.763157315065693    1.0 \n",
      "21   1137.8398302517567    15.324512769102789   8.693960824814727    1.0 \n",
      "31   1112.5059121699799    11.088309086638546   7.087716474504488    0.5 \n",
      "41   1098.2374747067379    9.720812751917943   6.62561251806625    0.5 \n",
      "51   1086.502714738658    0.8156556184970043   2.4563148460147453    1.0 \n",
      "61   1077.623593239737    0.7822813217755318   2.3701033440184665    1.0 \n",
      "71   1069.1799998847246    0.7953546599631894   2.369056251476693    1.0 \n",
      "81   1060.6960170701318    0.8302370814542595   2.420082309466814    1.0 \n",
      "91   1051.5905734152616    0.8822027519661002   2.498716256110525    1.0 \n",
      "iter        J                  ΔJ                   |d|             α       \n",
      "-----------------------------------------------------------------------------\n",
      "101   1041.6002712267    0.9620321891030593   2.6589149943559343    1.0 \n",
      "111   1031.1742866175496    9.357570989644524   6.279441708753016    0.5 \n",
      "121   1017.1361704079167    6.990453757187713   5.624405647066043    1.0 \n",
      "131   1001.6461189923806    4.478678966536087   4.957652170415597    1.0 \n",
      "141   984.8820658827747    3.7217940887176466   4.799968192657071    1.0 \n",
      "151   967.8895806258363    2.3788613919130093   3.970354655254438    1.0 \n",
      "161   949.7803272060493    2.1682890412741345   3.8311637242968684    1.0 \n",
      "171   934.092907200681    14.451746077834846   7.645089757310362    0.5 \n",
      "181   914.4007255572886    8.180243068070574   6.188598360580817    1.0 \n",
      "191   896.3347358986966    4.728119740344108   5.2593936606382075    1.0 \n",
      "iter        J                  ΔJ                   |d|             α       \n",
      "-----------------------------------------------------------------------------\n",
      "201   878.6340265411449    2.986573338187267   4.432157587409551    1.0 \n",
      "211   862.687670565363    2.002938999414472   3.6406584186623125    1.0 \n",
      "221   848.5721156603074    1.7235517348195495   3.300067195502677    1.0 \n",
      "231   837.0946866129343    1.25857769033413   2.8383430544448847    1.0 \n",
      "241   828.0313175126926    0.9604986116850656   2.484768444245866    1.0 \n",
      "251   820.710957560573    0.7544574737893964   2.199121805405563    1.0 \n",
      "261   814.2943356432841    0.6181110481874602   2.0083859303326808    1.0 \n",
      "271   807.9910817504838    0.5223413200151118   1.9107502678366592    1.0 \n",
      "281   801.324941022249    3.720609304845842   4.004926403384253    1.0 \n",
      "291   792.8200650447957    2.1088443865922826   3.5107689318116106    1.0 \n",
      "iter        J                  ΔJ                   |d|             α       \n",
      "-----------------------------------------------------------------------------\n",
      "301   782.9519176017722    1.474577664269982   3.088016643352909    1.0 \n",
      "311   771.6841847896281    8.165468900803964   5.95162886586684    1.0 \n",
      "321   756.2323301577574    3.2498475623065914   4.643673054827852    1.0 \n",
      "331   739.298495508851    2.031818676152268   3.870647727125893    1.0 \n",
      "341   720.3863977082823    7.278956333025672   6.311737383999124    1.0 \n",
      "351   699.0646425517917    2.959749428052788   4.772502155204494    1.0 \n",
      "361   679.3545636723845    9.456975288532547   7.0528462767668225    1.0 \n",
      "371   656.965266933064    2.8925972774061206   4.7448936513373265    1.0 \n",
      "381   636.7211416572768    8.416394885604939   6.811340853797089    1.0 \n",
      "391   615.7537276664756    3.1586268883062347   4.345666998660894    1.0 \n",
      "iter        J                  ΔJ                   |d|             α       \n",
      "-----------------------------------------------------------------------------\n",
      "401   596.1726687324663    6.132554129295563   5.961235398266848    1.0 \n",
      "411   580.2047551892562    1.7556374720643704   3.6167366923382973    1.0 \n",
      "421   571.3977420160554    0.5870783139795649   2.0993294920053285    1.0 \n",
      "431   567.3391866062649    0.15953991549385946   1.137504024666683    1.0 \n",
      "441   565.612645144522    0.048360715239918764   0.6036325240812354    1.0 \n",
      "451   564.8871758336206    0.017441940607069325   0.33199716240968735    1.0 \n",
      "461   564.5675413926325    0.007200688300935949   0.18813259389834958    1.0 \n",
      "471   564.4240851925052    0.003256548418328991   0.11302268906359185    1.0 \n",
      "481   564.3578304243765    0.0015400277864010706   0.07890221810103518    1.0 \n",
      "491   564.3280293825129    0.0007458723349716981   0.05581532549389934    1.0 \n"
     ]
    }
   ],
   "source": [
    "# DDP algorithm\n",
    "p = np.zeros((Nx,Nt))\n",
    "P = np.zeros((Nx, Nx, Nt))\n",
    "d = np.ones((Nt-1))\n",
    "K = np.zeros((Nu, Nx, Nt-1))\n",
    "dJ = 0.0\n",
    "\n",
    "xn = np.zeros((Nx,Nt))\n",
    "un = np.zeros((Nt-1))\n",
    "\n",
    "gx = np.zeros((Nx))\n",
    "gu = 0.0\n",
    "Gxx = np.zeros((Nx,Nx))\n",
    "Guu = 0.0\n",
    "Gxu = np.zeros((Nx))\n",
    "Gux = np.zeros((Nx))\n",
    "\n",
    "iter = 0\n",
    "while np.max(abs(d))>2e-2 and iter<500: # stop early if take too many iterations\n",
    "    iter+=1\n",
    "    p = np.zeros((Nx,Nt))\n",
    "    P = np.zeros((Nx, Nx, Nt))\n",
    "    d = np.ones((Nt-1))\n",
    "    K = np.zeros((Nu, Nx, Nt-1))\n",
    "    dJ = 0.0\n",
    "    p[:,[Nt-1]] = Qn@(xtraj[:,[Nt-1]]-xgoal)\n",
    "    P[:,:,Nt-1] = Qn\n",
    "\n",
    "    # Backward pass\n",
    "    for k in range(Nt-2,-1,-1):\n",
    "        # Calculate derivatives\n",
    "        q  = Q@(xtraj[:,[k]] - xgoal)\n",
    "        r = R*utraj[k]\n",
    "        \n",
    "        A = dfdx(xtraj[:,[k]], utraj[k])\n",
    "        B = dfdu(xtraj[:,[k]], utraj[k])\n",
    "\n",
    "        gx = q + A.T@p[:,[k+1]]\n",
    "        gu = r + B.T@p[:,[k+1]]\n",
    "\n",
    "        # get rid of last term of (5.15 - 5.17)\n",
    "        Gxx = Q + A.T@P[:,:,k+1]@A \n",
    "        Guu = R + B.T@P[:,:,k+1]@B\n",
    "        Gxu = A.T@P[:,:,k+1]@B\n",
    "        Gux = B.T@P[:,:,k+1]@A\n",
    "\n",
    "        d[k] = solve(Guu,gu).item()\n",
    "        K[:,:,k] = solve(Guu,Gux)\n",
    "\n",
    "        p[:,[k]] = gx - K[:,:,k].T@gu + K[:,:,k].T@Guu*d[k] - Gxu*d[k]\n",
    "        P[:,:,k] = Gxx + K[:,:,k].T@Guu@K[:,:,k] - Gxu@K[:,:,k] - K[:,:,k].T@Gux\n",
    "\n",
    "        dJ += (gu.T*d[k]).item()\n",
    "        \n",
    "    # forward rollout with line search\n",
    "    xn[:,[0]] = xtraj[:,[0]]\n",
    "    alpha = 1.0\n",
    "    for k in range(Nt-1):\n",
    "        un[k] = (utraj[k] - alpha*d[k] - np.dot(K[:,:,k],xn[:,[k]]-xtraj[:,[k]])).item()\n",
    "        xn[:,[k+1]] = acrobot_dynamics_rk4(xn[:,[k]],un[k])\n",
    "\n",
    "    Jn = cost(xn,un)\n",
    "    \n",
    "    while np.isnan(Jn) or Jn > (J - (1e-2)*alpha*dJ):\n",
    "        alpha = 0.5*alpha\n",
    "        # print(\"alpha = \"+str(alpha))\n",
    "        for k in range(Nt-1):\n",
    "            un[k] = (utraj[k] - alpha*d[k] - np.dot(K[:,:,k],xn[:,[k]]-xtraj[:,[k]])).item()\n",
    "            xn[:,[k+1]] = acrobot_dynamics_rk4(xn[:,[k]],un[k])\n",
    "        Jn = cost(xn,un)\n",
    "        \n",
    "    # logging \n",
    "    if (iter-1)%100 == 0:  # print heading every 100 iterations\n",
    "        print(\"iter        J                  ΔJ                   |d|             α       \")\n",
    "        print(\"-----------------------------------------------------------------------------\")\n",
    "    if (iter-1)%10 == 0: # print values every 10 iterations\n",
    "        print(\"{}   {}    {}   {}    {} \".format(iter, J,\n",
    "                                        dJ, np.max(abs(d)), alpha))\n",
    "\n",
    "    J = Jn\n",
    "    xtraj = xn.copy()  # important! code xtraj = xn, utraj = un makes them become the same \n",
    "    utraj = un.copy()  # and unable to update\n"
   ]
  },
  {
   "cell_type": "markdown",
   "metadata": {},
   "source": [
    "สร้างฟังก์ชันเพื่อแสดงแนววิถีเหมาะที่สุดของสถานะและตัวควบคุม ได้ผลดังแสดงในรูปที่ 5.2 และ 5.3 "
   ]
  },
  {
   "cell_type": "code",
   "execution_count": 20,
   "metadata": {},
   "outputs": [],
   "source": [
    "def plot_x():\n",
    "    plt.figure()\n",
    "    plt.plot(thist,xtraj[0,:],\"b-\",thist,xtraj[1,:],'orange')\n",
    "    plt.xlabel(\"time (sec)\")\n",
    "    plt.ylabel(\"x(k)\")\n",
    "    plt.legend([\"theta1\",\"theata2\"])\n",
    "    plt.grid(True)\n",
    "    plt.show()\n",
    "\n",
    "def plot_u():\n",
    "    plt.plot(thist[0:Nt-1],utraj,\"m-\")\n",
    "    plt.xlabel(\"time (sec)\")\n",
    "    plt.ylabel(\"u(k)\")\n",
    "    plt.grid(True)\n",
    "    plt.show()"
   ]
  },
  {
   "cell_type": "code",
   "execution_count": 21,
   "metadata": {},
   "outputs": [
    {
     "data": {
      "image/png": "[encoded data removed]",
      "text/plain": [
       "<Figure size 640x480 with 1 Axes>"
      ]
     },
     "metadata": {},
     "output_type": "display_data"
    }
   ],
   "source": [
    "plot_x()"
   ]
  },
  {
   "cell_type": "markdown",
   "metadata": {},
   "source": [
    "รูปที่ 5.2 แนววิถีเหมาะที่สุดของสถานะ $\\theta_1$ และ $\\theta_2$"
   ]
  },
  {
   "cell_type": "code",
   "execution_count": 22,
   "metadata": {},
   "outputs": [
    {
     "data": {
      "image/png": "[encoded data removed]",
      "text/plain": [
       "<Figure size 640x480 with 1 Axes>"
      ]
     },
     "metadata": {},
     "output_type": "display_data"
    }
   ],
   "source": [
    "plot_u()"
   ]
  },
  {
   "cell_type": "markdown",
   "metadata": {},
   "source": [
    "รูปที่ 5.3 แนววิถีเหมาะที่สุดของตัวควบคุม $u$ "
   ]
  },
  {
   "cell_type": "markdown",
   "metadata": {},
   "source": [
    "รันโค้ดในเซลล์ด้านล่างนี้ทั้งหมดเพื่อจำลองการเคลื่อนที่ของหุ่นยนต์กายกรรมโดย meshcat \n",
    "ดังเช่นในรูปที่ 5.4\n",
    "\n",
    "<img src=\"https://raw.githubusercontent.com/dewdotninja/ocrl/refs/heads/main/doc/figs/ch5_acrobot_meshcat.png\" width=400 />\n",
    "\n",
    "รูปที่ 5.4 การจำลองหุ่นยนต์กายกรรมบน meshcat\n",
    "\n",
    "(หากยังไม่ได้ติดตั้งต้องใช้คำสั่ง !pip install meshcat) \n",
    "ผลการจำลองจะมีลักษณะดังแสดงใน [วีดีโอนี้](https://youtu.be/qkP1aVt2a-8)"
   ]
  },
  {
   "cell_type": "code",
   "execution_count": 23,
   "metadata": {},
   "outputs": [],
   "source": [
    "import meshcat\n",
    "import meshcat.geometry as g\n",
    "import meshcat.transformations as tf    \n",
    "import time"
   ]
  },
  {
   "cell_type": "code",
   "execution_count": 24,
   "metadata": {},
   "outputs": [
    {
     "name": "stdout",
     "output_type": "stream",
     "text": [
      "You can open the visualizer by visiting the following URL:\n",
      "http://127.0.0.1:7000/static/\n"
     ]
    }
   ],
   "source": [
    "vis = meshcat.Visualizer()"
   ]
  },
  {
   "cell_type": "code",
   "execution_count": 35,
   "metadata": {},
   "outputs": [],
   "source": [
    "thick = 0.05\n",
    "l1 = 1.0\n",
    "l2 = 1.0\n",
    "\n",
    "def build_acrobot(vis):\n",
    "    acrobot = vis[\"acrobot\"]\n",
    "    base = acrobot[\"base\"]\n",
    "    pivot1 = acrobot[\"pivot1\"]\n",
    "    link1 = pivot1[\"link1\"]\n",
    "    pivot2 = link1[\"pivot2\"]\n",
    "    hinge = link1[\"hinge\"]\n",
    "    link2 = pivot2[\"link2\"]\n",
    "    base.set_object(g.Sphere(thick))\n",
    "    link1.set_object(g.Box([l1,thick,thick]))\n",
    "    link1.set_transform(tf.translation_matrix([-l1/2,0,0]))\n",
    "    pivot2.set_transform(tf.translation_matrix([-l1/2,0,0]))\n",
    "    link2.set_object(g.Box([l2,thick,thick]))\n",
    "    link2.set_transform(tf.translation_matrix([-l1/2,0,0]))\n",
    "    hinge.set_object(g.Sphere(thick))\n",
    "    hinge.set_transform(tf.translation_matrix([-l1/2,0,0]))\n",
    "\n",
    "    return pivot1, pivot2\n",
    "\n",
    "# update acrobot pose\n",
    "def update_acrobot(pivot1,pivot2,th1,th2):\n",
    "    pivot1.set_transform(tf.rotation_matrix(th1,[0,1,0]))\n",
    "    pivot2.set_transform(tf.translation_matrix([-l1/2,0,0]).dot(tf.rotation_matrix(th2,[0,1,0])))\n",
    "\n",
    "def simulate_acrobot():\n",
    "    for k in range(xtraj.shape[1]):\n",
    "        th1 = xtraj[0,k]\n",
    "        th2 = xtraj[1,k]\n",
    "        update_acrobot(pv1,pv2,th1,th2)\n",
    "        time.sleep(h)"
   ]
  },
  {
   "cell_type": "code",
   "execution_count": 26,
   "metadata": {},
   "outputs": [],
   "source": [
    "pv1,pv2 = build_acrobot(vis)\n",
    "update_acrobot(pv1,pv2,-np.pi/2,0)"
   ]
  },
  {
   "cell_type": "code",
   "execution_count": 36,
   "metadata": {},
   "outputs": [],
   "source": [
    "simulate_acrobot()"
   ]
  },
  {
   "cell_type": "markdown",
   "metadata": {},
   "source": [
    "จากการอนุพัทธ์ด้านบนและตัวอย่าง 5.1 สามารถสรุปโครงสร้างของอัลกอริทึม DDP ได้เป็นดังนี้\n",
    "\n",
    "จากปัญหาการหาแนววิถีเหมาะที่สุดที่ไม่มีเงื่อนไขบังคับอสมการ กำหนดฟังก์ชันมูลค่า (5.1)\n",
    "$$\n",
    "\\begin{align*}\n",
    "\\underset{\\substack{x_{1:N} \\\\ u_{1:N-1}}}{min} \\; J &=  \\sum_{k=1}^{N-1} \\; l_k(x_k,u_k) + l_N(x_N) \\\\\n",
    "s.t. \\;\\; x_{k+1} &= f(x_k,u_k) \n",
    "\\end{align*}\n",
    "$$\n",
    "\n",
    "#### อัลกอริทึม DDP\n",
    "\n",
    "<hr>\n",
    "\n",
    "<u>ขั้นการคำนวณย้อนหลัง</u>\n",
    "\n",
    "จากการกระจายเทเลอร์กำลังสองของฟังก์ชันมูลค่ารายทาง (5.2)\n",
    "$$\n",
    "V_k(x + \\Delta x) \\approx V_k(x) + p_k^T\\Delta x + \\frac{1}{2}\\Delta x^T P_k \\Delta x \n",
    "$$\n",
    "\n",
    "เริ่มจากขั้นสุดท้าย N คำนวณ $p_N, P_N$ จาก (5.3),(5.4)\n",
    "$$\n",
    "p_N = \\nabla_x l_N(x) \n",
    "$$\n",
    "$$\n",
    "P_N = \\nabla_{xx}^2 l_N(x) \n",
    "$$\n",
    "\n",
    "คำนวณค่าที่เรียกว่า เบลแมนแบ็กอัป (Bellman backup)\n",
    "$$\n",
    "V_{N-1}(x + \\Delta x) = \\underset{\\Delta u}{min} \\;S(x+\\Delta x, u + \\Delta u))\n",
    "$$\n",
    "\n",
    "ได้การเปลี่ยนแปลงของตัวควบคุม (5.9)\n",
    "$$\n",
    "\\Delta u_{k-1} = -d_{k-1} - K_{k-1} \\Delta x_{k-1} \n",
    "$$\n",
    "\n",
    "โดยมีพจน์ป้อนข้างหน้า $d_{k-1}$ เป็นค่าคงที่ ส่วนพจน์ป้อนกลับ $K_{k-1}$ เหมือนกับที่ได้จากปัญหา LQR \n",
    "\n",
    "แทนค่า $\\Delta u_{k-1}$ กลับในฟังก์ชันมูลค่า จะได้ค่าเฮสเชียนและเกรเดียนต์ของฟังก์ชันมูลค่ารายทางในขั้นย้อนหลังถัดมาตาม (5.11), (5.12)\n",
    "$$\n",
    "P_{k-1} = G_{xx} + K_{k-1}^TG_{uu}K_{k-1} - G_{xu}K_{k-1} - K_{k-1}^TG_{ux} \n",
    "$$\n",
    "$$\n",
    "p_{k-1} = g_x - K_{k-1}^Tg_u + K_{k-1}^TG_{uu}d_{k-1} - G_{xu}d_{k-1} \n",
    "$$\n",
    "\n",
    "โดย DDP ใช้การคำนวณเมทริกซ์ $G_{xx}, G_{xu} = G_{ux}^T, G_{uu}$ ตาม (5.15)-(5.17) \n",
    "คือใช้วิธีนิวตันเต็ม แต่หากละทิ้งพจน์เฮสเซียนสุดท้ายใน (5.15) - (5.17)คือวิธีเกาส์-นิวตัน เรียกว่า iLQR \n",
    "ซึ่งในการใช้งานจริงมักพบว่าใช้เวลาน้อยกว่าเนื่องจากการคำนวณพจน์เฮสเซียนจะต้องการการประมวลผลมาก \n",
    "นอกจากนั้นยังต้องมีการทำเรกูลาร์ไรเซชัน\n",
    "\n",
    "<u>ขั้นการแผ่ไปข้างหน้า</u>\n",
    "\n",
    "เราจะเขียนในรูปโค้ดเทียม โดยนิยามแนววิถีใหม่เป็น x', u' เริ่มจากขั้นแรกที่สถานะเริ่มต้นตามที่กำหนดไว้ \n",
    " \n",
    "```\n",
    "dJ = 0\n",
    "x'_1 = x_1\n",
    "```\n",
    "\n",
    "ดำเนินการแผ่ไปข้างหน้า สังเกตว่าในการค้นหาตามเส้น ค่า alpha จะคูณกับพจน์ป้อนข้างหน้า d_k เท่านั้น ไม่ใช้กับพจน์ป้อนกลับ K_k จากนั้นป้อน u'_k ให้กับพลวัตเพื่อคำนวณสถานะใหม่ และคำนวณค่าคาดหวังในการเปลี่ยนแปลงของมูลค่า dJ โดย gu_k คือเกรเดียนต์ของฟังก์ชันมูลค่าเทียบกับ u ประเมินที่ขั้นเวลา k เพื่อที่จะใช้การค้นหาตามเส้นโดยวิธีอามิโฮ (คือการคำนวณค่าคาดหวังของการลดมูลค่าภายใต้การประมาณค่าเชิงเส้น)\n",
    "```\n",
    "rollout()\n",
    "    for k = 1:N-1\n",
    "        u'_k = u - alpha*d_k - K_k*(x'_k - x_k)\n",
    "        x'_k+1 = f(x'_k,u'_k)\n",
    "        dJ <- dJ + alpha*gu_k*d_k\n",
    "\n",
    "```\n",
    "ขั้นต่อไปคือการค้นหาตามเส้นโดยวิธีอามิโฮที่ได้ศึกษาในบทที่ 2 คือดำเนินการแผ่ไปข้างหน้า rollout() \n",
    "และตรวจสอบหากไม่ได้ตามเงื่อนไขของอามิโฮ ลดค่า alpha ลงด้วยตัวประกอบการคูณ c \n",
    "จนกว่ามูลค่าใหม่จะมีค่าน้อยกว่ามูลค่าเดิมลบด้วยค่าคาดหวังคูณด้วยค่าเผื่อ b \n",
    "ค่าของ c โดยทั่วไปใช้ค่า 0.5 ส่วนสำหรับค่าเผื่อ b ใช้ค่าในช่วง 1e-4 - 0.01 \n",
    "```\n",
    "alpha = 1\n",
    "do:\n",
    "    x',u', dJ = rollout(x,u,d,K,alpha)\n",
    "    while J(x',u') > J(x,u) - b*dJ\n",
    "x,u <- x',u'\n",
    "```\n",
    "\n",
    "วนซ้ำทั้งหมดจนกว่า $|d|_\\infty < tol$ หรือใช้เวลานานเกินกว่าที่กำหนด\n",
    "<hr>"
   ]
  },
  {
   "cell_type": "markdown",
   "metadata": {},
   "source": [
    "**ตัวอย่าง 5.2** \n",
    "\n",
    "ทดลองใช้อัลกอริทึม DDP/iLQR หาแนววิถีเหมาะที่สุดของคาร์ทโพลดังในรูปที่ 5.5\n",
    "ในตัวอย่าง C.7 ภาคผนวก C ได้อธิบายพลวัตโดยสังเขป ในตัวอย่างนี้จะกำหนดพารามิเตอร์ให้สอดคล้องกับ [3] \n",
    "\n",
    "<div align=\"center\">\n",
    "<img src=\"https://raw.githubusercontent.com/dewdotninja/sharing-github/master/cart_pole.png\" width=500 />\n",
    "</div>\n",
    "<div align=\"center\">รูปที่ 5.5 ระบบคาร์ทโพลในระนาบ 2 มิติ</div>\n",
    "\n",
    "นิยามตัวแปรชื่อ use_jax สำหรับเลือกแพ็กเกจการหาอนุพันธ์อัตโนมัติ โดยตั้งค่าเป็น False หรือ True \n",
    "เมื่อต้องการใช้ Drake หรือ JAX ตามลำดับ"
   ]
  },
  {
   "cell_type": "code",
   "execution_count": 1,
   "metadata": {},
   "outputs": [],
   "source": [
    "use_jax = False"
   ]
  },
  {
   "cell_type": "markdown",
   "metadata": {},
   "source": [
    "หลังจากตั้งค่าตัวแปร use_jax แล้วสามารถรันเซลล์ด้านล่างได้ทั้งหมด \n",
    "โดยในฟังก์ชันที่เกี่ยวข้องกับการหาอนุพันธ์อัตโนมัติจะมีเงื่อนไขที่ปรับโค้ดให้เหมาะสมสำหรับการใช้แพ็กเกจนั้น \n",
    "ตัวอย่างเช่นการเลือกใช้ numpy หรือ jax.numpy หรือการเลือก/ไม่เลือกโค้ดที่เรียกแพ็กเกจ JAX/Drake\n",
    "\n",
    "แนวทางการเลือกใช้งาน \n",
    "* Drake จะคำนวณอนุพันธ์อัตโนมัติได้เร็วกว่า JAX \n",
    "แต่มีข้อจำกัดคือไม่สามารถคำนวณเฮสเชียนได้โดยใช้ฟังก์ชันที่มากับแพ็กเกจ \n",
    "ดังนั้นหากต้องการใช้วิธี DDP เราใช้วิธีการคำนวณเฮสเซียนเชิงสัญลักษณ์โดยแพ็กเกจเสริม SymPy \n",
    "ซึ่งรายละเอียดทั้งหมดได้รวบรวมไว้ในภาคผนวก C\n",
    "\n",
    "* JAX เขียนโค้ดง่ายกว่า ในฟังก์ชันที่มีการคำนวณอนุพันธ์ต้องใช้ jax.numpy แทน numpy \n",
    "ซึ่งทำงานช้ากว่า นอกจากนั้นการคำนวณอนุพันธ์อัตโนมัติใช้เวลามาก \n",
    "จึงต้องการคอมพิวเตอร์ที่สมรรถนะสูง ข้อดีอีกประการคือสามารถคำนวณเฮสเซียนได้ \n",
    "ดังนั้นจึงใช้ได้กับทั้งวิธี iLQR และ DDP\n",
    "\n",
    "นำเข้าแพ็กเกจทั้งหมดที่ต้องการใช้"
   ]
  },
  {
   "cell_type": "code",
   "execution_count": 2,
   "metadata": {},
   "outputs": [],
   "source": [
    "import numpy as np \n",
    "from numpy import kron\n",
    "import matplotlib.pyplot as plt \n",
    "from scipy.linalg import block_diag\n",
    "if use_jax:\n",
    "    import jax\n",
    "    import jax.numpy as jnp\n",
    "    from jax. numpy.linalg import solve, eigvals\n",
    "else:\n",
    "    from numpy.linalg import solve, eigvals\n",
    "    from hessian_symbolic.cartpole_hessian import * # for symbolic computation\n",
    "    from pydrake import forwarddiff\n",
    "    from pydrake.autodiffutils import AutoDiffXd, ExtractGradient, ExtractValue, InitializeAutoDiff    "
   ]
  },
  {
   "cell_type": "markdown",
   "metadata": {},
   "source": [
    "และเนื่องจากการใช้ jax.numpy จะประมวลผลช้ากว่า numpy เราจึงเพิ่มตัวแปรส่วนกลาง ad_flag \n",
    "เพื่อใช้ jax_numpy เฉพาะในกรณีคำนวณอนุพันธ์อัตโนมัติเท่านั้น โดยตั้ง ad_flag = True \n",
    "แต่ในกรณีคำนวณเอาต์พุตของฟังก์ชันปกติจะตั้งค่า ad_flag = False \n",
    "\n",
    "**หมายเหตุ :** วิธีการนี้จะเห็นผลชัดเจนในทิศทางการแผ่ไปข้างหน้าเมื่อใช้ numpy แทน jax.numpy \n",
    "แต่เนื่องจากการคำนวณอนุพันธ์ในทิศทางย้อนหลังจะใช้เวลานานกว่ามาก \n",
    "ดังนั้นโดยรวมจะพบว่าอัลกอริทึมจะยังคงใช้เวลานานเมื่อใช้ JAX"
   ]
  },
  {
   "cell_type": "code",
   "execution_count": 3,
   "metadata": {},
   "outputs": [],
   "source": [
    "ad_flag = False"
   ]
  },
  {
   "cell_type": "markdown",
   "metadata": {},
   "source": [
    "นิยามค่าขั้นเวลา จำนวนสถานะและตัวควบคุม เวลาปลาย จำนวนขั้น และเวกเตอร์ขั้นเวลา เหมือนในตัวอย่างอื่นก่อนหน้านี้"
   ]
  },
  {
   "cell_type": "code",
   "execution_count": 4,
   "metadata": {},
   "outputs": [],
   "source": [
    "h = 0.05  # time step. Defined above\n",
    "Nx = 4     # number of state\n",
    "Nu = 1     # number of controls\n",
    "Tfinal = 5.0 # final time \n",
    "Nt = int(Tfinal/h)+1    # number of time steps\n",
    "thist = np.arange(0,h*(Nt-1),h)"
   ]
  },
  {
   "cell_type": "markdown",
   "metadata": {},
   "source": [
    "นิยามเมทริกซ์น้ำหนักสำหรับมูลค่า ฟังก์ชันคำนวณมูลค่าขั้น มูลค่าปลาย และมูลค่ารวม"
   ]
  },
  {
   "cell_type": "code",
   "execution_count": 5,
   "metadata": {},
   "outputs": [],
   "source": [
    "# Cost weights\n",
    "Q = block_diag(1.0*np.eye(2), 1.0*np.eye(2))\n",
    "R = 0.1\n",
    "Qn = 100*np.eye(Nx) # large weight on terminal cost\n",
    "\n",
    "def stage_cost(x,u):\n",
    "    xbar = x-xgoal\n",
    "    return 0.5*((xbar.T@Q@xbar) + R*u*u)    \n",
    "\n",
    "def terminal_cost(x):\n",
    "    xbar = x-xgoal\n",
    "    return 0.5*xbar.T@Qn@xbar\n",
    "\n",
    "def cost(xtraj, utraj):\n",
    "    J = 0.0\n",
    "    for k in range(Nt-1):\n",
    "        J += stage_cost(xtraj[:,[k]],utraj[k])\n",
    "    J += terminal_cost(xtraj[:,[Nt-1]])\n",
    "    return J.item()\n"
   ]
  },
  {
   "cell_type": "markdown",
   "metadata": {},
   "source": [
    "ฟังก์ชันคำนวณพลวัตของคาร์ทโพล หาปริพันธ์วิธีรุงเงอ คุตตา (่RK4)  "
   ]
  },
  {
   "cell_type": "code",
   "execution_count": 6,
   "metadata": {},
   "outputs": [],
   "source": [
    "def cartpole(x, u):\n",
    "    if use_jax and ad_flag:\n",
    "        c = jnp.cos(x[1])  # cos(theta)\n",
    "        s = jnp.sin(x[1])  # sin(theta)\n",
    "    else:\n",
    "        c = np.cos(x[1])  # cos(theta)\n",
    "        s = np.sin(x[1])  # sin(theta)    \n",
    "    # parameters. Changed to match RobotZoo's cartpole\n",
    "    m_c = 1.0  # cart mass\n",
    "    m_p = 0.2 # pendulum mass\n",
    "    l = 0.5  # pole length\n",
    "    g = 9.81  # gravity\n",
    "\n",
    "    f1 = x[2]  # x_dot is the 3rd element of state vector\n",
    "    f2 = x[3]  # theta_dot is the 4th element of state vector\n",
    "    f3 = (1/(m_c + m_p*s**2))*(u + m_p*s*(l*x[3]**2+g*c))  \n",
    "    f4 = (1/(l*(m_c + m_p*s**2)))*(-u*c - m_p*l*x[3]**2*c*s - (m_c+m_p)*g*s)  \n",
    "    if use_jax and ad_flag:\n",
    "        y = jnp.array([f1, f2, f3, f4]).reshape(4,1)\n",
    "    else:\n",
    "        y = np.array([f1, f2, f3, f4]).reshape(4,1)\n",
    "        \n",
    "    return y"
   ]
  },
  {
   "cell_type": "code",
   "execution_count": 7,
   "metadata": {},
   "outputs": [],
   "source": [
    "def cartpole_rk4(x,u):\n",
    "    #RK4 integration with zero-order hold on u\n",
    "    x_1 = x\n",
    "    f1 = cartpole(x, u)\n",
    "    \n",
    "    x_a = x.reshape(4,1)\n",
    "    x_2 = x_a + 0.5*h*f1\n",
    "    f2 = cartpole(x_2.flatten(), u)\n",
    "    \n",
    "    x_3 = x_a + 0.5*h*f2\n",
    "    f3 = cartpole(x_3.flatten(), u)\n",
    "\n",
    "    x_4 = x_a + 0.5*h*f3\n",
    "    f4 = cartpole(x_4.flatten(), u)\n",
    "\n",
    "    ft = x_a + (h/6.0)*(f1 + 2*f2 + 2*f3 + f4)\n",
    "    \n",
    "    return ft"
   ]
  },
  {
   "cell_type": "markdown",
   "metadata": {},
   "source": [
    "ฟังก์ชันในเซลล์ด้านล่างนี้เฉพาะสำหรับกรณีใช้ Drake (use_jax = False) \n",
    "คือการหาค่าอนุพันธ์ของฟังก์ชันที่อินพุตเป็นสเกลาร์และเอาต์พุตเป็นเวกเตอร์ เหมือนกับที่ใช้ในตัวอย่าง 5.1"
   ]
  },
  {
   "cell_type": "code",
   "execution_count": 8,
   "metadata": {},
   "outputs": [],
   "source": [
    "def vecout_derivative(function, x):\n",
    "    \"\"\"Compute the derivative of the function evaluated at the scalar input x\n",
    "    using Eigen's automatic differentiation.\n",
    "\n",
    "    The function should be scalar-input and vector-output.\n",
    "    \"\"\"\n",
    "    x_ad = AutoDiffXd(value=x, size=1, offset=0)\n",
    "    y_ad = function(x_ad)\n",
    "    y_derivative = ExtractGradient(y_ad)\n",
    "    return y_derivative\n"
   ]
  },
  {
   "cell_type": "markdown",
   "metadata": {},
   "source": [
    "ฟังก์ชันสำหรับคำนวณอนุพันธ์อัตโนมัติ โค้ดภายในถูกปรับให้ใช้งานได้ตามการตั้งค่า use_jax"
   ]
  },
  {
   "cell_type": "code",
   "execution_count": 9,
   "metadata": {},
   "outputs": [],
   "source": [
    "def dfdx(x,u):\n",
    "    global u_global, ad_flag\n",
    "    u_global = u\n",
    "    if use_jax:\n",
    "        ad_flag = True\n",
    "        y = jnp.squeeze(jax.jacfwd(cartpole_rk4,argnums=0)(x,u))\n",
    "        ad_flag = False\n",
    "    else:\n",
    "        y = np.squeeze(forwarddiff.jacobian(cartpole_rk4_x,x.flatten()))\n",
    "    return y\n",
    "\n",
    "def dfdu(x,u):\n",
    "    global x_global, ad_flag\n",
    "    x_global = x\n",
    "    if use_jax:\n",
    "        ad_flag = True\n",
    "        y = jax.jacfwd(cartpole_rk4,argnums=1)(x,u)\n",
    "        ad_flag = False\n",
    "    else:\n",
    "        y = vecout_derivative(cartpole_rk4_u,u)    \n",
    "    return y\n",
    "\n",
    "# wrapper functions for Drake (use_jax = False)\n",
    "def cartpole_rk4_x(x):\n",
    "    # global u_global \n",
    "    return cartpole_rk4(x, u_global)\n",
    "\n",
    "def cartpole_rk4_u(u):\n",
    "    # global x_global \n",
    "    return cartpole_rk4(x_global.flatten(), u)    "
   ]
  },
  {
   "cell_type": "markdown",
   "metadata": {},
   "source": [
    "นิยามฟังก์ชันเสริมสำหรับกรณี DDP โดยใช้ JAX ฟังก์ชันเหล่านี้จะไม่ถูกเรียกหาก use_jax = False \n",
    "\n",
    "**หมายเหตุ :** เนื่องจากวิธีใช้ฟังก์ชัน vec() ในภาคผนวก B เกิดความผิดพลาดในการหาอนุพันธ์อัตโนมัติโดย JAX \n",
    "ดังนั้นเราแก้ปัญหาโดยใช้วิธีการแปลงเทนเซอร์เป็นเมทริกซ์หลังจากได้เอาต์พุตแล้ว"
   ]
  },
  {
   "cell_type": "code",
   "execution_count": 10,
   "metadata": {},
   "outputs": [],
   "source": [
    "# for DDP. use_jax=True\n",
    "# convert [m,n,p] tensor to [m*n,p] matrix\n",
    "def tensor2mat(Mat3d):\n",
    "    dim3 = Mat3d.shape[2]\n",
    "    M = Mat3d[:,:,0]\n",
    "    for i in range(dim3-1):\n",
    "        M = np.vstack((M,Mat3d[:,:,i+1]))\n",
    "    return M\n",
    "\n",
    "from scipy.sparse import csr_matrix\n",
    "def comm(M):\n",
    "    m, n = M.shape[0], M.shape[1]\n",
    "    row  = np.arange(m*n)\n",
    "    col  = row.reshape((m, n), order='F').ravel()\n",
    "    data = np.ones(m*n, dtype=np.int8)\n",
    "    T = csr_matrix((data, (row, col)), shape=(m*n, m*n))\n",
    "    return T.toarray()\n",
    "\n",
    "# this commutation matrix is constant. So just compute it once and use commA in the loop.\n",
    "Amat = np.zeros((Nx,Nx))\n",
    "commA = comm(Amat)\n",
    "\n",
    "def is_pos_def(x): # check positive definite for regularization\n",
    "    return np.all(eigvals(x) > 0)\n",
    "\n",
    "# for DDP, to compute last term of (5.15) - (5.17)\n",
    "def dAdx(x,u):\n",
    "    global ad_flag\n",
    "    ad_flag = True\n",
    "    y = jax.jacfwd(dfdx)(x,u)\n",
    "    ad_flag = False\n",
    "    return tensor2mat(y)\n",
    "\n",
    "def dBdx(x,u):\n",
    "    global ad_flag\n",
    "    ad_flag = True\n",
    "    y = jax.jacfwd(dfdu)(x,u)\n",
    "    ad_flag = False\n",
    "    return jnp.squeeze(y)\n",
    "\n",
    "def dAdu(x,u):\n",
    "    global ad_flag\n",
    "    ad_flag = True\n",
    "    y = jax.jacfwd(dfdu)(x,u)\n",
    "    ad_flag = False\n",
    "    return tensor2mat(y)\n",
    "\n",
    "def dBdu(x,u):\n",
    "    global ad_flag\n",
    "    ad_flag = True\n",
    "    y = jax.jacfwd(dfdu,argnums=1)(x,u)\n",
    "    ad_flag = False\n",
    "    return y"
   ]
  },
  {
   "cell_type": "markdown",
   "metadata": {},
   "source": [
    "สำหรับกรณีต้องการใช้วิธี DDP เมื่อ use_jax = False \n",
    "เราจะคำนวณพจน์เฮสเซียนเชิงสัญลักษณ์ตามวิธีการที่อธิบายในภาคผนวก C \n",
    "เพื่อความกระชับเราจะรวมโค้ดทั้งหมดในไฟล์ cartpole_hessian.py ที่จัดเก็บในไดเรคทอรีย่อย \n",
    "/hessian_symbolic/ ดังนั้นหากท่านรันโน๊ตบุกนี้ในเครื่องคอมพิวเตอร์ของตนเอง \n",
    "ต้องดาวน์โหลด /hessian_symbolic/cartpole_hessian.py ไปพร้อมกันด้วย \n",
    "และนำเข้าโดยคำสั่งที่ใส่ไว้ด้านบนแล้วคือ\n",
    "\n",
    "```python\n",
    "from hessian_symbolic.cartpole_hessian import symbols,sin,cos,Array,diff,simplify,lambdify\n",
    "```\n",
    "**ข้อควรระวัง :** ในแพ็กเกจ SymPy มีตัวแปร Q ที่ไปชนกับฟังก์ชันการคำนวณมูลค่า \n",
    "หลีกเลี่ยงการใช้คำสั่งดังนี้\n",
    "\n",
    "```python\n",
    "from hessian_symbolic.cartpole_hessian import *\n",
    "```\n"
   ]
  },
  {
   "cell_type": "markdown",
   "metadata": {},
   "source": [
    "นิยามฟังก์ชันแผ่ไปข้างหน้าเริ่มต้น initial_rollout()"
   ]
  },
  {
   "cell_type": "code",
   "execution_count": 11,
   "metadata": {},
   "outputs": [],
   "source": [
    "def initial_rollout():\n",
    "    global xtraj, ad_flag\n",
    "    ad_flag = False\n",
    "    for k in range(Nt-1):\n",
    "        xtraj[:,[k+1]] = cartpole_rk4(xtraj[:,k], utraj[k])\n",
    "    J = cost(xtraj, utraj)\n",
    "    return J   "
   ]
  },
  {
   "cell_type": "markdown",
   "metadata": {},
   "source": [
    "ฟังก์ชันคำนวณย้อนหลัง backward_pass() โดยมีอาร์กิวเมนต์สำหรับเลือกโหมด mode='ilqr' \n",
    "หรือ mode='ddp' ค่าโดยปริยายคือ 'ilqr' \n",
    "กรณี mode='ddp' หาก use_jax=True จะคำนวณพจน์เฮสเซียนโดยใช้ฟังก์ชันของ JAX \n",
    "แต่หาก use_jax=False จะคำนวณพจน์เฮสเซียนเชิงสัญลักษณ์จากฟังก์ชันในไฟล์ cartpole_hessian.py"
   ]
  },
  {
   "cell_type": "code",
   "execution_count": 12,
   "metadata": {},
   "outputs": [],
   "source": [
    "def backward_pass(mode='ilqr'):\n",
    "    global p,P,d,K,gx,gu,Gxx,Gxu,Gux,Guu,G, k,A,B,Ax,Bx,Au,Bu\n",
    "    dJ = 0.0\n",
    "    p[:,[Nt-1]] = Qn@(xtraj[:,[Nt-1]]-xgoal)\n",
    "    P[:,:,Nt-1] = Qn\n",
    "    \n",
    "    for k in range(Nt-2,-1,-1):\n",
    "        # Calculate derivatives\n",
    "        q  = Q@(xtraj[:,[k]] - xgoal)\n",
    "        r = R*utraj[k]\n",
    "\n",
    "        A = dfdx(xtraj[:,[k]], utraj[k])\n",
    "        B = dfdu(xtraj[:,[k]], utraj[k])\n",
    "\n",
    "        gx = q + A.T@p[:,[k+1]]\n",
    "        gu = r + B.T@p[:,[k+1]]\n",
    "\n",
    "\n",
    "        if mode=='ddp': # DDP (full Newton) version\n",
    "            if use_jax:\n",
    "                # compute autodiff by JAX \n",
    "                Ax = dAdx(xtraj[:,[k]], utraj[k])\n",
    "                Bx = dBdx(xtraj[:,[k]], utraj[k])\n",
    "                Au = dAdu(xtraj[:,[k]], utraj[k])\n",
    "                Bu = dBdu(xtraj[:,[k]], utraj[k])\n",
    "                Gxx = (Q + A.T@P[:,:,k+1]@A + \n",
    "                       kron(p[:,[k+1]].T,np.eye(Nx))@commA@Ax[:,:,0])\n",
    "                Guu = (R + B.T@P[:,:,k+1]@B + \n",
    "                       (kron(p[:,[k+1]].T, np.eye(Nu))@Bu)[0])\n",
    "                Gxu = (A.T@P[:,:,k+1]@B + \n",
    "                       kron(p[:,[k+1]].T,np.eye(Nx))@commA@Au[:,:,0])\n",
    "                Gux = (B.T@P[:,:,k+1]@A + \n",
    "                       kron(p[:,[k+1]].T, np.eye(Nu))@Bu)\n",
    "            else:\n",
    "                Ax = cartpole_hessian_rk4(xtraj[:,k],utraj[k],s='dadx')\n",
    "                Bx = cartpole_hessian_rk4(xtraj[:,k],utraj[k],s='dbdx')\n",
    "                Au = cartpole_hessian_rk4(xtraj[:,k],utraj[k],s='dadu')\n",
    "                Bu = np.zeros((4,1)) # Bu always zero.No need to compute\n",
    "                # Bu = cartpole_hessian_rk4(xtraj[:,k],utraj[k],s='dbdu')\n",
    "                Gxx = (Q + A.T@P[:,:,k+1]@A + \n",
    "                       kron(p[:,[k+1]].T,np.eye(Nx))@commA@Ax)\n",
    "                Guu = (R + B.T@P[:,:,k+1]@B + \n",
    "                       (kron(p[:,[k+1]].T, np.eye(Nu))@Bu)[0])\n",
    "                Gxu = (A.T@P[:,:,k+1]@B + \n",
    "                       kron(p[:,[k+1]].T,np.eye(Nx))@commA@Au)\n",
    "                Gux = (B.T@P[:,:,k+1]@A + \n",
    "                       kron(p[:,[k+1]].T, np.eye(Nu))@Bu)\n",
    "                \n",
    "            beta = 0.1\n",
    "            G = np.block([[Gxx, Gxu],[Gux, Guu]])\n",
    "            while not is_pos_def(G):\n",
    "                Gxx += beta*np.eye(Gxx.shape[0])\n",
    "                Guu += beta*np.eye(Guu.shape[0])\n",
    "                G = np.block([[Gxx, Gxu],[Gux, Guu]])\n",
    "                beta = 2*beta\n",
    "                print(\"regularizing G, beta = \"+str(beta),end=\"\\r\")\n",
    "        else:  # default to ilqr mode\n",
    "            # iLQR (Gauss-Newton) version \n",
    "            Gxx = Q + A.T@P[:,:,k+1]@A\n",
    "            Guu = R + B.T@P[:,:,k+1]@B\n",
    "            Gxu = A.T@P[:,:,k+1]@B\n",
    "            Gux = B.T@P[:,:,k+1]@A\n",
    "            \n",
    "        if use_jax:\n",
    "            d[k] = solve(Guu,gu).item()\n",
    "            K[:,:,k] = solve(Guu,Gux)\n",
    "        else:\n",
    "            d[k] = (gu/Guu).item()  # solve() has problem with SymPy object\n",
    "            K[:,:,k] = Gux/(Guu.item())\n",
    "            \n",
    "\n",
    "        p[:,[k]] = gx - K[:,:,k].T@gu + K[:,:,k].T@Guu*d[k] - Gxu*d[k]\n",
    "        P[:,:,k] = Gxx + K[:,:,k].T@Guu@K[:,:,k] - Gxu@K[:,:,k] - K[:,:,k].T@Gux\n",
    "\n",
    "        dJ += (gu.T*d[k]).item()\n",
    "    return dJ"
   ]
  },
  {
   "cell_type": "markdown",
   "metadata": {},
   "source": [
    "สุดท้ายคือนิยามฟังก์ชันแผ่ไปข้างหน้าโดยมีการค้นหาตามเส้น rollout_with_ls()"
   ]
  },
  {
   "cell_type": "code",
   "execution_count": 13,
   "metadata": {},
   "outputs": [],
   "source": [
    "def rollout_with_ls():\n",
    "    global xtraj, xn, un, Jn, alpha, ad_flag\n",
    "    ad_flag = False\n",
    "    xn[:,[0]] = xtraj[:,[0]]\n",
    "    alpha = 1.0\n",
    "    for k in range(Nt-1):\n",
    "        un[k] = (utraj[k] - alpha*d[k] - np.dot(K[:,:,k],xn[:,[k]]-xtraj[:,[k]])).item()\n",
    "        xn[:,[k+1]] = cartpole_rk4(xn[:,[k]],un[k])\n",
    "\n",
    "    Jn = cost(xn,un)\n",
    "    \n",
    "    while np.isnan(Jn) or Jn > (J - (1e-2)*alpha*dJ):\n",
    "        alpha = 0.5*alpha\n",
    "        # print(\"alpha = \"+str(alpha))\n",
    "        for k in range(Nt-1):\n",
    "            un[k] = (utraj[k] - alpha*d[k] - np.dot(K[:,:,k],xn[:,[k]]-xtraj[:,[k]])).item()\n",
    "            xn[:,[k+1]] = cartpole_rk4(xn[:,[k]],un[k])\n",
    "        Jn = cost(xn,un)    "
   ]
  },
  {
   "cell_type": "markdown",
   "metadata": {},
   "source": [
    "เมื่อนิยามฟังก์ชันย่อยทั้งหมดแล้ว ประกอบกันเป็นฟังก์ชัน ddp() สำหรับอัลกอริทึม DDP  \n",
    "การเลือกโหมดทำได้โดยใส่อาร์กิวเมนต์ดังนี้ \n",
    "\n",
    "```python\n",
    "ddp() # default to iLQR mode\n",
    "ddp('ilqr') # iLQR mode\n",
    "ddp('ddp') # DDP mode\n",
    "```\n",
    "โดยเอาต์พุตของเซลล์จะแสดงค่าอัพเดตทุกรอบสำหรับการใช้ JAX และทุก 10 รอบสำหรับ Drake \n",
    "ทั้งนี้เนื่องจากความเร็วที่ต่างกันค่อนข้างมาก"
   ]
  },
  {
   "cell_type": "code",
   "execution_count": 14,
   "metadata": {},
   "outputs": [],
   "source": [
    "# DDP algorithm\n",
    "def ddp(mode='ilqr'):\n",
    "    global p,P,d,K,dJ,xtraj,utraj, gx, gu, Gxx, Guu, Gxu, Gux, iter, J, Jn, xn, un\n",
    "    p = np.zeros((Nx,Nt))\n",
    "    P = np.zeros((Nx, Nx, Nt))\n",
    "    d = np.ones((Nt-1))\n",
    "    K = np.zeros((Nu, Nx, Nt-1))\n",
    "    dJ = 0.0\n",
    "    \n",
    "    xn = np.zeros((Nx,Nt))\n",
    "    un = np.zeros((Nt-1))\n",
    "    \n",
    "    gx = np.zeros((Nx))\n",
    "    gu = 0.0\n",
    "    Gxx = np.zeros((Nx,Nx))\n",
    "    Guu = 0.0\n",
    "    Gxu = np.zeros((Nx))\n",
    "    Gux = np.zeros((Nx))\n",
    "    \n",
    "    iter = 0\n",
    "    while np.max(abs(d)) >2e-2 and iter<1000: #1e-3:\n",
    "        iter+=1\n",
    "    \n",
    "        # Backward pass\n",
    "        dJ = backward_pass(mode)  \n",
    "            \n",
    "        # forward rollout with line search\n",
    "        rollout_with_ls()\n",
    "            \n",
    "        # logging \n",
    "        if use_jax:  # jax is so slow, so print every iteration\n",
    "            if (iter-1)%10 == 0:  # print heading every 10 iterations\n",
    "                print(\"iter        J                  ΔJ                   |d|             α       \")\n",
    "                print(\"-----------------------------------------------------------------------------\")\n",
    "            if (iter-1)%1 == 0: # print values every 1 iterations\n",
    "                print(\"{}   {}    {}   {}    {} \".format(iter, J,\n",
    "                                            dJ, np.max(abs(d)), alpha))\n",
    "        else: # drake is faster. Print every 10 iterations\n",
    "            if (iter-1)%100 == 0:  # print heading every 100 iterations\n",
    "                print(\"iter        J                  ΔJ                   |d|             α       \")\n",
    "                print(\"-----------------------------------------------------------------------------\")\n",
    "            if (iter-1)%10 == 0: # print values every 10 iterations\n",
    "                print(\"{}   {}    {}   {}    {} \".format(iter, J,\n",
    "                                            dJ, np.max(abs(d)), alpha))\n",
    "            \n",
    "        J = Jn\n",
    "        xtraj = xn.copy()  # important! code xtraj = xn results in some bug difficult to find\n",
    "        utraj = un.copy()"
   ]
  },
  {
   "cell_type": "markdown",
   "metadata": {},
   "source": [
    "นิยามสถานะเริ่มต้น สถานะสุดท้าย และเวกเตอร์แนววิถี โดยเริ่มต้นที่ตำแหน่งสถานะพัก คือลูกตุ้มทิ้งลงในแนวดิ่ง $\\theta = 0$ \n",
    "และตำแหน่งสุดท้ายคือลูกตุ้มตั้งตรง $\\theta = \\pi$ สำหรับค่าเริ่มต้นแนววิถีตัวควบคุม เราต้องให้เริ่มจากค่าสุ่มน้อยๆ \n",
    "เพื่อหลุดจากความเป็นสมมาตรเช่นเดียวกับหุ่นยนต์กายกรรมในตัวอย่าง 5.1 เพราะหากเริ่มจากศูนย์ทั้งหมดค่าเกรเดียนต์จะเป็นศูนย์ \n",
    "ทำให้ไม่สามารถตัดสินใจได้ว่าจะแกว่งขึ้นทางด้านซ้ายหรือขวา"
   ]
  },
  {
   "cell_type": "code",
   "execution_count": 19,
   "metadata": {},
   "outputs": [],
   "source": [
    "x0 = np.array([0,0,0,0]).reshape(4,1)\n",
    "xgoal = np.array([0,np.pi,0,0]).reshape(4,1)\n",
    "xtraj = np.kron(np.ones((1,Nt)),x0)\n",
    "utraj = np.random.rand(Nt-1)"
   ]
  },
  {
   "cell_type": "markdown",
   "metadata": {},
   "source": [
    "คำนวณมูลค่าเริ่มต้น"
   ]
  },
  {
   "cell_type": "code",
   "execution_count": 20,
   "metadata": {},
   "outputs": [
    {
     "data": {
      "text/plain": [
       "2741.3838841001307"
      ]
     },
     "execution_count": 20,
     "metadata": {},
     "output_type": "execute_result"
    }
   ],
   "source": [
    "J = initial_rollout()\n",
    "J"
   ]
  },
  {
   "cell_type": "markdown",
   "metadata": {},
   "source": [
    "ทดสอบอัลกอริทึมโดยรันเซลล์ด้านล่างนี้"
   ]
  },
  {
   "cell_type": "code",
   "execution_count": 21,
   "metadata": {
    "scrolled": true
   },
   "outputs": [
    {
     "name": "stdout",
     "output_type": "stream",
     "text": [
      "iter        J                  ΔJ                   |d|             α       \n",
      "-----------------------------------------------------------------------------\n",
      "1   2741.3838841001307    3963.147310580836   49.82831836430588    1.0 \n",
      "11   724.1141864532174    0.6339753356084066   0.7509704453358266    1.0 \n",
      "21   718.523401598332    0.5555439357764858   0.7039867139136227    1.0 \n",
      "31   714.1347933877688    0.6422560364393551   0.745869889997656    1.0 \n",
      "41   710.7692206917925    0.7127937233153117   0.6365099428216736    1.0 \n",
      "51   707.6688420594426    0.586682559485611   0.6215699871501053    1.0 \n",
      "61   704.059567557999    0.12466760743400115   0.2920987356193266    1.0 \n",
      "71   701.3051258764923    0.5377796535305572   0.5811076802131485    1.0 \n",
      "81   698.930117051294    0.3427802050734723   0.43690442337673374    1.0 \n",
      "91   695.3927920945594    0.29861106900908707   0.5728650978360285    1.0 \n",
      "iter        J                  ΔJ                   |d|             α       \n",
      "-----------------------------------------------------------------------------\n",
      "101   693.2551355134268    0.34664991320131655   0.3999846431664387    1.0 \n",
      "111   690.3068915687538    0.13916774025896353   0.22716550281304446    1.0 \n",
      "121   687.2109767308507    0.4826749153241938   0.6412913228057413    1.0 \n",
      "131   684.8973737010338    0.3192696793183764   0.3720089870387215    1.0 \n",
      "141   681.3256868616647    0.17857408531554467   0.4092394996451327    1.0 \n",
      "151   678.6815042119281    0.5529491356879628   0.5797673937711422    1.0 \n",
      "161   676.1386122939526    0.37541864314201207   0.47807125592105176    1.0 \n",
      "171   672.3786320638994    0.3963033226757401   0.6390469508816126    1.0 \n",
      "181   669.7619406779893    0.5079344958924908   0.5299288173450206    1.0 \n",
      "191   666.7227434221488    0.24483496844865757   0.2862681889245556    1.0 \n",
      "iter        J                  ΔJ                   |d|             α       \n",
      "-----------------------------------------------------------------------------\n",
      "201   662.7632622340285    0.5185591113984562   0.7148644916601209    1.0 \n",
      "211   659.5261134082629    0.47114230209255664   0.49531149728722584    1.0 \n",
      "221   656.5120934675958    0.21554876413530277   0.2637921119462015    1.0 \n",
      "231   652.5656259506753    0.32180580283076204   0.5525174537552464    1.0 \n",
      "241   649.2065546196103    0.6201436723952211   0.6230706963082727    1.0 \n",
      "251   646.0706293661386    0.5812768637010857   0.5828201034627257    1.0 \n",
      "261   642.1579385455274    0.1738273716911211   0.2815790308611673    1.0 \n",
      "271   638.3034532376513    0.4945530734517206   0.6903420524152823    1.0 \n",
      "281   635.0394110698238    0.8053292172523754   0.7013270950700734    1.0 \n",
      "291   631.7227048049353    0.4073302685978707   0.485527609635428    1.0 \n",
      "iter        J                  ΔJ                   |d|             α       \n",
      "-----------------------------------------------------------------------------\n",
      "301   627.4874351366815    0.3620253572258744   0.582065583737451    1.0 \n",
      "311   624.1741855092221    0.6277003633767244   0.6219969021968943    1.0 \n",
      "321   620.9848674518828    0.5864285417198454   0.5856339214055782    1.0 \n",
      "331   617.0546260850916    0.17401019818792662   0.27954424411329365    1.0 \n",
      "341   613.1880107819785    0.4946062150373703   0.6875291960817544    1.0 \n",
      "351   609.9395038650713    0.8080308468734013   0.70167140323193    1.0 \n",
      "361   606.6429750942734    0.4053305128694739   0.4847199513378645    1.0 \n",
      "371   602.4365221737779    0.3603905049075694   0.5778264210553288    1.0 \n",
      "381   598.9195398899204    0.6022907088896882   0.6520150134949723    1.0 \n",
      "391   595.9387358556862    0.5911381992380712   0.5915664466612236    1.0 \n",
      "iter        J                  ΔJ                   |d|             α       \n",
      "-----------------------------------------------------------------------------\n",
      "401   592.052439718248    0.18003179283191595   0.2972907739614169    1.0 \n",
      "411   588.112298050417    0.4363251167165008   0.6567742173167357    1.0 \n",
      "421   585.0986932528957    0.5492304468531425   0.5509960326539406    1.0 \n",
      "431   581.7306929019584    0.39189566432512946   0.4709660452234185    1.0 \n",
      "441   577.5532144027874    0.3132455613081677   0.5389884062903859    1.0 \n",
      "451   574.0702303771465    0.609640575211803   0.6514262118087649    1.0 \n",
      "461   571.0732255996612    0.5834748605607608   0.58876722155482    1.0 \n",
      "471   567.2421060695889    0.17935098434458646   0.29556370984164465    1.0 \n",
      "481   563.3574631139054    0.44419128129460184   0.6571331179738444    1.0 \n",
      "491   560.2483824879788    0.5740426568309476   0.5315597751677662    1.0 \n",
      "iter        J                  ΔJ                   |d|             α       \n",
      "-----------------------------------------------------------------------------\n",
      "501   556.9639012246696    0.39287178097901504   0.4743654143394572    1.0 \n",
      "511   552.7940542486388    0.3240620798828251   0.5465163201954802    1.0 \n",
      "521   549.3551757358739    0.5930055106112471   0.6486342494314952    1.0 \n",
      "531   546.3586692601679    0.5787701465624217   0.5881431452280221    1.0 \n",
      "541   542.4964226434339    0.1715159186033123   0.27641869008865333    1.0 \n",
      "551   538.7314288088259    0.488273001813797   0.673546936987137    1.0 \n",
      "561   535.542676592768    0.5634485937911495   0.530091703996993    1.0 \n",
      "571   532.3997082489564    0.4062526506034279   0.5000123905039104    1.0 \n",
      "581   528.4081193125305    0.4567088792949349   0.6744204023897286    1.0 \n",
      "591   525.1702892621576    0.6470640216716937   0.6363374205839656    1.0 \n",
      "iter        J                  ΔJ                   |d|             α       \n",
      "-----------------------------------------------------------------------------\n",
      "601   521.997148829061    0.36013890123204295   0.40729410859310805    1.0 \n",
      "611   517.9610752170233    0.19854792253049897   0.3963410415861815    1.0 \n",
      "621   514.2723120834278    0.5317153398245125   0.6768569637165317    1.0 \n",
      "631   511.2573995801596    0.4091058748023608   0.43963637341425166    1.0 \n",
      "641   507.8105129917224    0.2538098425071583   0.27354993765880264    1.0 \n",
      "651   503.82922487299254    0.4955086099265689   0.6895534038938591    1.0 \n",
      "661   500.8154526655112    0.3751565629542845   0.42378897813879735    1.0 \n",
      "671   497.72922247130106    0.39580506716963426   0.48050373640831995    1.0 \n",
      "681   493.56856814498036    0.3468158613336719   0.5616417682604601    1.0 \n",
      "691   490.2444280970871    0.6141200138511788   0.6045359636021718    1.0 \n",
      "iter        J                  ΔJ                   |d|             α       \n",
      "-----------------------------------------------------------------------------\n",
      "701   487.39367247276334    0.621484637101993   0.6761867348674888    1.0 \n",
      "711   483.37815434635166    0.16433057510282345   0.3480629407634917    1.0 \n",
      "721   479.49246805730223    0.5066988562587458   0.6877352666556636    1.0 \n",
      "731   476.28308540401366    0.7895810513695249   0.688483195623178    1.0 \n",
      "741   473.0776209454587    0.397740751205133   0.4830200195139398    1.0 \n",
      "751   468.89899807131394    0.3511705843395399   0.5649285361431431    1.0 \n",
      "761   465.5759619191681    0.611277473843917   0.6019058283030957    1.0 \n",
      "771   462.72885245341706    0.6206465169320687   0.6766755971399407    1.0 \n",
      "781   458.79501094633883    0.2014422096660511   0.39899453886208824    1.0 \n",
      "791   455.2283992377833    0.5506126964200344   0.6624672432896056    1.0 \n",
      "iter        J                  ΔJ                   |d|             α       \n",
      "-----------------------------------------------------------------------------\n",
      "801   452.2941261161831    0.5260465684703889   0.535620221253556    1.0 \n",
      "811   448.74419962268485    0.15905390891263627   0.2420369230865629    1.0 \n",
      "821   444.8601653113967    0.4628191906244246   0.6662749455617708    1.0 \n",
      "831   441.7806021225283    0.7856137038402347   0.6866972775641617    1.0 \n",
      "841   438.5973114007901    0.38820880741785435   0.47671150869449375    1.0 \n",
      "851   434.5094249604439    0.3433265456176005   0.5579291084277489    1.0 \n",
      "861   431.58592293022184    0.6348716257768211   0.6194663569301635    1.0 \n",
      "871   428.71388378873695    0.3778747798276513   0.473957159386384    1.0 \n",
      "881   424.7629038849367    0.3039847518962537   0.5271292962327898    1.0 \n",
      "891   421.8567548370535    0.45753567073912915   0.48998273029867395    1.0 \n",
      "iter        J                  ΔJ                   |d|             α       \n",
      "-----------------------------------------------------------------------------\n",
      "901   419.14709951524367    0.3815756133978784   0.48554552966149045    1.0 \n",
      "911   415.2122753044179    0.3333254719677745   0.5895682164039031    1.0 \n",
      "921   412.3086836369724    0.6519116333889471   0.631002778692125    1.0 \n",
      "931   409.44333178680927    0.3748114817288743   0.4800161458665034    1.0 \n",
      "941   405.59165261827224    0.33457516460936915   0.5904791657834204    1.0 \n",
      "951   402.8190134147784    0.36110487771680444   0.4161663902919629    1.0 \n",
      "961   399.92591945657284    0.23381889155821994   0.2798371982776614    1.0 \n",
      "971   396.1117546124614    0.4471884878050061   0.6608939291546043    1.0 \n",
      "981   393.516696854374    0.5695234594042791   0.5947498829960044    1.0 \n",
      "991   390.3524601130549    0.14582567777772157   0.20939775734034766    1.0 \n",
      "regularizing G, beta = 51.2"
     ]
    }
   ],
   "source": [
    "# ddp() # iLQR mode\n",
    "ddp('ddp') # DDP mode"
   ]
  },
  {
   "cell_type": "code",
   "execution_count": 22,
   "metadata": {},
   "outputs": [
    {
     "data": {
      "text/plain": [
       "1000"
      ]
     },
     "execution_count": 22,
     "metadata": {},
     "output_type": "execute_result"
    }
   ],
   "source": [
    "iter"
   ]
  },
  {
   "cell_type": "markdown",
   "metadata": {},
   "source": [
    "เขียนฟังก์ชันสำหรับพล็อตค่าแนววิถีสถานะและตัวควบคุม"
   ]
  },
  {
   "cell_type": "code",
   "execution_count": 23,
   "metadata": {},
   "outputs": [],
   "source": [
    "# plot states and control\n",
    "def plot_x():\n",
    "    plt.figure()\n",
    "    plt.plot(thist,xtraj[0,:-1],\"b-\",thist,xtraj[1,:-1],'orange')\n",
    "    plt.xlabel(\"time (sec)\")\n",
    "    plt.ylabel(\"x(k)\")\n",
    "    plt.legend([\"x\",\"theta\"])\n",
    "    plt.grid(True)\n",
    "    plt.show()\n",
    "\n",
    "def plot_u():\n",
    "    plt.plot(thist[0:Nt-1],utraj,\"m-\")\n",
    "    plt.xlabel(\"time (sec)\")\n",
    "    plt.ylabel(\"u(k)\")\n",
    "    plt.grid(True)\n",
    "    plt.show()"
   ]
  },
  {
   "cell_type": "markdown",
   "metadata": {},
   "source": [
    "เรียกฟังก์ชันเพื่อพล็อตค่าแนววิถีสถานะและตัวควบคุมดังแสดงในรูปที่ 5.6 และ 5.7 ตามลำดับ"
   ]
  },
  {
   "cell_type": "code",
   "execution_count": 24,
   "metadata": {
    "scrolled": true
   },
   "outputs": [
    {
     "data": {
      "image/png": "[encoded data removed]",
      "text/plain": [
       "<Figure size 640x480 with 1 Axes>"
      ]
     },
     "metadata": {},
     "output_type": "display_data"
    }
   ],
   "source": [
    "plot_x()"
   ]
  },
  {
   "cell_type": "markdown",
   "metadata": {},
   "source": [
    "รูปที่ 5.6 แนววิถีสถานะเหมาะที่สุดของคาร์ทโพลจากอัลกอริทึม DDP"
   ]
  },
  {
   "cell_type": "code",
   "execution_count": 25,
   "metadata": {},
   "outputs": [
    {
     "data": {
      "image/png": "[encoded data removed]",
      "text/plain": [
       "<Figure size 640x480 with 1 Axes>"
      ]
     },
     "metadata": {},
     "output_type": "display_data"
    }
   ],
   "source": [
    "plot_u()"
   ]
  },
  {
   "cell_type": "markdown",
   "metadata": {},
   "source": [
    "รูปที่ 5.7 แนววิถีตัวควบคุมเหมาะที่สุดของคาร์ทโพลจากอัลกอริทึม DDP"
   ]
  },
  {
   "cell_type": "markdown",
   "metadata": {},
   "source": [
    "เราสามารถจำลองการเคลื่อนที่ของคาร์ทโพลอย่างง่ายบน meshcat โดยวิธีเหมือนกับในตัวอย่าง 5.1 \n",
    "โดยสร้างโมเดลคาร์ทโพลดังในรูปที่ 5.8\n",
    "\n",
    "<img src=\"https://raw.githubusercontent.com/dewdotninja/ocrl/refs/heads/main/doc/figs/ch5_cartpole_meshcat.png\" width=400 />\n",
    "\n",
    "รูปที่ 5.8 โมเดลจำลองคาร์ทโพลบน meshcat"
   ]
  },
  {
   "cell_type": "code",
   "execution_count": 67,
   "metadata": {},
   "outputs": [],
   "source": [
    "import meshcat\n",
    "import meshcat.geometry as g\n",
    "import meshcat.transformations as tf\n",
    "#from meshcat.animation import Animation\n",
    "import time"
   ]
  },
  {
   "cell_type": "code",
   "execution_count": 55,
   "metadata": {},
   "outputs": [
    {
     "name": "stdout",
     "output_type": "stream",
     "text": [
      "You can open the visualizer by visiting the following URL:\n",
      "http://127.0.0.1:7000/static/\n"
     ]
    }
   ],
   "source": [
    "vis = meshcat.Visualizer()"
   ]
  },
  {
   "cell_type": "code",
   "execution_count": 56,
   "metadata": {},
   "outputs": [],
   "source": [
    "# create cartpole\n",
    "def build_cartpole(vis):\n",
    "    cart_pole = vis[\"cart_pole\"]\n",
    "    cart_pole.delete()\n",
    "    cart = cart_pole[\"cart\"]\n",
    "    pivot = cart[\"pivot\"]\n",
    "    pole = pivot[\"pole\"]\n",
    "    pendulum = pole[\"pendulum\"]\n",
    "    cart.set_object(g.Box([0.5, 0.3, 0.2]))\n",
    "    pole.set_object(g.Box([0.05, 0.05, 0.5]))\n",
    "    pendulum.set_object(g.Sphere(0.06))\n",
    "    pole.set_transform(tf.translation_matrix([0, 0, -0.25]))\n",
    "    pendulum.set_transform(tf.translation_matrix([0.0,0.0,-0.25]))\n",
    "    # pivot.set_transform(tf.rotation_matrix(-np.pi/2, [0, 1, 0]))\n",
    "    return cart,pivot\n",
    "\n",
    "# update cartpole pose\n",
    "def update_cartpole(x,th):\n",
    "    cart_th.set_transform(tf.rotation_matrix(th,[0,1,0]))\n",
    "    cart_x.set_transform(tf.translation_matrix([x, 0, 0]))\n",
    "\n",
    "def simulate_cartpole():\n",
    "    for k in range(xtraj.shape[1]):\n",
    "        x = xtraj[0,k] # cart position\n",
    "        th = xtraj[1,k] # pole angle\n",
    "        update_cartpole(x,th)\n",
    "        time.sleep(h)    \n"
   ]
  },
  {
   "cell_type": "code",
   "execution_count": 57,
   "metadata": {},
   "outputs": [],
   "source": [
    "cart_x, cart_th = build_cartpole(vis)"
   ]
  },
  {
   "cell_type": "code",
   "execution_count": 68,
   "metadata": {},
   "outputs": [],
   "source": [
    "simulate_cartpole()"
   ]
  },
  {
   "cell_type": "code",
   "execution_count": null,
   "metadata": {},
   "outputs": [],
   "source": []
  },
  {
   "cell_type": "code",
   "execution_count": null,
   "metadata": {},
   "outputs": [],
   "source": []
  },
  {
   "cell_type": "code",
   "execution_count": null,
   "metadata": {},
   "outputs": [],
   "source": []
  },
  {
   "cell_type": "code",
   "execution_count": null,
   "metadata": {},
   "outputs": [],
   "source": []
  },
  {
   "cell_type": "code",
   "execution_count": null,
   "metadata": {},
   "outputs": [],
   "source": []
  },
  {
   "cell_type": "code",
   "execution_count": null,
   "metadata": {},
   "outputs": [],
   "source": []
  },
  {
   "cell_type": "code",
   "execution_count": null,
   "metadata": {},
   "outputs": [],
   "source": []
  },
  {
   "cell_type": "code",
   "execution_count": null,
   "metadata": {},
   "outputs": [],
   "source": []
  },
  {
   "cell_type": "code",
   "execution_count": null,
   "metadata": {},
   "outputs": [],
   "source": []
  },
  {
   "cell_type": "code",
   "execution_count": null,
   "metadata": {},
   "outputs": [],
   "source": []
  },
  {
   "cell_type": "code",
   "execution_count": null,
   "metadata": {},
   "outputs": [],
   "source": []
  },
  {
   "cell_type": "markdown",
   "metadata": {},
   "source": [
    "## บรรณานุกรม\n",
    "\n",
    "1. D.Q. Mayne. \"A second-order gradient method of optimizing non-linear discrete time systems\". \n",
    "Int J Control. 3: 85–95. 1966.\n",
    "\n",
    "2. D.Q. Mayne and D.H Jacobson. Differential dynamic programming. New York: American Elsevier \n",
    "Pub. Co. 1970.\n",
    "\n",
    "3. Z. Manchester et.al. [16-745 Optimal Control & Reinforcement Learning, \n",
    "Course materials](https://optimalcontrol.ri.cmu.edu/#learning-resources), Carnegie Mellon University. 2025.\n",
    "\n",
    "4. R.M. Murray and J. Hauser. \"A case study in approximate linerization: the acrobot example\". \n",
    "Memorandum No. UCB/ERL (unknown). 1991.  \n",
    "\n",
    "5. R. Tedrake. [Underactuated Robotics: Algorithms for Walking, Running, Swimming, Flying, and Manipulation (Course Notes for MIT 6.832)](https://underactuated.csail.mit.edu). 2023. \n"
   ]
  },
  {
   "cell_type": "code",
   "execution_count": null,
   "metadata": {},
   "outputs": [],
   "source": []
  },
  {
   "cell_type": "markdown",
   "metadata": {},
   "source": [
    "<div align=\"center\">\n",
    "<img src=\"https://raw.githubusercontent.com/dewdotninja/sharing-github/refs/heads/master/dewninja_logo50.jpg\" alt=\"dewninja\"/>\n",
    "</div>\n",
    "<div align=\"center\">dew.ninja 2025</div>"
   ]
  }
 ],
 "metadata": {
  "kernelspec": {
   "display_name": "Python 3 (ipykernel)",
   "language": "python",
   "name": "python3"
  },
  "language_info": {
   "codemirror_mode": {
    "name": "ipython",
    "version": 3
   },
   "file_extension": ".py",
   "mimetype": "text/x-python",
   "name": "python",
   "nbconvert_exporter": "python",
   "pygments_lexer": "ipython3",
   "version": "3.12.9"
  }
 },
 "nbformat": 4,
 "nbformat_minor": 4
}
