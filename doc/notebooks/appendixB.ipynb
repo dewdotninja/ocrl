{
 "cells": [
  {
   "cell_type": "markdown",
   "metadata": {},
   "source": [
    "การควบคุมเหมาะที่สุดและการเรียนรูู้เสริมกำลัง -- ดร.วโรดม ตู้จินดา"
   ]
  },
  {
   "cell_type": "markdown",
   "metadata": {},
   "source": [
    "# ภาคผนวก B รวมเคล็ดลับภาษาไพทอน\n",
    "\n",
    "ในภาคผนวกนี้เป็นการรวบรวมเคล็ดลับภาษาไพทอนที่ใช้ในหนังสือ \n",
    "\n",
    "\n",
    "## B.1 การตัดเฉือนเมทริกซ์เป็นเวกเตอร์\n",
    "\n",
    "การตัดเฉือนเมทริกซ์เป็นเวกเตอร์โดยคงความเป็นสองมิติไว้ สมมุติว่ามีเมทริกซ์ขนาด 2 x 3 \n"
   ]
  },
  {
   "cell_type": "code",
   "execution_count": 1,
   "metadata": {},
   "outputs": [],
   "source": [
    "import numpy as np"
   ]
  },
  {
   "cell_type": "code",
   "execution_count": 2,
   "metadata": {},
   "outputs": [
    {
     "data": {
      "text/plain": [
       "(2, 3)"
      ]
     },
     "execution_count": 2,
     "metadata": {},
     "output_type": "execute_result"
    }
   ],
   "source": [
    "M = np.random.rand(2,3) \n",
    "M.shape"
   ]
  },
  {
   "cell_type": "markdown",
   "metadata": {},
   "source": [
    "ต้องการตัดเวกเตอร์คอลัมน์แรกมาใช้งาน หากใช้ M[:,0] จะพบว่ารูปเป็นแบบ (2,) ไม่ใช่ (2,1) "
   ]
  },
  {
   "cell_type": "code",
   "execution_count": 3,
   "metadata": {},
   "outputs": [
    {
     "data": {
      "text/plain": [
       "(2,)"
      ]
     },
     "execution_count": 3,
     "metadata": {},
     "output_type": "execute_result"
    }
   ],
   "source": [
    "cvec0 = M[:,0]\n",
    "cvec0.shape"
   ]
  },
  {
   "cell_type": "markdown",
   "metadata": {},
   "source": [
    "ซึ่งเมื่อนำไปคำนวณในสมการเมทริกซ์อาจทำให้ผลไม่ถูกต้องจากการแพร่ (broadcast) \n",
    "หากต้องการให้ยังคงรูปสองมิติไว้ ต้องครอบตัวชี้ของมิติที่สองโดย [] ดังนี้"
   ]
  },
  {
   "cell_type": "code",
   "execution_count": 4,
   "metadata": {},
   "outputs": [
    {
     "data": {
      "text/plain": [
       "(2, 1)"
      ]
     },
     "execution_count": 4,
     "metadata": {},
     "output_type": "execute_result"
    }
   ],
   "source": [
    "cvec1 = M[:,[0]]\n",
    "cvec1.shape"
   ]
  },
  {
   "cell_type": "markdown",
   "metadata": {},
   "source": [
    "## B.2 เมทริกซ์แคลคูลัส\n",
    "\n",
    "รวมวิธีการที่ใช้ในบทที่ 5 เพื่อหลีกเลี่ยงการคำนวณโดยใช้เทนเซอร์\n",
    "\n",
    "สำหรับฟังก์ชัน $f(x) : \\mathbb{R}^n \\rightarrow \\mathbb{R}^m$ เมื่อพิจารณาการกระจายเทเลอร์อันดับสอง \n",
    "\n",
    "กรณี $m=1$ :\n",
    "$$\n",
    "f(x + \\Delta x) \\approx f(x) + \\frac{\\partial f}{\\partial x}\\Delta x \n",
    "+ \\frac{1}{2}\\Delta x^T \\frac{\\partial^2 f}{\\partial x^2}\\Delta x \\tag{B.1}\n",
    "$$\n",
    "\n",
    "โดย $\\frac{\\partial f}{\\partial x}$ เป็นเวกเตอร์ขนาด $1 \\times n$ และ $\\frac{\\partial^2 f}{\\partial x^2}$ \n",
    "เป็นเมทริกซ์ขนาด $n \\times n$ \n",
    "\n",
    "กรณี $m \\gt 1$ :\n",
    "$$\n",
    "f(x + \\Delta x) \\approx f(x) + \\frac{\\partial f}{\\partial x}\\Delta x \n",
    "+ \\frac{1}{2}\\Delta x^T \\frac{\\partial^2 f}{\\partial x^2}\\Delta x \\tag{B.2}\n",
    "$$\n",
    "เมื่อกระจายพจน์สุดท้ายด้านขวา\n",
    "$$\n",
    "\\frac{1}{2}\\Delta x^T \\frac{\\partial^2 f}{\\partial x^2}\\Delta x = \n",
    "\\frac{1}{2} \\Big( \\frac{\\partial}{\\partial x}\\Big[ \\frac{\\partial f}{\\partial x}\\Delta x \\Big] \\Big) \\Delta x \\tag{B.3}\n",
    "$$\n",
    "จะเห็นได้ว่าเป็นเทนเซอร์ 3 มิติ แม้ว่าจะมีแพ็กเกจเฉพาะรองรับการคำนวณโดยเทนเซอร์ได้ แต่หากต้องการใช้แพ็กเกจทั่วไปเช่น numpy, scipy หรือการคำนวณอนุพันธ์อัตโนมัติ จะต้องมีกลเม็ดในการแปลงเทนเซอร์ให้เป็นเมทริกซ์ 2 มิติ โดยใช้การดำเนินการต่อไปนี้\n",
    "\n",
    "#### ผลคูณโครเนคเกอร์ \n",
    "\n",
    "ผลคูณโครเนคเกอร์​ (Kronecker product) ของเมทริกซ์ $A$ ขนาด $l \\times m$ และ $B$ ขนาด $n \\times p$ เขียนแทนโดย\n",
    "$A \\otimes B$ คือเมทริกซ์บล็อกขนาด $ln \\times mp$ ที่เกิดจากการคูณสมาชิกทุกตัวของ $A$ กับเมทริกซ์ $B$ \n",
    "$$\n",
    "A \\otimes B = \n",
    "\\left[\\begin{array}{cccc}\n",
    "a_{11}B & a_{12}B & \\cdots & a_{1m}B \\\\\n",
    "a_{21}B & a_{22}B & \\cdots & a_{2m}B \\\\\n",
    "\\vdots & \\vdots & \\ddots & \\vdots \\\\\n",
    "a_{l1}B & a_{l2}B & \\cdots & a_{lm}B\n",
    "\\end{array}\\right] \\tag{B.4}\n",
    "$$\n",
    "\n",
    "ในบทที่ 3,4 ได้มีการใช้ผลคูณโครเนคเกอร์เพิ่มความสะดวกในการจัดรูปเมทริกซ์สำหรับปัญหา QP ที่มีลักษณะเป็นบล็อกทแยงมุม \n",
    "\n",
    "#### การแปลงเป็นเวกเตอร์\n",
    "\n",
    "กำหนดเมทริกซ์ $A$ ขนาด $l \\times m$ เขียนแยกคอลัมน์ได้เป็น\n",
    "$$\n",
    "A = \n",
    "\\left[\\begin{array}{ccccc}\n",
    "A_1 & A_2 & A_3 & \\cdots &A_m\n",
    "\\end{array}\\right] \\tag{B.5}\n",
    "$$\n",
    "การแปลงเป็นเวกเตอร์ (vectorization) เขียนแทนโดย $vec(A)$ จะให้ผลเป็นเวกเตอร์คอลัมน์ดังนี้\n",
    "$$\n",
    "vec(A) = \n",
    "\\left[\\begin{array}{c}\n",
    "A_1 \\\\\n",
    "A_2 \\\\\n",
    "A_3 \\\\\n",
    "\\vdots \\\\\n",
    "A_m\n",
    "\\end{array}\\right] \\tag{B.6}\n",
    "$$\n",
    "\n",
    "เมื่อใช้ผลคูณโครเนคเกอร์ร่วมกับการแปลงเป็นเวกเตอร์ จะได้เป็นกลเม็ดเวกเตอร์ดังนี้\n",
    "$$\n",
    "vec(ABC) = (C^T \\otimes A)vec(B) \\tag{B.7}\n",
    "$$\n",
    "สามารถใช้ในการแปลงผลคูณเมทริกซ์เป็นเวกเตอร์ ตัวอย่างเช่น\n",
    "$$\n",
    "vec(AB) = (B^T \\otimes I)vec(A) = (I \\otimes A) vec(B) \\tag{B.8}\n",
    "$$\n",
    "\n",
    "ดังนั้นในการหาอนุพันธ์ของเมทริกซ์เทียบกับเวกเตอร์ เราสามารถหลีกเลี่ยงผลลัพธ์เป็นเทนเซอร์ได้โดยแปลงเมทริกซ์เป็นเวกเตอร์ก่อน\n",
    "$$\n",
    "\\frac{\\partial A(x)}{\\partial x} = \\frac{\\partial vec(A)}{\\partial x} \\tag{B.9}\n",
    "$$\n",
    "ซึ่งจะได้ผลลัพธ์เป็นเมทริกซ์ขนาด $lm \\times n$ เราจะใช้วิธีการนี้ทุกครั้งที่หาอนุพันธ์เมทริกซ์ \n",
    "\n",
    "ในกรณีที่ต้องการหาอนุพันธ์ผ่านการสลับเปลี่ยน จะใช้เมทริกซ์ $T$ ที่เรียกว่า ตัวสลับเปลี่ยน (commutator)\n",
    "$$\n",
    "\\frac{\\partial} {\\partial x}(A^T(x)B) = (B^T \\otimes I)T\\frac{\\partial A(x)}{\\partial x} \\tag{B.10}\n",
    "$$\n",
    "โดย\n",
    "$$\n",
    "Tvec(A) = vec(A^T) \\tag{B.11}\n",
    "$$\n"
   ]
  },
  {
   "cell_type": "code",
   "execution_count": null,
   "metadata": {},
   "outputs": [],
   "source": []
  },
  {
   "cell_type": "code",
   "execution_count": null,
   "metadata": {},
   "outputs": [],
   "source": []
  },
  {
   "cell_type": "markdown",
   "metadata": {},
   "source": [
    "<div align=\"center\">\n",
    "<img src=\"https://raw.githubusercontent.com/dewdotninja/sharing-github/refs/heads/master/dewninja_logo50.jpg\" alt=\"dewninja\"/>\n",
    "</div>\n",
    "<div align=\"center\">dew.ninja 2025</div>"
   ]
  }
 ],
 "metadata": {
  "kernelspec": {
   "display_name": "Python 3",
   "language": "python",
   "name": "python3"
  },
  "language_info": {
   "codemirror_mode": {
    "name": "ipython",
    "version": 3
   },
   "file_extension": ".py",
   "mimetype": "text/x-python",
   "name": "python",
   "nbconvert_exporter": "python",
   "pygments_lexer": "ipython3",
   "version": "3.11.9"
  }
 },
 "nbformat": 4,
 "nbformat_minor": 4
}
