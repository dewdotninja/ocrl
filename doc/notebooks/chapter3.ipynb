{
 "cells": [
  {
   "cell_type": "markdown",
   "metadata": {},
   "source": [
    "การควบคุมเหมาะที่สุดและการเรียนรูู้เสริมกำลัง -- ดร.วโรดม ตู้จินดา"
   ]
  },
  {
   "cell_type": "markdown",
   "metadata": {},
   "source": [
    "# 3 การควบคุมเหมาะที่สุด\n",
    "\n",
    "หลังจากที่ได้ศึกษาเกี่ยวกับพื้นฐานการหาค่าเหมาะที่สุดในบทที่ 2 แล้ว ในบทนี้จะเริ่มต้นเข้าสู่การประุยุกต์ใช้งานในสาขาระบบควบคุม \n",
    "ซึ่งเป็นสาระสำคัญของหนังสือนี้ ดังที่ได้กล่าวแนะนำในบทแรกแล้วว่า \n",
    "แนวทางในการออกแบบและสร้างตัวควบคุมสมัยใหม่แตกต่างจากเดิมที่ใช้ตัวควบคุมที่มีโครงสร้างแน่นอน \n",
    "เช่นอยู่ในรูปของการป้อนกลับสถานะหรือเอาต์พุตผ่านอัตราขยายหรือสัมประสิทธิ์ฟังก์ชันถ่ายโอนที่เป็นค่าคงที่ \n",
    "โดยตัวควบคุมผ่านการออกแบบโดยวิธีการต่างๆ หรือหากเป็นตัวควบคุม PID \n",
    "จะอาศัยการปรับแต่งค่าพารามิเตอร์แบบออฟไลน์โดยผู้ใช้งานเพื่อได้ผลตอบสนองตามต้องการ \n",
    "การควบคุมปรับตัว (adaptive control) จะมีความยืดหยุ่นเพิ่มขึ้นโดยสามารถปรับค่าพารามิเตอร์อัตโนมัติในขณะทำงาน \n",
    "กล่าวได้ว่าเป็นการเรียนรู้ในรูปแบบหนึ่ง \n",
    "โดยบางวิธีการอาจมีความใกล้เคียงกับแนวทางที่นำเสนอในหนังสือนี้แต่อาจไม่ได้ถูกจัดรูปให้มองเห็นความสัมพันธ์อย่างชัดจน \n",
    "\n",
    "แท้จริงแล้วแนวทางการควบคุมเหมาะที่สุดมิได้เกิดขึ้นในยุคปัจจุบัน แต่เริ่มต้นตั้งแต่ในสมัยทศวรรษที่ 60 \n",
    "ของคริสต์ศักราช  เมื่อเริ่มมีการใช้คอมพิวเตอร์ช่วยในการวิเคราะห์และออกแบบระบบควบคุมในรูปปริภูมิสถานะ \n",
    "โดยการควบคุมป้อนกลับสถานะที่เรียกว่า ตัวควบคุมกำลังสองเชิงเส้น (linear quadratic regulator) \n",
    "ซึ่งต่อไปจะเรียกชื่อย่อว่า LQR ตัวกรองคาลมาน (Kalman filter หรือ KF) หรือรวมกันเรียกว่า \n",
    "ตัวควบคุมกำลังสองแบบเกาส์เซียน (linear quadratic gaussian หรือ LQG) ล้วนมีพื้นฐานบนวิธีการหาค่าเหมาะที่สุด \n",
    "เพียงแต่สมรรถนะของคอมพิวเตอร์ในสมัยนั้นไม่เพียงพอที่จะแก้ปัญหาเหมาะที่สุดแบบเรียลไทม์ ดังนั้น LQR, KF, LQG \n",
    "จะถูกสังเคราะห์แบบออฟไลน์เป็นอัตราขยายหรือฟังก์ชันถ่ายโอนคงที่ และอิมพลิเมนต์เป็นตัวควบคุมป้อนกลับที่ไม่มีการปรับแต่ง \n",
    "ในขณะใช้งาน ในขณะที่การแก้ปัญหาเหมาะที่สุดแบบออนไลน์ในการควบคุมแบบทำนายโมเดล (model predictive control หรือ MPC) \n",
    "มีการใช้งานจำกัดเฉพาะในระบบที่ตอบสนองช้าเช่นกระบวนการทางเคมี เนื่องจากการหาคำตอบแบบออนไลน์ต้องใช้เวลานาน \n",
    "\n",
    "เนื้อหาหลักในบทนี้ยังคงตามรอย [1] เสริมด้วยรายละเอียดจาก [2],[3]\n",
    "\n",
    "## 3.1 การควบคุมเหมาะที่สุดแบบเชิงกำหนด\n",
    "\n",
    "ประเด็นสำคัญที่แตกต่างระหว่างตัวควบคุมเหมาะที่สุดกับตัวควบคุมที่อาศัยการปรับแต่งพารามิเตอร์เช่น PID คือ \n",
    "ในการควบคุมเหมาะที่สุดเราจะกำหนดดรรชนีที่เป็นตัวชี้วัดว่าตัวควบคุมทำงานได้ดีมากน้อยเพียงใด เช่น \n",
    "ความแตกต่างในการตามรอยแนววิถีที่กำหนด ความเร็วในการทำงาน หรือดรรชนีอื่นตามต้องการ \n",
    "\n",
    "เริ่มต้นจากปัญหาการควบคุมเหมาะที่สุดแบบเชิงกำหนด (deterministic) \n",
    "ที่การหาคำตอบจะคงเดิมโดยไม่คำนึงถึงความไม่แน่นอนในตัวแปรเช่นสัญญาณรบกวน \n",
    "การควบคุมแบบเชิงกำหนดยังใช้ประโยชน์ได้มากสำหรับโจทย์ทั่วไปในสาขาระบบควบคุม \n",
    "เนื่องจากการรบกวนประเภทต่างๆ มีขนาดเล็กเมื่อเทียบกับสัญญาณคำสั่งอ้างอิง \n",
    "ส่วนความไม่แน่นอนในการโมเดลก็มิได้เป็นแบบสโทแคสติก (stochastic)\n",
    "เพราะค่าผิดพลาดระหว่างพลวัตจริงกับโมเดลไม่ใช่ค่าสุ่ม \n",
    "\n",
    "### 3.1.1 รูปแบบปัญหาในโดเมนเวลาต่อเนื่อง\n",
    "\n",
    "ตัวอย่างของโจทย์ปัญหาการควบคุมเหมาะที่สุดแบบเชิงกำหนดเป็นดังนี้ \n",
    "$$\n",
    "\\underset{x(t),u(t)}{min} \\; J(x(t),u(t)) = \\int_{t_0}^{t_f} l(x(t),u(t))\\,dt + l_F(x(t_f))  \n",
    "$$\n",
    "$$\n",
    "s.t. \\;\\; \\dot{x}(t) = f(x(t),u(t)),\n",
    "$$\n",
    "$$\n",
    "\\;\\; U_{min} \\le u(t) \\le U_{max} \\;\\; หรือ \\;\\; u(t) \\in \\mathscr{U}, \n",
    "$$\n",
    "$$\n",
    "\\;\\; c(x(t)) \\ge 0 \\tag{3.1}\n",
    "$$\n",
    "\n",
    "บรรทัดแรกคือฟังก์ชันมูลค่าซึ่งเป็นตัวชี้วัดสมรรถนะ ประกอบด้วยพจน์แรกที่อยู่ในปริพันธ์เรียกว่า มูลค่าขั้น (stage cost) และพจน์สุดท้ายคือ มูลค่าปลาย (terminal cost)\n",
    "\n",
    "การหาคำตอบคือคำนวณหาเอาต์พุตตัวควบคุมที่ทำให้ฟังก์ชันมูลค่านั้นน้อยที่สุด ใช้เอาต์พุตนั้นเป็นตัวขับเคลื่อนพลานต์ \n",
    "คือระบบที่ต้องการควบคุม \n",
    "\n",
    "ดังนั้นพลวัตของพลานต์เป็นเงื่อนไขบังคับสำคัญสำหรับปัญหาการควบคุมเหมาะที่สุด \n",
    "ซึ่งจะอยู่ในรูปเงื่อนไขบังคับสมการ นอกจากนั้นอาจมีเงื่อนไขบังคับอสมการเพิ่มเติม เช่นการจำกัดค่าของเอาต์พุตควบคุม เขียนได้ในรูปแบบขอบเขตล่างและบน $U_{min} \\le u(t) \\le U_{max}$หรือในกรณีทั่วไปคืออยู่ในเซตที่เป็นไปได้ $u(t) \\in \\mathscr{U}$\n",
    "ส่วนเงื่อนไขอื่นเช่นการจำกัดค่าสถานะหรือเอาต์พุตเพิ่อมิให้ชนกับสิ่งกีดขวาง เขียนในรูปทั่วไปคือ $c(x(t)) \\ge 0$  เพื่อสอดคล้องกับสัญนิยมที่ใช้ในบทที่ 2 โดยหากการจำกัดค่าอยู่ในรูป $\\tilde{c}(x(t)) \\le 0$ \n",
    "เพียงแต่กลับเครื่องหมาย $\\tilde{c}(x(t)) = -c(x(t))$ เท่านั้น\n",
    "\n",
    "**หมายเหตุ :** สำหรับผู้อ่านที่คุ้นเคยกับปัญหาการเรียนรู้เสริมกำลัง (ต่อไปจะเรียกย่อว่า RL)  ประเด็นสำคัญและคำศัพท์ที่แตกต่างพอสรุปได้คือ\n",
    "\n",
    "* ฟังก์ชันวัตถุประสงค์ในปัญหา RL อยู่ในรูปของรางวัล โดยต้องการหาค่าสูงสุดของรางวัลที่ได้รับ\n",
    "* เอาต์พุตของตัวควบคุมถูกเรียกว่าการกระทำ (action) หรือนโยบาย (policy)\n",
    "* พลานต์หรือพลวัตที่ต้องการควบคุมถูกเรียกว่าสภาพแวดล้อม (environment)\n",
    "* ใช้คำว่า ตัวกระทำ (agent) แทนตัวควบคุม\n",
    "* การเรียนรู้ในปัญหา RL ส่วนใหญ๋เป็นแบบออฟไลน์ ไม่มีเงื่อนไขเคร่งครัดด้านเวลาในการหาคำตอบ โดยฟังก์ชันวัตถุประสงค์เป็นแบบไม่เป็นเชิงเส้นและมักไม่เป็นแบบคอนเวกซ์ อาจมีตัวแปรตัดสินใจจำนวนมาก \n",
    "* ปัญหา RL โดยทั่วไปไม่จำเป็นต้องทำงานบนระบบที่ทรัพยากรจำกัด เช่นระบบฝังตัว   \n",
    "\n",
    "ข้อสังเกตสำหรับโจทย์ปัญหา (3.1)\n",
    "\n",
    "* ปัญหาการควบคุมเหมาะที่สุดในโดเมนเวลาต่อเนื่องมักถูกเรียกว่า มิติอนันต์ (infinite dimensional) มีที่มาจากกรณีของระบบดีสครึต (ที่เราจะให้ความสำคัญมากกว่า) จะเรียกแต่ละค่าของตัวแปร $x, u$ ว่า จุดเงื่อน (knot points) เหมือนที่ใช้ในฟังก์ชันเสมือนพหุนาม (spline functions) ในระบบเวลาต่อเนื่องเปรียบได้กับการเพิ่มจุดเงื่อนมากขึ้นจนเข้าสู่อนันต์\n",
    "* คำตอบจะอยู่ในรูปแนววิถีวงเปิด (open-loop trajectories) ของ $x, u$ โดยไม่มีการควบคุมป้อนกลับ ซึ่งจะแตกต่างจากกรณีสโทแคสติก\n",
    "* ในบางปัญหาจะได้คำตอบเชิงวิเคราะห์ (analytic solutions) แต่มีไม่มากนัก\n",
    "\n",
    "### 3.1.2 รูปแบบปัญหาในโดเมนเวลาดีสครีต\n",
    "\n",
    "ตัวอย่างของปัญหาการควบคุมเหมาะที่สุดในโดเมนเวลาดีสครีตเขียนได้ดังนี้\n",
    "\n",
    "$$\n",
    "\\underset{x_{1:N},u_{1:N-1}}{min} \\; J(x_{1:N},u_{1:N-1}) =  \\sum_{k=1}^{N-1}l(x_k,u_k) + l_F(x_N)\n",
    "$$\n",
    "$$\n",
    "s.t. \\;\\; x_{k+1} = f(x_k,u_k),\n",
    "$$\n",
    "$$\n",
    "\\;\\; U_{min} \\le u_k \\le U_{max} \\;\\; หรือ \\;\\; u_k \\in \\mathscr{U} \\;\\; \\forall k, \n",
    "$$\n",
    "$$\n",
    "\\;\\; c(x_k) \\ge 0 \\;\\; \\forall k \\tag{3.2}\n",
    "$$\n",
    "\n",
    "โดยคำอธิบายสำหรับพจน์ทั้งหมดสอดคล้องกับกรณีเวลาต่อเนื่อง (3.1) เพียงแต่ค่าตัวแปรอยู่ในรูปของตัวอย่าง (samples) จำนวน $N$ ค่าสำหรับ $x_k$ และ $N-1$ ค่าสำหรับ $u_k$ พลวัตที่เป็นเงื่อนไขสมการและการจำกัดค่าในเงื่อนไขอสมการอยู่ในรูปดีสครีตทั้งหมด \n",
    "\n",
    "ข้อสังเกตสำหรับ (3.2)\n",
    "\n",
    "* ปัญหานี้เรียกว่ามิติจำกัด (finite dimensional)\n",
    "* ค่าตัวอย่าง $x_k, u_k$ มักถูกเรียกว่าจุดเงื่อน\n",
    "* การแปลงปัญหาจากเวลาต่อเนื่องเป็นดีสครีตทำได้โดยการประมาณค่าปริพันธ์วิธีต่างๆ เช่น ผลต่างข้างหน้า/ย้อนหลัง การแปลงเชิงเส้นคู่ หรือวิธีรุงเงคุตตา (Runge-Kutta)  \n",
    "* การแปลงปัญหาจากเวลาดีสครีตเป็นต่อเนื่องทำได้โดยการประมาณค่าในช่วง (interpolation)"
   ]
  },
  {
   "cell_type": "markdown",
   "metadata": {
    "vscode": {
     "languageId": "plaintext"
    }
   },
   "source": [
    "### 3.1.3 หลักการค่าต่ำสุดของพอนเทรียกิน\n",
    "\n",
    "วิธีการแรกในการหาคำตอบเหมาะที่สุดอาศัยหลักการหาค่าต่ำสุดของพอนเทรียกิน (Pontryagin's minimum principle) \n",
    "ซึ่งมีต้นกำเนิดจากนักคณิตศาสตร์ชาวรัสเซีย Lev Semyonovich Pontryagin ในปี ค.ศ. 1956 \n",
    "(ชื่อเรียกในช่วงต้นกำเนิดคือการหาค่าสูงสุดของพอนเทรียกิน) โดยกล่าวถึงการแก้ปัญหาที่เรียกว่าระบบฮามิลโทเนียน (Hamiltonian) \n",
    "ซึ่งเป็นปัญหาค่าขอบ 2 จุด (two-point boundary value problem) \n",
    "และเป็นเงื่อนไขจำเป็นอันดับหนึ่งสำหรับระบบควบคุมเหมาะที่สุดแบบเชิงกำหนด ในระบบดีสครีตเป็นกรณีพิเศษของเงื่อนไข KKT\n",
    "\n",
    "**หมายเหตุ :** การอนุพัทธ์ดั้งเดิมกระทำในโดเมนเวลาต่อเนื่องโดยอาศัยแคลคูลัสการแปรผัน (calculus of variation) \n",
    "ซึ่งมีความเป็นคณิตศาสตร์ค่อนข้างมาก ดังนั้นแนวทางใน [1] จะอนุพัทธ์ในโดเมนดีสครีต  \n",
    "และหากต้องการแปลงเป็นผลในเวลาต่อเนื่องทำได้โดยลิมิตขั้นเวลาสู่ศูนย์ วิธีการนี้อาจไม่ถูกใจผู้ที่เคร่งทางคณิตศาสตร์เพราะจะมีปัญหาทางเทคนิคเล็กน้อยเช่นจุดไม่ต่อเนื่องของฟังก์ชัน แต่ไม่ใช่ปัญหาหลักด้านการประยุกตฺ์ใช้งาน \n",
    "\n",
    "จาก (3.2) เพื่อความง่ายในการอธิบายจะละทิ้งเงื่อนไขอสมการสำหรับ $x_k$ สร้างลากรานเจียนดังนี้\n",
    "$$\n",
    "L = \\sum_{k=1}^{N-1}l(x_k,u_k) + \\lambda_{k+1}^T(f(x_k,u_k)-x_{k+11})+l_F(x_k) \\tag{3.3}\n",
    "$$\n",
    "\n",
    "ในการอนุพัทธ์มักจะสร้างพจน์ที่เรียกว่าฮามิลโทเนียน\n",
    "$$\n",
    "H(x,u,\\lambda) = l(x,u) + \\lambda^T f(x,u) \\tag{3.4}\n",
    "$$\n",
    "\n",
    "เมื่อใช้ค่า $H$ ใน $L$ และใช้กลเม็ดในการดึงพจน์ออกจากผลรวมและเปลี่ยนค่าตัวชี้ จะได้ผลดังนี้ \n",
    "$$\n",
    "L = H(x_1,u_1,\\lambda_2) + \\left[\\sum_{k=2}^{N-1}H(x_k,u_k,\\lambda_{k+1})\n",
    "-\\lambda_k^Tx_k\\right] + l_F(x_N) - \\lambda_N^Tx_N \\tag{3.5}\n",
    "$$\n",
    "\n",
    "โดยขั้นตอนเดิมเมื่อต้องการใช้วิธีนิวตัน คือหาอนุพันธ์ย่อยของ $L$ เทียบกับ $\\lambda_k, x_k, x_N$ และให้เท่ากับศูนย์\n",
    "\n",
    "$$\n",
    "\\frac{\\partial L}{\\partial \\lambda_k} = \\frac{\\partial H}{\\partial \\lambda_k} - x_{k+1} = \n",
    "f(x_k, u_k) - x_{k+1} = 0 \\tag{3.6}\n",
    "$$\n",
    "$$\n",
    "\\frac{\\partial L}{\\partial x_k} = \\frac{\\partial H}{\\partial x_k} - \\lambda_{k}^T = \n",
    "\\frac{\\partial l(x_k,u_k)}{\\partial x_k} + \n",
    "\\lambda_{k+1}^T\\frac{\\partial f(x_k,u_k)}{\\partial x_k} -\\lambda_k^T  = 0 \\tag{3.7}\n",
    "$$\n",
    "$$\n",
    "\\frac{\\partial L}{\\partial x_N} = \\frac{\\partial l_F(x_N)}{\\partial x_N} - \\lambda_N^T = 0 \\tag{3.8}\n",
    "$$\n",
    "\n",
    "ส่วนสำหรับสมการของ $u_k$ เราจะเขียนในรูปการหาค่าต่ำสุดเพื่อความสะดวกในการจัดการกับเงื่อนไขอสมการ\n",
    "\n",
    "$$\n",
    "u_k = \\underset{u}{arg min} \\; H(x_k, u, \\lambda_{k+1})\n",
    "$$\n",
    "$$\n",
    "s.t \\;\\; u \\in \\mathscr{U} \\tag{3.9}\n",
    "$$\n",
    "\n",
    "สรุปจาก (3.6)-(3.9) ได้ความสัมพันธ์ดังนี้\n",
    "\n",
    "$$\n",
    "x_{k+1} = \\nabla_\\lambda H(x_k, u_k, \\lambda_{k+1}) \\tag{3.10}\n",
    "$$\n",
    "$$\n",
    "\\lambda_{k} = \\nabla_x H(x_k, u_k, \\lambda_{k+1}) \\tag{3.11}\n",
    "$$\n",
    "$$\n",
    "u_k = \\underset{u}{arg min} \\; H(x_k, u, \\lambda_{k+1})\n",
    "$$\n",
    "$$\n",
    "s.t \\;\\; u \\in \\mathscr{U} \\tag{3.12}\n",
    "$$\n",
    "$$\n",
    "\\lambda_N = \\frac{\\partial l_F(x_N)}{\\partial x_N} \\tag{3.13}\n",
    "$$\n",
    "\n",
    "โดยวิธีการหาลิมิต สามารถบรรยายในระบบเวลาต่อเนื่องได้เป็นดังนี้\n",
    "\n",
    "$$\n",
    "\\dot{x} = \\nabla_\\lambda H(x, u, \\lambda) \\tag{3.14}\n",
    "$$\n",
    "$$\n",
    "-\\dot{\\lambda} = \\nabla_x H(x, u, \\lambda) \\tag{3.15}\n",
    "$$\n",
    "$$\n",
    "u = \\underset{u}{arg min} \\; H(x, \\tilde{u}, \\lambda)\n",
    "$$\n",
    "$$\n",
    "s.t \\;\\; \\tilde{u} \\in \\mathscr{U} \\tag{3.16}\n",
    "$$\n",
    "$$\n",
    "\\lambda(t_f) = \\frac{\\partial l_F}{\\partial x} \\tag{3.17}\n",
    "$$\n",
    "\n",
    "ข้อสังเกต\n",
    "\n",
    "* วิธีการนี้มีรูปแบบของปัญหาค่าขอบ 2 จุด คือหาค่า $x$ ในทิศทางข้างหน้าโดยหาปริพันธ์ของสมการอนุพันธ์\n",
    "และหาค่า $\\lambda$ ในทิศทางย้อนหลังโดยการลดค่าเกรเดียนต์ \n",
    "ซึ่งมีอัลกอริทึมหลายประเภทที่ใช้แนวทางนี้ ตัวอย่างหนึ่งคือการแพร่กระจายย้อนหลัง (back propagation) .ในการเรียนรู้เชิงลึก \n",
    "* วิธีการนี้มีชื่อเรียกว่า วิธีโดยอ้อม (indirect method) หรือ วิธีการยิงโดยอ้อม (indirect shooting)\n",
    "* ในระบบเวลาต่อเนื่อง $\\lambda(t)$ มีชื่อเรียกว่าแนววิถีสถานะร่วม (costate)\n",
    "* วิธีการนี้มีข้อด้อยในการคำนวณ โดยใช้เวลามากและประสบปัญหาเชิงเลขในแบบเดียวกับที่พบในโครงข่ายประสาทเทียม \n",
    "คือการเพิ่มค่าอย่างมากหรือหายไปของเกรเดียนต์ นอกจากนั้นยังไม่สามารถจัดการกับเงื่อนไขบังคับอสมการได้โดยตรง \n",
    "ดังนั้นความนิยมเริ่มลดลงสวนทางกับการพัฒนาด้านคอมพิวเตอร์ เพราะปัจจุบันการคำนวณแบบอื่นเช่นวิธีนิวตันให้ผลดีกว่า\n"
   ]
  },
  {
   "cell_type": "markdown",
   "metadata": {},
   "source": [
    "## 3.2 ตัวควบคุมกำลังสองเชิงเส้น\n",
    "\n",
    "ตัวควบคุมกำลังสองเชิงเส้นหรือ LQR \n",
    "เรียกได้ว่าเป็นกรณีพิเศษของการควบคุมเหมาะที่สุดแบบเชิงกำหนดที่มีความสำคัญและมีประโยชน์อย่างยิ่ง \n",
    "เนื่องจากสามารถหาคำตอบได้ในรูปปิด (สำหรับปัญหาขั้นพื้นฐานที่ไม่มีเงื่อนไขบังคับอสมการ) รูปแบบของปัญหาเขียนได้ดังนี้\n",
    "\n",
    "$$\n",
    "\\underset{x_{1:N},u_{1:N-1}}{min} \\; J =  \n",
    "\\sum_{k=1}^{N-1}\\frac{1}{2}x_k^TQ_kx_k + \\frac{1}{2}u_k^TR_ku_k \n",
    "+ \\frac{1}{2}x_N^TQ_Nx_N\n",
    "$$\n",
    "$$\n",
    "s.t. \\;\\; x_{k+1} = A_kx_k + B_ku_k, \\;\\; Q_k \\succcurlyeq 0, \\;\\; R_k \\succ 0 \\tag{3.18}\n",
    "$$\n",
    "\n",
    "โดย $Q_k, R_k$ คือเมทริกซ์ให้ค่าน้ำหนักกับสถานะและเอาต์พุตควบคุมตามลำดับ \n",
    "ซึ่งมีคุณสมบัติทำให้ปัญหาเป็นแบบคอนเวกซ์ $Q_k$ \n",
    "เป็นแบบกึ่งบวกแน่นอนเพราะเรายอมให้ค่าน้ำหนักของสถานะบางตัวเป็นศูนย์ได้ \n",
    "แต่ $R_k$ ต้องเป็นแบบบวกแน่นอนเสมอ เพราะหากไม่มีการให้ค่าน้ำหนักกับเอาต์พุตตัวควบคุม \n",
    "ในการคำนวณคำตอบที่มีค่าต่ำสุด อัลกอรึทึมจะโกงในการหาคำตอบโดยการใช้ $u_k$ สูงมากเข้าสู่อนันต์ \n",
    "กลายเป็นปัญหาที่สร้างขึ้นอย่างไม่เหมาะสม​ (ill-posed) แม้ในทางปฏิบัติอาจใช้การจำกัดค่า $u$ โดยเงื่อนไขอสมการ แต่เป็นวิธีการที่นอกเหนือจากปัญหา LQR พื้นฐานที่กล่าวถึงในหัวข้อนี้\n",
    "\n",
    "สำหรับพลวัตที่เป็นเงื่อนไขสมการจะเห็นว่าอยู่ในรูปเชิงเส้น \n",
    "ซึ่งอาจเป็นการประมาณค่าจากพลวัตไม่เป็นเชิงเส้นเฉพาะที่รอบจดทำงาน ตัวอย่างเช่นในการควบคุมลูกตุ้มหัวกลับ \n",
    "(invert pendulum) สามารถประมาณค่าพลวัต ณ จุดสมดุลที่ไม่เสถียร (เมื่อลูกตุ้มอยู่ในตำแหน่งหัวกลับในแนวดิ่ง) \n",
    "เป็นพลวัตเชิงเส้นได้เมื่อการเบี่ยงเบนของมุมก้านต่อมีค่าน้อย และใช้ LQR ในการสร้างสมดุล\n",
    "\n",
    "จากปัญหา LQR พื้นฐานนี้สามารถขยายได้หลายรูปแบบ เช่นแนวนอนอนันต์ (infinite horizon) สโทแคสติก \n",
    "และปัญหา LQR จะเรียกว่าเป็นแบบไม่แปรเปลี่ยนตามเวลา (time invariant) เมื่อเมทริกซ์เป็นค่าคงที่ \n",
    "กล่าวคือ $A_k = A, B_k = B, Q_k = Q, R_k = R, \\forall k$ เพื่อความง่ายจะใช้ในตัวอย่างด้านล่าง\n",
    "\n",
    "### 3.2.1 การหาคำตอบโดยวิธีการยิงโดยอ้อม\n",
    "\n",
    "ในการแก้ปัญหา LQR โดยวิธีการยิงโดยอ้อมที่อธิบายในหัวข้อ 3.1.3 เราใช้ความสัมพันธ์ดังนี้\n",
    "\n",
    "$$\n",
    "x_{k+1} = \\nabla_\\lambda H(x_k, u_k, \\lambda_{k+1}) = Ax_k + Bu_k \\tag{3.19}\n",
    "$$\n",
    "$$\n",
    "\\lambda_k = \\nabla_x H(k_k, u_k, \\lambda_{k+1}) = Qx_k + A^T\\lambda_{k+1} \\tag{3.20}\n",
    "$$\n",
    "$$\n",
    "\\lambda_N = Q_Nx_N \\tag{3.21}\n",
    "$$\n",
    "$$\n",
    "u_k = \\nabla_u H(x_k, u_k, \\lambda_{k+1}) = 0 \\Rightarrow - R^{-1}B^T\\lambda_{k+1} \\tag{3.22}\n",
    "$$\n",
    "\n",
    "เค้าโครงของอัลกอริทึมการยิงโดยอ้อมเป็นดังนี้\n",
    "\n",
    "<hr>\n",
    "\n",
    "1. คาดเดาค่าเริ่มต้น $u_{1:N-1}$ โดยอาจเริ่มจากค่าศูนย์ทั้งหมด\n",
    "2. จำลองโดยการแผ่ออก (rollout) ในทิศทางข้างหน้า เพื่อหาค่า $x_{1:N}$\n",
    "3. คำนวณย้อนกลับเพื่อหาค่า $\\lambda, \\Delta u$\n",
    "4. แผ่ออกค่า $\\Delta u$ โดยมีการค้นหาตามเส้น\n",
    "5. ไปที่ขั้นตอน 3. จนกว่าจะลู่เข้า\n",
    "\n",
    "    <hr>\n",
    "    \n",
    "**ตัวอย่าง 3.1** ต้องการใช้ตัวควบคุม LQR กับระบบปริพันธ์คู่ (double integrator)\n",
    "$$\n",
    "\\dot{x} = \n",
    "\\left[\\begin{array}{c}\n",
    "\\dot{q} \\\\\n",
    "\\ddot{q}\n",
    "\\end{array}\\right] = \n",
    "\\left[\\begin{array}{cc}\n",
    "0 & 1 \\\\\n",
    "0 & 0 \n",
    "\\end{array}\\right] \n",
    "\\left[\\begin{array}{c}\n",
    "q \\\\\n",
    "\\dot{q}\n",
    "\\end{array}\\right] + \n",
    "\\left[\\begin{array}{c}\n",
    "0 \\\\\n",
    "1\n",
    "\\end{array}\\right]u \\tag{3.23}\n",
    "$$\n",
    "เราอาจมองระบบนี้เป็นเสมือนก้อนอิฐบล็อกที่เลื่อนไปบนพื้นน้ำแข็งโดยไม่มีแรงเสียดทาน \n",
    "สถานะ $[q, \\dot{q}]^T$ คือค่าตำแหน่งและความเร็วของก้อนอิฐ และ $u$ \n",
    "คือแรงที่กระทำ เราสามารถแปลงสมการปริภูมิสถานะนี้เป็นระบบดีสครีตได้เมื่อกำหนดคาบเวลาการสุ่ม $h$\n",
    "$$\n",
    "x_{k+1} =  Ax_k + Bu_k = \n",
    "\\left[\\begin{array}{cc}\n",
    "1 & h \\\\\n",
    "0 & 1 \n",
    "\\end{array}\\right] \n",
    "\\left[\\begin{array}{c}\n",
    "q_k \\\\\n",
    "\\dot{q}_k\n",
    "\\end{array}\\right] + \n",
    "\\left[\\begin{array}{c}\n",
    "\\frac{1}{2}h^2 \\\\\n",
    "h\n",
    "\\end{array}\\right]u_k \\tag{3.24}\n",
    "$$\n",
    "\n",
    "นำเข้าแพ็กเกจที่ใช้งาน "
   ]
  },
  {
   "cell_type": "code",
   "execution_count": 1,
   "metadata": {},
   "outputs": [],
   "source": [
    "import numpy as np \n",
    "import matplotlib.pyplot as plt \n",
    "from numpy.linalg import norm, solve"
   ]
  },
  {
   "cell_type": "markdown",
   "metadata": {},
   "source": [
    "สร้างพลวัตของพลานต์ (3.24) โดยกำหนดคาบเวลา $h = 0.1$ วินาที"
   ]
  },
  {
   "cell_type": "code",
   "execution_count": 2,
   "metadata": {},
   "outputs": [],
   "source": [
    "# Discrete dynamics\n",
    "h = 0.1  # time step\n",
    "A = np.array([[1,h],[0,1]])\n",
    "B = np.array([0.5*h*h, h]).reshape(2,1)"
   ]
  },
  {
   "cell_type": "markdown",
   "metadata": {},
   "source": [
    "สร้างเวกเตอร์ช่วงเวลาที่ต้องการพล็อตสถานะตามต้องการ ในตัวอย่างนี้กำหนดเท่ากับ 10 วินาที"
   ]
  },
  {
   "cell_type": "code",
   "execution_count": 3,
   "metadata": {},
   "outputs": [],
   "source": [
    "n = 2     # number of state\n",
    "m = 1     # number of controls\n",
    "Tfinal = 10.0 # final time #try larger values\n",
    "N = int(Tfinal/h)+1    # number of time steps\n",
    "thist = np.arange(0,h*(N-1),h)"
   ]
  },
  {
   "cell_type": "markdown",
   "metadata": {},
   "source": [
    "กำหนดการให้น้ำหนักในฟังก์ชันมูลค่า ทดลองเปลี่ยนค่าได้ตามต้องการ เพียงสอดคล้องเงื่อนไขใน (3.18)"
   ]
  },
  {
   "cell_type": "code",
   "execution_count": 4,
   "metadata": {},
   "outputs": [],
   "source": [
    "# Cost weights\n",
    "Q = 1.0*np.eye(2)\n",
    "R = 0.1\n",
    "Rmat = np.array(R).reshape(1,1)  # used in solve\n",
    "Qn = 1.0*np.eye(2)"
   ]
  },
  {
   "cell_type": "markdown",
   "metadata": {},
   "source": [
    "นิยามฟังก์ชัน J() สำหรับคำนวณมูลค่า และ rollout() ในการคำนวณ $x$ ในทิศทางข้างหน้า"
   ]
  },
  {
   "cell_type": "code",
   "execution_count": 5,
   "metadata": {},
   "outputs": [],
   "source": [
    "def J(xhist, uhist):\n",
    "    xend = xhist[:,-1]\n",
    "    cost = 0.5*xend.T@Qn@xend\n",
    "    for k in range(N-1):\n",
    "        xk = xhist[:,k]\n",
    "        uk = uhist[k]\n",
    "        cost = cost + 0.5*xk.T@Q@xk + 0.5*uk*R*uk\n",
    "    return cost"
   ]
  },
  {
   "cell_type": "code",
   "execution_count": 6,
   "metadata": {},
   "outputs": [],
   "source": [
    "def rollout(xhist, uhist):\n",
    "    xnew = np.zeros(xhist.shape)\n",
    "    xnew[:,0] = xhist[:,0]\n",
    "    for k in range(N-1):\n",
    "        xnew[:,[k+1]] = A@xnew[:,[k]] + B*uhist[k]\n",
    "    return xnew"
   ]
  },
  {
   "cell_type": "markdown",
   "metadata": {},
   "source": [
    "<hr>\n",
    "\n",
    "**เสริมเคล็ดลับภาษาไพทอน**\n",
    "\n",
    "การตัดเฉือนเมทริกซ์เป็นเวกเตอร์โดยคงความเป็นสองมิติไว้ สมมุติว่ามีเมทริกซ์ขนาด 2 x 3 "
   ]
  },
  {
   "cell_type": "code",
   "execution_count": 7,
   "metadata": {},
   "outputs": [
    {
     "data": {
      "text/plain": [
       "(2, 3)"
      ]
     },
     "execution_count": 7,
     "metadata": {},
     "output_type": "execute_result"
    }
   ],
   "source": [
    "M = np.random.rand(2,3) \n",
    "M.shape"
   ]
  },
  {
   "cell_type": "markdown",
   "metadata": {},
   "source": [
    "ต้องการตัดเวกเตอร์คอลัมน์แรกมาใช้งาน หากใช้ M[:,0] จะพบว่ารูปเป็นแบบ (2,) ไม่ใช่ (2,1) "
   ]
  },
  {
   "cell_type": "code",
   "execution_count": 17,
   "metadata": {},
   "outputs": [
    {
     "data": {
      "text/plain": [
       "(2,)"
      ]
     },
     "execution_count": 17,
     "metadata": {},
     "output_type": "execute_result"
    }
   ],
   "source": [
    "cvec0 = M[:,0]\n",
    "cvec0.shape"
   ]
  },
  {
   "cell_type": "markdown",
   "metadata": {},
   "source": [
    "ซึ่งเมื่อนำไปคำนวณในสมการเมทริกซ์อาจทำให้ผลไม่ถูกต้องจากการแพร่ (broadcast) \n",
    "หากต้องการให้ยังคงรูปสองมิติไว้ ต้องครอบตัวชี้ของมิติที่สองโดย [] ดังนี้"
   ]
  },
  {
   "cell_type": "code",
   "execution_count": 15,
   "metadata": {},
   "outputs": [
    {
     "data": {
      "text/plain": [
       "(2, 1)"
      ]
     },
     "execution_count": 15,
     "metadata": {},
     "output_type": "execute_result"
    }
   ],
   "source": [
    "cvec1 = M[:,[0]]\n",
    "cvec1.shape"
   ]
  },
  {
   "cell_type": "markdown",
   "metadata": {},
   "source": [
    "<hr>"
   ]
  },
  {
   "cell_type": "markdown",
   "metadata": {},
   "source": [
    "คาดเดาค่าเริ่มต้นและคำนวณมูลค่าเริ่มต้น"
   ]
  },
  {
   "cell_type": "code",
   "execution_count": 7,
   "metadata": {},
   "outputs": [
    {
     "data": {
      "text/plain": [
       "50.5"
      ]
     },
     "execution_count": 7,
     "metadata": {},
     "output_type": "execute_result"
    }
   ],
   "source": [
    "# Initial condiations\n",
    "x0 = np.array([[1.0],[0]])\n",
    "# Initial guess\n",
    "xhist = np.repeat(x0,N,axis=1)\n",
    "uhist = np.zeros((N-1))\n",
    "du = np.ones((N-1))\n",
    "lambdahist = np.zeros((n,N))\n",
    "\n",
    "xhist = rollout(xhist, uhist) # initial rollout to get state trajectory\n",
    "J(xhist,uhist)  # initial cost"
   ]
  },
  {
   "cell_type": "markdown",
   "metadata": {},
   "source": [
    "เซลล์ด้านล่างนี้คือการคำนวณตามขั้นตอน 3,4 วนซ้ำในทิศทางย้อนหลังและข้างหน้าจนกว่าจะลู่เข้า \n",
    "ซึ่งจะใช้เวลานาน (บนคอมพิวเตอร์ผู้เขียนใช้เวลาร่วมหนึ่งนาที) "
   ]
  },
  {
   "cell_type": "code",
   "execution_count": 8,
   "metadata": {},
   "outputs": [],
   "source": [
    "# Warning : This cell takes quite long time to finish\n",
    "b = 1e-2 #line search tolerance\n",
    "α = 1.0\n",
    "iter = 0\n",
    "while np.max(abs(du))>1e-2: # terminate when gradient is small enough\n",
    "    # backward pass to compute lambda and du\n",
    "    lambdahist[:,[N-1]] = Qn @xhist[:,[N-1]]\n",
    "    for k in range(N-1,0,-1):\n",
    "        du[k-1] = -(uhist[k-1] + solve(Rmat, B.T@lambdahist[:,[k]]).item())\n",
    "        lambdahist[:,[k-1]] = Q@xhist[:,[k-1]] + A.T@lambdahist[:,[k]]\n",
    "        \n",
    "    # forward pass with line search to compute x\n",
    "    alpha = 1.0\n",
    "    unew = uhist + alpha*du\n",
    "    xnew = rollout(xhist, unew)\n",
    "    while J(xnew, unew) > J(xhist, uhist) - b*alpha*du.T@du:\n",
    "        alpha = 0.5*alpha\n",
    "        unew = uhist + alpha*du\n",
    "        xnew = rollout(xhist, unew)\n",
    "    uhist = unew\n",
    "    xhist = xnew\n",
    "    iter += 1"
   ]
  },
  {
   "cell_type": "markdown",
   "metadata": {},
   "source": [
    "ตรวจสอบจำนวนครั้งในการวนรอบ และมูลค่าของคำตอบ"
   ]
  },
  {
   "cell_type": "code",
   "execution_count": 9,
   "metadata": {},
   "outputs": [
    {
     "data": {
      "text/plain": [
       "2416"
      ]
     },
     "execution_count": 9,
     "metadata": {},
     "output_type": "execute_result"
    }
   ],
   "source": [
    "iter"
   ]
  },
  {
   "cell_type": "code",
   "execution_count": 10,
   "metadata": {},
   "outputs": [
    {
     "data": {
      "text/plain": [
       "6.658621241414692"
      ]
     },
     "execution_count": 10,
     "metadata": {},
     "output_type": "execute_result"
    }
   ],
   "source": [
    "J(xhist,uhist)"
   ]
  },
  {
   "cell_type": "markdown",
   "metadata": {},
   "source": [
    "พล็อตแนววิถีของสถานะและเอาต์พุตตัวควบคุมได้ดังในรูปที่ 3.1 และ 3.2 \n",
    "จะเห็นได้ว่าจากตำแหน่งเริ่มต้น $x=1$ ลู่เข้าสู่ศูนย์แสดงถึงพฤติกรรมการคุมค่า \n",
    "โดยมีกราฟความเร็วที่สอดคล้องกัน\n",
    "เอาต์พุตตัวควบคุมเริ่มจากค่าลบในช่วงเริ่มต้น สู่ค่าบวกเมื่อต้องการหยุด ณ ตำแหน่งปลาย มีค่ายอดในช่วงเวลาประมาณ $t = 1$ วินาที หลังจากนั้นลู่เข้าสู่ศูนย์"
   ]
  },
  {
   "cell_type": "code",
   "execution_count": 11,
   "metadata": {},
   "outputs": [
    {
     "data": {
      "image/png": "[encoded data removed]",
      "text/plain": [
       "<Figure size 640x480 with 1 Axes>"
      ]
     },
     "metadata": {},
     "output_type": "display_data"
    }
   ],
   "source": [
    "plt.figure()\n",
    "plt.plot(thist,xhist[0,0:N-1],\"b-\",thist,xhist[1,0:N-1],'orange')\n",
    "plt.xlabel(\"time (sec)\")\n",
    "plt.ylabel(\"x(k)\")\n",
    "plt.legend([\"Position\",\"Velocity\"])\n",
    "plt.grid(True)\n",
    "plt.show()"
   ]
  },
  {
   "cell_type": "markdown",
   "metadata": {},
   "source": [
    "รูปที่ 3.1 แนววิถีของสถานะ $x$ จากตัวควบคุม LQR ในตัวอย่าง 3.1"
   ]
  },
  {
   "cell_type": "code",
   "execution_count": 12,
   "metadata": {},
   "outputs": [
    {
     "data": {
      "image/png": "[encoded data removed]",
      "text/plain": [
       "<Figure size 640x480 with 1 Axes>"
      ]
     },
     "metadata": {},
     "output_type": "display_data"
    }
   ],
   "source": [
    "plt.figure()\n",
    "plt.plot(thist,uhist,\"m-\")\n",
    "plt.xlabel(\"time (sec)\")\n",
    "plt.ylabel(\"u(k)\")\n",
    "plt.grid(True)\n",
    "plt.show()"
   ]
  },
  {
   "cell_type": "markdown",
   "metadata": {
    "vscode": {
     "languageId": "plaintext"
    }
   },
   "source": [
    "รูปที่ 3.2 แนววิถีของเอาต์พุต $u$ จากตัวควบคุม LQR ในตัวอย่าง 3.1\n",
    "\n",
    "หากต้องการรู้สึกถึงข้อด้อยของวิธีนี้ ทดลองเพิ่มช่วงเวลาในการจำลองผลเป็น 10 วินาทีหรือมากกว่า \n",
    "จะพบว่าจำนวนการวนซ้ำและเวลาในการคำนวณเพิ่มขึ้นอย่างมาก \n",
    "เป็นเหตุผลที่วิธีการยิงโดยอ้อมนี้ได้รับความนิยมน้อยลงในปัจจุบัน \n",
    "เนื้อหาต่อไปในบทนี้จะนำเสนอวิธีการอื่นที่ประมวลผลได้เร็วกว่า\n",
    "\n",
    "### 3.2.2 การหาคำตอบโดยการโปรแกรมกำลังสอง\n",
    "\n",
    "เราได้ศึกษาวิธีการโปรแกรมกำลังสอง (quadratic program ต่อไปจะเรียกย่อว่า QP) แล้วในบทที่ 2 \n",
    "คือในกรณีที่ฟังก์ชันมูลค่าเป็นแบบกำลังสอง และเงื่อนไขบังคับเป็นสมการเชิงเส้น ดังนั้นจึงเหมาะสมอย่างยิ่งในการแก้ปัญหา LQR (3.18) \n",
    "เนื่องจากรูปแบบของโจทย์ปัญหาสอดคล้องกันทำให้สามารถหาคำตอบได้อย่างมีประสิทธิภาพ \n",
    "\n",
    "จากปัญหา LQR (3.18) ต้องการจัดรูปใหม่เพื่อใช้วิธี QP กำหนดสถานะเริ่มต้น $x_1$ ซึ่งเป็นค่าที่เราเลือก มิใช่ตัวแปรการตัดสินใจ\n",
    "ดังนั้นนิยามเวกเตอร์ของตัวแปรการตัดสินใจดังนี้\n",
    "$$\n",
    "z = \\left[\\begin{array}{c}\n",
    "u_1 \\\\\n",
    "x_2 \\\\\n",
    "u_2 \\\\\n",
    "\\vdots \\\\\n",
    "x_{N-1} \\\\\n",
    "u_{N-1}  \\\\\n",
    "x_N \\end{array}\\right] \\tag{3.25}\n",
    "$$\n",
    "\n",
    "นิยามเมทริกซ์น้ำหนัก \n",
    "$$\n",
    "H = \\left[\\begin{array}{ccccc}\n",
    "R_1 & 0 & \\cdots & \\cdots & 0 \\\\\n",
    "0 & Q_2 & 0 & \\cdots & 0 \\\\\n",
    "0 & 0 & R_2 & 0 & 0 \\\\\n",
    "0 & \\cdots & 0 & \\ddots & 0 \\\\\n",
    "0 & \\cdots & \\cdots & 0 & Q_N\n",
    "\\end{array}\\right] \\tag{3.26}\n",
    "$$\n",
    "\n",
    "จะเห็นว่าเราสามารถแทนฟังก์ชันมูลค่าใน (3.18) ในรูปที่กระชับขึ้นดังนี้\n",
    "$$\n",
    "J = \\frac{1}{2}z^THz \\tag{3.26}\n",
    "$$\n",
    "\n",
    "ใช้การจัดรูปลักษณะเดียวกันนี้กับเงื่อนไขบังคับที่เป็นพลวัตเชิงเส้นใน (3.18)\n",
    "$$\n",
    "\\left[\\begin{array}{ccccccc} \n",
    "B_1 & -I & 0 & \\cdots & \\cdots & \\cdots & 0 \\\\\n",
    "0 & A_2 & B_2 & -I & 0 & \\cdots & 0 \\\\\n",
    "0 & 0 & \\ddots & \\ddots & \\ddots & \\cdots & 0 \\\\\n",
    "0 & \\cdots & \\cdots & \\ddots & \\ddots & \\ddots & 0 \\\\\n",
    "0 & \\cdots & \\cdots & \\cdots & A_{N-1} & B_{N-1} & -I \n",
    "\\end{array}\\right] \n",
    "\\left[\\begin{array}{c}\n",
    "u_1 \\\\\n",
    "x_2 \\\\\n",
    "u_2 \\\\\n",
    "\\vdots \\\\\n",
    "x_N\n",
    "\\end{array}\\right] = \n",
    "\\left[\\begin{array}{c}\n",
    "-A_1x_1 \\\\\n",
    "0 \\\\\n",
    "0 \\\\\n",
    "\\vdots \\\\\n",
    "0\n",
    "\\end{array}\\right] \\tag{3.27}\n",
    "$$\n",
    "นิยามเมทริกซ์ทางด้านซ้ายของ (3.27) คือ $C$ และเวกเตอร์ด้านขวาคือ $d$ ดังนั้นจะได้เงื่อนไขบังคับสมการเป็น\n",
    "$$\n",
    "Cz = d  \\tag{3.28}\n",
    "$$\n",
    "\n",
    "โดยใช้การจัดรูปใหม่นี้ จะเขียนปัญหา LQR ได้เป็นโจทย์ QP \n",
    "$$\n",
    "\\underset{z}{min}\\; \\frac{1}{2}z^THz \n",
    "$$\n",
    "$$\n",
    "s.t.\\;\\; Cz - d = 0 \\tag{3.29}\n",
    "$$\n",
    "ซึ่งมีลากรานเจียน\n",
    "$$\n",
    "L(z,\\lambda) = \\frac{1}{2}z^THz + \\lambda^T(Cz - d) \\tag{3.30}\n",
    "$$\n",
    "แ่ละเงื่อนไข KKT \n",
    "$$\n",
    "\\nabla_z L = Hz + C^T\\lambda = 0 \\tag{3.31}\n",
    "$$\n",
    "$$\n",
    "\\nabla_\\lambda L = Cz - d = 0 \\tag{3.32}\n",
    "$$\n",
    "หรือเมื่อเขียนในรูปเมทริกซ์ได้เป็นดังนี้\n",
    "$$\n",
    "\\left[\\begin{array}{cc}\n",
    "H & C^T \\\\\n",
    "C & 0\n",
    "\\end{array}\\right]\n",
    "\\left[\\begin{array}{c}\n",
    "z \\\\\n",
    "\\lambda\n",
    "\\end{array}\\right] =\n",
    "\\left[\\begin{array}{c}\n",
    "0 \\\\\n",
    "d\n",
    "\\end{array}\\right] \\tag{3.33}\n",
    "$$\n",
    "สังเกตว่า (3.33) เป็นสมการเมทริกซ์เชิงเส้นที่สามารถแก้สมการเพื่อหาคำตอบได้ในทันที \n",
    "แตกต่างจากวิธีการยิงโดยอ้อมที่ต้องมีการวนซ้ำจำนวนมาก ดังนั้นจึงเป็นวิธีการที่ดีกว่า"
   ]
  },
  {
   "cell_type": "markdown",
   "metadata": {},
   "source": [
    "**ตัวอย่าง 3.2** ต้องการแก้ปัญหา LQR สำหรับระบบปริพันธ์คู่ (3.24) โดยวิธี QP ใช้ข้อมูลเดิมจากตัวอย่าง 3.1 \n",
    "\n",
    "งานหลักในการจัดรูปปัญหาก่อนหาคำตอบโดย QP คือการสร้างเวกเตอร์ $z$ (3.25) เมทริกซ์ $H$ (3.26) \n",
    "สำหรับฟังก์ชันมูลค่า เวกเตอร์ $d$ และเมทริกซ์ $C$ สำหรับเงื่อนไขพลวัตใน (3.27),(3.28) สังเกตรูปแบบของเมทริกซ์ \n",
    "$H, C$ แม้จะมีขนาดใหญ่ตามจำนวนของ $x_k, u_k$ แต่สมาชิกส่วนใหญ่เป็นค่าศูนย์ เรียกว่าเมทริกซ์มากเลขศูนย์ (sparse) \n",
    "ดังนั้นควรใช้ไลบรารีที่ช่วยจัดการโครงสร้างรูปแบบนี้อย่างมีประสิทธิภาพ เพื่อลดหน่วยความจำในการจัดเกํบและการคำนวณที่ไม่จำเป็น \n",
    "ในตัวอย่างนี้จะใช้แพ็กเกจ scipy.sparse นำเข้าแพ็กเกจที่ต้องการในเซลล์ด้านล่างนี้ "
   ]
  },
  {
   "cell_type": "code",
   "execution_count": 1,
   "metadata": {},
   "outputs": [],
   "source": [
    "import numpy as np \n",
    "import matplotlib.pyplot as plt \n",
    "import scipy as sp\n",
    "from scipy.sparse.linalg import  spsolve\n",
    "from scipy.sparse import kron"
   ]
  },
  {
   "cell_type": "markdown",
   "metadata": {},
   "source": [
    "**หมายเหตุ :** การจัดเก็บข้อมูลมากเลขศูนย์ของ scipy.sparse มีหลายรูปแบบ สามารถศึกษาได้จากเอกสารออนไลน์ของเว็บ \n",
    "scipy ที่จะใช้ในตัวอย่างนี้คือ lil (list of lists), csc (compressed sparse column) \n",
    "แต่ละรูปแบบมีความเหมาะสมกับการใช้งานต่างกัน ในช่วงเริ่มต้นจะใช้รูปแบบ lil \n",
    "เพราะเป็นรูปแบบที่แนะนำโดย scipy สำหรับการสร้างเมทริกซ์ที่ต้องมีการตัด (slice) \n",
    "แต่เมื่อถึงขั้นตอนคำนวณสมการเชิงเส้นจะต้องเปลี่ยนเป็นการจัดเก็บแบบ csc\n",
    "อนึ่งจากการตรวจสอบเมื่อเรียกใช้เมธอดบางตัวของ scipy.sparse เช่น block_diagonal(),kron() \n",
    "จะคืนค่าเป็นการจัดเก็บแบบ coo (coordinate) ด้วยเหตุผลนี้เองจึงต้องมีการแปลงรูปแบบการจัดเก็บหลายจุดในโค้ด \n",
    "เพื่อให้ทำงานได้ถูกต้องและมีประสิทธิภาพ รายละเอียดเล็กน้อยเหล่านี้มิใช่สาระสำคัญของตัวอย่าง\n",
    "\n",
    "สร้างพลวัตของระบบปริพันธ์คู่เหมือนในตัวอย่าง 3.1 \n",
    "เพียงแต่นิยามเมทริกซ์บางตัวเป็นแบบมากเลขศูนย์ตั้งแต่เริ่มต้นเพื่อสอดคล้องกับการจัดรูปในภายหลัง"
   ]
  },
  {
   "cell_type": "code",
   "execution_count": 22,
   "metadata": {},
   "outputs": [],
   "source": [
    "# Discrete dynamics\n",
    "h = 0.1  # time step\n",
    "A = sp.sparse.lil_array([[1,h],[0,1]])\n",
    "B = sp.sparse.lil_array([[0.5*h*h],[h]])"
   ]
  },
  {
   "cell_type": "code",
   "execution_count": 23,
   "metadata": {},
   "outputs": [],
   "source": [
    "n = 2     # number of state\n",
    "m = 1     # number of controls\n",
    "Tfinal = 10.0 # final time #try larger values\n",
    "N = int(Tfinal/h)+1    # number of time steps\n",
    "thist = np.arange(0,h*(N-1),h)"
   ]
  },
  {
   "cell_type": "markdown",
   "metadata": {},
   "source": [
    "นิยามเมทริกซ์ค่าน้ำหนัก โดยสามารถปรับค่าน้ำหนักตามต้องการตราบเท่าที่ $Q, Q_N \\succcurlyeq 0,\\;  R \\succ 0$"
   ]
  },
  {
   "cell_type": "code",
   "execution_count": 25,
   "metadata": {},
   "outputs": [],
   "source": [
    "Q = 1.0*sp.sparse.identity(2,format='lil')\n",
    "R = 0.1*sp.sparse.lil_array([[1]])\n",
    "Qn = sp.sparse.identity(2,format='lil')"
   ]
  },
  {
   "cell_type": "markdown",
   "metadata": {},
   "source": [
    "เลือกค่าเริ่มต้นที่ตำแหน่ง 1 หน่วยและความเร็วเป็นศูนย์ (เนื่องจากตัวชี้ของไพทอนเริ่มจาก 0 \n",
    "ดังนั้นเราจะนิยามค่าเริ่มต้นเป็นตัวแปร x0) "
   ]
  },
  {
   "cell_type": "code",
   "execution_count": 26,
   "metadata": {},
   "outputs": [],
   "source": [
    "x0 = sp.sparse.csc_array([[1.0],[0]])"
   ]
  },
  {
   "cell_type": "markdown",
   "metadata": {},
   "source": [
    "นิยามฟังก์ชันมูลค่า J"
   ]
  },
  {
   "cell_type": "code",
   "execution_count": 27,
   "metadata": {},
   "outputs": [],
   "source": [
    "def J(xhist, uhist):\n",
    "    xend = xhist[:,-1]\n",
    "    cost = 0.5*xend.T@Qn@xend\n",
    "    for k in range(N-1):\n",
    "        xk = xhist[:,k]\n",
    "        uk = uhist[k]\n",
    "        cost = cost + 0.5*xk.T@Q.toarray()@xk + 0.5*uk*R.toarray()*uk\n",
    "    return cost"
   ]
  },
  {
   "cell_type": "markdown",
   "metadata": {},
   "source": [
    "ใช้คำสั่ง block_diag() และ kron() (Kronecker product) ในการสร้างเมทริกซ์ $H$ (3.26) \n",
    "ช่วยให้สร้างได้ในคำสั่งบรรทัดเดียว"
   ]
  },
  {
   "cell_type": "code",
   "execution_count": 28,
   "metadata": {},
   "outputs": [],
   "source": [
    "H = sp.sparse.block_diag((R,kron(sp.sparse.identity(N-2,format='lil'),sp.sparse.block_diag((Q,R))),Qn))"
   ]
  },
  {
   "cell_type": "markdown",
   "metadata": {},
   "source": [
    "สร้างเวกเตอร์ $d$ และเมทริกซ์ $C$ สำหรับเงื่อนไขพลวัตใน (3.27),(3.28) \n",
    "สำหรับ $C$ มีขั้นตอนเพิ่มขึ้น เพราะต้องเขียนการวนซ้ำเพื่อสอดแทรกเมทริกซ์ $A$ \n",
    "ในตำแหน่งที่ถูกต้อง"
   ]
  },
  {
   "cell_type": "code",
   "execution_count": 29,
   "metadata": {},
   "outputs": [],
   "source": [
    "C = kron(sp.sparse.identity(N-1,format='lil'),sp.sparse.hstack((B,-sp.sparse.identity(2,format='lil'))))\n",
    "C = sp.sparse.lil_array(C)\n",
    "for k in range(1,N-1):\n",
    "    C[(k*n):(k*n)+n,k*(n+m)-n:k*(n+m)] = A # this operation prefers sparse 'lil' or 'dok' type\n",
    "d = sp.sparse.vstack((-A@x0, sp.sparse.lil_array(np.zeros((C.shape[0]-n,1)))))"
   ]
  },
  {
   "cell_type": "markdown",
   "metadata": {},
   "source": [
    "เมื่อจัดรูปปัญหาแล้ว แก้สมการเชิงเส้น (3.33) เพื่อหาคำตอบ \n",
    "โดยจะได้คำตอบในทันทีโดยไม่ต้องมีการวนซ้ำ\n",
    "สังเกตว่าจะใช้เมธอด spsolve() จาก scipy.sparse.linalg \n",
    "เพื่อคำนวณเมทริกซ์มากเลขศูนย์อย่างมีประสิทธิภาพ"
   ]
  },
  {
   "cell_type": "code",
   "execution_count": 30,
   "metadata": {},
   "outputs": [],
   "source": [
    "# Solve the linear system G*y = w --> y = solve(G,w)\n",
    "# where G = [H C';C 0], y = [z; lambda], w = [0; d]\n",
    "G = sp.sparse.vstack((sp.sparse.hstack((H,C.T)),sp.sparse.hstack((C,sp.sparse.lil_array(np.zeros((C.shape[0],C.shape[0])))))))\n",
    "w = sp.sparse.vstack((np.zeros((H.shape[0],1)), d))\n",
    "G = sp.sparse.csc_array(G) # solve requires sparse 'csr' or 'csc' type\n",
    "w = sp.sparse.csc_array(w)\n",
    "y = spsolve(G,w)\n",
    "\n",
    "# Get state history\n",
    "z = y[0:H.shape[0]] # states and controls [u0, x1, u1, ..., xN] where uk is scalar and xk is (2,1)\n",
    "Z = z.reshape(N-1,n+m).T\n",
    "xhist = Z[m:n+m,:]\n",
    "uhist = Z[0,:]\n",
    "\n",
    "xhist = np.hstack((x0.toarray(),xhist))"
   ]
  },
  {
   "cell_type": "markdown",
   "metadata": {},
   "source": [
    "คำนวณมูลค่าจากแนววิถีที่เป็นคำตอบ จะเห็นได้ว่าหากเลือกค่าน้ำหนักเท่ากัน \n",
    "จะได้ค่าเท่ากับในตัวอย่าง 3.1"
   ]
  },
  {
   "cell_type": "code",
   "execution_count": 31,
   "metadata": {},
   "outputs": [
    {
     "data": {
      "text/plain": [
       "6.658612208961307"
      ]
     },
     "execution_count": 31,
     "metadata": {},
     "output_type": "execute_result"
    }
   ],
   "source": [
    "J(xhist,uhist).item()"
   ]
  },
  {
   "cell_type": "markdown",
   "metadata": {},
   "source": [
    "คำสั่งในการพล็อตจะเหมือนกับในตัวอย่าง 3.1 ดังแสดงในรูปที่ 3.3 และ 3.4 \n",
    "สำหรับแนววิถีของสถานะและเอาต์พุตควบคุมตามลำดับ"
   ]
  },
  {
   "cell_type": "code",
   "execution_count": 32,
   "metadata": {},
   "outputs": [
    {
     "data": {
      "image/png": "[encoded data removed]",
      "text/plain": [
       "<Figure size 640x480 with 1 Axes>"
      ]
     },
     "metadata": {},
     "output_type": "display_data"
    }
   ],
   "source": [
    "plt.figure()\n",
    "plt.plot(thist,xhist[0,0:N-1],\"b-\",thist,xhist[1,0:N-1],'orange')\n",
    "plt.xlabel(\"time (sec)\")\n",
    "plt.ylabel(\"x(k)\")\n",
    "plt.legend([\"Position\",\"Velocity\"])\n",
    "plt.grid(True)\n",
    "plt.show()"
   ]
  },
  {
   "cell_type": "markdown",
   "metadata": {},
   "source": [
    "รูปที่ 3.3 แนววิถีของสถานะ $x$ จากตัวควบคุม LQR ในตัวอย่าง 3.2"
   ]
  },
  {
   "cell_type": "code",
   "execution_count": 33,
   "metadata": {},
   "outputs": [
    {
     "data": {
      "image/png": "[encoded data removed]",
      "text/plain": [
       "<Figure size 640x480 with 1 Axes>"
      ]
     },
     "metadata": {},
     "output_type": "display_data"
    }
   ],
   "source": [
    "plt.figure()\n",
    "plt.plot(thist,uhist,\"m-\")\n",
    "plt.xlabel(\"time (sec)\")\n",
    "plt.ylabel(\"u(k)\")\n",
    "plt.grid(True)\n",
    "plt.show()"
   ]
  },
  {
   "cell_type": "markdown",
   "metadata": {},
   "source": [
    "รูปที่ 3.4 แนววิถีของเอาต์พุตควบคุม $u$ จากตัวควบคุม LQR ในตัวอย่าง 3.2\n",
    "\n",
    "จากรูปที่ 3.3 และ 3.4 จะเห็นว่าสอดคล้องกับผลในตัวอย่าง 3.1 เมื่อเลือกค่าน้ำหนัก $Q, Q_N, R$ เหมือนกัน \n",
    "ทดลองปรับค่าน้ำหนักเพื่อดูการเปลี่ยนแปลงของแนววิถี "
   ]
  },
  {
   "cell_type": "code",
   "execution_count": null,
   "metadata": {},
   "outputs": [],
   "source": []
  },
  {
   "cell_type": "code",
   "execution_count": null,
   "metadata": {},
   "outputs": [],
   "source": []
  },
  {
   "cell_type": "code",
   "execution_count": null,
   "metadata": {},
   "outputs": [],
   "source": []
  },
  {
   "cell_type": "code",
   "execution_count": null,
   "metadata": {},
   "outputs": [],
   "source": []
  },
  {
   "cell_type": "code",
   "execution_count": null,
   "metadata": {},
   "outputs": [],
   "source": []
  },
  {
   "cell_type": "code",
   "execution_count": null,
   "metadata": {},
   "outputs": [],
   "source": []
  },
  {
   "cell_type": "code",
   "execution_count": null,
   "metadata": {},
   "outputs": [],
   "source": []
  },
  {
   "cell_type": "code",
   "execution_count": null,
   "metadata": {},
   "outputs": [],
   "source": []
  },
  {
   "cell_type": "code",
   "execution_count": null,
   "metadata": {},
   "outputs": [],
   "source": []
  },
  {
   "cell_type": "code",
   "execution_count": null,
   "metadata": {},
   "outputs": [],
   "source": []
  },
  {
   "cell_type": "code",
   "execution_count": null,
   "metadata": {},
   "outputs": [],
   "source": []
  },
  {
   "cell_type": "markdown",
   "metadata": {},
   "source": [
    "## บรรณานุกรม\n",
    "\n",
    "1. Z. Manchester et.al. [16-745 Optimal Control & Reinforcement Learning, \n",
    "Course materials](https://optimalcontrol.ri.cmu.edu/#learning-resources), Carnegie Mellon University. 2024,2025.\n",
    "\n",
    "2. R. Tedrake. [Underactuated Robotics: Algorithms for Walking, Running, Swimming, Flying, and Manipulation (Course Notes for MIT 6.832)](https://underactuated.csail.mit.edu). 2023. \n",
    "\n",
    "3. D.P. Bertsekas. Reinforcement Learning and Optimal Control. MIT Press. 2019.\n"
   ]
  },
  {
   "cell_type": "code",
   "execution_count": null,
   "metadata": {},
   "outputs": [],
   "source": []
  },
  {
   "cell_type": "markdown",
   "metadata": {},
   "source": [
    "<div align=\"center\">\n",
    "<img src=\"https://raw.githubusercontent.com/dewdotninja/sharing-github/refs/heads/master/dewninja_logo50.jpg\" alt=\"dewninja\"/>\n",
    "</div>\n",
    "<div align=\"center\">dew.ninja 2025</div>"
   ]
  }
 ],
 "metadata": {
  "kernelspec": {
   "display_name": "Python 3 (ipykernel)",
   "language": "python",
   "name": "python3"
  },
  "language_info": {
   "codemirror_mode": {
    "name": "ipython",
    "version": 3
   },
   "file_extension": ".py",
   "mimetype": "text/x-python",
   "name": "python",
   "nbconvert_exporter": "python",
   "pygments_lexer": "ipython3",
   "version": "3.12.8"
  }
 },
 "nbformat": 4,
 "nbformat_minor": 4
}
