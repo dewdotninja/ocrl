{
 "cells": [
  {
   "cell_type": "markdown",
   "metadata": {},
   "source": [
    "การควบคุมเหมาะที่สุดและการเรียนรูู้เสริมกำลัง -- ดร.วโรดม ตู้จินดา"
   ]
  },
  {
   "cell_type": "markdown",
   "metadata": {
    "vscode": {
     "languageId": "plaintext"
    }
   },
   "source": [
    "# 4 การโปรแกรมพลวัตแบบเชิงกำหนด\n",
    "\n",
    "ในหัวข้อ 1.2.1 บทที่ 1 ได้กล่าวถึงการโปรแกรมพลวัต (dynamic programming ต่อไปจะเรียกย่อว่า DP) โดยสังเขป \n",
    "โดยเป็นวิธีการที่คิดค้นขึ้นตั้งแต่ยุคเริ่มต้นคอมพิวเตอร์เพื่อใช้เลือกการตัดสินใจ โดยมีการประยุกต์ใช้ในสาขาต่างๆ เช่นการวิจัยดำเนินการ (operation research มักเรียกโดยย่อว่า OR) ระบบควบคุม เศรษฐศาสตร์​ ฯลฯ แม้ว่าสมรรถนะของตัวประมวลผลสมัยนั้นยังไม่เพียงพอสำหรับการใช้งานในปัญหาทั่วไปที่มีข้อมูลจำนวนมากเหมือนในปัจจุบัน \n",
    "อย่างไรก็ตาม เบลแมน [1] ได้จัดรูปแบบปัญหาไว้เป็นอย่างดี \n",
    "ทำให้ถูกใช้เป็นเครื่องจักรสำคัญของ RL ตราบจนปัจจุบัน และมีการเชื่อมความสัมพันธ์กับปัญหาการควบคุมเหมาะที่สุด [2,3] \n",
    "โดยพบว่ามีหลักการที่สอดคล้องกันดังที่ได้อธิบายก่อนหน้านี้  \n",
    "\n",
    "แม้ว่าวิธีการที่อยู่บนพื้นฐาน DP จะแตกแขนงออกไปอย่างมากมายตามรูปแบบของโจทย์ปัญหา ในหนังสือนี้จะเน้นวิธีพื้นฐานที่ประยุกต์ใช้ในสาขาระบบควบคุมเป็นหลัก\n",
    "เนื้อหาในบทนี้ยังคงตามรอยรายวิชา [4] แต่เสริมด้วยเนื้อหาจาก [3,5] เพื่อให้เข้าใจความสัมพันธ์ระหว่าง DP, RL และการควบคุมเหมาะที่สุดได้ดีขึ้น\n",
    "\n",
    "## 4.1 คำศัพท์และสัญกรณ์\n",
    "\n",
    "**หมายเหตุ :** ในตัวเลือกด้านล่างนี้ นอกจากตัวย่อ DP, RL ที่นิยามแล้ว มีตัวย่อเพิ่มเติมคือ \n",
    "\n",
    "* OC (optimal control) เน้นสำหรับการควบคุมเหมาะที่สุด\n",
    "* GP (general problem) ปัญหาทั่วไปที่ใช้เป็นตัวอย่างเสริม เช่นการเดินทางของพนักงานขาย \n",
    "\n",
    "ผู้เริ่มต้นที่ติดตามหนังสือและวีดีโอสอนเกี่ยวกับ DP อาจจะสับสนกับคำศัพท์และสัญกรณ์ที่ผู้นำเสนอใช้ที่มักจะแตกต่างกัน \n",
    "ได้รวบรวมที่นิยมใช้ดังนี้\n",
    "\n",
    "#### ระบบเวลาต่อเนื่อง\n",
    "\n",
    "**หมายเหตุ :** โดยธรรมชาติแล้วปัญหา DP อยู่ในรูปแบบที่เป็นระบบดีสครีต การขยายไปยังระบบเวลาต่อเนื่องส่วนใหญ่จะเกี่ยวข้องกับ OC มากกว่า RL \n",
    "\n",
    "* สถานะ : $x(t)$\n",
    "* เอาต์พุตตัวควบคุม : $u(t)$\n",
    "* โมเดลพลวัต : $\\dot{x} = f(x(t),u(t))$ \n",
    "* มูลค่าแต่ละขั้นและขั้นสุดท้าย : $l(x(t),u(t)),\\; l_N(x_f)$\n",
    "* ฟังก์ชันมูลค่า : $J(x),\\; V(x)$\n",
    "* ฟังก์ชันมูลค่าเหมาะที่สุด : $J^*(x),\\; V^*(x)$\n",
    "* เอาต์พุตควบคุมเหมาะที่สุด : $$u^*(x), \\pi^*(x)$\n",
    "\n",
    "#### ระบบเวลาดีสครีต\n",
    "\n",
    "* สถานะ (OC,RL) : $s[k],\\; x[k],\\; x_k$\n",
    "* เอาต์พุตตัวควบคุม (OC): $u[k],\\; u_k$\n",
    "* ตัวกระทำ (RL): $a[k]$\n",
    "* นโยบายเหมาะที่สุด (RL): $\\pi[s_k]$\n",
    "* โมเดลพลวัต (OC,RL) : $f(x[k],u[k]),\\; f(x_k,u_k),\\; f(s[k],a[k])$ หรือโมเดลมาร์คอฟ (RL) : $p(s,s',a)$\n",
    "* มูลค่าแต่ละขั้นและขั้นสุดท้าย (OC,RL,GP) : $g_k(x_k,u_k),\\; g_N(x_N),\\; l_k(x_k,u_k),\\;l_N(x_N)$\n",
    "* ฟังก์ชันมูลค่า (OC,RL) : $J(x_k),\\; J(s_k), V(x_k)$\n",
    "* ฟังก์ชันมูลค่าเหมาะที่สุด : $J^*(x_k),\\; J^*(s_k),\\; V^*(x_k)$\n",
    "\n",
    "**หมายเหตุ :** \n",
    "\n",
    "* ฟังก์ชันวัตถุประสงค์ใน OC ใช้ศัพท์ภาษาอังกฤษ \"cost function\" แต่ RL ใช้ \"value function\" \n",
    "ในหนังสือนี้เมื่อแปลเป็นภาษาไทยใช้คำว่า \"มูลค่า\" ทั้งหมด ซึ่งไม่สร้างปัญหาใดๆ หากแยกแยะได้ว่าวัตถุประสงค์ของ OC คือต้องการลดมูลค่า (เสมือนค่าใช้จ่าย) และ RL คือต้องการเพิ่มมูลค่า (เสมือนค่ารางวัล)  \n",
    "* เหตุผลการเปลี่ยนสัญกรในบางหนังสือหรือเอกสารคือไม่ต้องการให้ซ้ำกับอักขระที่ใช้อยู่ในบริบทอื่น เช่นหลีกเลี่ยงการใช้ชื่อ \"Q function\" เพราะไปซ้ำกับเมทริกซ์น้ำหนัก $Q$ ที่ใช้เดิมในฟังก์ชันมูลค่า [4] ขณะที่บางผู้สอนใช้อักขระ $x$ และ $s$ เพื่อแยกกันอย่างชัดเจนระหว่างระบบเวลาต่อเนื่องและดีสครีต [5]\n",
    "* การเลือกใช้โมเดลแบบใดขึ้นกับประเภทของปัญหา DP เช่นโมเดลมาร์คอฟ $p(s,s',a)$ ที่อยู่ในรูปการเปลี่ยนสถานะความน่าจะเป็น (transition probability) จะไม่เหมาะสมกับปัญหาเชิงกำหนด ขณะที่พลวัตในรูปสมการ $f(x_k,u_k)$ เหมาะสมกับการควบคุมเหมาะที่สุดเช่นหุ่นยนต์ แต่ไม่เข้ากันได้ดีกับปัญหา RL ในรูปแบบอื่นเช่นหมากรุก \n",
    "* นิยมใช้เครื่องหมาย $^*$ เป็นตัวยกกำลังแทนค่าที่เหมาะที่สุด เช่น $x_k^*, \\;u_k^*, \\;J^*(x_k,u_k)$ แต่ผู้สอนบางคนจะไม่ระบุในชั้นเรียนโดยอนุมานตามบริบทว่าเป็นค่าเหมาะที่สุด โดยเฉพาะในเนื้อหาของ OC \n",
    "\n",
    "ศัพท์และสัญกรณ์ที่ใช้สำหรับเนื้อหาในหนังสือนี้\n",
    "\n",
    "(เบื้องต้น อาจมีการเปลี่ยนแปลงภายหลังตามความเหมาะสมเพื่อหลีกเลี่ยงการซ้ำกันของสัญกรณ์)\n",
    "\n",
    "#### ระบบเวลาต่อเนื่อง\n",
    "\n",
    "* สถานะ : $x(t)$\n",
    "* เอาต์พุต : $u(t)$\n",
    "* โมเดลพลวัต : $\\dot{x} = f(x(t),u(t))$ \n",
    "* มูลค่าแต่ละขั้นและขั้นสุดท้าย : $l(x(t),u(t)),\\; l_N(x_f)$\n",
    "* ฟังก์ชันมูลค่า : $J(x)$\n",
    "* ฟังก์ชันมูลค่าเหมาะที่สุด : $J^*(x)$\n",
    "* ฟังก์ชันมูลค่าในแต่ละขั้น : $l(x,u)$\n",
    "* เอาต์พุตควบคุมเหมาะที่สุด : $$u^*(x)$\n",
    "\n",
    "#### ระบบเวลาดีสครีต\n",
    "\n",
    "* สถานะ : $x_k$\n",
    "* เอาต์พุตตัวควบคุม (OC): $u_k$\n",
    "* ตัวกระทำ (RL): $a_k$\n",
    "* นโยบายเหมาะที่สุด (RL): $\\pi[x_k]$\n",
    "* โมเดลพลวัต : $f(x_k,u_k)$\n",
    "* มูลค่าแต่ละขั้นและขั้นสุดท้าย: (GP) $g_k(x_k,u_k),\\; g_N(x_N)$, (OC) : $l_k(x_k,u_k),\\;l_N(x_N)$\n",
    "* ฟังก์ชันมูลค่า : $J(x_k)$\n",
    "* ฟังก์ชันมูลค่าเหมาะที่สุด : $J^*(x_k)$\n",
    "\n",
    "นอกจากนั้นจะบัญญัติศัพท์หรือเรียกบางคำศัพท์ให้สั้นลงเพื่อความกระชับเข่น\n",
    "\n",
    "* เรียก $u(t), u_k$ ว่า ตัวควบคุม หมายความถึงเอาต์พุตจากตัวควบคุม \n",
    "* cost-to-go ศัพท์สำคัญที่ใช้บ่อย จะใช้คำว่า \"มูลค่ารายทาง\"\n",
    "\n"
   ]
  },
  {
   "cell_type": "markdown",
   "metadata": {
    "vscode": {
     "languageId": "plaintext"
    }
   },
   "source": [
    "## 4.2 ประเภทของการโปรแกรมพลวัต\n",
    "\n",
    "หัวใจสำคัญของปัญหา DP คือระบบพลวัตในเวลาดีสครีตที่กำเนิดลำดับของสถานะภายใต้อิทธิพลของตัวควบคุมหรือตัวกระทำ \n",
    "สามารถแยกได้เป็น 2 ประเภทหลักคือ แบบเชิงกำหนด (deterministic) เมื่อการพัฒนาของตัวแปรภายในเป็นแบบกำหนดได้แน่นอน คือได้เอาต์พุตหรือคำตอบเหมือนเดิมจากอินพุตเดียวกันทุกครั้ง หรือแบบสโทแคสติก (stochastic)เมื่อมีการรบกวนแบบสุ่มทำให้คำตอบแตกต่างกันไปในแต่ละครั้ง \n",
    "\n",
    "นอกจากนั้นอาจแบ่งประเภทของปัญหา DP ในอีกมิติหนึ่ง คือแบบแม่นตรง (exact) หรือแบบใช้การประมาณค่า (approximate) ประเด็นหลักที่แตกต่างคือแบบแม่นตรงจะต้องการโมเดลทางคณิตศาสตร์ ส่วนแบบการประมาณค่าจะใช้โครงข่ายประสาทเทียมหรือสถาปัตยกรรมอื่นในการลดมิติของระบบ และใช้วิธีการจำลองโมเดลบนคอมพิวเตอร์แทนโมเดลทางคณิตศาสร์\n",
    "\n",
    "การศึกษาในบทนี้จะเริ่มจากปัญหา DP แบบเชิงกำหนดและแม่นตรงที่เป็นพื้นฐาน ก่อนจะขยายไปยังแบบอื่นในภายหลัง\n",
    "\n",
    "### 4.2.1 การโปรแกรมพลวัตแบบเชิงกำหนด\n",
    "\n",
    "ลำดับแรกในการศึกษาจะเริ่มต้นจากปัญหา DP แบบเชิงกำหนดและแม่นตรง คือใช้โมเดลทางคณิตศาสตร์ และไม่มีการรบกวนแบบสุ่มในพลวัต \n",
    "เพื่อความสะดวกในการอธิบาย จะขอกล่าวถึงหลักการของความเหมาะที่สุด (principle of optimality) ในบทที่ 1 อีกครั้งหนึ่ง เพราะเป็นหลักการสำคัญในการจัดรูป DP เพื่อหาคำตอบ\n",
    "\n",
    "<hr>\n",
    "นโยบายเหมาะที่สุดต้องมีคุณสมบัติคือ ไม่ว่าจะเลือกสถานะและการตัดสินใจเริ่มต้นอย่างไร \n",
    "การตัดสินใจครั้งต่อไปที่เหลือจะต้องยังคงเป็นนโยบายเหมาะที่สุดเสมอ เมื่อนับจากสถานะที่เกิดจากการตัดสินใจครั้งแรก\n",
    "<hr>\n",
    "\n",
    "จากรูปที่ 3.1 อธิบายได้ว่า สมมุติว่านโยบายในการเคลื่อนที่จากจุด $x_0$ ไปยังจุด $x_2$ โดยผ่านเส้นทาง (หรือแนววิถี) A \n",
    "คือนโยบายเหมาะที่สุดตามวัตถุประสงค์ที่กำหนด\n",
    "เมื่อพิจารณาปัญหาย่อยจากจุด $x_1$ ไปยังจุด $x_2$ เส้นทางที่เหมาะที่สุดก็ยังคงเป็นเส้นทางเดิมคือ A \n",
    "กล่าวคือจะไม่สามารถพบเส้นทางใหม่  B  ที่เหมาะที่สุดกว่าเส้นทาง A ได้ เพราะมิฉะนั้นในการหาค่าเหมาะที่สุดสำหรับปัญหารวม \n",
    "เราก็จะเลือกเส้นทางผ่าน B แทน​ A \n",
    "\n",
    "\n",
    "<img src=\"https://raw.githubusercontent.com/dewdotninja/ocrl/refs/heads/main/doc/figs/poo.png\" width=600 />\n",
    "\n",
    "รูปที่ 3.1 หลักการของความเหมาะที่สุด\n",
    "\n",
    "สังเกตจากรูปที่ 3.1 ว่าสถานะ $x_2$ เป็นจุดปลายของแนววิถี และปัญหาย่อย A คือจากจุดใดๆ ก่อนหน้าไปยังจุดปลาย เราไม่สามารถเลือก $x_2$ เป็นจุดอื่นในแนววิถีเพราะอาจมีการกำหนดมูลค่าระหว่างทางกับมูลค่าสุดท้ายแตกต่างกัน (ดังเช่นฟังก์ชันมูลค่าของปัญหา LQR ในบทที่ 3) ดังนั้นหลักการของความเหมาะที่สุดเสนอแนะให้เราแก้ปัญหาย่อยจากส่วนปลายย้อนกลับไปยังส่วนต้น จนกระทั่งครอบคลุมตลอดแนววิถีที่ต้องการ ซึ่งแนวทางนี้มีความสอดคล้องกับวิธีการยิงโดยอ้อมและการวนซ้ำริกคาติที่ได้ศึกษาในบทที่ 3 \n",
    "\n",
    "สิ่งสำคัญที่แตกต่างคือ คำตอบของวิธีก่อนหน้านี้จะเป็นแนววิถีชุดเดียวที่เริ่มต้นจากสถานะ $x_0$ แต่คำตอบของวิธี DP จะกว้างกว่า \n",
    "โดยครอบคลุมทุกแนววิถีที่เป็นไปได้ของระบบพลวัต แน่นอนสามารถหาคำตอบได้สำหรับปัญหาทั่วไปตราบเท่าที่เรามีคอมพิวเตอร์ที่มีสมรรถนะสูงเพียงพอจะคำนวณสำหรับจำนวนสถานะของปัญหานั้น ซึ่งในทางปฏิบัติเมื่อปัญหามีขนาดใหญ่ขึ้นจะเข้าสู่ขีดจำกัดที่เบลแมนเรียกว่า *คำสาปของมิติ (curse of dimensionality)* [1] เป็นเหตุผลที่ใช้ DP แบบประมาณค่าแทนแบบแม่นตรง แต่เพื่อความเข้าใจเบื้องต้นเราจะนำเสนอปัญหา DP แบบแม่นตรงก่อน โดยเริ่มจากปัญหาในรูปแบบดีสครีต"
   ]
  },
  {
   "cell_type": "markdown",
   "metadata": {},
   "source": [
    "### 4.2.2 ปัญหาแบบแนวนอนจำกัด\n",
    "\n",
    "รูปแบบของปัญหาแบบแนวนอนจำกัด (finite horizon) คือเมื่อระบบวิวัฒน์ไปตามขั้นเวลาจำกัด N ขั้น (stages) ดังแสดงในรูปที่ 4.1 สถานะและตัวควบคุมของระบบ ณ ขั้นเวลา $k$ เขียนแทนด้วย $x_k$ และ $u_k$ ตามลำดับ โดยค่าของ $u_k$ ณ ขั้นเวลา $K$ ถูกเลือกจากซต $U_k(x_k)$ ในระบบเชิงกำหนด ค่าของ $x_{k+1}$ มิได้เป็นค่าสุ่ม แต่จะถูกกำหนดโดย $x_k$ และ $u_k$ สอดคล้องกับพลวัต\n",
    "\n",
    "$$\n",
    "x_{k+1} = f_k(x_k,u_k), \\;\\; k = 0,1,\\ldots, N-1 \\tag{4.1} \n",
    "$$\n",
    "\n",
    "นอกจากนั้นจะเห็นว่าแต่ละขั้นในรูปที่ 4.1 จะมีฟังก์ชันมูลค่า $g_k(x_k,u_k)$ ที่เรียกว่าเป็นมูลค่าการบวก (additive cost) เนื่องจากมูลค่าจะถูกสะสมตามขั้นเวลาไปจนสิ้นสุด ดังนั้นสำหรับค่าเริ่มต้น $x_0$ ที่กำหนด มูลค่ารวมของลำดับตัวควบคุม $\\{u_0, \\ldots, u_{N-1}\\}$ คือ\n",
    "\n",
    "$$\n",
    "J(x_0; u_0, \\ldots, u_{N-1}) = g_N(x_N) + \\sum_{k=0}^{N-1} g_k(x_k, u_k) \\tag{4.2}\n",
    "$$\n",
    "\n",
    "โดย $g_N(x_N)$ คือมูลค่าที่กำหนดให้กับส่วนปลายเมื่อกระบวนการสิ้นสุด \n",
    "\n",
    "<img src=\"https://raw.githubusercontent.com/dewdotninja/ocrl/refs/heads/main/doc/figs/ch4_fhdp_stage.png\" width=1000 />\n",
    "\n",
    "รูปที่ 4.1 รูปแบบปัญหาการควบคุมเหมาะที่สุดแบบแนวนอนจำกัด\n",
    "\n",
    "เราต้องการหาคำตอบต่ำสุดของ (4.2) สำหรับลำดับ $\\{u_0, \\ldots, u_{N-1}\\}$ ที่สอดคล้องกับเงื่อนไขบังคับ (4.1) \n",
    "\n",
    "$$\n",
    "J^*(x_0) = \\underset{\\substack{u_k \\in U_k(x_k) \\\\ k=0,\\ldots, N-1}}{min} J(x_0; u_0, \\ldots, u_{N-1}) \\tag{4.3}\n",
    "$$\n",
    "\n",
    "ข้อสังเกตหนึ่งสำหรับปัญหา DP ทั่วไปที่สอดคล้องกับการควบคุมเหมาะที่สุดคือ พลวัตของระบบจะวิวัฒน์ไปตามขั้นเวลา ดังนั้นตัวควบคุมในอนาคตไม่สามารถมีผลกระทบกับสถานะในอดีตได้ ตัวอย่างของแผนภาพการเปลี่ยนสถานะในปัญหา DP แบบแนวนอนจำกัดแสดงได้ดังรูปที่ 4.2 เริ่มจากสถานะ $x_0$ ที่กำหนด การเปลี่ยนสถานะจะขึ้นกับพลวัต $x_{k+1} = f_k(x_k,u_k)$ เมื่อเลือกตัวควบคุม $u_k \\in U_k$ ขณะที่มูลค่าในการเปลี่ยนสถานะของแต่ละขั้นถูกคำนวณโดยฟังก์ชัน $g_k(x_k,u_k)$ สำหรับขั้นสุดท้าย เราเพิ่มโนดสื้นสุดเทียม T เข้าไปในแผนภาพ โดยเส้นทางจากสถานะ $x_N$ ไปยังโนด T มีมูลค่าเท่ากับ $g_N(x_N)$\n",
    "\n",
    "สังเกตว่าสำหรับสถานะ $x_0$ ที่กำหนด ลำดับของตัวควบคุม $\\{u_0, \\ldots, u_{N-1}\\}$ ที่เลือกทำให้สถานะเปลี่ยนตามแนววิถีหนึ่งจากแนววิถีทั้งหมดที่เป็นไปได้ และสิ้นสุดที่สถานะ $x_N$ โนดหนึ่งในขั้น $N$ เพื่อความเข้าใจที่ง่ายขึ้น สมมุติว่าเรามองมูลค่าของเส้นเปลี่ยนสถานะในแต่ละขั้นเป็นความยาวของเส้นนั้น จะเห็นได้ว่าการแป้ปัญหา DP เชิงกำหนดแบบแนวนอนจำกัดก็คือการหาเส้นทางรวมที่สั้นที่สุดจากโนดเริ่มต้นสู่โนดปลายนั่นเอง โดยความยาวของเส้นทางรวมคือผลรวมของความยาวของเส้นระหว่างขั้น \n",
    "\n",
    "<img src=\"https://raw.githubusercontent.com/dewdotninja/ocrl/refs/heads/main/doc/figs/ch4_fsdp_diagram1.png\" width=1000 />\n",
    "\n",
    "รูปที่ 4.2 แผนภาพการเปลี่ยนสถานะของปัญหา DP แบบแนวนอนจำกัด\n"
   ]
  },
  {
   "cell_type": "markdown",
   "metadata": {
    "vscode": {
     "languageId": "plaintext"
    }
   },
   "source": [
    "## 4.3 อัลกอริทึมการโปรแกรมพลวัต \n",
    "\n",
    "เมิื่อเข้าใจรูปแบบปัญหา DP เราสามารถสร้างอัลกอริทึมสำหรับแก้ปัญหาเพื่อหาคำตอบ กล่าวโดยทั่วไปคือต้องการแก้ปัญหาการตัดสินใจโดยลำดับสำหรับ \n",
    "N ขั้น โดยแยกปัญหาเป็นลำดับของปัญหาย่อยในแต่ละขั้น เป้าหมายของอัลกอริทึมคือลำดับของตัวควบคุมเหมาะที่สุด $u_0^*, \\ldots , u_{N-1}^*$ ที่ทำให้ลำดับของฟังก์ชันมูลค่า​ $J_0^*, \\ldots, J_{N-1}^*$ มีค่าเหมาะ(ต่ำ)ที่สุด เริ่มต้นจากฟังก์ชันมูลค่าส่วนปลายคือ $J_N^* = g_N(x_N)$ คำนวณ $J_{N-1}^*$ โดยแก้ปัญหาการตัดสินใจขั้นเดี่ยวที่ตัวแปรเหมาะที่สุดคือ $u_{N-1}$ ต่อมาใช้ $J_{N-1}^*$ \n",
    "เพื่อคำนวณ $J_{N-2}^*$ ดำเนินการเช่นนี้อย่างต่อเนื่องในการคำนวณ $J_{N-3}^*,\\ldots, J_0^*$\n",
    "\n",
    "สังเกตว่าการคำนวณนี้มีรูปแบบย้อนหลังจากส่วนปลายมายังส่วนต้น ซึ่งอาศัยหลักการของความเหมาะที่สุดนั่นเอง โดยในระบบดีสครึตจะเขียนให้ชัดเจนขึ้น ดูรูปที่ 4.3 ประกอบ\n",
    "\n",
    "<img src=\"https://raw.githubusercontent.com/dewdotninja/ocrl/refs/heads/main/doc/figs/ch4_poo_discrete.png\" width=800 />\n",
    "\n",
    "รูปที่ 4.3 แผนภาพแสดงหลักการของเความเหมาะที่สุดในระบบดีสครีต \n",
    "\n",
    "<hr>\n",
    "\n",
    "**หลักการของความเหมาะที่สุด**\n",
    "\n",
    "สำหรับลำดับตัวควบคุมเหมาะที่สุด $\\{u_0^*, \\ldots, u_{N-1}^*\\}$ และค่าเริ่มต้น $x_0$ เป็นตัวกำหนดลำดับของสถานะ \n",
    "$\\{x_1^*, \\ldots, x_{N}^*\\}$ ตามสมการพลวัต (4.1) พิจารณาปัญหาย่อยที่เริ่มจาก $x_k^*$ ณ ขั้นเวลา $k$ ต้องการหาค่าต่ำสุดของ \n",
    "*มูลค่ารายทาง (cost-to-go)* จากขั้น $k$ ไปยังขั้นปลาย $N$\n",
    "\n",
    "$$\n",
    "g_k(x_k^*,u_k) + \\sum_{m = k+1}^{N-1}g_m(x_m, u_m) + g_N(x_N) \\tag{4.4}\n",
    "$$\n",
    "\n",
    "โดยลำดับตัวควบคุม $\\{u_k,\\ldots,u_{N-1}\\}$ ในเซต $u_m \\in U_m(x_m), \\; m = k, \\ldots, N-1$ ดังนั้นลำดับตัวควบคุมเหมาะที่สุดในส่วนปลายที่ถูกตัดออก $\\{u_k^*,\\ldots,u_{N-1}^*\\}$ จะเหมาะที่สุดสำหรับปัญหาย่อยนี้ด้วย\n",
    "\n",
    "<hr>\n",
    "\n",
    "เราเรียกปัญหาย่อยนี้ว่า ปัญหาย่อยส่วนปลาย ที่เริ่มต้นจาก $x_k^*$ หลักการของความเหมาะที่สุดกล่าวว่า ส่วนปลายของลำดับที่เหมาะที่สุดจะเหมาะที่สุดสำหรับปัญหาย่อยส่วนปลาย โดยเหตุผลเดิมที่อธิบายแล้วข้างต้น หากลำดับตัวควบคุมส่วนปลายที่ถูกตัดออก $\\{u_k^*,\\ldots,u_{N-1}^*\\}$ ไม่เป็นแบบเหมาะที่สุด เราต้องสามารถจะลดมูลค่าลงได้อีกโดยเลือกลำดับตัวควบคุมอื่นเมื่อถึงขั้น $x_k^*$ ทั้งนี้เนื่องจากตัวควบคุมที่เลือกก่อนหน้านี้คือ $\\{u_0^*,\\ldots,u_{k-1}^*\\}$ มิได้จำกัดการเลือกตัวควบคุมในอนาคต\n",
    "\n",
    "โดยหลักการของความเหมาะที่สุด อัลกอริทึม DP จะเริ่มต้นจากการคำนวณค่าเหมาะที่สุดของฟังก์ชันมูลค่า \n",
    "$$\n",
    "J_N^*(x_N), J_{N-1}^*(x_{N-1}), \\ldots, J_0^*(x_0) \n",
    "$$\n",
    "ตามลำดับ เริ่มต้นจาก $J_N^*$ ย้อนหลังไปยัง $J_{N-1}^*, J_{N-2}^*$ จนถึง $J_0^*$ ดังนั้นเขียนเป็นโครงสร้างได้ดังนี้\n",
    "\n",
    "<hr>\n",
    "\n",
    "**อัลกอริทึม DP สำหรับปัญหาเชิงกำหนดแบบแนวนอนจำกัด**\n",
    "\n",
    "เริ่มต้นจาก\n",
    "$$\n",
    "J_N^*(x_N) = g_N(x_N),\\; \\forall x_N \\tag{4.5}\n",
    "$$\n",
    "\n",
    "วนซ้ำโดยลดค่า $k$ จาก $N-1$ ถึง $0$\n",
    "\n",
    "$$\n",
    "J^*(x_k) = \\underset{u_k \\in U_k(x_k)}{min} \\left[g_k(x_k,u_k) + J_{k+1}^*(f_k(x_k,u_k))\\right],\\; \\forall x_k \\tag{4.6}\n",
    "$$\n",
    "\n",
    "<hr>\n",
    "\n",
    "รูปที่ 4.4 อธิบายการหาค่าของ $J_k^*(x_k)$ ตาม (4.6) ซึ่งก็คือมูลค่าเหมาะที่สุดของปัญหาย่อยส่วนปลายที่เริ่มจากสถานะ $x_k$ \n",
    "ณ ขั้นเวลา $k$ มีมูลค่าการไปตาม (4.4) ในการหาคำตอบเราเพียงเลือกตัวควบคุม $u_k$ \n",
    "ที่จะให้ค่าต่ำสุดสำหรับมูลค่าขั้นเดี่ยวแรกบวกกับมูลค่าต่ำสุดของปัญหาย่อยส่วนปลาย สังเกตว่า ณ ขั้น $k$ การคำนวณ (4.6) \n",
    "ต้องกระทำสำหรับทุกสถานะ $x_k$ ก่อนจะย้อนหลังมายังขั้น $k-1$ \n",
    "\n",
    "สำหรับการพิสูจน์ว่า $J_k^*(x_k)$ เป็นมูลค่าเหมาะที่สุดของปัญหาส่วนปลาย $N-k$ ขั้นจาก $x_k$ ไปยัง $x_N$ โดยวิธีอุปนัย \n",
    "(induction) สามารถศึกษาได้จาก [3]\n",
    "\n",
    "<img src=\"https://raw.githubusercontent.com/dewdotninja/ocrl/refs/heads/main/doc/figs/ch4_tail_subprob.png\" width=800 />\n",
    "\n",
    "รูปที่ 4.4 มูลค่าเหมาะที่สุด $J_k^*(x_k)$ ของปัญหาย่อยส่วนปลาย\n",
    "\n",
    "**หมายเหตุุ** $J_k^*(x_k)$ หรืออาจเขียนย่อเพียง $J_k^*$ มักถูกเรียกว่า \"optimal cost-to-go\" \n",
    "ซึ่งผู้เขียนแปลภาษาไทยว่า \"มูลค่ารายทางเหมาะที่สุด\" ซึ่งจะใช้คำนี้เป็นหลัก คำศัพท์อื่นที่ใช้เรียกเช่น ฟังก์ชันมูลค่าเหมาะที่สุด (optimal cost function) \n",
    "หรือในปัญหา RL ที่เป็นการหาค่าสูงสุด มักใช้ภาษาอังกฤษว่า \"optimal value function\" ณ เวลา $k$"
   ]
  },
  {
   "cell_type": "markdown",
   "metadata": {
    "vscode": {
     "languageId": "plaintext"
    }
   },
   "source": [
    "จากแผนภาพในรูปที่ 4.2 สมมุติว่าเมื่อใช้อัลกอริทึม DP คำนวณมูลค่าย้อนหลังจากปลายมาสู่สถานะเริ่มต้นได้ดังรูปที่ 4.5 \n",
    "ซึ่งเป็นเสมือนขั้นแรกในการแก้ปํญหาเท่านั้น เพราะในรูปปัญหาขนาดเล็กที่ใช้อธิบายนี้เหมือนกับว่าเราได้เห็นแนววิถีตัวควบคุมเหมาะที่สุดตามเส้นสีแดง \n",
    "แต่ในปัญหาจริงที่มีขนาดใหญ่เราอาจไม่ได้มีการเก็บค่าของตัวควบคุมทั้งหมดไว้ \n",
    " \n",
    "\n",
    "<img src=\"https://raw.githubusercontent.com/dewdotninja/ocrl/refs/heads/main/doc/figs/ch4_fsdp_diagram2.png\" width=800 />\n",
    "\n",
    "รููปที่ 4.5 การคำนวณมูลค่าการไปเหมาะที่สุดจากส่วนปลายย้อนมายังจุดเริ่มต้น\n",
    "\n",
    "ดังนั้นขั้นตอนที่สองคือคำนวณหาแนววิถีของตัวควบคุมเหมาะที่สุดจากสถานะเริ่มต้นไปข้างหน้าสู่สถานะปลายดังแสดงในรูปที่ 4.6\n",
    "\n",
    "<hr>\n",
    "\n",
    "**การหาลำดับตัวควบคุมเหมาะที่สุด**\n",
    "\n",
    "ในการหาลำดับของตัวควบคุมเหมาะที่สุด $\\{u_0^*, \\ldots, u_{N-1}^*\\}$ กำหนด \n",
    "\n",
    "$$\n",
    "u_0^* = arg \\; \\underset{u_0 \\in U_0(x_0)}{min} \\left[g_0(x_0,u_0) + J_1^*(f_0(x_0,u_0))\\right] \\tag{4.7}\n",
    "$$\n",
    "และ\n",
    "$$\n",
    "x_1^* = f_0(x_0,u_0^*) \\tag{4.8}\n",
    "$$\n",
    "\n",
    "วนซ้ำในทิศทางข้างหน้า จาก $k = 1,2,\\ldots, N-1$ \n",
    "\n",
    "$$\n",
    "u_k^* = arg \\; \\underset{u_k \\in U_k(x_k^*)}{min} \\left[g_k(x_k^*,u_k) + J_{k+1}^*(f_k(x_k^*,u_k))\\right] \\tag{4.9}\n",
    "$$\n",
    "และ\n",
    "$$\n",
    "x_{k+1}^* = f_k(x_k^*,u_k^*) \\tag{4.10}\n",
    "$$\n",
    "\n",
    "<hr>\n",
    "\n",
    "<img src=\"https://raw.githubusercontent.com/dewdotninja/ocrl/refs/heads/main/doc/figs/ch4_fsdp_diagram3.png\" width=800 />\n",
    "\n",
    "รููปที่ 4.6 การคำนวณตัวควบคุมเหมาะที่สุด $\\{u_0^*, \\ldots, u_{N-1}^*\\}$ ในทิศทางข้างหน้า\n",
    "\n",
    "ผู้ที่เคยศึกษาด้าน RL อาจเคยเห็นการนำเสนอปัญหา DP อีกรูปแบบหนึ่งที่นิยมเรียกว่าฟังก์ชัน Q หรือฟังก์ชันมูลค่า-การกระทำ (action-value) \n",
    "โดยนิยามฟังก์ชันที่อยู่ภายในการหาค่าต่ำสุดของ (4.6) \n",
    "$$\n",
    "\\mathcal{Q}_k(x,u) = g_k(x_k,u_k) + J_{k+1}(f_k(x_k,u_k)) \\tag{4.11}\n",
    "$$\n",
    "\n",
    "โดยใน [4] ได้เปลี่ยนเป็นใช้อักขระ $S$ แทนเพื่อมิให้ซ้ำกับเมทริกซ์น้ำหนักใน LQR แต่ในหนังสือนี้จะยังเรียกว่าฟังก์ชัน Q\n",
    "เพียงใช้ฟ้อนต์ mathcal $\\mathcal{Q}$ สำหรับฟังก์ชัน Q และฟ้อนต์ธรรมดาสำหรับเมทริกซ์น้ำหนัก \n",
    "\n",
    "เหตุผลของการใช้แนวทางนี้ใน RL เนื่องจากสะดวกต่อการประมาณค่าฟังก์ชันโดยวิธีการต่างๆ เช่นใช้โครงข่ายประสาทเทียม \n",
    "ในวิธีการใช้ฟังก์ชันมูลค่า  (4.6) จะต้องเรียนรู้ทั้ง $f_k()$ และ $J_k()$ แต่ถ้าใช้ (4.11) จะเรียนรู้เพียงฟังก์ชันเดียวคือ Q \n",
    "กล่าวคือเป็นแนวทางที่เรียกว่าเป็นอิสระจากโมเดล (model-free) \n",
    "\n",
    "**ตัวอย่าง 4.1** \n",
    "\n",
    "**หมายเหตุ :** ตัวอย่างนี้ตามรอยหนังสือ [3] เพียงเปลี่ยนข้อมูลค่าใช้จ่ายระหว่างเมือง\n",
    "\n",
    "ปัญหาการเดินทางของพนักงานขาย (traveling salesman problem ต่อไปจะเรียกย่อว่า TSP) เป็นที่รู้จักกันดีโดยเฉพาะผู้ศึกษาด้านคอมพิวเตอร์\n",
    " โจทย์กำหนดรายชื่อเมืองจำนวนหนึ่ง และระยะทาง (หรือบางโจทย์กำหนดเป็นค่าใช้จ่ายในการเดินทาง) ระหว่างแต่ละคู่ของเมืองทั้งหมด \n",
    " ต้องการหาเส้นทางที่สั้นที่สุด (หรือค่าใช้จ่ายต่ำสุด) หากต้องการแวะที่แต่ละเมืองเพียงครั้งเดียว และกลับมาที่เมืองเริ่มต้น\n",
    "\n",
    "ในตัวอย่างนี้จะลองศึกษาการแก้ปัญหา TSP ขนาดเล็กโดยอัลกอริทึม DP โดยกำหนด 4 เมืองคือ A,B,C,D \n",
    "ในการแปลงโจทย์นี้ให้กลายเป็นปัญหา DP \n",
    "เราจะสร้างแผนภาพที่แต่ละโนดแทนลำดับที่แตกต่างกันของเมืองที่แวะไป โดยเราเลือกจะเริ่มจากเมือง A \n",
    "แล้วสิ้นสุดที่การกลับมาที่เมือง A ดังนั้นแผนภาพรวมจะเป็นดังรูปที่ 4.7 \n",
    "สำหรับเมทริกซ์ในรูปแสดงค่าใช้จ่ายในการเดินทางระหว่างเมือง ซึ่งในกรณีนี้เป็นแบบสมมาตร \n",
    "กล่าวคือค่าใช้จ่ายในการเดินทางระหว่างสองเมืองใดๆ ไม่ขึ้นกับเริ่มต้นและสิ้นสุดที่เมืองใด \n",
    "ซึ่งในกรณีทั่วไปหากไม่เป็นแบบสมมาตรก็ยังสามารถใช้วิธี DP ในการหาคำตอบได้\n",
    "\n",
    "<img src=\"https://raw.githubusercontent.com/dewdotninja/ocrl/refs/heads/main/doc/figs/ch4_travel_salesman.png\" width=600 />\n",
    "<img src=\"https://raw.githubusercontent.com/dewdotninja/ocrl/refs/heads/main/doc/figs/ch4_intercity_travel.png\" width=250 />\n",
    "\n",
    "รููปที่ 4.7 การจัดรูป TSP เพื่อแก้ปัญหาโดยวิธี DP\n",
    "\n",
    "ในแผนภาพรูปที่ 4.7 ยังได้แสดงถึงารคำนวณมูลค่ารายทางย้อนหลังจากปลายไปยังต้น ซึ่งสุดท้ายทำให้ได้แผนการเดินทางที่มีค่าใช้จ่ายต่ำสุด \n",
    "โดยจากตัวอย่างนี้พบว่าเส้นทางเหมาะที่สุดไม่เป็นหนึ่งเดียว แต่มีสองคำตอบคือ ABDCA และ ACDBA ที่จะมีค่าใช้จ่ายเท่ากันคือ 17  \n",
    "\n"
   ]
  },
  {
   "cell_type": "markdown",
   "metadata": {},
   "source": [
    "## 4.4 แก้ปัญหาการควบคุมเหมาะที่สุดโดยการโปรแกรมพลวัต\n",
    "\n",
    "เมื่อเริ่มเข้าใจรูปแบบปัญหาและอัลกอริทึม DP แล้ว เราจะย้อนกลับมาเน้นที่สาระสำคัญของหนังสือนี้คือการควบคุมเหมาะที่สุด \n",
    "\n",
    "### 4.4.1 ตัวควบคุม LQR \n",
    "\n",
    "เริ่มจากปัญหา LQR ที่นิยามในบทที่ 3 \n",
    "\n",
    "$$\n",
    "\\underset{x_{1:N},u_{1:N-1}}{min} \\; J =  \n",
    "\\sum_{k=1}^{N-1}\\frac{1}{2}x_k^TQ_kx_k + \\frac{1}{2}u_k^TR_ku_k \n",
    "+ \\frac{1}{2}x_N^TQ_Nx_N\n",
    "$$\n",
    "$$\n",
    "s.t. \\;\\; x_{k+1} = A_kx_k + B_ku_k, \\;\\; Q_k \\succcurlyeq 0, \\;\\; R_k \\succ 0 \\tag{4.12}\n",
    "$$\n",
    "\n",
    "ซึ่งเราได้ศึกษาการหาคำตอบตัวควบคุม LQR 3 วิธี ดังนั้นในหัวข้อนี้จะเริ่มจากวิธีที่ 4 คือใช้หลักการของ DP \n",
    "\n",
    "**หมายเหตุ :** เนื้อหาในส่วนนี้ตามรอย [4] สัญกรณ์ที่แตกต่างจากในวีดีโอสอนคือจะใช้ $J_k(x)$ แทน $V_k(x)$ \n",
    "สำหรับฟังก์ชันมูลค่ารายทาง ที่เหลือจะคงไว้ รวมถึงจะละทิ้งตัวยก $^*$ ในฐานที่เข้าใจว่าเราหมายถึงมูลค่ารายทางเหมาะที่สุดตลอดการอนุพัทธ์\n",
    "\n",
    "การหาคำตอบของ LQR โดยอัลกอริทึม DP เริ่มจากส่วนปลาย กำหนดมูลค่าส่วนปลายตามพจน์สุดท้ายใน (4.12)\n",
    "$$\n",
    "J_N(x) = \\frac{1}{2}x^TQ_Nx = \\frac{1}{2}x^TP_Nx \\tag{4.13}\n",
    "$$\n",
    "\n",
    "โดยจงใจตั้งชื่อเมทริกซ์ $P$ เหมือนกับในบทที่ 3 เพื่อจะแสดงให้เห็นต่อไปว่าได้คำตอบเหมือนกัน \n",
    "\n",
    "ย้อนหลังหนึ่งขั้นเพื่อคำนวณ $J_{N-1}(x)$ ตาม (4.6) โดยแทนค่าพลวัตเชิงเส้นที่เป็นเงื่อนไขบังคับสมการใน (4.12)\n",
    "\n",
    "$$\n",
    "J_{N-1} = \\underset{u}{min} \\; \\left[\\frac{1}{2}x_{N-1}^TQ_Nx_{N-1} + \\frac{1}{2}u^TRu \n",
    "+ J_N(Ax_{N-1}+Bu)\\right] \\tag{4.14}\n",
    "$$\n",
    "$$\n",
    "J_{N-1} = \\underset{u}{min} \\; \\left[\\frac{1}{2}u^TRu + \\frac{1}{2}(Ax_{N-1}+Bu)^TP_N(Ax_{N-1}+Bu)\\right]  \\tag{4.15}\n",
    "$$\n",
    "\n",
    "มีรายละเอียดปลีกย่อยเล็กน้อยในขั้นการอนุพัทธ์ (4.14) เป็น (4.15) เช่นพจน์ $\\frac{1}{2}x_{N-1}^TQ_Nx_{N-1}$ ไม่ขึ้นกับ $u$ จึงละทิ้งไป สำหรับการแทนค่าพลวัต $x_k = Ax_{k-1}+Bu_{k-1}$ แต่จะเห็นว่าแทนด้วย $u$ ใน (4.15) เนื่องจาก \n",
    "$u_{N-1}$ คือตัวควบคุมเหมาะที่สุดของ $u$ สำหรับขั้น $N-1$\n",
    "\n",
    "ต้องการหาคำตอบสำหรับฟังก์ชันมูลค่า (4.15) ในรูป $J_{N-1}(x)$ แต่ยังติดอยู่ที่การหาค่าต่ำสุดของ $u$ ดังนั้นใช้วิธีการเดิมคือหาค่าเกรเดียนต์ $\\nabla_u J$ และให้เท่ากับศูนย์\n",
    "$$\n",
    "\\nabla_u J = Ru + B^TP_N(Ax_{N-1}+ Bu) = 0 \\tag{4.16}\n",
    "$$\n",
    "ได้คำตอบสำหรับตัวควบคุมเหมาะที่สุด\n",
    "$$\n",
    "u_{N-1} = -(R + B^TP_NB)^{-1}BP_NAx_{N-1} = -K_{N-1}x_{N-1} \\tag{4.17}\n",
    "$$\n",
    "เมื่อนิยาม\n",
    "$$\n",
    "K_{N-1} \\triangleq (R + B^TP_NB)^{-1}BP_NA \\tag{4.18}\n",
    "$$\n",
    "แทนค่า (4.17) กลับเข้าไปใน (4.14) จะได้เป็น\n",
    "$$\n",
    "J_{N-1}(x) = \\frac{1}{2}x^T\\left[Q + K_{N-1}^TRK_{N-1} + (A-BK_{N-1})^TP_N(A-BK_{N-1})\\right]x = \\frac{1}{2}x^TP_{N-1}x \\tag{4.19}\n",
    "$$\n",
    "เมื่อนิยาม\n",
    "$$\n",
    "P_{N-1} \\triangleq Q + K_{N-1}^TRK_{N-1} + (A-BK_{N-1})^TP_N(A-BK_{N-1}) \\tag{4.20}\n",
    "$$\n",
    "\n",
    "โดยการวนซ้ำย้อนหลังตามขั้นตอนนี้สำหรับเมทริกซ์ $K_k$ และ $P_k$ จนถึงขั้นต้น $k=0$ เราจะได้คำตอบที่สอดคล้องกับวิธีการวนซ้ำริกคาติในบทที่ 3 แม้ว่ารูปของสมการ $P_k$ อาจดูเหมือนแตกต่างกัน แต่จากตัวอย่างต่อไปจะแสดงให้เห็นว่าให้คำตอบที่ตรงกัน"
   ]
  },
  {
   "cell_type": "markdown",
   "metadata": {},
   "source": [
    "**ตัวอย่าง 4.2** \n",
    "\n",
    "จากตัวอย่างปัญหา LQR เดิมในบทที่ 3 ในตัวอย่างนี้จะใช้การวนซ้ำริกคาติที่ได้จากการอนุพัทธ์ในหัวข้อนี้ \n",
    "โดยใช้ข้อมูลเดิมและเปรียบเทียบกับวิธี QP ในบทที่ 3 เพื่อความสะดวกในการอ้างอิงจะทำซ้ำวิธี QP อีกครั้งหนึ่งในตัวอย่างนี้"
   ]
  },
  {
   "cell_type": "code",
   "execution_count": null,
   "metadata": {},
   "outputs": [],
   "source": [
    "import numpy as np \n",
    "import matplotlib.pyplot as plt \n",
    "from numpy.linalg import norm,solve\n",
    "import scipy as sp\n",
    "from scipy.sparse.linalg import  spsolve\n",
    "from scipy.sparse import kron"
   ]
  },
  {
   "cell_type": "code",
   "execution_count": 4,
   "metadata": {},
   "outputs": [],
   "source": [
    "# discrete dynamics\n",
    "h = 0.1  # time step\n",
    "A = np.array([[1,h],[0,1]])\n",
    "B = np.array([0.5*h*h, h]).reshape(2,1)\n",
    "\n",
    "# Cost weights\n",
    "Q = 1.0*np.eye(2)\n",
    "R = np.array([[0.1]])\n",
    "Qn = 1.0*np.eye(2)"
   ]
  },
  {
   "cell_type": "code",
   "execution_count": 3,
   "metadata": {},
   "outputs": [],
   "source": [
    "n = 2     # number of state\n",
    "m = 1     # number of controls\n",
    "Tfinal = 10.0 # final time #try larger values\n",
    "N = int(Tfinal/h)+1    # number of time steps\n",
    "thist = np.arange(0,h*(N-1),h)"
   ]
  },
  {
   "cell_type": "code",
   "execution_count": 5,
   "metadata": {},
   "outputs": [],
   "source": [
    "# function for computing cost\n",
    "def J(xhist, uhist):\n",
    "    xend = xhist[:,-1]\n",
    "    cost = 0.5*xend.T@Qn@xend\n",
    "    for k in range(xhist.shape[1]-1):\n",
    "        xk = xhist[:,k]\n",
    "        uk = uhist[0,k]\n",
    "        cost = cost + 0.5*xk.T@Q@xk + 0.5*uk*R*uk\n",
    "    return cost"
   ]
  },
  {
   "cell_type": "code",
   "execution_count": 6,
   "metadata": {},
   "outputs": [],
   "source": [
    "# Initial conditions\n",
    "x0 = np.array([[1.0],[0]])"
   ]
  },
  {
   "cell_type": "code",
   "execution_count": 7,
   "metadata": {},
   "outputs": [],
   "source": [
    "H = sp.sparse.block_diag((R,kron(sp.sparse.identity(N-2,format='lil'),sp.sparse.block_diag((Q,R))),Qn))"
   ]
  },
  {
   "cell_type": "code",
   "execution_count": 8,
   "metadata": {},
   "outputs": [],
   "source": [
    "# Constraints\n",
    "C = kron(sp.sparse.identity(N-1,format='lil'),sp.sparse.hstack((B,-sp.sparse.identity(2,format='lil'))))\n",
    "C = sp.sparse.lil_array(C)\n",
    "for k in range(1,N-1):\n",
    "    C[(k*n):(k*n)+n,k*(n+m)-n:k*(n+m)] = A # this operation prefers sparse 'lil' or 'dok' type\n",
    "d = sp.sparse.vstack((-A@x0, sp.sparse.lil_array(np.zeros((C.shape[0]-n,1)))))"
   ]
  },
  {
   "cell_type": "code",
   "execution_count": 9,
   "metadata": {},
   "outputs": [],
   "source": [
    "# Solve the linear system G*y = w --> y = solve(G,w)\n",
    "# where G = [H C';C 0], y = [z; lambda], w = [0; d]\n",
    "G = sp.sparse.vstack((sp.sparse.hstack((H,C.T)),sp.sparse.hstack((C,sp.sparse.lil_array(np.zeros((C.shape[0],C.shape[0])))))))\n",
    "w = sp.sparse.vstack((np.zeros((H.shape[0],1)), d))\n",
    "G = sp.sparse.csc_array(G) # solve requires sparse 'csr' or 'csc' type\n",
    "w = sp.sparse.csc_array(w)\n",
    "y = spsolve(G,w)\n",
    "\n",
    "# Get multiplier\n",
    "lambdahist_qp = y[H.shape[0]:].reshape(N-1,n).T \n",
    "\n",
    "# Get state history\n",
    "z = y[0:H.shape[0]] # states and controls [u0, x1, u1, ..., xN] where uk is scalar and xk is (2,1)\n",
    "Z = z.reshape(N-1,n+m).T\n",
    "xhist_qp = Z[m:n+m,:]\n",
    "uhist_qp = Z[0,:].reshape(1,N-1)\n",
    "xhist_qp = np.hstack((x0,xhist_qp))"
   ]
  },
  {
   "cell_type": "markdown",
   "metadata": {},
   "source": [
    "ต้องการเปรียบเทียบกับคำตอบจากการวนซ้ำริกคาติที่ได้จากวิธี DP "
   ]
  },
  {
   "cell_type": "code",
   "execution_count": 12,
   "metadata": {},
   "outputs": [],
   "source": [
    "#Dynamic Programming Solution for P and K\n",
    "P = np.zeros((n,n,N))\n",
    "K = np.zeros((m,n,N-1))\n",
    "P[:,:,N-1] = Qn\n",
    "\n",
    "# Backward Riccati recursion\n",
    "for k in range(N-1,0,-1):\n",
    "    K[:,:,k-1] = solve(R + B.T@P[:,:,k]@B,B.T@P[:,:,k]@A)\n",
    "    P[:,:,k-1] = Q + K[:,:,k-1].T@R@K[:,:,k-1] + (A - B@K[:,:,k-1]).T@P[:,:,k]@(A-B@K[:,:,k-1])\n",
    "\n",
    "# Forward rollout starting at x0 \n",
    "xhist_dp = np.zeros((n,N))\n",
    "xhist_dp[:,[0]] = x0\n",
    "uhist_dp = np.zeros((m,N-1))\n",
    "for k in range(N-1):\n",
    "    uhist_dp[:,[k]] = -K[:,:,k]@xhist_dp[:,[k]]\n",
    "    xhist_dp[:,[k+1]] = A@xhist_dp[:,[k]] + B*uhist_dp[:,[k]]"
   ]
  },
  {
   "cell_type": "markdown",
   "metadata": {},
   "source": [
    "สังเกตว่าแนววิถีของวิธี QP และ DP อยู่ในตัวแปร xhist_qp, uhist_qp และ xhist_dp, uhist_dp \n",
    "ตามลำดับ เขียนฟังก์ชัน compare_x() และ compare_u() เพื่อเปรียบเทียบแนววิถีสถานะและตัวควบคุมจาก 2 วิธี"
   ]
  },
  {
   "cell_type": "code",
   "execution_count": 13,
   "metadata": {},
   "outputs": [],
   "source": [
    "def compare_x(t,x_qp,x_dp):\n",
    "    plt.figure()\n",
    "    plt.plot(t,x_qp[0,0:N-1],\"b-\",thist,x_qp[1,0:N-1],'orange',\n",
    "             t,x_dp[0,0:N-1],\"g-\",thist,x_dp[1,0:N-1],'r-')\n",
    "    plt.xlabel(\"time (sec)\")\n",
    "    plt.ylabel(\"x(k)\")\n",
    "    plt.legend([\"QP Position\",\"QP Velocity\",\"DP Position\",\"DP Velocity\"])\n",
    "    plt.grid(True)\n",
    "    plt.show()   \n",
    "\n",
    "def compare_u(t,u_qp, u_dp):\n",
    "    plt.figure()\n",
    "    plt.plot(t,u_qp,\"m-\",t,u_dp,\"g-\")\n",
    "    plt.xlabel(\"time (sec)\")\n",
    "    plt.ylabel(\"u(k)\")\n",
    "    plt.legend([\"QP Control\",\"DP Control\"])\n",
    "    plt.grid(True)\n",
    "    plt.show()      "
   ]
  },
  {
   "cell_type": "markdown",
   "metadata": {},
   "source": [
    "ผลการเปรียบเทียบแสดงได้ดังในรูปที่ 4.8 และ 4.9 จะเห็นว่าเหมือนกันแบบไม่สามารถแยกความแตกต่างด้วยสายตาได้"
   ]
  },
  {
   "cell_type": "code",
   "execution_count": 14,
   "metadata": {},
   "outputs": [
    {
     "data": {
      "image/png": "[encoded data removed]",
      "text/plain": [
       "<Figure size 640x480 with 1 Axes>"
      ]
     },
     "metadata": {},
     "output_type": "display_data"
    }
   ],
   "source": [
    "compare_x(thist,xhist_qp,xhist_dp)"
   ]
  },
  {
   "cell_type": "markdown",
   "metadata": {},
   "source": [
    "รูปที่ 4.8 ผลการเปรียบเทียบแนววิถีสถานะจากวิธี QP และ DP"
   ]
  },
  {
   "cell_type": "code",
   "execution_count": 15,
   "metadata": {},
   "outputs": [
    {
     "data": {
      "image/png": "[encoded data removed]",
      "text/plain": [
       "<Figure size 640x480 with 1 Axes>"
      ]
     },
     "metadata": {},
     "output_type": "display_data"
    }
   ],
   "source": [
    "compare_u(thist,uhist_qp.flatten(), uhist_dp.flatten())"
   ]
  },
  {
   "cell_type": "markdown",
   "metadata": {},
   "source": [
    "รูปที่ 4.9 ผลการเปรียบเทียบแนววิถีตัวควบคุมจากวิธี QP และ DP\n",
    "\n",
    "ตรวจสอบค่าสมาชิกของ $K_k$ และ $P_k$ เทียบขั้นเวลาได้ผลดังรูปที่ 4.10 และ 4.11 \n",
    "ซึ่งจะได้ผลเหมือนกับวิธีวนซ้ำริกคาติในบทที่ 3 คือการวนซ้ำเริ่มจากส่วนปลายย้อนกลับไปส่วนต้น \n",
    "ดังนั้นในช่วงปลายค่าจะมีการเปลี่ยนแปลง จนเริ่มเข้าสู่ค่าคงที่เมื่อย้อนกลับไปช่วงเวลาหนึ่ง (ประมาณ 3 วินาที) "
   ]
  },
  {
   "cell_type": "code",
   "execution_count": 16,
   "metadata": {},
   "outputs": [
    {
     "data": {
      "image/png": "[encoded data removed]",
      "text/plain": [
       "<Figure size 640x480 with 1 Axes>"
      ]
     },
     "metadata": {},
     "output_type": "display_data"
    }
   ],
   "source": [
    "plt.figure()\n",
    "plt.plot(thist,K[0,0,:],'b')\n",
    "plt.plot(thist,K[0,1,:],'orange')\n",
    "plt.legend(['K1','K2'])\n",
    "plt.xlabel('time (sec)')\n",
    "plt.ylabel('LQR gains')\n",
    "plt.grid(True)\n",
    "plt.show()\n"
   ]
  },
  {
   "cell_type": "markdown",
   "metadata": {},
   "source": [
    "รูปที่ 4.10 ค่าสมาชิกของเวกเตอร์ $K_k$ ที่คำนวณย้อนหลัง"
   ]
  },
  {
   "cell_type": "code",
   "execution_count": 17,
   "metadata": {},
   "outputs": [
    {
     "data": {
      "image/png": "[encoded data removed]",
      "text/plain": [
       "<Figure size 640x480 with 1 Axes>"
      ]
     },
     "metadata": {},
     "output_type": "display_data"
    }
   ],
   "source": [
    "plt.figure()\n",
    "plt.plot(thist,P[0,0,:-1],'b')\n",
    "plt.plot(thist,P[0,1,:-1],'orange')\n",
    "plt.plot(thist,P[1,1,:-1],'g')\n",
    "plt.legend(['P(1,1)','P(1,2)=P(2,1)','P(2,2)'])\n",
    "plt.xlabel('time (sec)')\n",
    "plt.ylabel('elements of Pk')\n",
    "plt.grid(True)\n",
    "plt.show()"
   ]
  },
  {
   "cell_type": "markdown",
   "metadata": {},
   "source": [
    "รูปที่ 4.11 ค่าสมาชิกของเมทริกซ์ $P_k$ ที่คำนวณย้อนหลัง\n",
    "\n",
    "คำนวณมูลค่าจากทั้งสองวิธีจะได้ค่าประมาณเท่ากัน"
   ]
  },
  {
   "cell_type": "code",
   "execution_count": 18,
   "metadata": {},
   "outputs": [
    {
     "data": {
      "text/plain": [
       "6.658612208961308"
      ]
     },
     "execution_count": 18,
     "metadata": {},
     "output_type": "execute_result"
    }
   ],
   "source": [
    "J(xhist_qp,uhist_qp).item()"
   ]
  },
  {
   "cell_type": "code",
   "execution_count": 19,
   "metadata": {},
   "outputs": [
    {
     "data": {
      "text/plain": [
       "6.658612208961312"
      ]
     },
     "execution_count": 19,
     "metadata": {},
     "output_type": "execute_result"
    }
   ],
   "source": [
    "J(xhist_dp,uhist_dp).item()"
   ]
  },
  {
   "cell_type": "markdown",
   "metadata": {},
   "source": [
    "สำหรับกรณีแนวนอนอนันต์ ใช้แพ็กเกจ Python Control Systems คำนวณหาเมทริกซ์ $K$ \n",
    "ได้โดยวิธี dlqr() เหมือนกับในบทที่ 3 เมื่อเปรียบเทียบกับ $K_k$ เมื่อเข้าสู่ค่าคงที่จะพบว่าแตกต่างกันน้อยมาก"
   ]
  },
  {
   "cell_type": "code",
   "execution_count": 21,
   "metadata": {},
   "outputs": [],
   "source": [
    "import control as ctl"
   ]
  },
  {
   "cell_type": "code",
   "execution_count": 22,
   "metadata": {},
   "outputs": [
    {
     "data": {
      "text/plain": [
       "array([[-6.72932732e-09, -2.28764208e-09]])"
      ]
     },
     "execution_count": 22,
     "metadata": {},
     "output_type": "execute_result"
    }
   ],
   "source": [
    "# Compute infinite-horizon K matrix using Control Systems library\n",
    "Kinf = ctl.dlqr(A,B,Q,R)\n",
    "Kinf = Kinf[0]\n",
    "# Compare to DP method at k = 0\n",
    "K[:,:,0] - Kinf"
   ]
  },
  {
   "cell_type": "markdown",
   "metadata": {},
   "source": [
    "สังเคราะห์เมทริกซ์ $P$ โดยแพ็กเกจนี้โดยวิธี dare() เปรียบเทียบกับ $P_k$ เมื่อคงที่"
   ]
  },
  {
   "cell_type": "code",
   "execution_count": 23,
   "metadata": {},
   "outputs": [
    {
     "data": {
      "text/plain": [
       "array([[-2.32084698e-08, -7.88975241e-09],\n",
       "       [-7.88975196e-09, -2.68212919e-09]])"
      ]
     },
     "execution_count": 23,
     "metadata": {},
     "output_type": "execute_result"
    }
   ],
   "source": [
    "#Compute infinite-horizon P matrix using Control Systems Library\n",
    "Pinf = ctl.dare(A,B,Q,R)\n",
    "Pinf = Pinf[0]\n",
    "#Compare to DP method at k = 0\n",
    "P[:,:,0] - Pinf"
   ]
  },
  {
   "cell_type": "markdown",
   "metadata": {},
   "source": [
    "เราสามารถตรวจสอบหลักการของความเหมาะที่สุดได้จากโปรแกรม โดยเขียนฟังก์ชัน rollout() \n",
    "ที่สามารถกำหนดขั้นสถานะเริ่มต้นได้ตามต้องการ กล่าวคือใช้สำหรับหาคำตอบปัญหาย่อยส่วนปลายจากจุดเริ่มต้นที่กำหนดไปยังขั้นสุดท้าย "
   ]
  },
  {
   "cell_type": "code",
   "execution_count": 24,
   "metadata": {},
   "outputs": [],
   "source": [
    "# Create a forward rollout function starting at xk\n",
    "def rollout(k,x):\n",
    "    xsub = np.zeros((n,N-k))\n",
    "    xsub[:,[0]] = x\n",
    "    usub = np.zeros((m,N-k-1))\n",
    "    for j in range(k,N-1):\n",
    "        usub[:,[j-k]] = -K[:,:,j]@xsub[:,[j-k]]\n",
    "        xsub[:,[j-k+1]] = A@xsub[:,[j-k]] + B*usub[:,[j-k]]\n",
    "    return xsub, usub    "
   ]
  },
  {
   "cell_type": "markdown",
   "metadata": {},
   "source": [
    "ทดลองหาแนววิถีจากขั้นที่ 50 จนถึงขั้นสุดท้าย"
   ]
  },
  {
   "cell_type": "code",
   "execution_count": 25,
   "metadata": {},
   "outputs": [],
   "source": [
    "k = 50\n",
    "xsub, usub = rollout(k,xhist_dp[:,[k]])"
   ]
  },
  {
   "cell_type": "markdown",
   "metadata": {},
   "source": [
    "เมื่อเปรียบเทียบแนววิถีย่อยนี้กับส่วนปลายของแนววิถีเหมาะที่สุดเดิม จะต้องไม่มีความแตกต่างกัน"
   ]
  },
  {
   "cell_type": "code",
   "execution_count": 28,
   "metadata": {},
   "outputs": [
    {
     "data": {
      "text/plain": [
       "0.0"
      ]
     },
     "execution_count": 28,
     "metadata": {},
     "output_type": "execute_result"
    }
   ],
   "source": [
    "norm(xsub - xhist_dp[:,k:])"
   ]
  },
  {
   "cell_type": "code",
   "execution_count": 29,
   "metadata": {},
   "outputs": [
    {
     "data": {
      "text/plain": [
       "0.0"
      ]
     },
     "execution_count": 29,
     "metadata": {},
     "output_type": "execute_result"
    }
   ],
   "source": [
    "norm(usub - uhist_dp[:,k:])"
   ]
  },
  {
   "cell_type": "markdown",
   "metadata": {},
   "source": [
    "ในขั้นสุดท้ายต้องการแสดงความสัมพันธ์ระหว่างตัวคูณลากรานจ์จากวิธี QP และเกรเดียนต์ของมูลค่ารายทางจากวิธี DP \n",
    "ในส่วนนี้ต้องการฟังก์ชันคำนวนอนุพันธ์อัตโนมัติโดยใช้แพ็กเกจ drake "
   ]
  },
  {
   "cell_type": "code",
   "execution_count": 31,
   "metadata": {},
   "outputs": [],
   "source": [
    "from pydrake import forwarddiff"
   ]
  },
  {
   "cell_type": "markdown",
   "metadata": {},
   "source": [
    "นิยามฟังก์ชันคำนวณมูลค่ารายทางสำหรับกรณีแนวนอนจำกัดและแนวนอนอนันต์ "
   ]
  },
  {
   "cell_type": "code",
   "execution_count": 32,
   "metadata": {},
   "outputs": [],
   "source": [
    "# cost-to-go function\n",
    "def Vinf(x):\n",
    "    return 0.5*x.T@Pinf@x\n",
    "\n",
    "def V(x):\n",
    "    return 0.5*x.T@P[:,:,k]@x"
   ]
  },
  {
   "cell_type": "markdown",
   "metadata": {},
   "source": [
    "จากการหาคำตอบโดยวิธี QP ด้านบน เราได้คัดแยกตัวคูณลากรานจ์ใส่ในเวกเตอร์ lambdahist_qp พิจารณาค่าจากขั้น k-2"
   ]
  },
  {
   "cell_type": "code",
   "execution_count": 30,
   "metadata": {},
   "outputs": [
    {
     "data": {
      "text/plain": [
       "array([ 0.08494406, -0.01444303])"
      ]
     },
     "execution_count": 30,
     "metadata": {},
     "output_type": "execute_result"
    }
   ],
   "source": [
    "lambdahist_qp[:,k-2]"
   ]
  },
  {
   "cell_type": "markdown",
   "metadata": {},
   "source": [
    "เปรียบเทียบกับค่าเกรเดียนต์ที่คำนวณจาก forwarddiff ในกรณีแนวนอนจำกัดและแนวนอนอนันต์ \n",
    "พบว่ามีค่าใกล้เคียงกันมาก"
   ]
  },
  {
   "cell_type": "code",
   "execution_count": 33,
   "metadata": {},
   "outputs": [
    {
     "data": {
      "text/plain": [
       "array([ 0.08494305, -0.01444337])"
      ]
     },
     "execution_count": 33,
     "metadata": {},
     "output_type": "execute_result"
    }
   ],
   "source": [
    "forwarddiff.gradient(V,xhist_dp[:,k-1])"
   ]
  },
  {
   "cell_type": "code",
   "execution_count": 34,
   "metadata": {},
   "outputs": [
    {
     "data": {
      "text/plain": [
       "array([ 0.0849483 , -0.01444159])"
      ]
     },
     "execution_count": 34,
     "metadata": {},
     "output_type": "execute_result"
    }
   ],
   "source": [
    "#Also compare to infinite horizon\n",
    "forwarddiff.gradient(Vinf,xhist_dp[:,k-1])"
   ]
  },
  {
   "cell_type": "markdown",
   "metadata": {},
   "source": [
    "**หมายเหตุ :** การระบุหมายเลขขั้นในเนื้อหากับในโปรแกรมอาจมีความแตกต่างกัน \n",
    "เพราะในภาษาไพทอนตัวชี้เริ่มจาก 0 แต่ในเนื้อหาเรามักเริ่มขั้นแรกจาก 1 ดังนั้นการเขียนโค้ดอาจต้องระมัดระวังในส่วนนี้ \n",
    "มิฉะนั้นคำตอบจากโปรแกรมอาจคลาดเคลื่อนจากความเป็นจริง \n",
    "(ซึ่งบางครั้งค่าคลาดเคลื่อนมีค่าน้อยเพราะข้อมูลอาจเปลี่ยนแปลงไม่มากระหว่างขั้นที่ต่อเนื่องกัน)\n",
    "\n",
    "ทดลองคำนวณอนุพันธ์ของมูลค่าเทียบกับสถานะโดยวิธีประมาณค่าแบบผลต่างจำกัด (finite difference) ก็จะได้ค่าที่ใกล้เคียงกัน"
   ]
  },
  {
   "cell_type": "code",
   "execution_count": 36,
   "metadata": {},
   "outputs": [
    {
     "data": {
      "text/plain": [
       "array([ 0.08495071, -0.01444073])"
      ]
     },
     "execution_count": 36,
     "metadata": {},
     "output_type": "execute_result"
    }
   ],
   "source": [
    "delta = 1e-6\n",
    "x1p, u1p = rollout(k-1,xhist_dp[:,[k-1]]+np.array([delta,0]).reshape(2,1))\n",
    "x2p, u2p = rollout(k-1,xhist_dp[:,[k-1]]+np.array([0,delta]).reshape(2,1))\n",
    "lambda_fd = np.array([J(x1p,u1p) - J(xhist_dp[:,k-1:],uhist_dp[:,k-1:]),\n",
    "             J(x2p,u2p) - J(xhist_dp[:,k-1:],uhist_dp[:,k-1:])])/delta\n",
    "lambda_fd.flatten()"
   ]
  },
  {
   "cell_type": "markdown",
   "metadata": {
    "vscode": {
     "languageId": "plaintext"
    }
   },
   "source": [
    "### 4.4.2 การควบคุมแบบทำนายโมเดล\n",
    "\n",
    "ในเนื้อหาการควบคุมเหมาะที่สุดที่ผ่านมาเราได้ใช้ตัวควบคุม LQR เป็นตัวอย่างมาตลอด \n",
    "โดยเป็นตัวควบคุมพื้นฐานที่ช่วยให้เข้าใจหลักการของวิธีการต่างๆ ได้ดีขึ้น \n",
    "เป็นตัวควบคุมเชิงเส้นที่ใช้งานได้ดีในทางปฎิบัติแม้กับระบบไม่เป็นเชิงเส้น หากสามารถประมาณค่าเป็นระบบเชิงเส้นบริเวณจุดทำงาน \n",
    "\n",
    "อย่างไรก็ตาม ข้อจำกัดของตัวควบคุม LQR จะเด่นชัดขึ้นเมื่อมีเงื่อนไขบังคับอสมการ เช่นการจำกัดค่าสถานะและ/หรือเอาต์พุตควบคุม \n",
    "ซึ่งโดยวิธี LQR มิได้ออกแบบมาเพื่อจัดการกับผลกระทบนี้ เราสามารถเข้าใจผลจากเงื่อนไขบังคับอสมการได้ดีขึ้นในมุมมองของ DP\n",
    "\n",
    "**หมายเหตุ :** เช่นเดียวกับในหัวข้อก่อนหน้า ในเนื้อหาเกี่ยวกับการควบคุมเหมาะที่สุดจะพิจารณาเฉพาะมูลค่าเหมาะที่สุดเสมอ \n",
    "ดังนั้นจะละทิ้งตัวยก $^*$ เพื่อให้สมการอ่านง่ายขึ้น\n",
    "\n",
    "โดยวิธีการ DP เมื่อกำหนดฟังก์ชันมูลค่าขั้นของปัญหา LQR\n",
    "$$\n",
    "g(x_k,u_k) = \\frac{1}{2}x_k^TQx_k + \\frac{1}{2}u_k^TRu_k \\tag{4.21}\n",
    "$$\n",
    "\n",
    "หากเราทราบฟังก์ชันมูลค่ารายทาง $J(x)$ ทำให้สา่มารถหาคำตอบ $u$ โดยแก้ปัญหาขั้นเดี่ยว\n",
    "$$\n",
    "\\begin{align*}\n",
    "u_k &= arg \\; \\underset{u}{min} \\left[g(x_k,u) + J_{k+1}(f(x_k,u))\\right] \\\\\n",
    "&= arg \\; \\underset{u}{min} \\left[\\frac{1}{2}u^TRu + (Ax_k+Bu)^TP_{k+1}(Ax_k+Bu)\\right] \\tag{4.22}\n",
    "\\end{align*} \n",
    "$$\n",
    "โดยละทิ้งพจน์ $\\frac{1}{2}x_k^TQx_k$ ที่ไม่เป็นฟังก์ชันของ $u_k$ เราอาจเพิ่มเงื่อนไขบังคับเพื่อจำกัดค่า $u$ เข้า ในปัญหาขั้นเดียวนี้ แต่ย่อมมีผลทำให้คำตอบคลาดเคลื่อนไป เพราะมูลค่ารายทาง $J_{k+1}(f(x_k,u))$ ถูกคำนวณโดยไม่มีเงื่อนไขบังคับ ดังนั้นระบบนี้จะทำงานได้ไม่ดีอย่างแน่นอน\n",
    "\n",
    "วิธีแก้คือเพิ่มจำนวนขั้นให้กับปัญหา\n",
    "$$\n",
    "\\underset{\\substack{x_{1:H} \\\\ u_{1:H-1}}}{min}\\;\\left[ \\sum_{k=1}^{H-1}\\left(\\frac{1}{2}x_k^TQx_k \n",
    "+ \\frac{1}{2}u_k^TRu_k\\right) + x_H^TP_Hx_H \\right] \\tag{4.23}\n",
    "$$\n",
    "ก่อนถึงมูลค่ารายทาง $x_H^TP_Hx_H$ โดย $H \\ll N$ คือจำนวนแนวนอน (horizon) วิธีการนี้เรียกว่า *การควบคุมแบบทำนายโมเดล (MPC: model predictive control)* หรือ *การควบคุมถอยห่างแนวนอน (RHC: receding horizon control)* ในหนังสือนี้จะใช้ชื่อแรกโดยเรียกตัวย่อ MPC สังเกตว่าหากไม่มีเงื่อนไขบังคับเพิ่มเติม การควบคุุม MPC จะให้ผลเหมือนกับ LQR โดยไม่ขึ้นกับค่า $H$\n",
    "\n",
    "แนวคิดของ MPC ในการลดผลกระทบจากการจำกัดค่าตัวแปรคือ หาค่าเหมาะที่สุดแบบมีเงื่อนไขบังคับเป็นจำนวน $H$ ขั้น เพื่อทำให้สถานะเข้าใกล้ค่าอ้างอิงเพียงพอจนเงื่อนไขบังคับไม่มีผล ดังนั้นมูลค่ารายทางของ LQR จึงเป็นค่าที่ถูกต้องสำหรับในอนาคต หลักการนี้ครอบคลุมไปถึงกรณีที่มูลค่ารายทาง $J(x)$ ได้จากการประมาณค่า ซึ่งความแม่นยำจะมีผลต่อสมรรถนะระบบ โดยยิ่งค่าที่ประมาณได้ $\\hat{J}(x)$ ใกล้เคียงกับค่าจริงมากขึ้น ก็จะสามารถใช้ค่า $H$ ที่สั้นลงได้\n",
    "\n",
    "เนื้อหาในหัวข้อนี้จะพิจารณาปัญหา MPC แบบคอนเวกซ์เท่านั้น ตามนิยามฟังก์ชันคอนเวกซ์ในภาคผนวก A ทำให้สามารถหาคำตอบได้แบบออนไลน์โดยวิธี QP\n"
   ]
  },
  {
   "cell_type": "markdown",
   "metadata": {},
   "source": [
    "**ตัวอย่าง 4.3** ในตัวอย่างนี้จะเปรียบเทียบการใช้ตัวควบคุม LQR กับ MPC กับโดรนที่นิยมเรียกว่า \n",
    "ควอดโรเตอร์ (quadrotor) หรือควอดคอปเตอร์ (quadcopter) ซึ่งโครงสร้างประกอบด้วยตัวขับ 4 ใบพัด\n",
    "แต่ในเบื้องต้นเพื่อให้เข้าใจง่ายขึ้นจะพิจารณาโดรนที่มี 2 ใบพัดและเคลื่อนที่ในระนาบ 2 มิติ ดังแสดงในรูปที่ 4.12 บรรยายพลวัตไม่เป็นเชิงเส้นได้ดังนี้\n",
    "\n",
    "$$\n",
    "\\begin{align*}\n",
    "m\\ddot{x} &= -(u_1+u_2)sin(\\theta) \\\\\n",
    "m\\ddot{y} &= (u_1+u_2)cos(\\theta) - mg \\\\\n",
    "J\\ddot{\\theta} &= \\frac{l}{2}(u_2 - u_1) \\tag{4.24}\n",
    "\n",
    "\\end{align*}\n",
    "$$\n",
    "\n",
    "\n",
    "<img src=\"https://raw.githubusercontent.com/dewdotninja/ocrl/refs/heads/main/doc/figs/ch4_drone2d.png\" width=800 />\n",
    "\n",
    "รูปที่ 4.12 โดรน 2 ใบพัดในระนาบ 2 มิติ\n",
    "\n",
    "เมื่อประมาณค่าเชิงเส้นรอบตำแหน่งที่ลอยนิ่ง (hover) จะได้เป็น\n",
    "\n",
    "$$\n",
    "u_1 = u_2 = \\frac{1}{2}mg \\tag{4.25}\n",
    "$$\n",
    "$$\n",
    "\\begin{align*}\n",
    "\\Delta \\ddot{x} &\\approx -g\\Delta \\theta \\\\\n",
    "\\Delta \\ddot{y} &\\approx \\frac{1}{m}(\\Delta u_1 + \\Delta u_2) \\\\\n",
    "\\Delta \\ddot{\\theta} &\\approx \\frac{l}{2J}(\\Delta u_2 - \\Delta u_1) \\tag{4.26}\n",
    "\\end{align*}\n",
    "$$\n",
    "\n",
    "เขียนเป็นสมการเมทริกซ์ได้ดังนี้\n",
    "$$\n",
    "\\left[\\begin{array}{c}\n",
    "\\Delta \\dot{x} \\\\\n",
    "\\Delta \\dot{y} \\\\\n",
    "\\Delta \\dot{\\theta} \\\\\n",
    "\\Delta \\ddot{x} \\\\\n",
    "\\Delta \\ddot{y} \\\\\n",
    "\\Delta \\ddot{\\theta} \\\\\n",
    "\\end{array}\\right] = \n",
    "\\left[ \\begin{array}{ccccccc} \n",
    "0 & 0 & 0 &| &1 &0 &0 \\\\\n",
    "0 & 0 & 0 &| &0 &1 &0 \\\\\n",
    "0 & 0 & 0 &| &0 &0 &1 \\\\\n",
    "- & - & - &- &- &- &- \\\\\n",
    "0 & 0 & -g &| &0 &0 &0 \\\\\n",
    "0 & 0 & 0 &| &0 & 0 &0 \\\\\n",
    "0 & 0 & 0 & | &0 &0 &0\n",
    "\\end{array}\\right]\n",
    "\\left[\\begin{array}{c}\n",
    "\\Delta x \\\\\n",
    "\\Delta y \\\\\n",
    "\\Delta \\theta \\\\\n",
    "\\Delta \\dot{x} \\\\\n",
    "\\Delta \\dot{y} \\\\\n",
    "\\Delta \\dot{\\theta} \\\\\n",
    "\\end{array}\\right] +  \n",
    "\\left[\\begin{array}{cc} \n",
    "0 & 0 \\\\\n",
    "0 & 0 \\\\\n",
    "0 & 0 \\\\\n",
    "- & - \\\\\n",
    "0 & 0 \\\\\n",
    "\\frac{1}{m} & \\frac{1}{m} \\\\\n",
    "\\frac{-l}{2J} & \\frac{l}{2J}\n",
    "\\end{array}\\right]\n",
    "\\left[\\begin{array}{cc}\n",
    "\\Delta u_1 \\\\\n",
    "\\Delta u_2\n",
    "\\end{array}\\right] \\tag{4.27}\n",
    "$$\n",
    "\n",
    "นิยามฟังก์ชันมูลค่า MPC\n",
    "$$\n",
    "J = \\sum_{k=1}^{H-1} \\;\\left[ \\frac{1}{2}(x_k - x_{ref})^TQ(x_k - x_{ref}) \n",
    "+ \\frac{1}{2} \\Delta u_k^TRu_k + \\frac{1}{2}(x_H - x_{ref})^TP_H(x_H - x_{ref})\\right] \\tag{4.28}\n",
    "$$\n"
   ]
  },
  {
   "cell_type": "code",
   "execution_count": null,
   "metadata": {},
   "outputs": [],
   "source": []
  },
  {
   "cell_type": "code",
   "execution_count": null,
   "metadata": {},
   "outputs": [],
   "source": []
  },
  {
   "cell_type": "code",
   "execution_count": null,
   "metadata": {},
   "outputs": [],
   "source": []
  },
  {
   "cell_type": "code",
   "execution_count": null,
   "metadata": {},
   "outputs": [],
   "source": []
  },
  {
   "cell_type": "code",
   "execution_count": null,
   "metadata": {},
   "outputs": [],
   "source": []
  },
  {
   "cell_type": "markdown",
   "metadata": {},
   "source": [
    "## 4.x การโปรแกรมพลวัตในระบบเวลาต่อนื่อง\n",
    "\n",
    "แม้ว่าหนังสือนี้จะเน้นระบบดีสครีตที่สามารถนำไปประยุกต์ใช้ได้ในทางปฎิบัติ \n",
    "แต่เพื่อความสมบูรณ์ของเนื้อหาในหัวข้อนี้จะกล่าวถึงการโปรแกรมพลวัตในระบบเวลาต่อเนื่องโดยสังเขป \n",
    "\n",
    "### 4.x.1 สมการแฮมิลตัน-จาโคบิ-เบลแมน\n",
    "\n",
    "โดยแท้จริงแล้วสมการ (4.6),(4.7) เป็นมากกว่าอัลกอริทึม แต่ยังเป็นเงื่อนไขเพียงพอสำหรับความเหมาะที่สุดด้วย \n",
    "ถ้าเราสามารถหา $J^*$ และ $u^*$ ที่ทำให้ (4.6),(4.7) เป็นจริง $u^*$ นั้นต้องเป็นตัวควบคุมเหมาะที่สุด \n",
    "\n",
    "สำหรับระบบเวลาต่อเนื่อง เมื่อพิจารณามูลค่าการบวก (additive cost) \n",
    "$$\n",
    "J = \\int_0^Tl_c(x(t),u(t)dt) \\tag{4.xx}\n",
    "$$\n",
    "ภายใต้เงื่อนไขพลวัต\n",
    "$$\n",
    "\\dot{x} = f_c(x,u) \\tag{4.xx}\n",
    "$$\n",
    "เงื่อนไขเพียงพอจะเป็นดังนี้\n",
    "$$\n",
    "0 = \\underset{u}{min} \\;\\left[l_c(x,u)+\\frac{\\partial J^*}{\\partial x}f_c(x,u)\\right] \\tag{4.xx}\n",
    "$$\n",
    "$$\n",
    "u^*(x) = arg \\; \\underset{u}{min}\\;\\left[l_c(x,u)+\\frac{\\partial J^*}{\\partial x}f_c(x,u)\\right] \\tag{4.xx}\n",
    "$$\n",
    "\n",
    "(4.xx) เรียกว่าสมการฮามิลตัน-จาโคบิ-เบลแมน (Hamilton-Jacobi-Bellman ย่อว่า HJB) [1,5] \n",
    "\n",
    "การแสดงที่มาของ (4.xx) อย่างง่ายคืออนุพัทธ์ในระบบดีสครีตและให้ลิมิตคาบเวลาสู่ศูนย์ จากการประมาณค่าออยเลอร์ เมื่อกำหนดคาบเวลา $h$\n",
    "$$\n",
    "x_{k+1} = x_k + hf_c(x_k,u_k) \\tag{4.xx}\n",
    "$$\n",
    "ในทำนองเดียวกัน ฟังก์ชันมูลค่าในระบบดีสครีตสามารถประมาณค่าได้จาก\n",
    "$$\n",
    "l_d(x,u) = hl_c(x,u) \\tag{4.xx}\n",
    "$$\n",
    "จากสมการ (4.6) เขียนใหม่อีกครั้งโดยนิยามมูลค่าขั้นเป็น $l_d(x_k,u_k)$\n",
    "$$\n",
    "J^*(x_k) = \\underset{u}{min} \\; \\left[l_d(x_k,u_k) + J^*(f_d(x_k,u_k))\\right] \\tag{4.xx}\n",
    "$$\n",
    "เมื่อแทนค่าการประมาณค่านี้ในพจน์ด้านขวา จะได้เป็น\n",
    "$$\n",
    "J^*(x_k) = \\underset{u}{min} \\; \\left[hl_c(x_k,u_k) + J^*(x+hf_c(x_k,u_k))\\right] \\tag{4.xx}\n",
    "$$\n",
    "เพื่อเข้าใจได้ง่ายง่ายสมมุติว่าพลวัตไม่เป็นฟังก์ชันของเวลา เราสามารถประมาณค่าได้เป็น\n",
    "$$\n",
    "J^*(x_k) = \\underset{u}{min} \\; \\left[hl_c(x_k,u_k) + J^*(x_k) \n",
    "+\\frac{\\partial J}{\\partial x}f_c(x_k,u_k)\\right] \\tag{4.xx}\n",
    "$$\n",
    "เนื่องจากพจน์ $J^*(x_k)$ ไม่ขึ้นกับ $u$ สามารถนำออกนอก $\\underset{u}{min}$ ได้ จะเห็นว่าพจน์ $J^*(x_k)$ ด้านซ้ายและขวาหักล้างกัน หลังจากนั้นขจัดสัมประสิทธิ์ $h$ ด้านขวาออก เหลือเป็นสมการ HJB (4.xx)"
   ]
  },
  {
   "cell_type": "code",
   "execution_count": null,
   "metadata": {},
   "outputs": [],
   "source": []
  },
  {
   "cell_type": "markdown",
   "metadata": {},
   "source": [
    "## 4.x สรุปท้ายบท\n",
    "\n",
    "เนื้อหาในบทนี้่เป็นการศึกษาการโปรแกรมพลวัตแบบเชิงกำหนดและแม่นตรง ซึ่งเป็นพื้นฐานของ DP \n",
    "ก่อนจะขยายไปยังปัญหาสโทแคสติกและแบบที่มีการประมาณค่าฟังก์ชัน เราได้อธิบายถึงหลักการของความเหมาะที่สุดที่เป็นรากฐานของวิธี DP \n",
    "ในการสร้างอัลกอริทึมคำนวณมูลค่ารายทางจากปัญหาย่อยส่วนปลายย้อนกลับมายังค่าเริ่มต้น \n",
    "เมื่อได้มูลค่ารายทางเหมาะที่สุดก็ทำให้สามารถหาตัวควบคุมเหมาะที่สุดได้ โดยจะเห็นว่าวิธี DP ทำให้เราได้คำตอบเหมาะที่สุดแบบวงกว้าง \n",
    "(global optimum) อย่างไรก็ตามในความเป็นจริงจะใช้ได้เพียงสำหรับระบบอย่างง่ายที่มีมิติไม่สูงและฟังก์ชันไม่ซับซ้อน \n",
    "ตัวอย่างเช่นในปัญหา LQR พลวัตเป็นเชิงเส้น\n",
    "ฟังก์ชันมูลค่ารายทางจะเป็นกำลังสองอยู่เสมอทำให้หาคำตอบได้แม้เพิ่มขั้นเวลาแนวนอน \n",
    "แต่ในกรณีปัญหาไม่เป็นเชิงเส้นทั่วไปที่ไม่สามารถหาคำตอบเชิงวิเคราะห์ หรืออาจหาได้แต่ปัญหาการหาค่าเหมาะที่สุดไม่เป็นคอนเวกซ์ \n",
    "เหล่านี้ทำให้ความซับซ้อนของปัญหา DP แบบแม่นตรงเพิ่มขึ้นตามมิติของสถานะ ตามที่เบลแมนนิยามว่าเป็นคำสาป \n",
    "\n",
    "แม้ว่าปัจจุบันสมรรถนะคอมพิวเตอร์จะสูงกว่าในอดีตอย่างมากมาย แต่โจทย์ปัญหาในสาขาต่างๆ ก็เพิ่มความท้าทายในแง่ของข้อมูลที่มากขึ้น \n",
    "และความต้องการของมนุษย์ที่ซับซ้อนขึ้น นอกจากนั้นระบบควบคุมส่วนใหญ่มักต้องทำงานบนระบบฝังตัวที่มีสมรรถนะและทรัพยากรจำกัด \n",
    "โดยเหตุผลนี้เอง วิธี DP ที่ใช้การประมาณค่าฟังก์ชันมูลค่าหรือฟังก์ชัน Q จึงได้รับความสนใจอย่างมาก โดยเฉพาะด้าน RL สมัยใหม่ \n",
    "\n",
    "นอกจากนั้น วิธี DP มีจุดเด่นอีกประการหนึ่งคือสามารถวางนัยทั่วไปสู่ปัญหาสโทแคสติกได้โดยตรง โดยแทนค่าเชิงกำหนดด้วยค่าคาดหมาย \n",
    "(expected values) ซึ่งบางวิธีการเช่นหลักการของพอนเทรียกินไม่สามารถทำได้ \n",
    "\n",
    "\n",
    "\n"
   ]
  },
  {
   "cell_type": "markdown",
   "metadata": {},
   "source": [
    "## บรรณานุกรม\n",
    "\n",
    "1. R.E. Bellman. Dynamic Programming. Princeton University Press. 1957.\n",
    "\n",
    "2. D.P. Bertsekas. Reinforcement Learning and Optimal Control. MIT Press. 2019.\n",
    "\n",
    "3. D.P. Bertsekas. [A Course in Reinforcement Learning, 2nd ed](chrome-extension://efaidnbmnnnibpcajpcglclefindmkaj/https://web.mit.edu/dimitrib/www/RLCOURSECOMPLETE%202ndEDITION.pdf). Athena Scientific. 2025. \n",
    "\n",
    "4. Z. Manchester et.al. [16-745 Optimal Control & Reinforcement Learning, \n",
    "Course materials](https://optimalcontrol.ri.cmu.edu/#learning-resources), Carnegie Mellon University. 2024,2025.\n",
    "\n",
    "5. R. Tedrake. [Underactuated Robotics: Algorithms for Walking, Running, Swimming, Flying, and Manipulation (Course Notes for MIT 6.832)](https://underactuated.csail.mit.edu). 2023. "
   ]
  },
  {
   "cell_type": "markdown",
   "metadata": {},
   "source": [
    "## โจทย์ปัญหา\n",
    "\n",
    "4-1 วิธี DP ได้ถูกประยุกต์ใช้ในสาขา OR ในโจทย์หลายรูปแบบ เช่นการจัดกำหนดการ (scheduling) \n",
    "พิจารณาโจทย์อย่างง่ายที่มีการดำเนินการ 4 งานคือ A, B, C, D โดยมีเงื่อนไขบังคับดังนี้ A จะต้องถูกดำเนินการก่อน C \n",
    "และ B ต้องถูกดำเนินการก่อน D ตัวอย่างเช่นลำดับ ABCD, ACBD ยอมรับได้ แต่ BCAD ถือว่าผิดเงื่อนไข เป็นต้น \n",
    "สร้างแผนภาพต้นไม้จากสถานะเริ่มต้นไปยังสถานะสุดท้าย  \n",
    "\n",
    "4-2 จากโจทย์ข้อ 4-1 กำหนดค่าใช้จ่ายให้กับแต่ละกิ่งของต้นไม้ และค่าใช้่จ่ายขั้นสุดท้าย โดยเลือกค่าใดๆ ตามต้องการ \n",
    "หลังจากนั้นใช้วิธี DP เพื่อหาลำดับการจัดการที่มีค่าใช้จ่ายต่ำสุด  \n",
    "\n",
    "**หมายเหตุ :** รายละเอียดของโจทย์ข้อ 4-1, 4-2 อ่านเพิ่มเติมได้จาก [3]\n",
    "\n",
    "4-3 ในบทที่ 2-3 เราได้อธิบายตัวคูณลากรานจ์ที่แปลงเงื่อนไขบังคับเป็นพจน์ในฟังก์ชันมูลค่า หากมีผู้กล่าวว่า \n",
    "เมื่อจัดรูปเป็นปัญหา DP ตัวคูณลากรานจ์คือเกรเดียนต์ของฟังก์ชันมูลค่ารายทาง ท่านมีความเห็นสนับสนุนหรือโต้แย้งคำกล่าวนี้อย่างไร? \n",
    "\n"
   ]
  },
  {
   "cell_type": "markdown",
   "metadata": {},
   "source": [
    "<div align=\"center\">\n",
    "<img src=\"https://raw.githubusercontent.com/dewdotninja/sharing-github/refs/heads/master/dewninja_logo50.jpg\" alt=\"dewninja\"/>\n",
    "</div>\n",
    "<div align=\"center\">dew.ninja 2025</div>"
   ]
  }
 ],
 "metadata": {
  "kernelspec": {
   "display_name": "Python 3 (ipykernel)",
   "language": "python",
   "name": "python3"
  },
  "language_info": {
   "codemirror_mode": {
    "name": "ipython",
    "version": 3
   },
   "file_extension": ".py",
   "mimetype": "text/x-python",
   "name": "python",
   "nbconvert_exporter": "python",
   "pygments_lexer": "ipython3",
   "version": "3.12.8"
  }
 },
 "nbformat": 4,
 "nbformat_minor": 4
}
