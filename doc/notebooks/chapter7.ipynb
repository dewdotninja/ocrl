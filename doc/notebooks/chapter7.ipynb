{
 "cells": [
  {
   "cell_type": "markdown",
   "metadata": {},
   "source": [
    "การควบคุมเหมาะที่สุดและการเรียนรูู้เสริมกำลัง -- ดร.วโรดม ตู้จินดา"
   ]
  },
  {
   "cell_type": "markdown",
   "metadata": {},
   "source": [
    "# 7 พลวัตสัมผัสและพื้นฐานการเคลื่อนที่ของขาหุ่นยนต์\n",
    "\n",
    "วิธีการแก้ปัญหาเพื่อหาคำตอบเหมาะที่สุดที่เราได้ศึกษามามีสมมุติฐานอยู่บนความเรียบของฟังก์ชัน \n",
    "ตัวอย่างเช่นวิธีนิวตันต้องการฟังก์ชัน $\\mathcal{C}^2$ ที่หาอนุพันธ์ได้ถึงอันดับสอง\n",
    "แต่ในระบบหลายประเภทเช่นหุ่นยนต์เคลื่อนที่จะต้องมีการสัมผัสกับสภาพแวดล้อม เช่นการในเดินของหุ่นยนต์ที่มีขา ณ เวลาที่เท้าสัมผัสพื้นจะโมเดลได้เป็นฟังก์ชันไม่ต่อเนื่อง หรือการทำงานของมือหุ่นยนต์ที่ต้องมีการสัมผัสชิ้นงาน  \n",
    "ดังนั้นต้องมีการจัดการกับระบบที่มีการทำงานดังกล่าวเพื่อสามารถใช้วิธีการที่มีพื้นฐานบนฟังก์ชันต่อเนื่องได้ ในบทนี้จะแนะนำ 2 วิธีการที่มีข้อดีและข้อเสียแตกต่างกัน และพื้นฐานการเคลื่อนที่สำหรับโมเดลขาหุ่นยนต์อย่างง่าย\n",
    "\n",
    "## 7.1 พลวัตสัมผัส\n",
    "\n",
    "เพื่อความเข้าใจและสามารถโมเดลพลวัตสัมผัส (contact dynamics) พิจารณาลูกบอลที่ปล่อยลงสู่พื้นดังในรูปที่ 7.1 \n",
    "ทางด้านขวาของรูปแสดงกราฟของตำแหน่งและความเร็ว ในช่วงที่บอลลอยในอากาศหลังการปล่อย พลวัตจะขึ้นกับมวลและแรงโน้มถ่วงของโลก\n",
    "$$\n",
    "m\\ddot{z} = -mg \\tag{7.1}\n",
    "$$\n",
    "\n",
    "ซึ่งเป็นสมการเชิงอนุพันธ์สามัญ  (ordinary differential equation เรียกย่อว่า ODE) ที่เรียบและต่อเนื่อง แต่ ณ เวลาที่บอลกระทบพื้น ความเร็วจะเปลี่ยนจาก $v^-$ เป็น $v^+$ ในทันที ฟังก์ชันความเร็วจะไม่ต่อเนื่องดังแสดงในกราฟ ค่าความเร่งคืออนุพันธ์จะเป็นอิมพัลส์มีค่าอนันต์ ความไม่ต่อเนื่องนี้ทำให้ไม่สามารถบรรยายพลวัตในช่วงกระทบพื้นโดย ODE ได้\n",
    "\n",
    "<div align=\"center\">\n",
    "<img src=\"https://raw.githubusercontent.com/dewdotninja/ocrl/refs/heads/main/doc/figs/ch7_ballbounce.png\" width=800 />\n",
    "</div>\n",
    "<div align=\"center\">\n",
    "รูปที่ 7.1 พลวัตสัมผัสของลูกบอลที่ปล่อยลงสู่พื้น\n",
    "</div>\n",
    "\n",
    "\n",
    "\n",
    "\n",
    "\n",
    "\n",
    "\n",
    "\n"
   ]
  },
  {
   "cell_type": "markdown",
   "metadata": {},
   "source": [
    "## 7.2 การจัดการกับระบบที่มีพลวัตสัมผัส\n",
    "\n",
    "วิธีการที่จะกล่าวถึงต่อไปแม้ว่าอาจมิใช่เป็นทางเลือกทั้งหมด แต่เป็นการจัดการกับพลวัตสัมผัสที่ประสบผลสำเร็จในระบบหลายประเภท\n",
    "\n",
    "### 7.2.1 วิธีลูกผสม\n",
    "\n",
    "วิธีแรกที่มีการใช้งานอย่างกว้างขวางในหุ่นยนต์และระบบที่มีการเคลื่อนที่เรียกว่า *วิธีลูกผสม (hybrid method)* หรือ *วิธีบนพื้นฐานของเหตุการณ์ \n",
    "(event-based method)* หลักการคือค่าปริพันธ์ของ ODE พร้อมกับการตรวจสอบเหตุการณ์เกิดการสัมผัสโดยใช้ฟังก์ชันการ์ด (guard function) \n",
    "เช่นตรวจสอบค่า $z \\ge 0$ เมื่อมีการสัมผัสเกิดขึ้น สั่งให้ *จัมพ์แมพ (jump map)* ทำงานเพื่อโมเดลความไม่ต่อเนื่อง \n",
    "หลังจากนั้นจึงหาค่าปริพันธ์ของ ODE ต่อไป\n",
    "\n",
    "<u>**ข้อดี**</u>\n",
    "\n",
    "* อิมพลิเมนต์ได้ง่าย โดยสามารถใช้งานร่วมกับอัลกอริทึมมาตรฐานเช่น DIRCOL, MPC \n",
    "* สามารถใช้วิธีการหาปริพันธ์ที่มีความแม่นยำ เช่น RK4\n",
    "\n",
    "<u>**ข้อด้อย**</u>\n",
    "\n",
    "* ในกรณีงานที่ซับซ้อนเช่นการแก้ปัญหารูบิกด้วยมือหุ่นยนต์  จะมีโหมดการสัมผัสจำนวนมาก ยากที่จะจัดการกับโหมดทั้งหมดรวมถึงลำดับการทำงาน\n",
    "\n",
    "**ตัวอย่าง 7.1** ใช้วิธีลูกผสมจำลองพลวัตของบอลในรูปที่ 7.1 \n",
    "\n"
   ]
  },
  {
   "cell_type": "code",
   "execution_count": 1,
   "metadata": {},
   "outputs": [],
   "source": [
    "import numpy as np\n",
    "import matplotlib.pyplot as plt"
   ]
  },
  {
   "cell_type": "markdown",
   "metadata": {},
   "source": [
    "นิยามพลวัตของลูกบอลในอากาศ และการหาปริพันธ์แบบ RK4"
   ]
  },
  {
   "cell_type": "code",
   "execution_count": 2,
   "metadata": {},
   "outputs": [],
   "source": [
    "def ball_dynamics(x):\n",
    "    g = 9.81\n",
    "    # r = x[0:2].reshape(2,1)\n",
    "    v = x[2:4].reshape(2,1)\n",
    "    v_dot = np.array([0,-g]).reshape(2,1)\n",
    "    x_dot = np.vstack((v,v_dot))\n",
    "    return x_dot"
   ]
  },
  {
   "cell_type": "code",
   "execution_count": 3,
   "metadata": {},
   "outputs": [],
   "source": [
    "def ball_dynamics_rk4(x):\n",
    "    # RK4 integration with zero-order hold on u \n",
    "    xdim = x.shape[0]\n",
    "    f1 = ball_dynamics(x)\n",
    "    x_a = x.reshape(xdim,1)\n",
    "    x_2 = x_a + 0.5*h*f1\n",
    "    f2 = ball_dynamics(x_2.flatten())\n",
    "    x_3 = x_a + 0.5*h*f2\n",
    "    f3 = ball_dynamics(x_3.flatten())\n",
    "    x_4 = x_a + 0.5*h*f3\n",
    "    f4 = ball_dynamics(x_4.flatten())\n",
    "    return x_a+(h/6.0)*(f1+2*f2 + 2*f3+f4)    "
   ]
  },
  {
   "cell_type": "markdown",
   "metadata": {},
   "source": [
    "นิยามฟังก์ชันการ์ด ซึ่งจะคืนค่าระยะในแนวดิ่งสำหรับตรวจสอบว่ากระทบพื้นหรือไม่"
   ]
  },
  {
   "cell_type": "code",
   "execution_count": 4,
   "metadata": {},
   "outputs": [],
   "source": [
    "def guard(x):\n",
    "    return x[1]"
   ]
  },
  {
   "cell_type": "markdown",
   "metadata": {},
   "source": [
    "และฟังก์ชันจัมพ์แมพเพื่อนิยามการกระทำเมื่อมีการสัมผัสเกิดขึ้น โดยเราจะกำหนดค่าตัวแปร $y$ เรียกว่า สัมประสิทธ์การคืน \n",
    "(coefficient of restitution) ในช่วง 0 - 1 เพื่อโมเดลการเด้งกลับของลูกบอล โดยค่า 0 คือไม่มีการคืนกลับความเร็ว \n",
    "เสมือนเป็นบอลเหล็กที่จะอยู่กับพื้นหลังสัมผัส ส่วนค่า 1 คือการคืนกลับความเร็วทั้งหมดโดยไม่มีการสูญเสียใดๆ \n",
    "(ในระบบเวลาต่อเนื่องคือลูกบอลเด้งด้วยความสูงเท่าเดิมตลอดไป หรือในการจำลองแบบดีสครีตอาจพบว่าการเด้งกลับของบอลมีขนาดใหญ่ขึ้น \n",
    " ซึ่งทั้งสองกรณีเป็นไปไม่ได้ในทางปฎิบัติ) ดังนั้นในการจำลองเราจะจำกัดค่าสูงสุดไว้ประมาณ 0.9\n",
    "\n",
    "จัมพ์แมพจะคืนค่าสถานะที่ระยะในแนวแกน $z$ เป็นศูนย์และความแร็ว $\\dot{z}$ คือความเร็วที่คืนกลับ $v^+ = yv^-$ "
   ]
  },
  {
   "cell_type": "code",
   "execution_count": 5,
   "metadata": {},
   "outputs": [],
   "source": [
    "def jump(x):\n",
    "    #Flip sign of vertical component of velocity and multiply by coefficient of restitution\n",
    "    y = 0.8 # 0 - 0.9\n",
    "    xn = np.array([x[0],0.0,x[2],-y*x[3]]).reshape(4,1)\n",
    "    return xn"
   ]
  },
  {
   "cell_type": "markdown",
   "metadata": {},
   "source": [
    "กำหนดสถานะเริ่มต้น โดยค่าตำแหน่งเริ่มต้นที่ความสูงตามต้องการเช่น 1 เมตร ส่วนความเร็วต้นจะให้เป็นศูนย์ทั้งหมด \n",
    "หรือให้ความเร็วในแนวนอนด้วยก็ได้ ที่จะมีผลทำให้บอลหล่นไปทางซ้ายหรือขวาตามทิศทางของความเร็วนั้น "
   ]
  },
  {
   "cell_type": "code",
   "execution_count": 6,
   "metadata": {},
   "outputs": [],
   "source": [
    "r0 = np.array([0.0,1.0])\n",
    "v0 = np.array([0.0,0.0])\n",
    "x0 = np.hstack((r0,v0)).reshape(4,1)"
   ]
  },
  {
   "cell_type": "markdown",
   "metadata": {},
   "source": [
    "กำหนดตัวแปรคาบเวลา จำนวนสถานะ เวลาปลายและคำนวณจำนวนขั้นเวลา"
   ]
  },
  {
   "cell_type": "code",
   "execution_count": 7,
   "metadata": {},
   "outputs": [],
   "source": [
    "h = 0.01 #100 Hz\n",
    "Nx = 4     # number of states \n",
    "Tfinal = 3.0 # final time \n",
    "Nt = int(Tfinal/h)+1    # number of time steps\n",
    "thist = np.arange(0,h*(Nt-1),h)"
   ]
  },
  {
   "cell_type": "markdown",
   "metadata": {},
   "source": [
    "จำลองตามจำนวนขั้นเวลา สังเกตว่าในโค้ดนี้เพียงตรวจสอบว่าในขั้นเวลาหนึ่งมีการสัมผัสหรือไม่ \n",
    "และเรียกจัมพ์แมพ ณ เวลาปลายของขั้นนั้น ซึ่งในความเป็นจริงการสัมผัสอาจเกิดขึ้น ณ เวลาใดในระว่างขั้นเวลานั้น \n",
    "ดังนั้นจึงมีความคลาดเคลื่อนอยู่บ้าง แต่สำหรับอัตราการสุ่มที่สูงเพียงพอ ความคลาดเคลื่อนของเวลามีค่าน้อยพอยอมรับได้\n",
    "\n",
    "หากต้องการทราบเวลาสัมผัสที่แน่นอน สามารถเขียนโค้ดเพื่อประมาณค่าย้อนกลับหาเวลาสัมผัสเมื่อ guard(x) มีค่าประมาณเท่ากับ 0 ได้ \n",
    "ในตัวอย่างนี้ไม่จำเป็นจึงละทิ้งในส่วนนี้"
   ]
  },
  {
   "cell_type": "code",
   "execution_count": 8,
   "metadata": {},
   "outputs": [],
   "source": [
    "xhist = np.zeros((Nx,Nt))\n",
    "xhist[:,[0]] = x0\n",
    "for k in range(Nt-1):\n",
    "    xhist[:,[k+1]] = ball_dynamics_rk4(xhist[:,k])\n",
    "    if guard(xhist[:,k+1]) <= 0:\n",
    "        # interpolate back to guard=0 if desired\n",
    "        xhist[:,[k+1]] = jump(xhist[:,k+1])"
   ]
  },
  {
   "cell_type": "markdown",
   "metadata": {},
   "source": [
    "พล็อตระยะทางและความเร็วในแนวแกน $z$ ของลูกบอลได้ดังในรูปที่ 7.2 และ 7.3 ตามลำดับ ทดลองเปลี่ยนค่าสัมประสิทธ์การคืน y \n",
    "เพื่อดูการเปลี่ยนแปลงของผลตอบสนอง"
   ]
  },
  {
   "cell_type": "code",
   "execution_count": 9,
   "metadata": {},
   "outputs": [
    {
     "data": {
      "image/png": "[encoded data removed]",
      "text/plain": [
       "<Figure size 640x480 with 1 Axes>"
      ]
     },
     "metadata": {},
     "output_type": "display_data"
    }
   ],
   "source": [
    "plt.figure()\n",
    "plt.plot(thist,xhist[1,:-1].T,'g-')\n",
    "plt.xlabel('time (sec)')\n",
    "plt.ylabel('z(t)')\n",
    "plt.grid(True)\n",
    "plt.show()"
   ]
  },
  {
   "cell_type": "markdown",
   "metadata": {},
   "source": [
    "รูปที่ 7.2 ระยะทางในแนวแกน $z$ ของลูกบอล "
   ]
  },
  {
   "cell_type": "code",
   "execution_count": 10,
   "metadata": {},
   "outputs": [
    {
     "data": {
      "image/png": "[encoded data removed]",
      "text/plain": [
       "<Figure size 640x480 with 1 Axes>"
      ]
     },
     "metadata": {},
     "output_type": "display_data"
    }
   ],
   "source": [
    "plt.figure()\n",
    "plt.plot(thist,xhist[3,:-1].T,'m-')\n",
    "plt.xlabel('time (sec)')\n",
    "plt.ylabel('v(t)')\n",
    "plt.grid(True)\n",
    "plt.show()"
   ]
  },
  {
   "cell_type": "markdown",
   "metadata": {},
   "source": [
    "รูปที่ 7.3 ความเร็วในแนวแกน $z$ ของลูกบอล"
   ]
  },
  {
   "cell_type": "markdown",
   "metadata": {},
   "source": [
    "**ตัวอย่าง 7.2** \n",
    "\n",
    "ต้องการจำลองพลวัตของอิฐที่ปล่อยลงสู่พื้นที่เป็นน้ำแข็งที่ไร้แรงเสียดทาน โดยมีความเร็วต้นในแนวนอน $V_0$ หลังจากนั้นเลื่อนไปในระนาบ 2 \n",
    "มิติดังแสดงในรูปที่ 7.4   \n",
    "\n",
    "<div align=\"center\">\n",
    "<img src=\"https://raw.githubusercontent.com/dewdotninja/ocrl/refs/heads/main/doc/figs/ch7_brickfall.png\" width=700 />\n",
    "</div>\n",
    "<div align=\"center\">\n",
    "รูปที่ 7.4 พลวัตของอิฐที่ปล่อยลงสู่พื้นน้ำแข็งและเลื่อนใน 2 มิติ\n",
    "</div>\n",
    "\n",
    "พลวัตในช่วงลอยอยู่เหนือพื้น หรือในระบบลูกผสมจะเรียกว่า เวกเตอร์ฟิลด์เรียบ (smooth vector field) คำนวณได้จาก\n",
    "$$\n",
    "\\begin{align*}\n",
    "\\dot{x} &= f(x) \\\\\n",
    "\\Rightarrow \n",
    "\\left[\\begin{array}{c}\n",
    "\\dot{q} \\\\\n",
    "\\dot{v}\n",
    "\\end{array}\\right] &=\n",
    "\\left[\\begin{array}{c}\n",
    "-v \\\\\n",
    "-g\n",
    "\\end{array}\\right] \\tag{7.2}\n",
    "\\end{align*} \n",
    "$$\n",
    "\n",
    "สร้างฟังก์ชันการ์ด $\\phi(x)$ เพื่อตรวจสอบการสัมผัส ในตัวอย่างนี้คือระยะทางแนวดิ่ง คือในขณะที่อิฐลอยอยู่เหนือพื้น \n",
    "$$\n",
    "\\phi(x) \\ge 0 \\tag{7.3}\n",
    "$$\n",
    "\n",
    "ฟังก์ชันจัมพ์แมพ $\\gamma(x)$ เมื่ออิฐตกถึงพื้น จะกำหนดค่าความเร็วในแนวดิ่งเป็นศูนย์\n",
    "$$\n",
    "x' = \\gamma(x) = \n",
    "\\left[\\begin{array}{c}\n",
    "q_x \\\\\n",
    "q_y \\\\\n",
    "v_x \\\\\n",
    "0\n",
    "\\end{array}\\right] \\tag{7.4}\n",
    "$$\n",
    "\n",
    "เค้าโครงของอัลกอริทึมลูกผสมจะเป็นดังนี้\n",
    "<hr>\n",
    "\n",
    "while t < t_final:\n",
    "<br>&nbsp; &nbsp; if $\\phi(x) \\ge 0$:\n",
    "<br>&nbsp; &nbsp; &nbsp; &nbsp; $\\dot{x} = f(x)$ &nbsp; &nbsp; # (Ex. RK4)\n",
    "<br>&nbsp; &nbsp; else: &nbsp; &nbsp;# $(\\phi = 0)$\n",
    "<br>&nbsp; &nbsp;&nbsp; &nbsp;$x' = \\gamma(x)$\n",
    "\n",
    "<hr>\n",
    "\n",
    "ทิ้งให้เป็นแบบฝึกหัดสำหรับผู้อ่านในการเขียนโค้ด โดยลอกเลียนได้จากตัวอย่าง 7.1 "
   ]
  },
  {
   "cell_type": "markdown",
   "metadata": {},
   "source": [
    "### 7.2.2 วิธีก้าวตามขั้นเวลา\n",
    "\n",
    "วิธีการที่สองที่ใช้ในการแก้ปัญหาพลวัตที่มีการสัมผัสเรียกว่า *วิธีก้าวตามขั้นเวลา (time stepping)* หรืออีกชื่อหนึ่งที่ใช้ในสาขาระบบควบคุมคือ \n",
    "*วิธีสัมผัสโดยปริยาย (contact-implicit)* หลักการคือแก้ปัญหาการหาค่าเหมาะที่สุดแบบมีเงื่อนไขในแต่ละขั้นเวลา\n",
    "โดยโมเดลการสัมผัสเป็นเงื่อนไขบังคับอสมการที่ไม่ยอมให้มีการล่วงล้ำต่อกันระหว่างวัตถุ (inter-penetration) \n",
    "กำหนดเป็นระยะทางมีเครื่องหมาย (signed distance) \n",
    "$\\phi(x) \\ge 0$ และหาคำตอบได้เป็นแรงสัมผัส (คือตัวคูณลากรานจ์ในปัญหาการหาค่าเหมาะที่สุด) ร่วมกับสถานะ \n",
    "\n",
    "**ตัวอย่าง 7.3** \n",
    "\n",
    "แก้ปัญหาอิฐที่ปล่อยลงสู่พื้นที่เป็นน้ำแข็งที่ไร้แรงเสียดทานในตัวอย่าง 7.2 โดยวิธีก้าวตามขั้นเวลา เริ่มจากกฎการเคลื่อนที่ของนิวตัน $f = ma$\n",
    "$$\n",
    "m\\dot{v} = -mg + J^T\\lambda \\tag{7.5}\n",
    "$$\n",
    "โดย\n",
    "$$\n",
    "g = \n",
    "\\left[\\begin{array}{c}\n",
    "0 \\\\\n",
    "9.8\n",
    "\\end{array}\\right], \\;\\;\\; x = \n",
    "\\left[\\begin{array}{c}\n",
    "q \\\\\n",
    "v\n",
    "\\end{array}\\right] \\tag{7.6}\n",
    "$$\n",
    "ตัวคูณลากรานจ์ $\\lambda$ ใน (7.5) คือแรงสัมผัส และ $J$ เรียกว่าจาโคเบียนสัมผัส (contact Jacobian) \n",
    "เป็นตัวบรรยายความสัมพันธ์ระหว่างแรงสัมผัสกับพิกัดวางนัยทั่วไป\n",
    "\n",
    "นิยามฟังก์ชันระยะทางมีเครื่องหมาย โดยในตัวอย่างนี้คือการเลือกแกนพิกัดในแนวดิ่งคือ $y$\n",
    "$$\n",
    "\\phi(q) = Jq = \\big[0 \\;\\;\\; 1\\big]\n",
    "\\left[\\begin{array}{c}\n",
    "q_x \\\\\n",
    "q_y\n",
    "\\end{array}\\right] \\tag{7.7}\n",
    "$$\n",
    "เมื่อใช้การประมาณค่าออยเลอร์ย้อนหลังกับ (7.5) ได้เป็น\n",
    "$$\n",
    "m \\left(\\frac{V_{k+1}-V_k}{h}\\right) = -mg + J^T\\lambda_k \\tag{7.8}\n",
    "$$\n",
    "และเงื่อนไข KKT \n",
    "$$\n",
    "\\begin{align*}\n",
    "q_{k+1} &= q_k + hv_{k+1} \\tag{7.9}\\\\\n",
    "\\phi(q_{k+1}) &\\ge 0 \\tag{7.10}\\\\\n",
    "\\lambda_k &\\ge 0 \\tag{7.11}\\\\\n",
    "\\phi(q_{k+1})\\alpha_k &= 0 \\tag{7.12}\n",
    "\\end{align*}\n",
    "$$ อธิบายแต่ละเงื่อนไข \n",
    "* (7.9) มาจากการประมาณค่าย้อนหลังออยเลอร์กับจลนศาสตร์ \n",
    "* (7.10) ฟังก์ชันระยะทางมีเครื่องหมายต้องไม่เป็นลบในเวลาที่อิฐลอยอยู่ในอากาศ\n",
    "* (7.11) แรงสัมผัสไม่เป็นลบหมายความว่าเป็นแรงผลักเท่านั้น ไม่ใช่แรงดึงจากพื้น\n",
    "* (7.12) ต้องไม่มีค่าแรงสัมผัสนอกจากเกิดการสัมผัสแล้วเท่านั้น\n",
    "\n",
    "จะเห็นว่าแม้เราเริ่มต้นเขียนสมการจากฟิสิกส์ แต่สุดท้ายได้ปัญหาในรูปของ QP ที่สามารถใช้ตัวแก้ปัญหาในการหาคำตอบเหมาะที่สุดได้ \n",
    "\n",
    "จัดรูปปัญหาโดยคููณด้วย $v_{k+1}^T$  ได้เป็น\n",
    "$$\n",
    "\\begin{align*}\n",
    "\\underset{v_{k+1}}{min} \\;\\; &\\frac{1}{2}mv_{k+1}^Tv_{k+1} + mv_{k+1}^T(hg - v_k) \\\\\n",
    "s.t. \\;\\; &J(q_k + hv_{k+1}) \\ge 0\n",
    "\\end{align*} \\tag{7.13}\n",
    "$$\n",
    "\n",
    "สังเกตว่าแรงสัมผัสคือตัวคูณลากรานจ์ที่มีการคำนวณค่าอย่างชัดแจ้ง แต่เวลาการสัมผัสที่แน่นอนจะไม่สามารถทราบได้ (ทราบแต่ขั้นเวลา) และวิธีการนี้ไม่สามารถขยายไปยังการหาค่าปริพันธ์อันดับสูงเช่น RK4 ได้โดยง่าย ปัญหาสำคัญอีกประการหนึ่งเมื่อพิจารณาเงื่อนไข (CS) จาก (7.12) เป็นฟังก์ชันที่ไม่เรียบ ไม่สามารถใช้ตัวแก้ปัญหาเช่น IPOPT ได้นอกจากปรับเป็น $\\phi(q_{k+1})\\lambda_k = \\rho$ \n",
    "ตามที่ได้อธิบายในบทที่ 2 \n",
    "\n",
    "การเขียนโค้ดทิ้งให้เป็นแบบฝึกหัดสำหรับผู้อ่าน "
   ]
  },
  {
   "cell_type": "code",
   "execution_count": null,
   "metadata": {},
   "outputs": [],
   "source": []
  },
  {
   "cell_type": "code",
   "execution_count": null,
   "metadata": {},
   "outputs": [],
   "source": []
  },
  {
   "cell_type": "code",
   "execution_count": null,
   "metadata": {},
   "outputs": [],
   "source": []
  },
  {
   "cell_type": "code",
   "execution_count": null,
   "metadata": {},
   "outputs": [],
   "source": []
  },
  {
   "cell_type": "code",
   "execution_count": null,
   "metadata": {},
   "outputs": [],
   "source": []
  },
  {
   "cell_type": "code",
   "execution_count": null,
   "metadata": {},
   "outputs": [],
   "source": []
  },
  {
   "cell_type": "code",
   "execution_count": null,
   "metadata": {},
   "outputs": [],
   "source": []
  },
  {
   "cell_type": "code",
   "execution_count": null,
   "metadata": {},
   "outputs": [],
   "source": []
  },
  {
   "cell_type": "markdown",
   "metadata": {},
   "source": [
    "## 7.4 สรุปท้ายบท\n",
    "\n",
    "ในบทนี้เป็นการศึกษาการหาค่าเหมาะที่สุดสำหรับปัญหาที่มีการสัมผัส ซึ่งเป็นเหตุการณ์ที่เกิดขึ้นปกติสำหรับระบบหลายประเภท \n",
    "เช่นการสัมผัสพื้นโดยขาของหุ่นยนต์เคลื่อนที่ขณะก้าวเดิน การสัมผัสวัตถุชิ้นงานโดยมือจับ เราได้นำเสนอ 2 วิธีการคือวิธีลูกผสม \n",
    "และวิธีก้าวตามขั้นเวลา \n",
    "\n",
    "สรุปประเด็นสำคัญสำหรับวิธีลูกผสม \n",
    "\n",
    "* สามารถคำนวณเวลาการสัมผัสที่แม่นยำ\n",
    "* ไม่มีการคำนวณแรงสัมผัสอย่างชัดแจ้ง \n",
    "* ใช้การหาปริพันธ์ที่มีความแม่นยำสูงได้\n",
    "* ในกรณีที่ทราบเวลาการสัมผัสล่วงหน้า เช่นการเดินของหุ่นยนต์ตามแผน จะไม่จำเป็นต้องมีฟังก์ชันการ์ดและเพียงฟังก์ชันที่หาอนุพันธ์ได้\n",
    "* สามารถประยุกต์ใช้กับวิธีการอื่นเช่น DIRCOL, MPC ได้โดยง่าย\n",
    "* ใช้งานอย่างแพร่หลายในระบบหุ่นยนต์ที่การสัมผัสไม่ซับซ้อน\n",
    "\n",
    "ประเด็นสำคัญสำหรับวิธีก้าวตามขั้นเวลา\n",
    "\n",
    "* ไม่ทราบเวลาการสัมผัสที่แน่นอน (ทราบเพียงขั้นเวลาที่เกิดการสัมผัส)\n",
    "* มีการคำนวณแรงสัมผัสอย่างชัดแจ้ง\n",
    "* ไม่สามารถขยายไปยังการหาปริพันธ์ขั้นสูงเช่น RK4 ดังนั้นจึงต้องใช้ขั้นเวลาค่าน้อย\n",
    "* เป็นวิธีการที่ใช้ในเครื่องมือการจำลองที่นิยม เช่น PyBullet, Dart, Gazebo\n"
   ]
  },
  {
   "cell_type": "markdown",
   "metadata": {},
   "source": [
    "## บรรณานุกรม\n",
    "\n",
    "1. Z. Manchester et.al. [16-745 Optimal Control & Reinforcement Learning, \n",
    "Course materials](https://optimalcontrol.ri.cmu.edu/#learning-resources), Carnegie Mellon University. 2025.\n",
    "\n",
    "2. R. Tedrake. [Underactuated Robotics: Algorithms for Walking, Running, Swimming, Flying, and Manipulation (Course Notes for MIT 6.832)](https://underactuated.csail.mit.edu). 2023. \n",
    "\n"
   ]
  },
  {
   "cell_type": "markdown",
   "metadata": {},
   "source": [
    "## โจทย์ปัญหา\n",
    "\n",
    "7-1 จากตัวอย่าง 7.2 เขียนโค้ดจำลองพลวัตของอิฐที่ปล่อยลงสู่พื้นโดยวิธีลูกผสม \n",
    "\n",
    "7-2 จากตัวอย่าง 7.3 เขียนโค้ดเพื่อหาคำตอบเหมาะที่สุดสำหรับพลวัตของอิฐที่ปล่อยลงสู่พื้น โดยใช้ตัวแก้ปัญหาเช่น IPOPT หรือ SNOP\n",
    "\n",
    "7-3 โจทย์ข้อนี้คือต้องการหาแนววิถีเหมาะที่สุดแบบลูกผสมสำหรับขาหุ่นยนต์อย่างง่าย เรียกว่าหุ่นยนต์กระโดดขาเดี่ยว (one-legged hopper) ในระนาบ 2 มิติดังแสดงในรูปที่ P7.1 โครงสร้างประกอบด้วยมวล $m$ ส่วนตัวหุ่นยนต์และส่วนเท้าที่สัมผัสพื้น กำหนดให้เท่ากันเพื่อทำให้ปัญหาง่ายขึ้น เมื่อหุ่นยนต์สัมผัสพื้น แรงเชิงเส้นในแนวขา $F$ จะผลักให้หุ่นยนต์ลอยขึ้นในอากาศ และใช้แรงบิด $t$ เพื่อปรับองศาของขาสำหรับการสัมผัสพื้นและกระโดดครั้งต่อไป\n",
    "\n",
    "<div align=\"center\">\n",
    "<img src=\"https://raw.githubusercontent.com/dewdotninja/ocrl/refs/heads/main/doc/figs/ch7_hopper_1l.png\" width=700 />\n",
    "</div>\n",
    "<div align=\"center\">\n",
    "รูปที่ P7.1 หุ่นยนต์กระโดดขาเดี่ยว\n",
    "</div>\n",
    "\n",
    "กำหนดสถานะเป็นตำแหน่งและความเร็วของกายและเท้าหุ่นยนต์ และตัวควบคุมคือแรงเชิงเส้นและแรงบิด\n",
    "$$\n",
    "x = \n",
    "\\left[\\begin{array}{c}\n",
    "r_b \\\\\n",
    "r_f \\\\\n",
    "v_b \\\\\n",
    "v_f\n",
    "\\end{array}\\right] \\in \\mathbb{R}^8, \\;\\;\\;\n",
    "u = \n",
    "\\left[\\begin{array}{c}\n",
    "F \\\\\n",
    "\\tau\n",
    "\\end{array}\\right] \\in \\mathbb{R}^2 \\tag{P7.1}\n",
    "$$\n",
    "\n",
    "กำหนดโหมดหมายเลข 1 และ 2 แทนภาวะที่หุ่นยนต์สัมผัสพื้น และลอยตัวเหนือพื้นตามลำดับ นิยามจัมพ์แมพสำหรับการเปลี่ยนผ่านระหว่างโหมด คือเมื่อเท้าสัมผัสพื้นให้ความเร็วในแนวดิ่งเป็นศูนย์ (เพื่อความง่ายจะไม่พิจารณาการลื่นไถลที่อาจเกิดขึ้น)\n",
    "$$\n",
    "x' = g_{21}(x) = \n",
    "\\left[\\begin{array}{c}\n",
    "r_b \\\\\n",
    "r_f \\\\\n",
    "v_b \\\\\n",
    "0\n",
    "\\end{array}\\right] \\tag{P7.2}\n",
    "$$\n",
    "และจากเท้าสัมผัสพื้นสู่การลอยตัวในอากาศจะไม่มีการเปลี่ยนแปลงของสถานะในปัญหานี้ (เสมือนกับการคูณด้วยเมทริกซ์เอกลักษณ์)\n",
    "$$\n",
    "x' = g_{12}(x) = x \\tag{P7.3}\n",
    "$$\n",
    "กำหนดแผนการกระโดดของหุ่นยนต์นี้เป็นการสลับระหว่างจุดเงื่อน โดยมีช่วงที่เท้าติดพื้นและช่วงลอยในอากาศจำนวนเท่ากับ N1 และ N2 ตามลำดับ บังคับเงื่อนไขดังนี้\n",
    "\n",
    "<br>for k = 1:N1:\n",
    "<br>&nbsp; &nbsp; $x_{k+1} = f_1(x_k,u_k)$\n",
    "<br>&nbsp; &nbsp; $\\phi(x) = 0$\n",
    "<br>for k = (N1+1):N2:\n",
    "<br>&nbsp; &nbsp; $x_{k+1} = f_2(x_k,u_k)$\n",
    "<br>&nbsp; &nbsp; $\\phi(x) \\gt 0$\n",
    "<br>$x_{N2} = g_{21}(x_{N2-1})\n",
    "<br>$\\phi(x_{N2}) = 0$\n",
    "\n",
    "ทำซ้ำตามจำนวนรอบการกระโดดที่ต้องการ\n",
    "\n",
    "เขียนโค้ดเพื่อหาแนววิถีเหมาะที่สุดโดยใช้ตัวแก้ปัญหาเช่น IPOPT และจำลองการกระโดดบน meshcat"
   ]
  },
  {
   "cell_type": "markdown",
   "metadata": {},
   "source": [
    "<div align=\"center\">\n",
    "<img src=\"https://raw.githubusercontent.com/dewdotninja/sharing-github/refs/heads/master/dewninja_logo50.jpg\" alt=\"dewninja\"/>\n",
    "</div>\n",
    "<div align=\"center\">dew.ninja 2025</div>"
   ]
  }
 ],
 "metadata": {
  "kernelspec": {
   "display_name": "Python 3 (ipykernel)",
   "language": "python",
   "name": "python3"
  },
  "language_info": {
   "codemirror_mode": {
    "name": "ipython",
    "version": 3
   },
   "file_extension": ".py",
   "mimetype": "text/x-python",
   "name": "python",
   "nbconvert_exporter": "python",
   "pygments_lexer": "ipython3",
   "version": "3.12.10"
  }
 },
 "nbformat": 4,
 "nbformat_minor": 4
}
