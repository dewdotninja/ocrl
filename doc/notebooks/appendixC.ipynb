{
 "cells": [
  {
   "cell_type": "markdown",
   "metadata": {},
   "source": [
    "การควบคุมเหมาะที่สุดและการเรียนรูู้เสริมกำลัง -- ดร.วโรดม ตู้จินดา"
   ]
  },
  {
   "cell_type": "markdown",
   "metadata": {},
   "source": [
    "# ภาคผนวก C รวมการใช้งานเครื่องมือ Drake\n",
    "\n",
    "Drake [1] เป็นเครื่องมือซอฟต์แวร์สำหรับหุ่นยนต์ที่พัฒนาโดย Russ Tedrake และทีมงาน \n",
    "สนับสนุนโดย Toyota Research Institute (TRI) ในช่วงเริ่มต้น API ใช้ภาษา C++ เป็นหลัก \n",
    "แต่ในปัจจุบันรองรับภาษาไพทอนโดยผ่านแพ็กเกจ pydrake ซึ่งโค้ดในหนังสือนี้มีการใช้งานในหลายส่วน \n",
    "เช่นการหาอนุพันธ์อัตโนมัติ และการจำลองโมเดล\n",
    "\n",
    "อย่างไรก็ตามความช่วยเหลือเมื่อเกิดปัญหาอาจค่อนข้างจำกัด \n",
    "เนื่องจากชุมชนของ Drake ยังมีขนาดเล็ก ดังนั้นในภาคผนวกนี้จึงรวมการใช้งานแพ็กเกจ pydrake \n",
    "รวมถึงการปรับแต่งแก้ไขเพื่อให้ใช้งานได้กับโค้ดในแต่ละบทของหนังสือ \n",
    "\n",
    "## C.1 การหาอนุพันธ์อัตโนมัติ\n",
    "\n",
    "ในการควบคุมเหมาะที่สุด พลวัตของโมเดลมักอยู่ในรูปสมการอนุพันธ์ ดังนั้นมักต้องการการคำนวณหาอนุพันธ์ในโปรแกรม \n",
    "ซึ่งสามารถใช้วิธีการดังต่อไปนี้\n",
    "\n",
    "**1. วิธีหาคำตอบเชิงสัญลักษณ์ (symbolic method)**\n",
    "\n",
    "ใช้แพ็กเกจเสริมที่สามารถหาอนุพันธ์จากกฎหรือสูตรเหมือนกับที่เราใช้หาคำตอบบนกระดาษ\n",
    "\n",
    "* ข้อดี\n",
    "    * มีความแม่นยำสูงเทียบเท่าทางทฤษฎี\n",
    "    * เข้าใจได้ง่าย\n",
    "\n",
    "* ข้อเสีย\n",
    "    * ต้องการแพ็กเกจที่สนับสนุนการคำนวณเชิงสัญลักษณ์\n",
    "    * เมื่อพจน์มีความซับซ้อนมาก การคำนวณจะซับซ้อนตาม ทำให้ใช้เวลานานในการหาคำตอบ และผลลัพธ์อาจยังติดในรูปที่สามารถทำให้ง่ายกว่าโดยมนุษย์\n",
    "\n",
    "**2. วิธีการประมาณค่าเชิงเลข (numerical method)** \n",
    "\n",
    "ใช้การประมาณค่า เช่นผลต่างจำกัด \n",
    "(finite difference) $f'(x) \\approx \\underset{h \\rightarrow 0}{lim}\\frac{f(x+h)-f(x)}{h}$  \n",
    "(หรือใช็ $f'(x) \\approx \\underset{h \\rightarrow 0}{lim}\\frac{f(x+0.5h)-f(x-0.5h)}{h}$ จะได้ความแม่นยำมากขึ้น)\n",
    "\n",
    "* ข้อดี\n",
    "    * เขียนโค้ดง่าย ไม่ต้องการแพ็กเกจเสริมสำหรับคำนวณอนุพันธ์\n",
    "    * ทำงานเร็ว\n",
    "\n",
    "* ข้อเสีย\n",
    "    * เป็นเพียงการประมาณค่าดังนั้นจึงมีค่าผิดพลาด โดยความแม่นยำขึ้นกับขนาดของขั้น $h$\n",
    "    * เมื่อเลีอก $h$ มีค่าน้อยมาก จะเกิดปัญหาเชิงเลข\n",
    "\n",
    "**3. วิธีการหาอนุพันธ์อัตโนมัติ (automatic differentiation)**\n",
    "\n",
    "เป็นวิธีการหาอนุพันธ์โดยใช้ลำดับของการคำนวณขั้นพื้นฐานเช่นการบวกลบคูณหาร และฟังก์ชันเช่นเลขชี้กำลัง (exponential) ตรีโกณ ลอการิทึม ผ่านใช้กฎลูกโซ่ (chain rule)\n",
    "\n",
    "* ข้อดี\n",
    "    * ใช้การคำนวณน้อย ทำให้ได้คำตอบเร็ว\n",
    "    * มีความแม่นยำสูงเทียบเท่าผลลัพธ์ทางทฤษฎี\n",
    "\n",
    "* ข้อเสีย\n",
    "    * ต้องการแพ็กเกจเสริมเช่น Drake, JAX, tensorflow ฯลฯ หรือหากเขียนโปรแกรมเองจะต้องมีการจัดเก็บค่าของฟังก์ชันและอนุพันธ์ไปพร้อมกัน\n",
    "\n",
    "โดยข้อดีของวิธีการ 3 ทำให้เป็นที่นิยมในการหาอนุพันธ์สำหรับระบบที่มีความซับซ้อนเช่นโครงข่ายประสาทเทียม การหาอนุพันธ์อัตโนมัติสามารถแบ่งย่อยเป็น 2 ประเภทหลักคือ\n",
    "\n",
    "* การคำนวณไปข้างหน้า (forward) \n",
    "* การคำนวณผันกลับ (reverse)\n",
    "\n",
    "การเลือกใช้แบบใดจึงเหมาะสมขึ้นกับจำนวนอินพุตและเอาต์พุตของฟังก์ชัน เช่นหากมีอินพุตจำนวนมากและเอาต์พุตเป็นสเกลาร์หรือจำนวนน้อย (เช่นโครงข่ายประสาทเทียม) \n",
    "ควรเลือกวิธีการคำนวณผันกลับ แต่สำหรับพลวัตในหนังสือนี้มิใช่ประเด็นสำคัญ \n",
    "ดังนั้นจะเลือกใช้วิธีการคำนวณไปข้างหน้า ซึ่ง Drake รองรับผ่านแพ็กเกจย่อย forwarddiff\n"
   ]
  },
  {
   "cell_type": "code",
   "execution_count": 1,
   "metadata": {},
   "outputs": [],
   "source": [
    "from pydrake import forwarddiff"
   ]
  },
  {
   "cell_type": "markdown",
   "metadata": {},
   "source": [
    "**ตัวอย่าง C.1** ทดสอบกับฟังก์ชันพื้นฐาน $y = f_1(x) = xsin(x)$"
   ]
  },
  {
   "cell_type": "code",
   "execution_count": 5,
   "metadata": {},
   "outputs": [],
   "source": [
    "import numpy as np\n",
    "def f1(x):\n",
    "    return x*np.sin(x)"
   ]
  },
  {
   "cell_type": "markdown",
   "metadata": {},
   "source": [
    "อนุพันธ์มีค่าเท่ากับ $f_1'(x) = xcos(x) + sin(x)$ เมื่อกำหนดให้ $x = \\frac{\\pi}{6}$  \n",
    "เอาต์พุตของฟังก์ชันและอนุพันธ์มีค่าเป็นดังนี้"
   ]
  },
  {
   "cell_type": "code",
   "execution_count": 11,
   "metadata": {},
   "outputs": [
    {
     "name": "stdout",
     "output_type": "stream",
     "text": [
      "y = 0.26179938779914935\n"
     ]
    }
   ],
   "source": [
    "x1 = np.pi/6\n",
    "y = f1(x1)\n",
    "print(\"y = {}\".format(y))"
   ]
  },
  {
   "cell_type": "code",
   "execution_count": 13,
   "metadata": {},
   "outputs": [
    {
     "name": "stdout",
     "output_type": "stream",
     "text": [
      "dy = 0.9534498410585543\n"
     ]
    }
   ],
   "source": [
    "dy = forwarddiff.derivative(f1,x1)\n",
    "print(\"dy = {}\".format(dy))"
   ]
  },
  {
   "cell_type": "markdown",
   "metadata": {},
   "source": [
    "เมื่อเปรียบเทียบกับการคำนวณด้วยมือ จะพบว่าความแตกต่างเป็นศูนย์"
   ]
  },
  {
   "cell_type": "code",
   "execution_count": 16,
   "metadata": {},
   "outputs": [
    {
     "name": "stdout",
     "output_type": "stream",
     "text": [
      "dy (คำนวณด้วยมือ) = 0.9534498410585543\n",
      "ค่าแตกต่าง = 0.0\n"
     ]
    }
   ],
   "source": [
    "dy_a = x1*np.cos(x1) + np.sin(x1)\n",
    "print(\"dy (คำนวณด้วยมือ) = {}\".format(dy_a))\n",
    "print(\"ค่าแตกต่าง = {}\".format(np.linalg.norm(dy - dy_a)))"
   ]
  },
  {
   "cell_type": "markdown",
   "metadata": {},
   "source": [
    "เปรียบเทียบกับวิธีประมาณค่าโดยผลต่างจำกัดโดยใช้ขั้นเวลาน้อยเช่น $h = 10^{-6}$ จะพบว่ามีความแม่นยำน้อยกว่า \n",
    "(ซึ่งหากใช้ค่า $h$ น้อยเกินไป จะเกิดปัญหาเชิงเลขทำให้ค่าผิดพลาดเพิ่มขึ้น)"
   ]
  },
  {
   "cell_type": "code",
   "execution_count": 23,
   "metadata": {},
   "outputs": [
    {
     "name": "stdout",
     "output_type": "stream",
     "text": [
      "dy (ประมาณค่าเชิงเลข) = 0.9534498409680126\n",
      "ค่าแตกต่าง = 9.054179628265047e-11\n"
     ]
    }
   ],
   "source": [
    "h = 1e-6\n",
    "dy_fd = (f1(x1+0.5*h) - f1(x1-0.5*h))/h\n",
    "print(\"dy (ประมาณค่าเชิงเลข) = {}\".format(dy_fd))\n",
    "print(\"ค่าแตกต่าง = {}\".format(np.linalg.norm(dy_fd - dy_a)))"
   ]
  },
  {
   "cell_type": "markdown",
   "metadata": {},
   "source": [
    "**ตัวอย่าง C.2** กรณีที่ฟังก์ชันมีอินพุตเป็นเวกเตอร์และเอาต์พุตเป็นสเกลาร์เช่น $f_2(x) = x_1^2 + 2x_2^2$ "
   ]
  },
  {
   "cell_type": "code",
   "execution_count": 24,
   "metadata": {},
   "outputs": [],
   "source": [
    "def f2(x):\n",
    "    return x[0]**2 + 2*x[1]**2"
   ]
  },
  {
   "cell_type": "markdown",
   "metadata": {},
   "source": [
    "อนุพันธ์จะเป็นเวกเตอร์\n",
    "$$\n",
    "f_2'(x) = \n",
    "\\left[\\begin{array}{c} \n",
    "\\frac{\\partial f_2(x)}{\\partial x_1} \\\\\n",
    "\\frac{\\partial f_2(x)}{\\partial x_2} \n",
    "\\end{array}\\right] = \n",
    "\\left[\\begin{array}{c} \n",
    "2x_1 \\\\\n",
    "4x_2\n",
    "\\end{array}\\right] \\tag{C.1}\n",
    "$$\n",
    "\n",
    "เรียกว่าเกรเดียนต์ จะใช้ forwarddiff.gradient สมมุติว่ากำหนด $x_2 = [1.0, -1.0]$ ได้อนุพันธ์เป็นดังนี้ (ลองเปรียบเทียบกับการคำนวณด้วยมือจะเห็นว่าเท่ากัน)"
   ]
  },
  {
   "cell_type": "code",
   "execution_count": 26,
   "metadata": {},
   "outputs": [
    {
     "name": "stdout",
     "output_type": "stream",
     "text": [
      "[ 2. -4.]\n"
     ]
    }
   ],
   "source": [
    "x2 = np.array([1.0,-1.0])\n",
    "grad_fx2 = forwarddiff.gradient(f2,x2)\n",
    "print(grad_fx2)"
   ]
  },
  {
   "cell_type": "markdown",
   "metadata": {},
   "source": [
    "**ตัวอย่าง C.3** ระบบพลวัตที่เป็นเงื่อนไขบังคับของการควบคุมเหมาะที่สุดเช่น $x_{k+1} = f(x_k,u_k)$ \n",
    "หรือในกรณีทั่วไปคือ $y = f(x,u)$ อยู่ในรูปหลายอินพุตหลายเอาต์พุต เพื่อความง่ายพิจารณากรณีฟังก์ชันไม่เป็นเชิงเส้นที่ไม่มีอินพุต $u$\n",
    "\n",
    "$$\n",
    "\\left[\\begin{array}{c}\n",
    "y_1 \\\\\n",
    "y_2\n",
    "\\end{array}\\right] =\n",
    "\\left[\\begin{array}{c}\n",
    "x_1^3  + 2x_2 \\\\\n",
    "x_1cos(x_2)\n",
    "\\end{array}\\right] \\tag{C.2}\n",
    "$$\n",
    "\n",
    "อนุพันธ์อยู่ในรูปเมทริกซ์เรียกว่าจาโคเบียน\n",
    "$$\n",
    "\\left[\\begin{array}{cc}\n",
    "\\frac{\\partial y_1}{\\partial x_1} & \\frac{\\partial y_1}{\\partial x_2} \\\\\n",
    "\\frac{\\partial y_2}{\\partial x_1} & \\frac{\\partial y_2}{\\partial x_2} \\\\\n",
    "\\end{array}\\right] = \n",
    "\\left[\\begin{array}{cc}\n",
    "3x_1^2 & 2 \\\\\n",
    "cos(x_2) & -x_1sin(x_2) \\\\\n",
    "\\end{array}\\right] \\tag{C.3}\n",
    "$$\n",
    " "
   ]
  },
  {
   "cell_type": "code",
   "execution_count": 32,
   "metadata": {},
   "outputs": [],
   "source": [
    "def f3(x):\n",
    "    y0 = x[0]**3  + 2*x[1]\n",
    "    y1 = x[0]*np.cos(x[1])\n",
    "    return [y0,y1]"
   ]
  },
  {
   "cell_type": "markdown",
   "metadata": {},
   "source": [
    "คำนวณอนุพันธ์ที่อินพุต $x = [1, \\pi /2]$ โดยใช้ forwarddiff.jacobian "
   ]
  },
  {
   "cell_type": "code",
   "execution_count": 33,
   "metadata": {},
   "outputs": [
    {
     "name": "stdout",
     "output_type": "stream",
     "text": [
      "[[ 3.000000e+00  2.000000e+00]\n",
      " [ 6.123234e-17 -1.000000e+00]]\n"
     ]
    }
   ],
   "source": [
    "x3 = np.array([1.0, np.pi/2])\n",
    "y3 = forwarddiff.jacobian(f3,x3)\n",
    "print(y3)"
   ]
  },
  {
   "cell_type": "markdown",
   "metadata": {},
   "source": [
    "### C.1.1 แก้ไขโค้ดจาก forwarddiff.py\n",
    "\n",
    "โด้ดจากแพ็กเกจ forwarddiff ของ Drake เขียนไว้สำหรับปัญหาพื้นฐาน ซึ่งหลายครั้งต้องการการปรับแต่งเพื่อให้ได้ผลตามต้องการ "
   ]
  },
  {
   "cell_type": "code",
   "execution_count": null,
   "metadata": {},
   "outputs": [],
   "source": []
  },
  {
   "cell_type": "code",
   "execution_count": null,
   "metadata": {},
   "outputs": [],
   "source": []
  },
  {
   "cell_type": "code",
   "execution_count": null,
   "metadata": {},
   "outputs": [],
   "source": []
  },
  {
   "cell_type": "code",
   "execution_count": null,
   "metadata": {},
   "outputs": [],
   "source": []
  },
  {
   "cell_type": "code",
   "execution_count": null,
   "metadata": {},
   "outputs": [],
   "source": []
  },
  {
   "cell_type": "code",
   "execution_count": null,
   "metadata": {},
   "outputs": [],
   "source": []
  },
  {
   "cell_type": "code",
   "execution_count": null,
   "metadata": {},
   "outputs": [],
   "source": []
  },
  {
   "cell_type": "code",
   "execution_count": null,
   "metadata": {},
   "outputs": [],
   "source": []
  },
  {
   "cell_type": "code",
   "execution_count": null,
   "metadata": {},
   "outputs": [],
   "source": []
  },
  {
   "cell_type": "code",
   "execution_count": null,
   "metadata": {},
   "outputs": [],
   "source": []
  },
  {
   "cell_type": "code",
   "execution_count": null,
   "metadata": {},
   "outputs": [],
   "source": []
  },
  {
   "cell_type": "code",
   "execution_count": null,
   "metadata": {},
   "outputs": [],
   "source": []
  },
  {
   "cell_type": "code",
   "execution_count": null,
   "metadata": {},
   "outputs": [],
   "source": []
  },
  {
   "cell_type": "markdown",
   "metadata": {},
   "source": [
    "## บรรณานุกรม\n",
    "\n",
    "1. R. Tedrake and the Drake Development Team. [\"Drake: Model-based design and verification\n",
    " for robotics\"](https://drake.mit.edu). 2019."
   ]
  },
  {
   "cell_type": "markdown",
   "metadata": {},
   "source": [
    "<div align=\"center\">\n",
    "<img src=\"https://raw.githubusercontent.com/dewdotninja/sharing-github/refs/heads/master/dewninja_logo50.jpg\" alt=\"dewninja\"/>\n",
    "</div>\n",
    "<div align=\"center\">dew.ninja 2025</div>"
   ]
  }
 ],
 "metadata": {
  "kernelspec": {
   "display_name": "Python 3 (ipykernel)",
   "language": "python",
   "name": "python3"
  },
  "language_info": {
   "codemirror_mode": {
    "name": "ipython",
    "version": 3
   },
   "file_extension": ".py",
   "mimetype": "text/x-python",
   "name": "python",
   "nbconvert_exporter": "python",
   "pygments_lexer": "ipython3",
   "version": "3.12.9"
  }
 },
 "nbformat": 4,
 "nbformat_minor": 4
}
