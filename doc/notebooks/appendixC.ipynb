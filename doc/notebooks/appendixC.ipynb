{
 "cells": [
  {
   "cell_type": "markdown",
   "metadata": {},
   "source": [
    "การควบคุมเหมาะที่สุดและการเรียนรูู้เสริมกำลัง -- ดร.วโรดม ตู้จินดา"
   ]
  },
  {
   "cell_type": "markdown",
   "metadata": {},
   "source": [
    "# ภาคผนวก C รวมการใช้งานซอฟต์แวร์เสริม\n",
    "\n",
    "ในภาคผนวกนี้จะรวมการใช้งานเครื่องมือซอฟต์แวร์เสริมบนไพทอน รวมถึงการปรับแต่งแก้ไขเพื่อให้ทำงานได้ตามวัตถุประสงค์ ซึ่งรายละเอียดอาจมีมากเกินกว่าที่จะใส่ในเนื้อหาหลักของหนังสือ \n",
    "\n",
    "แพ็กเกจที่ใช้มากในหนังสือนี้คือ Drake [1] เป็นเครื่องมือซอฟต์แวร์สำหรับหุ่นยนต์ที่พัฒนาโดย Russ Tedrake และทีมงาน \n",
    "สนับสนุนโดย Toyota Research Institute (TRI) ในช่วงเริ่มต้น API ใช้ภาษา C++ เป็นหลัก \n",
    "แต่ในปัจจุบันรองรับภาษาไพทอนโดยผ่านแพ็กเกจ pydrake ซึ่งโค้ดในหนังสือนี้มีการใช้งานในหลายส่วน \n",
    "เช่นการหาอนุพันธ์อัตโนมัติ และการจำลองโมเดล อย่างไรก็ตามความช่วยเหลือเมื่อเกิดปัญหาอาจค่อนข้างจำกัด \n",
    "เนื่องจากชุมชนของ Drake ยังมีขนาดเล็ก ดังนั้นเนื้อหาในภาคผนวกนี้จะเกี่ยวข้องกับ Drake ค่อนข้างมาก โดยอาจใช้แพ็กเกจเสริมอื่นช่วยเช่น SymPy \n",
    "\n",
    "\n",
    "## C.1 การหาอนุพันธ์อัตโนมัติ\n",
    "\n",
    "ในการควบคุมเหมาะที่สุด พลวัตของโมเดลมักอยู่ในรูปสมการอนุพันธ์ ดังนั้นมักต้องการการคำนวณหาอนุพันธ์ในโปรแกรม \n",
    "ซึ่งสามารถใช้วิธีการดังต่อไปนี้\n",
    "\n",
    "**1. วิธีหาคำตอบเชิงสัญลักษณ์ (symbolic method)**\n",
    "\n",
    "ใช้แพ็กเกจเสริมที่สามารถหาอนุพันธ์จากกฎหรือสูตรเหมือนกับที่เราใช้หาคำตอบบนกระดาษ\n",
    "\n",
    "* ข้อดี\n",
    "    * มีความแม่นยำสูงเทียบเท่าทางทฤษฎี\n",
    "    * เข้าใจได้ง่าย\n",
    "\n",
    "* ข้อเสีย\n",
    "    * ต้องการแพ็กเกจที่สนับสนุนการคำนวณเชิงสัญลักษณ์เช่น SymPy\n",
    "    * เมื่อพจน์มีความซับซ้อนมาก การคำนวณจะซับซ้อนตาม ทำให้ใช้เวลานานในการหาคำตอบ และผลลัพธ์อาจยังติดในรูปที่สามารถทำให้ง่ายกว่าโดยมนุษย์\n",
    "\n",
    "**2. วิธีการประมาณค่าเชิงเลข (numerical method)** \n",
    "\n",
    "ใช้การประมาณค่า เช่นผลต่างจำกัด \n",
    "(finite difference) $f'(x) \\approx \\underset{h \\rightarrow 0}{lim}\\frac{f(x+h)-f(x)}{h}$  \n",
    "(หรือใช็ $f'(x) \\approx \\underset{h \\rightarrow 0}{lim}\\frac{f(x+0.5h)-f(x-0.5h)}{h}$ จะได้ความแม่นยำมากขึ้น)\n",
    "\n",
    "* ข้อดี\n",
    "    * เขียนโค้ดง่าย ไม่ต้องการแพ็กเกจเสริมสำหรับคำนวณอนุพันธ์\n",
    "    * ทำงานเร็ว\n",
    "\n",
    "* ข้อเสีย\n",
    "    * เป็นเพียงการประมาณค่าดังนั้นจึงมีค่าผิดพลาด โดยความแม่นยำขึ้นกับขนาดของขั้น $h$\n",
    "    * เมื่อเลีอก $h$ มีค่าน้อยมาก จะเกิดปัญหาเชิงเลข\n",
    "\n",
    "**3. วิธีการหาอนุพันธ์อัตโนมัติ (automatic differentiation)**\n",
    "\n",
    "เป็นวิธีการหาอนุพันธ์โดยใช้ลำดับของการคำนวณขั้นพื้นฐานเช่นการบวกลบคูณหาร และฟังก์ชันเช่นเลขชี้กำลัง (exponential) ตรีโกณ ลอการิทึม ผ่านใช้กฎลูกโซ่ (chain rule)\n",
    "\n",
    "* ข้อดี\n",
    "    * ใช้การคำนวณน้อย ทำให้ได้คำตอบเร็ว\n",
    "    * มีความแม่นยำสูงเทียบเท่าผลลัพธ์ทางทฤษฎี\n",
    "\n",
    "* ข้อเสีย\n",
    "    * ต้องการแพ็กเกจเสริมเช่น Drake, JAX, PyTorch, tensorflow,   ฯลฯ หรือหากเขียนโปรแกรมเองจะต้องมีการจัดเก็บค่าของฟังก์ชันและอนุพันธ์ไปพร้อมกัน\n",
    "\n",
    "โดยข้อดีของวิธีการ 3 ทำให้เป็นที่นิยมในการหาอนุพันธ์สำหรับระบบที่มีความซับซ้อนเช่นโครงข่ายประสาทเทียม การหาอนุพันธ์อัตโนมัติสามารถแบ่งย่อยเป็น 2 ประเภทหลักคือ\n",
    "\n",
    "* การคำนวณไปข้างหน้า (forward) \n",
    "* การคำนวณผันกลับ (reverse)\n",
    "\n",
    "การเลือกใช้แบบใดจึงเหมาะสมขึ้นกับจำนวนอินพุตและเอาต์พุตของฟังก์ชัน เช่นหากมีอินพุตจำนวนมากและเอาต์พุตเป็นสเกลาร์หรือจำนวนน้อย (เช่นโครงข่ายประสาทเทียม) \n",
    "ควรเลือกวิธีการคำนวณผันกลับ แต่สำหรับพลวัตในหนังสือนี้มิใช่ประเด็นสำคัญ \n",
    "ดังนั้นจะเลือกใช้วิธีการคำนวณไปข้างหน้า ซึ่ง Drake รองรับผ่านแพ็กเกจย่อย forwarddiff\n"
   ]
  },
  {
   "cell_type": "code",
   "execution_count": 1,
   "metadata": {},
   "outputs": [],
   "source": [
    "import numpy as np\n",
    "from pydrake import forwarddiff"
   ]
  },
  {
   "cell_type": "markdown",
   "metadata": {},
   "source": [
    "**ตัวอย่าง C.1** ทดสอบกับฟังก์ชันพื้นฐาน $y = f_1(x) = xsin(x)$"
   ]
  },
  {
   "cell_type": "code",
   "execution_count": 2,
   "metadata": {},
   "outputs": [],
   "source": [
    "def f1(x):\n",
    "    return x*np.sin(x)"
   ]
  },
  {
   "cell_type": "markdown",
   "metadata": {},
   "source": [
    "อนุพันธ์มีค่าเท่ากับ $f_1'(x) = xcos(x) + sin(x)$ เมื่อกำหนดให้ $x = \\frac{\\pi}{6}$  \n",
    "เอาต์พุตของฟังก์ชันและอนุพันธ์มีค่าเป็นดังนี้"
   ]
  },
  {
   "cell_type": "code",
   "execution_count": 11,
   "metadata": {},
   "outputs": [
    {
     "name": "stdout",
     "output_type": "stream",
     "text": [
      "y = 0.26179938779914935\n"
     ]
    }
   ],
   "source": [
    "x1 = np.pi/6\n",
    "y = f1(x1)\n",
    "print(\"y = {}\".format(y))"
   ]
  },
  {
   "cell_type": "code",
   "execution_count": 13,
   "metadata": {},
   "outputs": [
    {
     "name": "stdout",
     "output_type": "stream",
     "text": [
      "dy = 0.9534498410585543\n"
     ]
    }
   ],
   "source": [
    "dy = forwarddiff.derivative(f1,x1)\n",
    "print(\"dy = {}\".format(dy))"
   ]
  },
  {
   "cell_type": "markdown",
   "metadata": {},
   "source": [
    "เมื่อเปรียบเทียบกับการคำนวณด้วยมือ จะพบว่าความแตกต่างเป็นศูนย์"
   ]
  },
  {
   "cell_type": "code",
   "execution_count": 16,
   "metadata": {},
   "outputs": [
    {
     "name": "stdout",
     "output_type": "stream",
     "text": [
      "dy (คำนวณด้วยมือ) = 0.9534498410585543\n",
      "ค่าแตกต่าง = 0.0\n"
     ]
    }
   ],
   "source": [
    "dy_a = x1*np.cos(x1) + np.sin(x1)\n",
    "print(\"dy (คำนวณด้วยมือ) = {}\".format(dy_a))\n",
    "print(\"ค่าแตกต่าง = {}\".format(np.linalg.norm(dy - dy_a)))"
   ]
  },
  {
   "cell_type": "markdown",
   "metadata": {},
   "source": [
    "เปรียบเทียบกับวิธีประมาณค่าโดยผลต่างจำกัดโดยใช้ขั้นเวลาน้อยเช่น $h = 10^{-6}$ จะพบว่ามีความแม่นยำน้อยกว่า \n",
    "(ซึ่งหากใช้ค่า $h$ น้อยเกินไป จะเกิดปัญหาเชิงเลขทำให้ค่าผิดพลาดเพิ่มขึ้น)"
   ]
  },
  {
   "cell_type": "code",
   "execution_count": 23,
   "metadata": {},
   "outputs": [
    {
     "name": "stdout",
     "output_type": "stream",
     "text": [
      "dy (ประมาณค่าเชิงเลข) = 0.9534498409680126\n",
      "ค่าแตกต่าง = 9.054179628265047e-11\n"
     ]
    }
   ],
   "source": [
    "h = 1e-6\n",
    "dy_fd = (f1(x1+0.5*h) - f1(x1-0.5*h))/h\n",
    "print(\"dy (ประมาณค่าเชิงเลข) = {}\".format(dy_fd))\n",
    "print(\"ค่าแตกต่าง = {}\".format(np.linalg.norm(dy_fd - dy_a)))"
   ]
  },
  {
   "cell_type": "markdown",
   "metadata": {},
   "source": [
    "**ตัวอย่าง C.2** กรณีที่ฟังก์ชันมีอินพุตเป็นเวกเตอร์และเอาต์พุตเป็นสเกลาร์เช่น $f_2(x) = x_1^2 + 2x_2^2$ "
   ]
  },
  {
   "cell_type": "code",
   "execution_count": 24,
   "metadata": {},
   "outputs": [],
   "source": [
    "def f2(x):\n",
    "    return x[0]**2 + 2*x[1]**2"
   ]
  },
  {
   "cell_type": "markdown",
   "metadata": {},
   "source": [
    "อนุพันธ์จะเป็นเวกเตอร์\n",
    "$$\n",
    "f_2'(x) = \n",
    "\\left[\\begin{array}{c} \n",
    "\\frac{\\partial f_2(x)}{\\partial x_1} \\\\\n",
    "\\frac{\\partial f_2(x)}{\\partial x_2} \n",
    "\\end{array}\\right] = \n",
    "\\left[\\begin{array}{c} \n",
    "2x_1 \\\\\n",
    "4x_2\n",
    "\\end{array}\\right] \\tag{C.1}\n",
    "$$\n",
    "\n",
    "เรียกว่าเกรเดียนต์ จะใช้ forwarddiff.gradient สมมุติว่ากำหนด $x_2 = [1.0, -1.0]$ ได้อนุพันธ์เป็นดังนี้ (ลองเปรียบเทียบกับการคำนวณด้วยมือจะเห็นว่าเท่ากัน)"
   ]
  },
  {
   "cell_type": "code",
   "execution_count": 26,
   "metadata": {},
   "outputs": [
    {
     "name": "stdout",
     "output_type": "stream",
     "text": [
      "[ 2. -4.]\n"
     ]
    }
   ],
   "source": [
    "x2 = np.array([1.0,-1.0])\n",
    "grad_fx2 = forwarddiff.gradient(f2,x2)\n",
    "print(grad_fx2)"
   ]
  },
  {
   "cell_type": "markdown",
   "metadata": {},
   "source": [
    "**ตัวอย่าง C.3** ระบบพลวัตที่เป็นเงื่อนไขบังคับของการควบคุมเหมาะที่สุดเช่น $x_{k+1} = f(x_k,u_k)$ \n",
    "หรือในกรณีทั่วไปคือ $y = f(x,u)$ อยู่ในรูปหลายอินพุตหลายเอาต์พุต เพื่อความง่ายพิจารณากรณีฟังก์ชันไม่เป็นเชิงเส้นที่ไม่มีอินพุต $u$\n",
    "\n",
    "$$\n",
    "\\left[\\begin{array}{c}\n",
    "y_1 \\\\\n",
    "y_2\n",
    "\\end{array}\\right] =\n",
    "\\left[\\begin{array}{c}\n",
    "x_1^3  + 2x_2 \\\\\n",
    "x_1cos(x_2)\n",
    "\\end{array}\\right] \\tag{C.2}\n",
    "$$\n",
    "\n",
    "อนุพันธ์อยู่ในรูปเมทริกซ์เรียกว่าจาโคเบียน\n",
    "$$\n",
    "\\left[\\begin{array}{cc}\n",
    "\\frac{\\partial y_1}{\\partial x_1} & \\frac{\\partial y_1}{\\partial x_2} \\\\\n",
    "\\frac{\\partial y_2}{\\partial x_1} & \\frac{\\partial y_2}{\\partial x_2} \\\\\n",
    "\\end{array}\\right] = \n",
    "\\left[\\begin{array}{cc}\n",
    "3x_1^2 & 2 \\\\\n",
    "cos(x_2) & -x_1sin(x_2) \\\\\n",
    "\\end{array}\\right] \\tag{C.3}\n",
    "$$\n",
    " "
   ]
  },
  {
   "cell_type": "code",
   "execution_count": 32,
   "metadata": {},
   "outputs": [],
   "source": [
    "def f3(x):\n",
    "    y0 = x[0]**3  + 2*x[1]\n",
    "    y1 = x[0]*np.cos(x[1])\n",
    "    return [y0,y1]"
   ]
  },
  {
   "cell_type": "markdown",
   "metadata": {},
   "source": [
    "คำนวณอนุพันธ์ที่อินพุต $x = [1, \\pi /2]$ โดยใช้ forwarddiff.jacobian "
   ]
  },
  {
   "cell_type": "code",
   "execution_count": 33,
   "metadata": {},
   "outputs": [
    {
     "name": "stdout",
     "output_type": "stream",
     "text": [
      "[[ 3.000000e+00  2.000000e+00]\n",
      " [ 6.123234e-17 -1.000000e+00]]\n"
     ]
    }
   ],
   "source": [
    "x3 = np.array([1.0, np.pi/2])\n",
    "y3 = forwarddiff.jacobian(f3,x3)\n",
    "print(y3)"
   ]
  },
  {
   "cell_type": "markdown",
   "metadata": {},
   "source": [
    "### C.1.1 แก้ไขโค้ดจาก forwarddiff.py\n",
    "\n",
    "โด้ดจากแพ็กเกจ forwarddiff ของ Drake เขียนไว้สำหรับปัญหาพื้นฐาน ซึ่งหลายครั้งต้องการการปรับแต่งเพื่อให้ได้ผลตามต้องการ \n",
    "ยกตัวอย่างเช่นหากมีฟังก์ชันที่มีอินพุตเป็นสเกลาร์แต่คืนค่าเอาต์พุตเป็นเวกเตอร์ ในกรณีนี้จะไม่มีเมธอดรองรับ \n",
    "\n",
    "**ตัวอย่าง C.4** พิจารณาฟังก์ชัน f4() ดังนี้"
   ]
  },
  {
   "cell_type": "code",
   "execution_count": 3,
   "metadata": {},
   "outputs": [],
   "source": [
    "def f4(u):\n",
    "    y0 = np.sin(u)\n",
    "    y1 = np.cos(u)\n",
    "    return [y0, y1]"
   ]
  },
  {
   "cell_type": "markdown",
   "metadata": {},
   "source": [
    "ไม่สามารถใช้ forwarddiff.derivative() เพราะเอาต์พุตเป็นเวกเตอร์"
   ]
  },
  {
   "cell_type": "code",
   "execution_count": 12,
   "metadata": {},
   "outputs": [
    {
     "ename": "AttributeError",
     "evalue": "'list' object has no attribute 'derivatives'",
     "output_type": "error",
     "traceback": [
      "\u001b[31m---------------------------------------------------------------------------\u001b[39m",
      "\u001b[31mAttributeError\u001b[39m                            Traceback (most recent call last)",
      "\u001b[36mCell\u001b[39m\u001b[36m \u001b[39m\u001b[32mIn[12]\u001b[39m\u001b[32m, line 3\u001b[39m\n\u001b[32m      1\u001b[39m \u001b[38;5;66;03m# execute this cell results in error\u001b[39;00m\n\u001b[32m      2\u001b[39m u0 = \u001b[32m1.0\u001b[39m\n\u001b[32m----> \u001b[39m\u001b[32m3\u001b[39m \u001b[43mforwarddiff\u001b[49m\u001b[43m.\u001b[49m\u001b[43mderivative\u001b[49m\u001b[43m(\u001b[49m\u001b[43mf4\u001b[49m\u001b[43m,\u001b[49m\u001b[43mu0\u001b[49m\u001b[43m)\u001b[49m\n",
      "\u001b[36mFile \u001b[39m\u001b[32m/opt/conda/lib/python3.12/site-packages/pydrake/forwarddiff.py:14\u001b[39m, in \u001b[36mderivative\u001b[39m\u001b[34m(function, x)\u001b[39m\n\u001b[32m     12\u001b[39m x_ad = AutoDiffXd(value=x, size=\u001b[32m1\u001b[39m, offset=\u001b[32m0\u001b[39m)\n\u001b[32m     13\u001b[39m y_ad = function(x_ad)\n\u001b[32m---> \u001b[39m\u001b[32m14\u001b[39m \u001b[38;5;28;01mreturn\u001b[39;00m \u001b[43my_ad\u001b[49m\u001b[43m.\u001b[49m\u001b[43mderivatives\u001b[49m()[\u001b[32m0\u001b[39m]\n",
      "\u001b[31mAttributeError\u001b[39m: 'list' object has no attribute 'derivatives'"
     ]
    }
   ],
   "source": [
    "# executing this cell should result in error\n",
    "u0 = 1.0\n",
    "forwarddiff.derivative(f4,u0)"
   ]
  },
  {
   "cell_type": "markdown",
   "metadata": {},
   "source": [
    "ไม่สามารถใช้ forwarddiff.gradient() เพราะอินพุตต้องเป็นเวกเตอร์"
   ]
  },
  {
   "cell_type": "code",
   "execution_count": 13,
   "metadata": {},
   "outputs": [
    {
     "ename": "AssertionError",
     "evalue": "x must be a vector",
     "output_type": "error",
     "traceback": [
      "\u001b[31m---------------------------------------------------------------------------\u001b[39m",
      "\u001b[31mAssertionError\u001b[39m                            Traceback (most recent call last)",
      "\u001b[36mCell\u001b[39m\u001b[36m \u001b[39m\u001b[32mIn[13]\u001b[39m\u001b[32m, line 2\u001b[39m\n\u001b[32m      1\u001b[39m \u001b[38;5;66;03m# execute this cell results in error\u001b[39;00m\n\u001b[32m----> \u001b[39m\u001b[32m2\u001b[39m \u001b[43mforwarddiff\u001b[49m\u001b[43m.\u001b[49m\u001b[43mgradient\u001b[49m\u001b[43m(\u001b[49m\u001b[43mf4\u001b[49m\u001b[43m,\u001b[49m\u001b[43mu0\u001b[49m\u001b[43m)\u001b[49m\n",
      "\u001b[36mFile \u001b[39m\u001b[32m/opt/conda/lib/python3.12/site-packages/pydrake/forwarddiff.py:25\u001b[39m, in \u001b[36mgradient\u001b[39m\u001b[34m(function, x)\u001b[39m\n\u001b[32m     18\u001b[39m \u001b[38;5;250m\u001b[39m\u001b[33;03m\"\"\"Compute the gradient of the function evaluated at the vector input x\u001b[39;00m\n\u001b[32m     19\u001b[39m \u001b[33;03musing Eigen's automatic differentiation.\u001b[39;00m\n\u001b[32m     20\u001b[39m \n\u001b[32m     21\u001b[39m \u001b[33;03m``function`` should be vector-input and be either a scalar output or a\u001b[39;00m\n\u001b[32m     22\u001b[39m \u001b[33;03mvector of size 1, where the element must be of type AutoDiffXd.\u001b[39;00m\n\u001b[32m     23\u001b[39m \u001b[33;03m\"\"\"\u001b[39;00m\n\u001b[32m     24\u001b[39m x = np.asarray(x)\n\u001b[32m---> \u001b[39m\u001b[32m25\u001b[39m \u001b[38;5;28;01massert\u001b[39;00m x.ndim == \u001b[32m1\u001b[39m, \u001b[33m\"\u001b[39m\u001b[33mx must be a vector\u001b[39m\u001b[33m\"\u001b[39m\n\u001b[32m     26\u001b[39m x_ad = np.empty(x.shape, dtype=AutoDiffXd)\n\u001b[32m     27\u001b[39m \u001b[38;5;28;01mfor\u001b[39;00m i \u001b[38;5;129;01min\u001b[39;00m \u001b[38;5;28mrange\u001b[39m(x.size):\n",
      "\u001b[31mAssertionError\u001b[39m: x must be a vector"
     ]
    }
   ],
   "source": [
    "# executing this cell should result in error\n",
    "forwarddiff.gradient(f4,u0)"
   ]
  },
  {
   "cell_type": "markdown",
   "metadata": {},
   "source": [
    "วิธีการจัดการกับปัญหานี้ เริ่มจากนำเข้าแพ็กเกจเสริมสำหรับจัดการกับรูปแบบข้อมูลของ forwarddiff \n",
    "ที่เรียกว่า AutoDiffXd"
   ]
  },
  {
   "cell_type": "code",
   "execution_count": 6,
   "metadata": {},
   "outputs": [],
   "source": [
    "from pydrake.autodiffutils import AutoDiffXd, ExtractGradient, ExtractValue, InitializeAutoDiff"
   ]
  },
  {
   "cell_type": "markdown",
   "metadata": {},
   "source": [
    "นำโค้ดของฟังก์ชัน derivative() จาก forwarddiff.py มาแก้ไข ตั้งชื่อใหม่เป็น \n",
    "vectorout_derivative() "
   ]
  },
  {
   "cell_type": "code",
   "execution_count": 7,
   "metadata": {},
   "outputs": [],
   "source": [
    "def vectorout_derivative(function, x):\n",
    "    \"\"\" origimal comment from forwarddiff.derivative()\n",
    "    Compute the derivative of the function evaluated at the scalar input x\n",
    "    using Eigen's automatic differentiation.\n",
    "\n",
    "    The function should be scalar-input and scalar-output.\n",
    "    \"\"\"\n",
    "    x_ad = AutoDiffXd(value=x, size=1, offset=0)\n",
    "    y_ad = function(x_ad)\n",
    "    y_derivative = ExtractGradient(y_ad) # changed\n",
    "    return y_derivative"
   ]
  },
  {
   "cell_type": "markdown",
   "metadata": {},
   "source": [
    "เรียกใช้ฟังก์ชันนี้ได้เหมือนกับฟังก์ชันอื่นๆ ที่สร้างขึ้นเอง "
   ]
  },
  {
   "cell_type": "code",
   "execution_count": 8,
   "metadata": {},
   "outputs": [
    {
     "data": {
      "text/plain": [
       "array([[ 0.54030231],\n",
       "       [-0.84147098]])"
      ]
     },
     "execution_count": 8,
     "metadata": {},
     "output_type": "execute_result"
    }
   ],
   "source": [
    "u0 = 1.0\n",
    "vectorout_derivative(f4,u0)"
   ]
  },
  {
   "cell_type": "markdown",
   "metadata": {},
   "source": [
    "ตรวจสอบคำตอบกับการคำนวณบนกระดาษ $f_4'(u) = [cos(u), -sin(u)]$ จะเห็นว่าถูกต้อง"
   ]
  },
  {
   "cell_type": "code",
   "execution_count": 11,
   "metadata": {},
   "outputs": [
    {
     "data": {
      "text/plain": [
       "array([[ 0.54030231],\n",
       "       [-0.84147098]])"
      ]
     },
     "execution_count": 11,
     "metadata": {},
     "output_type": "execute_result"
    }
   ],
   "source": [
    "np.array([np.cos(u0),-np.sin(u0)]).reshape(2,1)"
   ]
  },
  {
   "cell_type": "markdown",
   "metadata": {},
   "source": [
    "### C.1.2 การจัดเก็บข้อมูลตามโครงสร้าง AutoDiffXd\n",
    "\n",
    "AutoDiffXd คือโครงสร้างข้อมูลที่นิยามโดย Drake สำหรับการคำนวณ forwarddiff \n",
    "หลักการคือเมื่อเรียกวิธีหนึ่งของ forwarddiff จะคำนวณเอาต์พุตของฟังก์ชันและอนุพันธ์ไปพร้อมกันและเก็บคำตอบรวมอยู่ในรูปของ \n",
    "AutoDiffXd ข้อเสียคือโครงสร้างนี้นิยามภายใน Drake โดยที่แพ็กเกจมาตรฐานทั่วไปเช่น numpy ไม่รองรับ \n",
    "ดังนั้นจึงมักเกิดข้อผิดพลาดขึ้นเสมอเมื่อใช้ร่วมกับ numpy (นี้เป็นเหตุผลที่บางแพ็กเกจที่ใช้คำนวณอนุพันธ์อัตโนมัติเช่น JAX \n",
    "จะมาพร้อมกับ jax.numpy ของตนเอง)\n",
    "\n",
    "ประเด็นที่เพิ่มความซับซ้อนคือโดยทั่วไปแล้วขนาดมิติของข้อมูลเอาต์พุตของฟังก์ชันและอนุพันธ์จะแตกต่างกัน ในกรณีของจาโคเบียน \n",
    "ค่าอนุพันธ์อาจอยู่ในรูปเทนเซอร์ เราลองมาทำความเข้าใจกับ AutoDiffXd จากฟังก์ชันเดิมในตัวอย่าง C.3\n",
    "\n",
    "**ตัวอย่าง C.5** จากฟังก์ชัน f3(x) เดิม สร้างตัวแปรส่วนกลาง (global variable) เพื่อตรวจสอบโครงสร้าง AutoDiffXd"
   ]
  },
  {
   "cell_type": "code",
   "execution_count": 17,
   "metadata": {},
   "outputs": [],
   "source": [
    "def f5(x):\n",
    "    global x_global, y_global\n",
    "    x_global = x\n",
    "    y = [0,0]\n",
    "    y[0] = x[0]**3  + 2*x[1]\n",
    "    y[1] = x[0]*np.cos(x[1])\n",
    "    y_global = y\n",
    "    return y"
   ]
  },
  {
   "cell_type": "code",
   "execution_count": 18,
   "metadata": {},
   "outputs": [],
   "source": [
    "x5 = np.array([1.0, np.pi/2])\n",
    "y5 = forwarddiff.jacobian(f5,x5)"
   ]
  },
  {
   "cell_type": "markdown",
   "metadata": {},
   "source": [
    "ตรวจสอบอินพุตจากตัวแปร x_global และ y_global จะเห็นว่าเป็นแบบ AutoDiffXd ที่มีมิติของ nderiv \n",
    "เพิ่มเข้ามา"
   ]
  },
  {
   "cell_type": "code",
   "execution_count": 19,
   "metadata": {},
   "outputs": [
    {
     "data": {
      "text/plain": [
       "array([<AutoDiffXd 1.0 nderiv=2>,\n",
       "       <AutoDiffXd 1.5707963267948966 nderiv=2>], dtype=object)"
      ]
     },
     "execution_count": 19,
     "metadata": {},
     "output_type": "execute_result"
    }
   ],
   "source": [
    "x_global"
   ]
  },
  {
   "cell_type": "code",
   "execution_count": 21,
   "metadata": {},
   "outputs": [
    {
     "data": {
      "text/plain": [
       "[<AutoDiffXd 4.141592653589793 nderiv=2>,\n",
       " <AutoDiffXd 6.123233995736766e-17 nderiv=2>]"
      ]
     },
     "execution_count": 21,
     "metadata": {},
     "output_type": "execute_result"
    }
   ],
   "source": [
    "y_global"
   ]
  },
  {
   "cell_type": "markdown",
   "metadata": {},
   "source": [
    "เราสามารถแยกเฉพาะข้อมูลเอาต์พุตของฟังก์ชันโดยคำสั่ง"
   ]
  },
  {
   "cell_type": "code",
   "execution_count": 22,
   "metadata": {},
   "outputs": [
    {
     "data": {
      "text/plain": [
       "array([[4.14159265e+00],\n",
       "       [6.12323400e-17]])"
      ]
     },
     "execution_count": 22,
     "metadata": {},
     "output_type": "execute_result"
    }
   ],
   "source": [
    "ExtractValue(y_global)"
   ]
  },
  {
   "cell_type": "markdown",
   "metadata": {},
   "source": [
    "หรือหากต้องการเฉพาะค่าอนุพันธ์ ใช้คำสั่ง"
   ]
  },
  {
   "cell_type": "code",
   "execution_count": 23,
   "metadata": {},
   "outputs": [
    {
     "data": {
      "text/plain": [
       "array([[ 3.000000e+00,  2.000000e+00],\n",
       "       [ 6.123234e-17, -1.000000e+00]])"
      ]
     },
     "execution_count": 23,
     "metadata": {},
     "output_type": "execute_result"
    }
   ],
   "source": [
    "ExtractGradient(y_global)"
   ]
  },
  {
   "cell_type": "markdown",
   "metadata": {},
   "source": [
    "ซึ่งก็คือคำตอบของ forwarddiff.jacobian() ในตัวอย่าง C.3 นั่นเอง เมื่อเข้าใจโครงสร้างภายในของ \n",
    "AutoDiffXd อาจช่วยให้เราหาหนทางแก้ปัญหาได้กรณีที่เกิดความขัดแย้งกันระหว่าง forwarddiff กับ numpy\n",
    "\n",
    "**ตัวอย่าง C.6** พิจารณาฟังก์ชันที่รับอินพุต $x$ เป็นเวกเตอร์ 2 สมาชิก $u$ เป็นสเกลาร์ สร้างเมทริกซ์ \n",
    "$M$ ขนาด 2x2 จาก $x$ เวกเตอร์ $\\tau$ จาก $u$ และคืนค่า y = np.linalg.solve($M,\\tau$) "
   ]
  },
  {
   "cell_type": "code",
   "execution_count": 29,
   "metadata": {},
   "outputs": [],
   "source": [
    "from numpy.linalg import solve, inv"
   ]
  },
  {
   "cell_type": "code",
   "execution_count": 37,
   "metadata": {},
   "outputs": [],
   "source": [
    "def f6(x,u):\n",
    "    s1 = np.sin(x[0])\n",
    "    c1 = np.cos(x[0])\n",
    "    s12 = np.sin(x[0]+x[1])    \n",
    "    c12 = np.cos(x[0]+x[1])\n",
    "    m11 = s1 + c12\n",
    "    m12 = c1 + s12\n",
    "    m22 = 2.0\n",
    "    M = np.array([[m11,m12],[ m12,m22]])\n",
    "    tau = np.array([0,u]).reshape(2,1)\n",
    "    y = solve(M,tau)\n",
    "    return y"
   ]
  },
  {
   "cell_type": "code",
   "execution_count": 38,
   "metadata": {},
   "outputs": [
    {
     "data": {
      "text/plain": [
       "array([[ 7.07106781e-01],\n",
       "       [-5.55111512e-17]])"
      ]
     },
     "execution_count": 38,
     "metadata": {},
     "output_type": "execute_result"
    }
   ],
   "source": [
    "x6 = np.array([-np.pi/4, np.pi/2])\n",
    "u6 = 1.0\n",
    "f6(x6,u6)"
   ]
  },
  {
   "cell_type": "markdown",
   "metadata": {},
   "source": [
    "ต้องการหาอนุพันธ์ย่อยของฟังก์ชันนี้เทียบกับ $x$ และ $u$ \n",
    "\n",
    "ประเด็นแรกที่ต้องพิจารณาคือ forwarddiff ของ Drake ไม่ได้เขียนเพื่อรองรับฟังก์ชันที่มีอาร์กิวเมนต์หลายตัว \n",
    "วิธีการที่ผู้เขียนใช้คือสร้างตัวแปรส่วนกลางสำหรับอาร์กิวเมนต์ตัวที่ไม่ได้ใช้คำนวณอนุพันธ์ สร้างเป็นฟังก์ชันห่อหุ้มสำหรับสองกรณีดังนี้"
   ]
  },
  {
   "cell_type": "code",
   "execution_count": 34,
   "metadata": {},
   "outputs": [],
   "source": [
    "def f6_x(x):\n",
    "    global u_global\n",
    "    return f6(x,u_global)\n",
    "\n",
    "def f6_u(u):\n",
    "    global x_global\n",
    "    return f6(x_global, u)"
   ]
  },
  {
   "cell_type": "markdown",
   "metadata": {},
   "source": [
    "เมื่อใช้ forwardiff.jacobian() พบว่าสามารถผ่านฟังก์ชันห่อหุ้มได้ แต่จะติดปัญหาตรงหาคำตอบ y"
   ]
  },
  {
   "cell_type": "code",
   "execution_count": 39,
   "metadata": {},
   "outputs": [
    {
     "ename": "UFuncTypeError",
     "evalue": "Cannot cast ufunc 'solve' input 0 from dtype('O') to dtype('float64') with casting rule 'same_kind'",
     "output_type": "error",
     "traceback": [
      "\u001b[31m---------------------------------------------------------------------------\u001b[39m",
      "\u001b[31mUFuncTypeError\u001b[39m                            Traceback (most recent call last)",
      "\u001b[36mCell\u001b[39m\u001b[36m \u001b[39m\u001b[32mIn[39]\u001b[39m\u001b[32m, line 5\u001b[39m\n\u001b[32m      3\u001b[39m u6 = \u001b[32m1.0\u001b[39m\n\u001b[32m      4\u001b[39m u_global = u6\n\u001b[32m----> \u001b[39m\u001b[32m5\u001b[39m \u001b[43mforwarddiff\u001b[49m\u001b[43m.\u001b[49m\u001b[43mjacobian\u001b[49m\u001b[43m(\u001b[49m\u001b[43mf6_x\u001b[49m\u001b[43m,\u001b[49m\u001b[43mx6\u001b[49m\u001b[43m)\u001b[49m\n",
      "\u001b[36mFile \u001b[39m\u001b[32m/opt/conda/lib/python3.12/site-packages/pydrake/forwarddiff.py:51\u001b[39m, in \u001b[36mjacobian\u001b[39m\u001b[34m(function, x)\u001b[39m\n\u001b[32m     49\u001b[39m \u001b[38;5;28;01mfor\u001b[39;00m i \u001b[38;5;129;01min\u001b[39;00m \u001b[38;5;28mrange\u001b[39m(x.size):\n\u001b[32m     50\u001b[39m     x_ad.flat[i] = AutoDiffXd(value=x.flat[i], size=x.size, offset=i)\n\u001b[32m---> \u001b[39m\u001b[32m51\u001b[39m y_ad = np.asarray(\u001b[43mfunction\u001b[49m\u001b[43m(\u001b[49m\u001b[43mx_ad\u001b[49m\u001b[43m)\u001b[49m)\n\u001b[32m     52\u001b[39m \u001b[38;5;66;03m# An AutoDiffXd variable with empty derivatives should be treated as\u001b[39;00m\n\u001b[32m     53\u001b[39m \u001b[38;5;66;03m# having all zero derivatives. Checking the length of the derivatives\u001b[39;00m\n\u001b[32m     54\u001b[39m \u001b[38;5;66;03m# vector, and replacing it with all zeros ensures np.vstack doesn't\u001b[39;00m\n\u001b[32m     55\u001b[39m \u001b[38;5;66;03m# throw an error when the shapes don't line up.\u001b[39;00m\n\u001b[32m     56\u001b[39m \u001b[38;5;28;01mreturn\u001b[39;00m np.vstack(\n\u001b[32m     57\u001b[39m     [y.derivatives() \u001b[38;5;28;01mif\u001b[39;00m \u001b[38;5;28mlen\u001b[39m(y.derivatives()) > \u001b[32m0\u001b[39m \u001b[38;5;28;01melse\u001b[39;00m np.zeros(x.size)\n\u001b[32m     58\u001b[39m         \u001b[38;5;28;01mfor\u001b[39;00m y \u001b[38;5;129;01min\u001b[39;00m y_ad.flat]).reshape(y_ad.shape + (-\u001b[32m1\u001b[39m,))\n",
      "\u001b[36mCell\u001b[39m\u001b[36m \u001b[39m\u001b[32mIn[34]\u001b[39m\u001b[32m, line 3\u001b[39m, in \u001b[36mf6_x\u001b[39m\u001b[34m(x)\u001b[39m\n\u001b[32m      1\u001b[39m \u001b[38;5;28;01mdef\u001b[39;00m\u001b[38;5;250m \u001b[39m\u001b[34mf6_x\u001b[39m(x):\n\u001b[32m      2\u001b[39m     \u001b[38;5;28;01mglobal\u001b[39;00m u_global\n\u001b[32m----> \u001b[39m\u001b[32m3\u001b[39m     \u001b[38;5;28;01mreturn\u001b[39;00m \u001b[43mf6\u001b[49m\u001b[43m(\u001b[49m\u001b[43mx\u001b[49m\u001b[43m,\u001b[49m\u001b[43mu_global\u001b[49m\u001b[43m)\u001b[49m\n",
      "\u001b[36mCell\u001b[39m\u001b[36m \u001b[39m\u001b[32mIn[37]\u001b[39m\u001b[32m, line 11\u001b[39m, in \u001b[36mf6\u001b[39m\u001b[34m(x, u)\u001b[39m\n\u001b[32m      9\u001b[39m M = np.array([[m11,m12],[ m12,m22]])\n\u001b[32m     10\u001b[39m tau = np.array([\u001b[32m0\u001b[39m,u]).reshape(\u001b[32m2\u001b[39m,\u001b[32m1\u001b[39m)\n\u001b[32m---> \u001b[39m\u001b[32m11\u001b[39m y = \u001b[43msolve\u001b[49m\u001b[43m(\u001b[49m\u001b[43mM\u001b[49m\u001b[43m,\u001b[49m\u001b[43mtau\u001b[49m\u001b[43m)\u001b[49m\n\u001b[32m     12\u001b[39m \u001b[38;5;28;01mreturn\u001b[39;00m y\n",
      "\u001b[36mFile \u001b[39m\u001b[32m/opt/conda/lib/python3.12/site-packages/numpy/linalg/_linalg.py:413\u001b[39m, in \u001b[36msolve\u001b[39m\u001b[34m(a, b)\u001b[39m\n\u001b[32m    410\u001b[39m signature = \u001b[33m'\u001b[39m\u001b[33mDD->D\u001b[39m\u001b[33m'\u001b[39m \u001b[38;5;28;01mif\u001b[39;00m isComplexType(t) \u001b[38;5;28;01melse\u001b[39;00m \u001b[33m'\u001b[39m\u001b[33mdd->d\u001b[39m\u001b[33m'\u001b[39m\n\u001b[32m    411\u001b[39m \u001b[38;5;28;01mwith\u001b[39;00m errstate(call=_raise_linalgerror_singular, invalid=\u001b[33m'\u001b[39m\u001b[33mcall\u001b[39m\u001b[33m'\u001b[39m,\n\u001b[32m    412\u001b[39m               over=\u001b[33m'\u001b[39m\u001b[33mignore\u001b[39m\u001b[33m'\u001b[39m, divide=\u001b[33m'\u001b[39m\u001b[33mignore\u001b[39m\u001b[33m'\u001b[39m, under=\u001b[33m'\u001b[39m\u001b[33mignore\u001b[39m\u001b[33m'\u001b[39m):\n\u001b[32m--> \u001b[39m\u001b[32m413\u001b[39m     r = \u001b[43mgufunc\u001b[49m\u001b[43m(\u001b[49m\u001b[43ma\u001b[49m\u001b[43m,\u001b[49m\u001b[43m \u001b[49m\u001b[43mb\u001b[49m\u001b[43m,\u001b[49m\u001b[43m \u001b[49m\u001b[43msignature\u001b[49m\u001b[43m=\u001b[49m\u001b[43msignature\u001b[49m\u001b[43m)\u001b[49m\n\u001b[32m    415\u001b[39m \u001b[38;5;28;01mreturn\u001b[39;00m wrap(r.astype(result_t, copy=\u001b[38;5;28;01mFalse\u001b[39;00m))\n",
      "\u001b[31mUFuncTypeError\u001b[39m: Cannot cast ufunc 'solve' input 0 from dtype('O') to dtype('float64') with casting rule 'same_kind'"
     ]
    }
   ],
   "source": [
    "# running this cell should result in error\n",
    "x6 = np.array([-np.pi/4, np.pi/2])\n",
    "u6 = 1.0\n",
    "u_global = u6\n",
    "forwarddiff.jacobian(f6_x,x6)"
   ]
  },
  {
   "cell_type": "markdown",
   "metadata": {},
   "source": [
    "เหตุผลคือฟังก์ชัน numpy.linalg.solve() ไม่รองรับตัวแปร AutoDiffXd ที่สร้างโดย forwarddiff \n",
    "การแก้ไขโค้ดตรงส่วนนี้ต้องอาศัยการคำนวณบนแผ่นกระดาษเข้าช่วย และเราหลีกเลี่ยงการใช้ solve() ของ numpy \n",
    "โดยใช้การหาคำตอบในรูป y = np.linalg.inv($M$)$\\tau$ แทน ซึ่งจะแก้ได้ง่ายกว่า \n",
    "\n",
    "พิจารณาสมการเชิงเส้น\n",
    "\n",
    "$$\n",
    "My = \\tau \\tag{C.4}\n",
    "$$\n",
    "เมื่อหาอนุพันธ์ตลอดสมการและหาคำตอบ $\\dot{y}$ \n",
    "$$\n",
    "\\begin{align*}\n",
    "\\dot{M}y + M\\dot{y} &= \\dot{\\tau} \\\\\n",
    "M\\dot{y} &= \\dot{\\tau} - \\dot{M}y \\\\\n",
    "\\dot{y} &= M^{-1}(\\dot{\\tau} - \\dot{M}y) \\tag{C.5}\n",
    "\\end{align*}\n",
    "$$\n",
    "\n",
    "สังเกตว่ากรณีอนุพันธ์เทียบ $x$ เวกเตอร์ $\\tau$ เป็นค่าคงที่ ดังนั้น $\\dot{\\tau} = 0$ คำตอบจะเหลือเพียง\n",
    "$$\n",
    "\\dot{y} = M^{-1}\\dot{M}y \\tag{C.6}\n",
    "$$\n",
    "\n",
    "    \n",
    "ส่วนกรณีอนุพันธ์เทียบ $u$ เมทริกซ์ $M$ เป็นค่าคงที่ ดังนั้น $\\dot{M} = 0$ คำตอบจะเหลือเพียง\n",
    "$$\n",
    "\\dot{y} = M^{-1}\\dot{\\tau} \\tag{C.7}\n",
    "$$\n",
    "\n",
    "เราจะเพิ่มตัวแปร adflag สำหรับจัดการคำตอบแต่ละกรณี โดยค่า 0,1,2 แทนค่าเอาต์พุตของฟังก์ชัน อนุพันธ์เทียบ $x$ และ $u$ \n",
    "ตามลำดับ เมื่อดัดแปลงแก้ไขแล้วจะได้เป็นฟังก์ชัน f6a() ดังนี้"
   ]
  },
  {
   "cell_type": "code",
   "execution_count": 82,
   "metadata": {},
   "outputs": [],
   "source": [
    "def f6a(x,u):\n",
    "    s1 = np.sin(x[0])\n",
    "    c1 = np.cos(x[0])\n",
    "    s12 = np.sin(x[0]+x[1])    \n",
    "    c12 = np.cos(x[0]+x[1])\n",
    "    m11 = s1 + c12\n",
    "    m12 = c1 + s12\n",
    "    m22 = 2.0\n",
    "    M = np.array([[m11,m12],[ m12,m22]])\n",
    "    tau = np.array([0,u]).reshape(2,1)\n",
    "    if not adflag: # adflag: # not called from forwarddiff\n",
    "        y = solve(M,tau)\n",
    "    else:\n",
    "        M_value = ExtractValue(M)\n",
    "        tau_value = ExtractValue(tau)\n",
    "        M_grad = ExtractGradient(M)\n",
    "        tau_grad = ExtractGradient(tau)\n",
    "        y_value = solve(M_value, tau_value)\n",
    "        if adflag==1: # Jacobian w.r.t x\n",
    "            dy_dx1 = inv(M_value)@(-M_grad[:,0].reshape(2,2)@y_value)\n",
    "            dy_dx2 = inv(M_value)@(-M_grad[:,1].reshape(2,2)@y_value)\n",
    "            y_grad = np.hstack((dy_dx1,dy_dx2))\n",
    "            y = InitializeAutoDiff(y_value, y_grad)\n",
    "        else: # derivative w.r.t u\n",
    "            y_grad = inv(M_value)@ tau_grad\n",
    "            y = InitializeAutoDiff(y_value,y_grad)\n",
    "    return y"
   ]
  },
  {
   "cell_type": "markdown",
   "metadata": {},
   "source": [
    "จุดที่ต้องระวังในกรณีหาอนุพันธ์เทียบ $x$ คือ $\\dot{M}$ คืออนุพันธ์ย่อยของแต่ละสมาชิกของเมทริกซ์ $M$ \n",
    "เทียบกับแต่ละสมาชิกของเวกเตอร์ $x$ ดังนั้นจึงมีขนาด 4 x 2 จึงต้องจัดรูปให้ถูกต้องก่อนคำนวณ (C.6)\n",
    "\n",
    "นิยามฟังก์ชันห่อหุ้มสำหรับ f6a() ดังนี้"
   ]
  },
  {
   "cell_type": "code",
   "execution_count": 41,
   "metadata": {},
   "outputs": [],
   "source": [
    "def f6a_x(x):\n",
    "    global u_global\n",
    "    return f6a(x,u_global)\n",
    "\n",
    "def f6a_u(u):\n",
    "    global x_global\n",
    "    return f6a(x_global, u)"
   ]
  },
  {
   "cell_type": "markdown",
   "metadata": {},
   "source": [
    "นิยามฟังก์ชันหาอนุพันธ์เทียบ $x$ และ $u$ ชื่อว่า dfdx(), dfdu() ตามลำดับ โดยสำหรับ dfdu() \n",
    "จะใช้ฟังก์ชัน vectorout_derivative() ตามที่อธิบายในตัวอย่าง"
   ]
  },
  {
   "cell_type": "code",
   "execution_count": null,
   "metadata": {},
   "outputs": [],
   "source": [
    "def vectorout_derivative(function, x):\n",
    "    \"\"\" origimal comment from forwarddiff.derivative()\n",
    "    Compute the derivative of the function evaluated at the scalar input x\n",
    "    using Eigen's automatic differentiation.\n",
    "\n",
    "    The function should be scalar-input and scalar-output.\n",
    "    \"\"\"\n",
    "    x_ad = AutoDiffXd(value=x, size=1, offset=0)\n",
    "    y_ad = function(x_ad)\n",
    "    y_derivative = ExtractGradient(y_ad) # changed\n",
    "    return y_derivative"
   ]
  },
  {
   "cell_type": "code",
   "execution_count": null,
   "metadata": {},
   "outputs": [],
   "source": [
    "def dfdx(x,u):\n",
    "    global adflag\n",
    "    adflag = 1\n",
    "    u_global = u\n",
    "    return np.squeeze(forwarddiff.jacobian(f6a_x,x))\n",
    "\n",
    "def dfdu(x,u):\n",
    "    global adflag\n",
    "    adflag = 2\n",
    "    x_global = x\n",
    "    return vectorout_derivative(f6a_u,u)\n",
    "    "
   ]
  },
  {
   "cell_type": "markdown",
   "metadata": {},
   "source": [
    "ทดสอบฟังก์ชัน f6a() สำหรับการคำนวณค่าเอาต์พุต การหาอนุพันธ์ย่อยเทียบ $x$ และ $u$  "
   ]
  },
  {
   "cell_type": "code",
   "execution_count": 83,
   "metadata": {},
   "outputs": [
    {
     "data": {
      "text/plain": [
       "array([[ 7.07106781e-01],\n",
       "       [-5.55111512e-17]])"
      ]
     },
     "execution_count": 83,
     "metadata": {},
     "output_type": "execute_result"
    }
   ],
   "source": [
    "x6 = np.array([-np.pi/4, np.pi/2])\n",
    "u6 = 1.0\n",
    "adflag = 0\n",
    "f6a(x6,u6)"
   ]
  },
  {
   "cell_type": "code",
   "execution_count": 84,
   "metadata": {},
   "outputs": [
    {
     "data": {
      "text/plain": [
       "array([[-7.07106781e-01, -8.53553391e-01],\n",
       "       [ 5.55111512e-17,  3.53553391e-01]])"
      ]
     },
     "execution_count": 84,
     "metadata": {},
     "output_type": "execute_result"
    }
   ],
   "source": [
    "dfdx(x6,u6) # derivative w.r.t x"
   ]
  },
  {
   "cell_type": "code",
   "execution_count": 85,
   "metadata": {},
   "outputs": [
    {
     "data": {
      "text/plain": [
       "array([[0.92540786],\n",
       "       [0.        ]])"
      ]
     },
     "execution_count": 85,
     "metadata": {},
     "output_type": "execute_result"
    }
   ],
   "source": [
    "dfdu(x6,u6) # derivative w.r.t u"
   ]
  },
  {
   "cell_type": "markdown",
   "metadata": {},
   "source": [
    "### C.1.3 การประมาณค่าโมเดลเชิงเส้น\n",
    "\n",
    "ในเนื้อหาที่ตามรอยรายวิชา [2] นิยมใช้การหาอนุพันธ์อัตโนมัติเพื่อประมาณค่าโมเดลเชิงเส้นแบบดีสครีตจากพลวัตไม่เป็นเชิงเส้น \n",
    "โดยอาศัยฟังก์ชันคำนวณอนุพันธ์โดยวิธีรุงเง คุตตา ในหัวข้อนี้จะทดสอบวิธีการดังกล่าวโดยเปรียบเทียบกับการประมาณค่าบนกระดาษ\n",
    "\n",
    "**ตัวอย่าง C.7** พลวัตของคาร์ทโพล [3]\n",
    "\n",
    "เชื่อว่าผู้ศึกษาระบบควบคุมคงเคยเห็นหรือคุ้นเคยกับคาร์ทโพลในรูปที่ 1 หรืออาจรู้จักในชื่อ \"ลูกตุ้มหัวกลับบนรถเลื่อน\" \n",
    "วัตถุประสงค์การควบคุมคือรักษาดุลให้ลูกตุ้มอยู่ในแนวดิ่ง เรียกว่าเป็นจุดสมดุลที่ไม่เสถียร (unstable equilibrium) \n",
    "โดยอาศัยแรงในแนวนอนที่กระทำกับรถเข็นเพียงอย่างเดียว ลักษณะเหมือนกับเวลาเรารักษาดุลของไม้กวาดบนมือ \n",
    "เพียงแต่ปัญหาถูกจำกัดอยู่ในระนาบ 2 มิติ รายละเอียดเพิ่มเติมของพลวัตของคาร์ทโพลสามารถศึกษาได้จาก\n",
    "[Section 3.2 of Underactuated Robotics](https://underactuated.csail.mit.edu/acrobot.html#cart_pole) \n",
    "<div align=\"center\">\n",
    "<img src=\"https://raw.githubusercontent.com/dewdotninja/sharing-github/master/cart_pole.png\" width=500 />\n",
    "</div>\n",
    "<div align=\"center\">รูปที่ C.1 ระบบคาร์ทโพลในระนาบ 2 มิติ</div>\n",
    "\n",
    "นำเข้าแพ็กเกจที่ต้องการใช้งาน"
   ]
  },
  {
   "cell_type": "code",
   "execution_count": 63,
   "metadata": {},
   "outputs": [],
   "source": [
    "import numpy as np \n",
    "from numpy.linalg import norm\n",
    "import matplotlib.pyplot as plt \n",
    "import control as ctl\n",
    "from pydrake import forwarddiff\n",
    "from pydrake.autodiffutils import AutoDiffXd, ExtractGradient, ExtractValue, InitializeAutoDiff"
   ]
  },
  {
   "cell_type": "markdown",
   "metadata": {},
   "source": [
    "เพื่อทำให้ปัญหาง่ายขึ้น แทนค่าพารามิเตอร์ดังนี้\n",
    "\n",
    "- มวลของรถเข็น $m_c=1$,\n",
    "- มวลของลูกตุ้ม $m_p=1$,\n",
    "- ความยาวของเสาลูกตุ้ม $l=1$,\n",
    "- แรงโน้มถ่วงโลก $g=9.81$.\n",
    "\n",
    "สถานะของคาร์ทโพลนิยามได้เป็น $\\mathbf{x} = [x, \\theta, \\dot{x}, \\dot{\\theta}]^T$ \n",
    "และแรงที่กระทำกับรถเข็นคืออินพุตควบคุม $\\mathbf{u} = [f_x]$\n",
    "\n",
    "ใช้ [สมการ (16) และ (17)](https://underactuated.csail.mit.edu/acrobot.html#cart_pole) จาก [3]\n",
    "ที่บรรยายความเร่งเชิงเส้นและเชิงมุมของคาร์ทโพล\n",
    "\n",
    "$$\n",
    "\\ddot{x} = \\frac{1}{m_c + m_p \\sin^2\\theta}\n",
    "[ f_x+m_p \\sin\\theta (l \\dot\\theta^2 + g\\cos\\theta)] \\tag{C.8}\n",
    "$$\n",
    "\n",
    "$$\n",
    "\\ddot{\\theta} = \\frac{1}{l(m_c + m_p \\sin^2\\theta)}\n",
    "[ -f_x \\cos\\theta - m_p l \\dot\\theta^2 \\cos\\theta \\sin\\theta - (m_c + m_p) g \\sin\\theta] \\tag{C.9}\n",
    "$$\n",
    "\n",
    "อิมพลิเมนต์เวกเตอร์\n",
    "$\\dot{\\mathbf{x}} = [\\dot{x}, \\dot{\\theta}, \\ddot{x}, \\ddot{\\theta}]^T$ \n",
    "เป็น $\\dot{\\mathbf{x}} = {\\bf f}(\\mathbf{x}, \\mathbf{u})$. \n",
    "ในฟังก์ชัน ${\\bf f}$ ด้านล่างเพื่อคืนค่า $\\dot{\\mathbf{x}}$\n"
   ]
  },
  {
   "cell_type": "code",
   "execution_count": 56,
   "metadata": {},
   "outputs": [],
   "source": [
    "# function that given the cart-pole state x (4d array)\n",
    "# and the input u (1d array) returns the right\n",
    "# hand side of the state space dynamics h(x,u)\n",
    "# (remember that we fixed the cart-pole parameters\n",
    "# to the values above!)\n",
    "def cartpole(x, u):\n",
    "    c = np.cos(x[1])  # cos(theta)\n",
    "    s = np.sin(x[1])  # sin(theta)\n",
    "    # parameters\n",
    "    m_c = 1.0  # cart mass\n",
    "    m_p = 1.0  # pendulum mass\n",
    "    l = 1.0  # pole length\n",
    "    g = 9.81  # gravity\n",
    "\n",
    "    f1 = x[2]  # x_dot is the 3rd element of state vector\n",
    "    f2 = x[3]  # theta_dot is the 4th element of state vector\n",
    "    f3 = (1/(m_c + m_p*s**2))*(u + m_p*s*(l*x[3]**2+g*c))  # from (16) of [3]\n",
    "    f4 = (1/(l*(m_c + m_p*s**2)))*(-u*c - m_p*l*x[3]**2*c*s - (m_c+m_p)*g*s)  # from (17) of [3]\n",
    "\n",
    "    return np.array([f1, f2, f3, f4]).reshape(4,1)"
   ]
  },
  {
   "cell_type": "markdown",
   "metadata": {
    "vscode": {
     "languageId": "plaintext"
    }
   },
   "source": [
    "ต้องการแปลงเป็นเชิงเส้นรอบจุดสมดุลที่ไม่เสถียร \n",
    "พิจารณาสถานะสมดุลที่ไม่เสถียร \n",
    "$$\\mathbf{x}^* = [0, \\pi, 0, 0]^T \\tag{C.10}\n",
    "$$\n",
    "โดยมีอินพุตควบคุม ณ จุดสมดุลนี้เป็น\n",
    "$$\n",
    "\\mathbf{u}^* = [0] \\tag{C.11}\n",
    "$$\n",
    "\n",
    "ใช้วิธีการที่กล่าวถึงในหนังสือ\n",
    "[[3]](https://underactuated.csail.mit.edu/acrobot.html#linearizing_manip)\n",
    "ในการอนุพัทธ์โมเดลเชิงเส้นในรูป\n",
    "$$\\dot{\\bar{\\mathbf{x}}} = A_{\\text{lin}} \\mathbf{\\bar{x}} + B_{\\text{lin}} \\mathbf{\\bar{u}},$$\n",
    "where $\\mathbf{\\bar{x}} = \\mathbf{x}-\\mathbf{x}^*$ and $\\mathbf{\\bar{u}} = \\mathbf{u} -\\mathbf{u}^*$.\n",
    "\n",
    "รายละเอียดแสดงในรูปที่ C.2                          \n",
    "<div align=\"center\">\n",
    "<img src=\"https://raw.githubusercontent.com/dewdotninja/sharing-github/master/cardpole_linearize.png\" width=600 />\n",
    "</div>\n",
    "<div align=\"center\">\n",
    "รูปที่ C.2 รายละเอียดการแปลงคาร์ทโพลเป็นระบบเชิงเส้น\n",
    "</div>\n",
    "\n",
    "สร้างเมทริกซ์ $A_{c1}$ และเวกเตอร์ $B_{c1}$\n",
    "ตามรายละเอียดในรูปที่ C.2 "
   ]
  },
  {
   "cell_type": "code",
   "execution_count": 6,
   "metadata": {},
   "outputs": [],
   "source": [
    "g = 9.81  # gravity\n",
    "A_c1 = np.array(\n",
    "    [\n",
    "        [0, 0, 1, 0],  \n",
    "        [0, 0, 0, 1],  \n",
    "        [0, g, 0, 0], \n",
    "        [0, 2*g, 0, 0],  \n",
    "    ]\n",
    ")\n",
    "B_c1 = np.array(\n",
    "    [\n",
    "        [0],\n",
    "        [0],\n",
    "        [1],\n",
    "        [1],\n",
    "    ]  \n",
    ")\n"
   ]
  },
  {
   "cell_type": "markdown",
   "metadata": {},
   "source": [
    "แปลงเป็นระบบดีสครีต $A_{d1}, B_{d1}$ โดยใช้แพ็กเกจ Python Control \n",
    "เลือกคาบเวลา $h = 0.01$ วินาที"
   ]
  },
  {
   "cell_type": "code",
   "execution_count": 14,
   "metadata": {},
   "outputs": [],
   "source": [
    "h = 0.01 # period (sec)\n",
    "C_c1 = np.array([1,0,0,0])\n",
    "sys_c = ctl.ss(A_c1,B_c1,C_c1,0)\n",
    "sys_d = ctl.sample_system(sys_c,h)\n",
    "A_d1,B_d1,C_d1,D_d1 = ctl.ssdata(sys_d)\n"
   ]
  },
  {
   "cell_type": "markdown",
   "metadata": {},
   "source": [
    "สำหรับวิธีการประมาณค่าเชิงเส้นระบบดีสครีตโดยใช้การหาอนุพันธ์อัตโนมัติ เริ่มจากการนิยามฟังก์ชัน \n",
    "สำหรับการหาปริพันธ์โดยวิธีรุงเงอ-คุตตา "
   ]
  },
  {
   "cell_type": "code",
   "execution_count": 44,
   "metadata": {},
   "outputs": [],
   "source": [
    "def cartpole_rk4(x,u):\n",
    "    global f1, f2, f3, f4, ft,x_1,x_a\n",
    "    #RK4 integration with zero-order hold on u\n",
    "    x_1 = x\n",
    "    f1 = cartpole(x, u)\n",
    "    \n",
    "    x_a = x.reshape(4,1)\n",
    "    x_2 = x_a + 0.5*h*f1\n",
    "    f2 = cartpole(x_2.flatten(), u)\n",
    "    \n",
    "    x_3 = x_a + 0.5*h*f2\n",
    "    f3 = cartpole(x_3.flatten(), u)\n",
    "\n",
    "    x_4 = x_a + 0.5*h*f3\n",
    "    f4 = cartpole(x_4.flatten(), u)\n",
    "\n",
    "    ft = x_a + (h/6.0)*(f1 + 2*f2 + 2*f3 + f4)\n",
    "    \n",
    "    return ft"
   ]
  },
  {
   "cell_type": "markdown",
   "metadata": {},
   "source": [
    "สร้างฟังก์ชันห่อหุ้มและฟังก์ชันหาอนุพันธ์เทียบ $x$ และ $u$ ตามที่ได้อธิบายในหัวข้อก่อนหน้านี้ โดยสำหรั้บ \n",
    "dxdu() จะใช้ฟังก์ชัน vectorout_derivative() ตามที่ได้อธิบายในหัวข้อ C.1.1"
   ]
  },
  {
   "cell_type": "code",
   "execution_count": 26,
   "metadata": {},
   "outputs": [],
   "source": [
    "def vectorout_derivative(function, x):\n",
    "    \"\"\" origimal comment from forwarddiff.derivative()\n",
    "    Compute the derivative of the function evaluated at the scalar input x\n",
    "    using Eigen's automatic differentiation.\n",
    "\n",
    "    The function should be scalar-input and scalar-output.\n",
    "    \"\"\"\n",
    "    x_ad = AutoDiffXd(value=x, size=1, offset=0)\n",
    "    y_ad = function(x_ad)\n",
    "    y_derivative = ExtractGradient(y_ad) # changed\n",
    "    return y_derivative"
   ]
  },
  {
   "cell_type": "code",
   "execution_count": 17,
   "metadata": {},
   "outputs": [],
   "source": [
    "# wrapper and forwarddiff functions\n",
    "def cartpole_rk4_x(x):\n",
    "    global u_global \n",
    "    return cartpole_rk4(x, u_global)\n",
    "\n",
    "def cartpole_rk4_u(u):\n",
    "    global x_global \n",
    "    return cartpole_rk4(x_global.flatten(), u)    \n",
    "    \n",
    "def cartpole_dfdx(x,u):\n",
    "    global adflag\n",
    "    adflag = 1\n",
    "    return np.squeeze(forwarddiff.jacobian(cartpole_rk4_x,x.flatten()))\n",
    "\n",
    "def cartpole_dfdu(x,u):\n",
    "    global adflag\n",
    "    adflag = 2\n",
    "    return vectorout_derivative(cartpole_rk4_u,u)\n",
    "    "
   ]
  },
  {
   "cell_type": "markdown",
   "metadata": {},
   "source": [
    "กำหนดจุดสมดุลตาม (C.9), (C.10)"
   ]
  },
  {
   "cell_type": "code",
   "execution_count": 30,
   "metadata": {},
   "outputs": [],
   "source": [
    "x_star = np.array([0, np.pi, 0, 0])\n",
    "u_star = 0.0"
   ]
  },
  {
   "cell_type": "markdown",
   "metadata": {},
   "source": [
    "ใช้่การหาอนุพันธ์อัตโนมัติเพื่อประมาณค่าโมเดลเชิงเส้น"
   ]
  },
  {
   "cell_type": "code",
   "execution_count": 57,
   "metadata": {},
   "outputs": [
    {
     "data": {
      "text/plain": [
       "array([[1.00000000e+00, 4.08790098e-04, 1.00000000e-02, 1.22625000e-06],\n",
       "       [0.00000000e+00, 1.00081758e+00, 0.00000000e+00, 1.00024525e-02],\n",
       "       [0.00000000e+00, 9.81240590e-02, 1.00000000e+00, 4.08790098e-04],\n",
       "       [0.00000000e+00, 1.96248118e-01, 0.00000000e+00, 1.00081758e+00]])"
      ]
     },
     "execution_count": 57,
     "metadata": {},
     "output_type": "execute_result"
    }
   ],
   "source": [
    "u_global = u_star\n",
    "A_d2 = cartpole_dfdx(x_star,u_star)\n",
    "A_d2"
   ]
  },
  {
   "cell_type": "code",
   "execution_count": 58,
   "metadata": {},
   "outputs": [
    {
     "data": {
      "text/plain": [
       "array([[4.16687104e-05],\n",
       "       [4.16707542e-05],\n",
       "       [1.00012263e-02],\n",
       "       [1.00024525e-02]])"
      ]
     },
     "execution_count": 58,
     "metadata": {},
     "output_type": "execute_result"
    }
   ],
   "source": [
    "x_global = x_star\n",
    "B_d2 = cartpole_dfdu(x_star,u_star)\n",
    "B_d2"
   ]
  },
  {
   "cell_type": "markdown",
   "metadata": {},
   "source": [
    "เขียนฟังก์ชันเพื่อเปรียบเทียบสถานะ $x_{k+1} = Ax_k + Bu_k$\n",
    "จากการโมเดลบนกระดาษกับการคำนวณอนุพันธ์อัตโนมัติ \n",
    "โดยให้ $x_k, u_k$ เป็นค่าสุ่ม "
   ]
  },
  {
   "cell_type": "code",
   "execution_count": 59,
   "metadata": {},
   "outputs": [],
   "source": [
    "def cartpole_linear(A,B,x,u):\n",
    "    x_bar = x - x_star\n",
    "    u_bar = u - u_star\n",
    "    return A.dot(x_bar) + B.dot(u_bar) \n",
    "\n",
    "def linearized_difference(x,u):\n",
    "    return norm(cartpole_linear(A_d1,B_d1,x,u) - cartpole_linear(A_d2,B_d2,x,u))\n",
    "    "
   ]
  },
  {
   "cell_type": "markdown",
   "metadata": {},
   "source": [
    "ทดลองรันเซลล์นี้หลายครั้งเพื่อดูผลการเปรียบเทียบ ค่าความแตกต่างจะต้องมีค่าน้อย"
   ]
  },
  {
   "cell_type": "code",
   "execution_count": 69,
   "metadata": {},
   "outputs": [
    {
     "data": {
      "text/plain": [
       "np.float64(0.0008046064602814321)"
      ]
     },
     "execution_count": 69,
     "metadata": {},
     "output_type": "execute_result"
    }
   ],
   "source": [
    "x_test = np.random.rand(4,1)\n",
    "u_test = np.random.rand()\n",
    "linearized_difference(x_test,u_test)"
   ]
  },
  {
   "cell_type": "markdown",
   "metadata": {},
   "source": [
    "### C.1.4 คำนวณอนุพันธ์ผ่านฟังก์ชันรุงเงอ คุตตา\n",
    "\n",
    "ในการหาโมเดลระบบดีสครีตของคาร์ทโพลในหัวข้อ C.1.3 เราใช้การหาอนุพันธ์อัตโนมัติผ่านฟังก์ชันรุงเงอ \n",
    "คุตตา (RK4) ซึ่งในหนังสือนี้จะใช้วิธีการนี้อยู่ตลอด \n",
    "ดังนั้นในหัวข้อนี้เราจะตรวจสอบการคำนวณอนุพันธ์อัตโนมัติผ่าน RK4 \n",
    "เปรียบเทียบผลกับการคำนวณโดยเขียนฟังก์ชันเอง \n",
    "โดยเมื่อเข้าใจแล้วเราสามารถเพิ่มการคำนวณอนุพันธ์ด้วยตัวเองในส่วนที่แพ็กเกจไม่สามารถทำได้ \n",
    "\n",
    "**ตัวอย่าง C.8** ตัวอย่างนี้จะขยายจากโจทย์เดิมในตัวอย่าง C.3 พิจารณาฟังก์ชันไม่เป็นเชิงเส้น \n",
    "\n",
    "$$\n",
    "f(x) =\n",
    "\\left[\\begin{array}{c}\n",
    "f_1(x) \\\\\n",
    "f_2(x)\n",
    "\\end{array}\\right] =\n",
    "\\left[\\begin{array}{c}\n",
    "x_1^3  + 2x_2 \\\\\n",
    "x_1cos(x_2)\n",
    "\\end{array}\\right] \\tag{C.13}\n",
    "$$\n",
    "\n",
    "คำนวณจาโคเบียนได้เท่ากับ\n",
    "$$\n",
    "\\left[\\begin{array}{cc}\n",
    "\\frac{\\partial f_1}{\\partial x_1} & \\frac{\\partial f_1}{\\partial x_2} \\\\\n",
    "\\frac{\\partial f_2}{\\partial x_1} & \\frac{\\partial f_2}{\\partial x_2} \\\\\n",
    "\\end{array}\\right] = \n",
    "\\left[\\begin{array}{cc}\n",
    "3x_1^2 & 2 \\\\\n",
    "cos(x_2) & -x_1sin(x_2) \\\\\n",
    "\\end{array}\\right] \\tag{C.14}\n",
    "$$\n",
    " "
   ]
  },
  {
   "cell_type": "code",
   "execution_count": 1,
   "metadata": {},
   "outputs": [],
   "source": [
    "import numpy as np\n",
    "from pydrake import forwarddiff\n",
    "from pydrake.autodiffutils import AutoDiffXd, ExtractGradient, ExtractValue, InitializeAutoDiff"
   ]
  },
  {
   "cell_type": "code",
   "execution_count": 9,
   "metadata": {},
   "outputs": [],
   "source": [
    "def f(x):\n",
    "    f_1 = x[0]**3  + 2*x[1]\n",
    "    f_2 = x[0]*np.cos(x[1])\n",
    "    return np.array([f_1,f_2])"
   ]
  },
  {
   "cell_type": "markdown",
   "metadata": {},
   "source": [
    "เขียนฟังก์ชัน rk4_f() เพื่อหาคำตอบโดยใช้การคำนวณปริพันธ์แบบ RK4 กำหนดค่าขั้น h = 0.05"
   ]
  },
  {
   "cell_type": "code",
   "execution_count": 7,
   "metadata": {},
   "outputs": [],
   "source": [
    "h  = 0.05\n",
    "def rk4_f(x):\n",
    "    #RK4 integration \n",
    "    f1 = f(x)\n",
    "\n",
    "    x_2 = x + 0.5*h*f1\n",
    "    f2 = f(x_2)\n",
    "    \n",
    "    x_3 = x + 0.5*h*f2\n",
    "    f3 = f(x_3)\n",
    "\n",
    "    x_4 = x + 0.5*h*f3\n",
    "    f4 = f(x_4)\n",
    "\n",
    "    ft = x + (h/6.0)*(f1 + 2*f2 + 2*f3 + f4)\n",
    "    \n",
    "    return ft"
   ]
  },
  {
   "cell_type": "markdown",
   "metadata": {},
   "source": [
    "คำนวณอนุพันธ์ที่อินพุต $x = [1, \\pi /2]$ โดยใช้ forwarddiff.jacobian "
   ]
  },
  {
   "cell_type": "code",
   "execution_count": 10,
   "metadata": {},
   "outputs": [
    {
     "name": "stdout",
     "output_type": "stream",
     "text": [
      "[[1.19249094e+00 1.05820619e-01]\n",
      " [3.21728845e-18 9.46673632e-01]]\n"
     ]
    }
   ],
   "source": [
    "x = np.array([1.0, np.pi/2])\n",
    "y_ad = forwarddiff.jacobian(rk4_f,x)\n",
    "print(y_ad)"
   ]
  },
  {
   "cell_type": "markdown",
   "metadata": {},
   "source": [
    "ในการศึกษาการคำนวณอนุพันธ์อัตโนมัติผ่าน RK4 เริ่มจากเขียนฟังก์ชัน df() \n",
    "เพื่อคำนวณอนุพันธ์ด้วยตัวเองตาม (C.14)"
   ]
  },
  {
   "cell_type": "code",
   "execution_count": 11,
   "metadata": {},
   "outputs": [],
   "source": [
    "def jacobian_f(x):\n",
    "    m_00 = 3*x[0]**2\n",
    "    m_01 = 2\n",
    "    m_10 = np.cos(x[1])\n",
    "    m_11 = -x[0]*np.sin(x[1])\n",
    "    M = np.array([[m_00, m_01],[m_10, m_11]])\n",
    "    return M"
   ]
  },
  {
   "cell_type": "markdown",
   "metadata": {},
   "source": [
    "โดยจากการตรวจสอบค่าของเอาต์พุตฟังก์ชันและอนุพันธ์ที่ได้จากการเรียกฟังก์ขัน f() \n",
    "ผ่าน forwarddiff ในแต่ละครั้ง เราเขียนฟังก์ชัน jacobian_rk4_f() ได้ดังนี้"
   ]
  },
  {
   "cell_type": "code",
   "execution_count": 12,
   "metadata": {},
   "outputs": [],
   "source": [
    "def jacobian_rk4_f(x):\n",
    "    # manuallydo RK4 on derivatives\n",
    "    # 1. you must start initial xd as np.eye(2)\n",
    "    # 2. you must keep track of changes in x value and evaluate \n",
    "    # derivative at that point!\n",
    "    \n",
    "    xd_1 = np.eye(2) # initial xd\n",
    "    f1 = f(x)  # function value\n",
    "    df1 = jacobian_f(x) # df1 is 2x2 matrix\n",
    "\n",
    "    x_2 = x + 0.5*h*f1 # update x for 2nd f() call\n",
    "    xd_2 = xd_1 + 0.5*h*df1 # update Jacobian\n",
    "    f2 = f(x_2)\n",
    "    df2 = jacobian_f(x_2)\n",
    "\n",
    "    x_3 = x + 0.5*h*f2\n",
    "    xd_3 = xd_1 + 0.5*h*df2\n",
    "    f3 = f(x_3)\n",
    "    df3 = jacobian_f(x_3)\n",
    "\n",
    "    x_4 = x + 0.5*h*f3\n",
    "\n",
    "    xd_4 = xd_1 + 0.5*h*df3\n",
    "    f4 = f(x_4)\n",
    "    df4 = jacobian_f(x_4)\n",
    "\n",
    "    dft = xd_1 + (h/6.0)*(df1 + 2*df2 + 2*df3 + df4)\n",
    "    \n",
    "    return dft "
   ]
  },
  {
   "cell_type": "markdown",
   "metadata": {},
   "source": [
    "อธิบายการคำนวณอนุพันธ์ผ่าน RK4 ในฟังก์ชัน jacobian_rk4_f() ได้ดังนี้ \n",
    "ในแต่ละครั้งของการเรียก f() \n",
    "\n",
    "1. คำนวณเอาต์พุตของฟังก์ชันเพื่อใช้ในการอัพเดตค่า x ในครั้งต่อไป \n",
    "2. คำนวณค่าอนุพันธ์ในแต่ละครั้งโดยใช้ค่า x ที่อัพเดตจากข้อ 1 โดยเป็นค่าเมทริกซ์จาโคเบียน \n",
    "สังเกตว่าอนุพันธ์เริ่มต้นที่ตำแหน่ง x คือ\n",
    "\n",
    "$$\n",
    "\\left[\\begin{array}{cc}\n",
    "\\frac{\\partial x_1}{\\partial x_1} & \\frac{\\partial x_2}{\\partial x_1} \\\\\n",
    "\\frac{\\partial x_2}{\\partial x_1} & \\frac{\\partial x_2}{\\partial x_2}\n",
    "\\end{array}\\right] = \n",
    "\\left[\\begin{array}{cc}\n",
    "1 & 0 \\\\\n",
    "0 & 1\n",
    "\\end{array}\\right] \n",
    "$$\n",
    "\n",
    "ในขั้นตอนสุดท้าย เฉลี่ยค่าเมทริกซ์จาโคเบียนทั้ง 4 ครั้งตามสูตรของ RK4 ได้เป็นค่าเอาต์พุต\n",
    "    \n",
    "เมื่อคำนวณจาโคเบียนผ่าน RK4 ด้วยตัวเอง ได้ผลดังนี้"
   ]
  },
  {
   "cell_type": "code",
   "execution_count": 13,
   "metadata": {},
   "outputs": [
    {
     "data": {
      "text/plain": [
       "array([[1.17869770e+00, 1.00000000e-01],\n",
       "       [3.06161700e-18, 9.45464314e-01]])"
      ]
     },
     "execution_count": 13,
     "metadata": {},
     "output_type": "execute_result"
    }
   ],
   "source": [
    "y_md = jacobian_rk4_f(x)\n",
    "y_md"
   ]
  },
  {
   "cell_type": "markdown",
   "metadata": {},
   "source": [
    "จะเห็นว่าได้ผลใกล้เคียงกับการคำนวณอัตโนมัติ \n",
    "ในเซลล์ด้านล่างนี้เป็นการเปรียบเทียบโดยใช้อินพุต x เป็นค่าสุ่ม ทดลองรันเซลล์นี้หลายครั้ง \n",
    "แต่ละครั้งความแตกต่างต้องมีค่าน้อย"
   ]
  },
  {
   "cell_type": "code",
   "execution_count": 17,
   "metadata": {},
   "outputs": [
    {
     "data": {
      "text/plain": [
       "np.float64(0.002927749041612254)"
      ]
     },
     "execution_count": 17,
     "metadata": {},
     "output_type": "execute_result"
    }
   ],
   "source": [
    "x_test = np.random.rand(2,)\n",
    "y_ad = forwarddiff.jacobian(rk4_f,x_test)\n",
    "y_md = jacobian_rk4_f(x_test)\n",
    "np.linalg.norm(y_ad - y_md)"
   ]
  },
  {
   "cell_type": "markdown",
   "metadata": {},
   "source": [
    "### C.1.5 คำนวณเฮสเซียนเชิงสัญลักษณ์\n",
    "\n",
    "วิธีการ DDP ในบทที่ 5  มีพจน์เฮสเซียนในการคำนวณย้อนหลัง ซึ่งแพ็กเกจ Drake ไม่มีฟังก์ชันสนับสนุน \n",
    "และไม่สามารถหาวิธีการแก้ปัญหาโดยใช้ฟังก์ชันที่มีอยู่ได้ สำหรับแพ็กเกจ JAX แม้จะมีฟังก์ชันคำนวณพจน์เฮสเซียนได้ \n",
    "แต่พบว่าทำงานช้ามาก จึงแนะนำวิธีการ iLOR โดยใช้อัลกอริทึมเกาส์-นิวตันที่ละทิ้งพจน์เฮสเซียนไป จะทำให้ได้คำตอบแนววิถีเหมาะที่สุดเร็วกว่า \n",
    "\n",
    "อย่างไรก็ตามหากต้องการคำนวณพจน์เฮสเซียนที่ใช้ในอัลกอริทึมนิวตันแบบเต็ม ในหัวข้อนี้เสนอทางเลือกคือใช้แพ็กเกจ SymPy \n",
    "หาคำตอบของเฮสเซียนเชิงสัญลักษณ์ แล้วอิมพลิเมนต์เป็นฟังก์ชันเพื่อให้ทำงานเร็วขึ้น \n",
    "\n",
    "**ตัวอย่าง C.9**  จากพลวัตของคาร์ทโพลในตัวอย่าง C.7 เราปรับพารามิเตอร์เพื่อให้สอดคล้องกับตัวอย่าง 5.2 ในบทที่ 5 \n",
    "ในตัวอย่างนี้เราจะคำนวณพจน์เฮสเซียนโดยวิธีเชิงสัญลักษณ์ และเปรียบเทียบกับการคำนวณโดย JAX \n",
    "\n",
    "นำเข้าแพ็กเกจทั้งหมดรวมทั้ง SymPy สำหรับหาอนุพันธ์เชิงสัญลักษณ์"
   ]
  },
  {
   "cell_type": "code",
   "execution_count": 1,
   "metadata": {},
   "outputs": [],
   "source": [
    "import numpy as np \n",
    "from numpy import kron\n",
    "import matplotlib.pyplot as plt \n",
    "from scipy.linalg import block_diag\n",
    "import jax\n",
    "import jax.numpy as jnp\n",
    "from jax.numpy.linalg import solve, eigvals\n",
    "from sympy import symbols,sin,cos,Array,diff,simplify,lambdify"
   ]
  },
  {
   "cell_type": "markdown",
   "metadata": {},
   "source": [
    "นิยามฟังก์ชันทั้งหมดที่ต้องใช้ดังเช่นในตัวอย่าง 5.2 (เพื่อให้โค้ดดูง่ายขึ้นจะคงไว้เฉพาะกรณีที่ใช้ JAX คือเรียก jax.numpy แทน numpy)"
   ]
  },
  {
   "cell_type": "code",
   "execution_count": 2,
   "metadata": {},
   "outputs": [],
   "source": [
    "def cartpole(x, u):\n",
    "\n",
    "    c = jnp.cos(x[1])  # cos(theta)\n",
    "    s = jnp.sin(x[1])  # sin(theta)\n",
    "\n",
    "    # parameters. Changed to match RobotZoo's cartpole\n",
    "    m_c = 1.0  # cart mass\n",
    "    m_p = 0.2 # pendulum mass\n",
    "    l = 0.5  # pole length\n",
    "    g = 9.81  # gravity\n",
    "\n",
    "    f1 = x[2]  # x_dot is the 3rd element of state vector\n",
    "    f2 = x[3]  # theta_dot is the 4th element of state vector\n",
    "    f3 = (1/(m_c + m_p*s**2))*(u + m_p*s*(l*x[3]**2+g*c))   \n",
    "    f4 = (1/(l*(m_c + m_p*s**2)))*(-u*c - m_p*l*x[3]**2*c*s - (m_c+m_p)*g*s)  \n",
    "    y = jnp.array([f1, f2, f3, f4]).reshape(4,1)\n",
    "    return y"
   ]
  },
  {
   "cell_type": "code",
   "execution_count": 3,
   "metadata": {},
   "outputs": [],
   "source": [
    "h = 0.05 # time step\n",
    "\n",
    "def cartpole_rk4(x,u):\n",
    "    global f1, f2, f3, f4, ft,x_1,x_a\n",
    "    #RK4 integration with zero-order hold on u\n",
    "    x_1 = x\n",
    "    f1 = cartpole(x, u)\n",
    "    \n",
    "    x_a = x.reshape(4,1)\n",
    "    x_2 = x_a + 0.5*h*f1\n",
    "    f2 = cartpole(x_2.flatten(), u)\n",
    "    \n",
    "    x_3 = x_a + 0.5*h*f2\n",
    "    f3 = cartpole(x_3.flatten(), u)\n",
    "\n",
    "    x_4 = x_a + 0.5*h*f3\n",
    "    f4 = cartpole(x_4.flatten(), u)\n",
    "\n",
    "    ft = x_a + (h/6.0)*(f1 + 2*f2 + 2*f3 + f4)\n",
    "    \n",
    "    return ft\n"
   ]
  },
  {
   "cell_type": "code",
   "execution_count": 4,
   "metadata": {},
   "outputs": [],
   "source": [
    "# convert [m,n,p] tensor to [m*n,p] matrix\n",
    "def tensor2mat(Mat3d):\n",
    "    dim3 = Mat3d.shape[2]\n",
    "    M = Mat3d[:,:,0]\n",
    "    for i in range(dim3-1):\n",
    "        M = jnp.vstack((M,Mat3d[:,:,i+1]))\n",
    "    return M"
   ]
  },
  {
   "cell_type": "markdown",
   "metadata": {},
   "source": [
    "โค้ดในส่วนการคำนวณเกรเดียนต์และเฮสเซียน"
   ]
  },
  {
   "cell_type": "code",
   "execution_count": 5,
   "metadata": {},
   "outputs": [],
   "source": [
    "def dfdx(x,u):\n",
    "    y = jnp.squeeze(jax.jacfwd(cartpole_rk4,argnums=0)(x,u))\n",
    "    return y\n",
    "\n",
    "def dfdu(x,u):\n",
    "    y = jax.jacfwd(cartpole_rk4,argnums=1)(x,u)\n",
    "    return y\n",
    "\n",
    "\n",
    "def dAdx(x,u):\n",
    "    y = jax.hessian(cartpole_rk4)(x,u)\n",
    "    return tensor2mat(y)[:,0,:]\n",
    "\n",
    "def dBdx(x,u):\n",
    "    y = jax.jacfwd(dfdu)(x,u)\n",
    "    return jnp.squeeze(y)\n",
    "\n",
    "def dAdu(x,u):\n",
    "    y = jax.jacfwd(dfdu)(x,u)\n",
    "    return tensor2mat(y)\n",
    "\n",
    "def dBdu(x,u):\n",
    "    y = jax.jacfwd(dfdu,argnums=1)(x,u)\n",
    "    return y\n"
   ]
  },
  {
   "cell_type": "markdown",
   "metadata": {},
   "source": [
    "คำนวณคำตอบเมื่อกำหนดค่าเวกเตอร์ x_star และสเกลาร์ u_star"
   ]
  },
  {
   "cell_type": "code",
   "execution_count": 6,
   "metadata": {},
   "outputs": [
    {
     "name": "stdout",
     "output_type": "stream",
     "text": [
      "Ax shape = (16, 4)\n"
     ]
    },
    {
     "data": {
      "text/plain": [
       "Array([[ 0.0000000e+00,  0.0000000e+00,  0.0000000e+00,  0.0000000e+00],\n",
       "       [ 0.0000000e+00,  0.0000000e+00,  0.0000000e+00,  0.0000000e+00],\n",
       "       [ 0.0000000e+00,  0.0000000e+00,  0.0000000e+00,  0.0000000e+00],\n",
       "       [ 0.0000000e+00,  0.0000000e+00,  0.0000000e+00,  0.0000000e+00],\n",
       "       [ 0.0000000e+00, -4.2999975e-04,  0.0000000e+00, -1.2782900e-05],\n",
       "       [ 0.0000000e+00, -2.9712569e-03,  0.0000000e+00, -5.7176469e-05],\n",
       "       [ 0.0000000e+00, -2.1210689e-02,  0.0000000e+00, -8.6591602e-04],\n",
       "       [ 0.0000000e+00, -1.4577442e-01,  0.0000000e+00, -3.8740120e-03],\n",
       "       [ 0.0000000e+00,  0.0000000e+00,  0.0000000e+00,  0.0000000e+00],\n",
       "       [ 0.0000000e+00,  0.0000000e+00,  0.0000000e+00,  0.0000000e+00],\n",
       "       [ 0.0000000e+00,  0.0000000e+00,  0.0000000e+00,  0.0000000e+00],\n",
       "       [ 0.0000000e+00,  0.0000000e+00,  0.0000000e+00,  0.0000000e+00],\n",
       "       [ 0.0000000e+00, -1.2782899e-05,  0.0000000e+00, -5.2559028e-07],\n",
       "       [ 0.0000000e+00, -5.7176461e-05,  0.0000000e+00, -1.8375398e-06],\n",
       "       [ 0.0000000e+00, -8.6591608e-04,  0.0000000e+00, -3.8286620e-05],\n",
       "       [ 0.0000000e+00, -3.8740118e-03,  0.0000000e+00, -1.2986547e-04]],      dtype=float32)"
      ]
     },
     "execution_count": 6,
     "metadata": {},
     "output_type": "execute_result"
    }
   ],
   "source": [
    "x_star = np.array([0, np.pi, 0, 0])\n",
    "u_star = 1.0\n",
    "Ax_ad = dAdx(x_star,u_star)\n",
    "print(\"Ax shape = \"+str(Ax_ad.shape))\n",
    "Ax_ad"
   ]
  },
  {
   "cell_type": "code",
   "execution_count": 7,
   "metadata": {},
   "outputs": [
    {
     "name": "stdout",
     "output_type": "stream",
     "text": [
      "Bx shape = (4, 4)\n"
     ]
    },
    {
     "data": {
      "text/plain": [
       "Array([[ 0.0000000e+00, -5.3190615e-07,  0.0000000e+00, -1.8390034e-08],\n",
       "       [ 0.0000000e+00, -2.1313697e-06,  0.0000000e+00, -6.3080179e-08],\n",
       "       [ 0.0000000e+00, -4.7298545e-05,  0.0000000e+00, -1.8012237e-06],\n",
       "       [ 0.0000000e+00, -2.2279301e-04,  0.0000000e+00, -6.7763485e-06]],      dtype=float32)"
      ]
     },
     "execution_count": 7,
     "metadata": {},
     "output_type": "execute_result"
    }
   ],
   "source": [
    "Bx_ad = dBdx(x_star,u_star)\n",
    "print(\"Bx shape = \"+str(Bx_ad.shape))\n",
    "Bx_ad"
   ]
  },
  {
   "cell_type": "code",
   "execution_count": 8,
   "metadata": {},
   "outputs": [
    {
     "name": "stdout",
     "output_type": "stream",
     "text": [
      "Au shape = (16, 1)\n"
     ]
    },
    {
     "data": {
      "text/plain": [
       "Array([[ 0.0000000e+00],\n",
       "       [ 0.0000000e+00],\n",
       "       [ 0.0000000e+00],\n",
       "       [ 0.0000000e+00],\n",
       "       [-5.3190615e-07],\n",
       "       [-2.1313697e-06],\n",
       "       [-4.7298545e-05],\n",
       "       [-2.2279301e-04],\n",
       "       [ 0.0000000e+00],\n",
       "       [ 0.0000000e+00],\n",
       "       [ 0.0000000e+00],\n",
       "       [ 0.0000000e+00],\n",
       "       [-1.8390034e-08],\n",
       "       [-6.3080179e-08],\n",
       "       [-1.8012237e-06],\n",
       "       [-6.7763485e-06]], dtype=float32)"
      ]
     },
     "execution_count": 8,
     "metadata": {},
     "output_type": "execute_result"
    }
   ],
   "source": [
    "Au_ad = dAdu(x_star,u_star)\n",
    "print(\"Au shape = \"+str(Au_ad.shape))\n",
    "Au_ad"
   ]
  },
  {
   "cell_type": "code",
   "execution_count": 9,
   "metadata": {},
   "outputs": [
    {
     "name": "stdout",
     "output_type": "stream",
     "text": [
      "Bu shape = (4, 1)\n"
     ]
    },
    {
     "data": {
      "text/plain": [
       "Array([[-7.8545476e-10],\n",
       "       [-3.5369256e-09],\n",
       "       [-9.4716206e-08],\n",
       "       [-4.2535433e-07]], dtype=float32)"
      ]
     },
     "execution_count": 9,
     "metadata": {},
     "output_type": "execute_result"
    }
   ],
   "source": [
    "Bu_ad = dBdu(x_star,u_star)\n",
    "print(\"Bu shape = \"+str(Bu_ad.shape))\n",
    "Bu_ad"
   ]
  },
  {
   "cell_type": "markdown",
   "metadata": {},
   "source": [
    "เราจะทดลองคำนวณค่าทั้งสี่ตัวนี้เชิงสัญลักษณ์ แปลงเป็นฟังก์ชันเพื่อให้ทำงานเร็วแล้วเปรียบเทียบกัน \n",
    "หากได้ค่าที่ไม่แตกต่างกันมากก็จะทดลองใช้ในการหาแนววิถีเหมาะที่สุดโดยวิธี DDP \n",
    "ในกรณีที่ใช้ Drake และไม่สามารถคำนวณเฮสเชียนได้โดยฟังก์ชันจากแพ็กเกจ\n",
    "\n",
    "เริ่มจากกรณี dAdx พิจารณาพลวัตของคาร์ทโพลเมื่อเขียนในรูป\n",
    "\n",
    "$$\n",
    "\\left[\\begin{array}{c}\n",
    "\\dot{x}_1 \\\\\n",
    "\\dot{x}_2 \\\\\n",
    "\\dot{x}_3 \\\\\n",
    "\\dot{x}_4 \n",
    "\\end{array}\\right] = \n",
    "\\left[\\begin{array}{c}\n",
    "f_1(x) \\\\\n",
    "f_2(x) \\\\\n",
    "f_3(x) \\\\\n",
    "f_4(x) \n",
    "\\end{array}\\right], \\;\\;\\; x = \n",
    "\\left[\\begin{array}{c}\n",
    "x_1 \\\\\n",
    "x_2 \\\\\n",
    "x_3 \\\\\n",
    "x_4 \n",
    "\\end{array}\\right] \\tag{C.15}\n",
    "$$\n",
    "\n",
    "สามารถแสดงได้ว่าเฮสเซียนเมื่อแปลงจากเทนเซอร์เป็นเมทริกซ์แล้วจะเขียนได้อยู่ในรูป\n",
    "$$\n",
    "\\frac{\\partial A}{\\partial x} = \n",
    "\\left[\\begin{array}{cccc}\n",
    "\\frac{\\partial^2 f_1}{\\partial x_1^2} & \\frac{\\partial^2 f_1}{\\partial x_1 \\partial x_2} &\n",
    "\\frac{\\partial^2 f_1}{\\partial x_1 \\partial x_3} & \\frac{\\partial^2 f_1}{\\partial x_1 \\partial x_4} \\\\\n",
    "\\frac{\\partial^2 f_2}{\\partial x_1^2} & \\frac{\\partial^2 f_2}{\\partial x_1 \\partial x_2} &\n",
    "\\frac{\\partial^2 f_2}{\\partial x_1 \\partial x_3} & \\frac{\\partial^2 f_2}{\\partial x_1 \\partial x_4} \\\\\n",
    "\\frac{\\partial^2 f_3}{\\partial x_1^2} & \\frac{\\partial^2 f_3}{\\partial x_1 \\partial x_2} &\n",
    "\\frac{\\partial^2 f_3}{\\partial x_1 \\partial x_3} & \\frac{\\partial^2 f_3}{\\partial x_1 \\partial x_4} \\\\\n",
    "\\frac{\\partial^2 f_4}{\\partial x_1^2} & \\frac{\\partial^2 f_4}{\\partial x_1 \\partial x_2} &\n",
    "\\frac{\\partial^2 f_4}{\\partial x_1 \\partial x_3} & \\frac{\\partial^2 f_4}{\\partial x_1 \\partial x_4} \\\\\n",
    "\\frac{\\partial^2 f_1}{\\partial x_1 \\partial x_2} & \\frac{\\partial^2 f_1}{\\partial x_2^2} &\n",
    "\\frac{\\partial^2 f_1}{\\partial x_2 \\partial x_3} & \\frac{\\partial^2 f_1}{\\partial x_2 \\partial x_4} \\\\\n",
    "\\frac{\\partial^2 f_2}{\\partial x_1 \\partial x_2} & \\frac{\\partial^2 f_2}{\\partial x_2^2} &\n",
    "\\frac{\\partial^2 f_2}{\\partial x_2 \\partial x_3} & \\frac{\\partial^2 f_2}{\\partial x_2 \\partial x_4} \\\\\n",
    "\\frac{\\partial^2 f_3}{\\partial x_1 \\partial x_2} & \\frac{\\partial^2 f_3}{\\partial x_2^2} &\n",
    "\\frac{\\partial^2 f_3}{\\partial x_2 \\partial x_3} & \\frac{\\partial^2 f_3}{\\partial x_2 \\partial x_4} \\\\\n",
    "\\frac{\\partial^2 f_4}{\\partial x_1 \\partial x_2} & \\frac{\\partial^2 f_4}{\\partial x_2^2} &\n",
    "\\frac{\\partial^2 f_4}{\\partial x_2 \\partial x_3} & \\frac{\\partial^2 f_4}{\\partial x_2 \\partial x_4} \\\\\n",
    "\\frac{\\partial^2 f_1}{\\partial x_1 \\partial x_3} & \\frac{\\partial^2 f_1}{\\partial x_2 \\partial x_3} &\n",
    "\\frac{\\partial^2 f_1}{\\partial x_3^2} & \\frac{\\partial^2 f_1}{\\partial x_3 \\partial x_4} \\\\\n",
    "\\frac{\\partial^2 f_2}{\\partial x_1 \\partial x_3} & \\frac{\\partial^2 f_2}{\\partial x_2 \\partial x_3} &\n",
    "\\frac{\\partial^2 f_2}{\\partial x_3^2} & \\frac{\\partial^2 f_2}{\\partial x_3 \\partial x_4} \\\\\n",
    "\\frac{\\partial^2 f_3}{\\partial x_1 \\partial x_3} & \\frac{\\partial^2 f_3}{\\partial x_2 \\partial x_3} &\n",
    "\\frac{\\partial^2 f_3}{\\partial x_3^2} & \\frac{\\partial^2 f_3}{\\partial x_3 \\partial x_4} \\\\\n",
    "\\frac{\\partial^2 f_4}{\\partial x_1 \\partial x_3} & \\frac{\\partial^2 f_4}{\\partial x_2 \\partial x_3} &\n",
    "\\frac{\\partial^2 f_4}{\\partial x_3^2} & \\frac{\\partial^2 f_4}{\\partial x_3 \\partial x_4} \\\\\n",
    "\\frac{\\partial^2 f_1}{\\partial x_1 \\partial x_4} & \\frac{\\partial^2 f_1}{\\partial x_2 \\partial x_4} &\n",
    "\\frac{\\partial^2 f_1}{\\partial x_3 \\partial x_4} & \\frac{\\partial^2 f_1}{\\partial x_4^2} \\\\\n",
    "\\frac{\\partial^2 f_2}{\\partial x_1 \\partial x_4} & \\frac{\\partial^2 f_2}{\\partial x_2 \\partial x_4} &\n",
    "\\frac{\\partial^2 f_2}{\\partial x_3 \\partial x_4} & \\frac{\\partial^2 f_2}{\\partial x_4^2} \\\\\n",
    "\\frac{\\partial^2 f_3}{\\partial x_1 \\partial x_4} & \\frac{\\partial^2 f_3}{\\partial x_2 \\partial x_4} &\n",
    "\\frac{\\partial^2 f_3}{\\partial x_3 \\partial x_4} & \\frac{\\partial^2 f_3}{\\partial x_4^2} \\\\\n",
    "\\frac{\\partial^2 f_4}{\\partial x_1 \\partial x_4} & \\frac{\\partial^2 f_4}{\\partial x_2 \\partial x_4} &\n",
    "\\frac{\\partial^2 f_4}{\\partial x_3 \\partial x_4} & \\frac{\\partial^2 f_4}{\\partial x_4^2} \n",
    "\\end{array}\\right] \\tag{C.16}    \n",
    "$$\n",
    "\n",
    "สร้างพลวัตของคาร์ทโพลเชิงสัญลักษณ์โดยใช้แพ็กเกจ SymPy"
   ]
  },
  {
   "cell_type": "code",
   "execution_count": 10,
   "metadata": {},
   "outputs": [],
   "source": [
    "#from sympy import *  # already imorted above\n",
    "x1,x2,x3,x4,u = symbols(\"x1,x2,x3,x4,u\")"
   ]
  },
  {
   "cell_type": "code",
   "execution_count": 11,
   "metadata": {},
   "outputs": [],
   "source": [
    "m_c = 1.0  # cart mass\n",
    "m_p = 0.2 # pendulum mass\n",
    "l = 0.5  # pole length\n",
    "g = 9.81  # gravity"
   ]
  },
  {
   "cell_type": "code",
   "execution_count": 12,
   "metadata": {},
   "outputs": [
    {
     "data": {
      "text/latex": [
       "$\\displaystyle \\left[\\begin{matrix}x_{3}\\\\x_{4}\\\\\\frac{u + 0.2 \\left(0.5 x_{4}^{2} + 9.81 \\cos{\\left(x_{2} \\right)}\\right) \\sin{\\left(x_{2} \\right)}}{0.2 \\sin^{2}{\\left(x_{2} \\right)} + 1.0}\\\\\\frac{- u \\cos{\\left(x_{2} \\right)} - 0.1 x_{4}^{2} \\sin{\\left(x_{2} \\right)} \\cos{\\left(x_{2} \\right)} - 11.772 \\sin{\\left(x_{2} \\right)}}{0.1 \\sin^{2}{\\left(x_{2} \\right)} + 0.5}\\end{matrix}\\right]$"
      ],
      "text/plain": [
       "[[x3], [x4], [(u + 0.2*(0.5*x4**2 + 9.81*cos(x2))*sin(x2))/(0.2*sin(x2)**2 + 1.0)], [(-u*cos(x2) - 0.1*x4**2*sin(x2)*cos(x2) - 11.772*sin(x2))/(0.1*sin(x2)**2 + 0.5)]]"
      ]
     },
     "execution_count": 12,
     "metadata": {},
     "output_type": "execute_result"
    }
   ],
   "source": [
    "s2 = sin(x2)\n",
    "c2 = cos(x2)\n",
    "f1 = x3\n",
    "f2 = x4\n",
    "f3 = (1/(m_c + m_p*s2**2))*(u + m_p*s2*(l*x4**2+g*c2))\n",
    "f4 = (1/(l*(m_c + m_p*s2**2)))*(-u*c2 - m_p*l*x4**2*c2*s2 - (m_c+m_p)*g*s2)\n",
    "cartpole_sym = Array([[f1],[f2],[f3],[f4]])\n",
    "cartpole_sym"
   ]
  },
  {
   "cell_type": "markdown",
   "metadata": {},
   "source": [
    "คำนวณสมาชิกของเมทริกซ์เฮสเชียน (C.16) \n",
    "สังเกตว่าสมาชิกบางตำแหน่งมีค่าเท่ากันเช่น $\\frac{\\partial^2 f_i}{\\partial x_j \\partial x_k} = \\frac{\\partial^2 f_i}{\\partial x_k \\partial x_j}$"
   ]
  },
  {
   "cell_type": "code",
   "execution_count": 13,
   "metadata": {},
   "outputs": [],
   "source": [
    "# elements of Hessian\n",
    "d2f1_x1sq = diff(cartpole_sym[0],x1,x1)\n",
    "d2f1_x3sq = diff(cartpole_sym[0],x3,x3)\n",
    "d2f1_x4sq = diff(cartpole_sym[0],x4,x4)\n",
    "d2f1_x1x2 = diff(cartpole_sym[0],x1,x2)\n",
    "d2f1_x1x3 = diff(cartpole_sym[0],x1,x3)\n",
    "d2f1_x1x4 = diff(cartpole_sym[0],x1,x4)\n",
    "d2f1_x2sq = diff(cartpole_sym[0],x2,x2)\n",
    "d2f1_x2x3 = diff(cartpole_sym[0],x2,x3)\n",
    "d2f1_x3x4 = diff(cartpole_sym[0],x3,x4)\n",
    "d2f1_x2x4 = diff(cartpole_sym[0],x2,x4)\n",
    "\n",
    "d2f2_x1sq = diff(cartpole_sym[1],x1,x1)\n",
    "d2f2_x2x1 = diff(cartpole_sym[1],x2,x1)\n",
    "d2f2_x2sq = diff(cartpole_sym[1],x2,x2)\n",
    "d2f2_x3sq = diff(cartpole_sym[1],x3,x3)\n",
    "d2f2_x4sq = diff(cartpole_sym[1],x4,x4)\n",
    "d2f2_x2x3 = diff(cartpole_sym[1],x2,x3)\n",
    "d2f2_x2x4 = diff(cartpole_sym[1],x2,x4)\n",
    "d2f2_x1x3 = diff(cartpole_sym[1],x1,x3)\n",
    "d2f2_x1x4 = diff(cartpole_sym[1],x1,x4)\n",
    "d2f2_x3x4 = diff(cartpole_sym[1],x3,x4)\n",
    "\n",
    "d2f3_x3x1 = diff(cartpole_sym[2],x3,x1)\n",
    "d2f3_x3x2 = diff(cartpole_sym[2],x3,x2)\n",
    "d2f3_x3sq = diff(cartpole_sym[2],x3,x3)\n",
    "d2f3_x3x4 = diff(cartpole_sym[2],x3,x4)\n",
    "d2f3_x1sq = diff(cartpole_sym[2],x1,x1)\n",
    "d2f3_x2sq = diff(cartpole_sym[2],x2,x2)\n",
    "d2f3_x4sq = diff(cartpole_sym[2],x4,x4)\n",
    "d2f3_x1x2 = diff(cartpole_sym[2],x1,x2)\n",
    "d2f3_x1x4 = diff(cartpole_sym[2],x1,x4)\n",
    "d2f3_x2x4 = diff(cartpole_sym[2],x2,x4)\n",
    "\n",
    "d2f4_x4x1 = diff(cartpole_sym[3],x4,x1)\n",
    "d2f4_x4x2 = diff(cartpole_sym[3],x4,x2)\n",
    "d2f4_x4x3 = diff(cartpole_sym[3],x4,x3)\n",
    "d2f4_x4sq = diff(cartpole_sym[3],x4,x4)\n",
    "d2f4_x2sq = diff(cartpole_sym[3],x2,x2)\n",
    "d2f4_x1sq = diff(cartpole_sym[3],x1,x1)\n",
    "d2f4_x3sq = diff(cartpole_sym[3],x3,x3)\n",
    "d2f4_x1x2 = diff(cartpole_sym[3],x1,x2)\n",
    "d2f4_x1x3 = diff(cartpole_sym[3],x1,x3)\n",
    "d2f4_x2x3 = diff(cartpole_sym[3],x2,x3)"
   ]
  },
  {
   "cell_type": "markdown",
   "metadata": {},
   "source": [
    "เมื่อตรวจสอบคำตอบเราพบว่ามีสมาชิกเพียงบางตัวที่มีค่าไม่เป็นศูนย์ \n",
    "เราอาจใช้ฟังก์ชัน simplify() สำหรับสมาชิกนั้นเพื่อทำให้พจน์ง่ายขึ้น "
   ]
  },
  {
   "cell_type": "code",
   "execution_count": 14,
   "metadata": {},
   "outputs": [],
   "source": [
    "Ax_sym = Array([\n",
    "    [d2f1_x1sq, d2f1_x1x2, d2f1_x1x3, d2f1_x1x4],\n",
    "    [d2f2_x1sq, d2f2_x2x1, d2f2_x1x3, d2f2_x1x4],\n",
    "    [d2f3_x1sq, d2f3_x1x2, d2f3_x3x1, d2f3_x1x4],\n",
    "    [d2f4_x1sq, d2f4_x1x2, d2f4_x1x3, d2f4_x4x1],\n",
    "\n",
    "    [d2f1_x1x2, d2f1_x2sq, d2f1_x2x3, d2f1_x2x4],\n",
    "    [d2f2_x2x1, d2f2_x2sq, d2f2_x2x3, d2f2_x2x4],\n",
    "    [d2f3_x1x2, simplify(d2f3_x2sq), d2f3_x3x2, simplify(d2f3_x2x4)],\n",
    "    [d2f4_x1x2, simplify(d2f4_x2sq), d2f4_x2x3, simplify(d2f4_x4x2)],\n",
    "\n",
    "    [d2f1_x1x3, d2f1_x2x3, d2f1_x3sq, d2f1_x3x4],\n",
    "    [d2f2_x1x3, d2f2_x2x3, d2f2_x3sq, d2f2_x3x4],\n",
    "    [d2f3_x3x1, d2f3_x3x2, d2f3_x3sq, d2f3_x3x4],\n",
    "    [d2f4_x1x3, d2f4_x2x3, d2f4_x3sq, d2f4_x4x3],\n",
    "    \n",
    "    [d2f1_x1x4, d2f1_x2x4, d2f1_x3x4, d2f1_x4sq],\n",
    "    [d2f2_x1x4, d2f2_x2x4, d2f2_x3x4, d2f2_x4sq],\n",
    "    [d2f3_x1x4, simplify(d2f3_x2x4), d2f3_x3x4, simplify(d2f3_x4sq)],\n",
    "    [d2f4_x4x1, simplify(d2f4_x4x2), d2f4_x4x3, simplify(d2f4_x4sq)]\n",
    "])[:,:,0]"
   ]
  },
  {
   "cell_type": "code",
   "execution_count": 15,
   "metadata": {},
   "outputs": [
    {
     "data": {
      "text/latex": [
       "$\\displaystyle \\left[\\begin{matrix}0 & 0 & 0 & 0\\\\0 & 0 & 0 & 0\\\\0 & 0 & 0 & 0\\\\0 & 0 & 0 & 0\\\\0 & 0 & 0 & 0\\\\0 & 0 & 0 & 0\\\\0 & \\frac{- 0.16 u \\sin^{4}{\\left(x_{2} \\right)} + 1.04 u \\sin^{2}{\\left(x_{2} \\right)} - 0.4 u - 0.036 x_{4}^{2} \\sin^{5}{\\left(x_{2} \\right)} - 0.008 x_{4}^{2} \\sin^{3}{\\left(x_{2} \\right)} - 0.008 x_{4}^{2} \\sin^{2}{\\left(x_{2} \\right)} \\sin{\\left(3 x_{2} \\right)} - 0.1 x_{4}^{2} \\sin{\\left(x_{2} \\right)} - 0.04 x_{4}^{2} \\sin{\\left(3 x_{2} \\right)} + 1.72656 \\sin^{3}{\\left(x_{2} \\right)} \\cos{\\left(x_{2} \\right)} - 10.2024 \\sin{\\left(x_{2} \\right)} \\cos{\\left(x_{2} \\right)}}{\\left(0.2 \\sin^{2}{\\left(x_{2} \\right)} + 1.0\\right)^{3}} & 0 & \\frac{x_{4} \\left(0.2 - 0.04 \\sin^{2}{\\left(x_{2} \\right)}\\right) \\cos{\\left(x_{2} \\right)}}{\\left(0.2 \\sin^{2}{\\left(x_{2} \\right)} + 1.0\\right)^{2}}\\\\0 & \\frac{\\left(1 - 0.0909090909090909 \\cos{\\left(2 x_{2} \\right)}\\right)^{2} \\left(0.484 u \\cos{\\left(3 x_{2} \\right)} + 0.0363 x_{4}^{2} \\sin{\\left(4 x_{2} \\right)} + 5.697648 \\sin{\\left(3 x_{2} \\right)}\\right) - 0.64 \\left(0.1 \\sin^{2}{\\left(x_{2} \\right)} + 0.5\\right) \\left(u \\cos{\\left(x_{2} \\right)} + 0.05 x_{4}^{2} \\sin{\\left(2 x_{2} \\right)} + 11.772 \\sin{\\left(x_{2} \\right)}\\right) \\sin^{2}{\\left(x_{2} \\right)} \\cos^{2}{\\left(x_{2} \\right)} + \\left(0.2 \\sin^{2}{\\left(x_{2} \\right)} + 1.0\\right)^{3} \\left(u \\cos{\\left(x_{2} \\right)} + 0.2 x_{4}^{2} \\sin{\\left(2 x_{2} \\right)} + 11.772 \\sin{\\left(x_{2} \\right)}\\right)}{\\left(0.1 \\sin^{2}{\\left(x_{2} \\right)} + 0.5\\right) \\left(0.2 \\sin^{2}{\\left(x_{2} \\right)} + 1.0\\right)^{3}} & 0 & \\frac{10.0 x_{4} \\left(0.088 \\sin^{2}{\\left(x_{2} \\right)} - 0.04\\right)}{\\left(0.2 \\sin^{2}{\\left(x_{2} \\right)} + 1.0\\right)^{2}}\\\\0 & 0 & 0 & 0\\\\0 & 0 & 0 & 0\\\\0 & 0 & 0 & 0\\\\0 & 0 & 0 & 0\\\\0 & 0 & 0 & 0\\\\0 & 0 & 0 & 0\\\\0 & \\frac{x_{4} \\left(0.2 - 0.04 \\sin^{2}{\\left(x_{2} \\right)}\\right) \\cos{\\left(x_{2} \\right)}}{\\left(0.2 \\sin^{2}{\\left(x_{2} \\right)} + 1.0\\right)^{2}} & 0 & \\frac{0.2 \\sin{\\left(x_{2} \\right)}}{0.2 \\sin^{2}{\\left(x_{2} \\right)} + 1.0}\\\\0 & \\frac{10.0 x_{4} \\left(0.088 \\sin^{2}{\\left(x_{2} \\right)} - 0.04\\right)}{\\left(0.2 \\sin^{2}{\\left(x_{2} \\right)} + 1.0\\right)^{2}} & 0 & \\frac{0.2 \\sin{\\left(2 x_{2} \\right)}}{0.1 \\cos{\\left(2 x_{2} \\right)} - 1.1}\\end{matrix}\\right]$"
      ],
      "text/plain": [
       "[[0, 0, 0, 0], [0, 0, 0, 0], [0, 0, 0, 0], [0, 0, 0, 0], [0, 0, 0, 0], [0, 0, 0, 0], [0, (-0.16*u*sin(x2)**4 + 1.04*u*sin(x2)**2 - 0.4*u - 0.036*x4**2*sin(x2)**5 - 0.008*x4**2*sin(x2)**3 - 0.008*x4**2*sin(x2)**2*sin(3*x2) - 0.1*x4**2*sin(x2) - 0.04*x4**2*sin(3*x2) + 1.72656*sin(x2)**3*cos(x2) - 10.2024*sin(x2)*cos(x2))/(0.2*sin(x2)**2 + 1.0)**3, 0, x4*(0.2 - 0.04*sin(x2)**2)*cos(x2)/(0.2*sin(x2)**2 + 1.0)**2], [0, ((1 - 0.0909090909090909*cos(2*x2))**2*(0.484*u*cos(3*x2) + 0.0363*x4**2*sin(4*x2) + 5.697648*sin(3*x2)) - 0.64*(0.1*sin(x2)**2 + 0.5)*(u*cos(x2) + 0.05*x4**2*sin(2*x2) + 11.772*sin(x2))*sin(x2)**2*cos(x2)**2 + (0.2*sin(x2)**2 + 1.0)**3*(u*cos(x2) + 0.2*x4**2*sin(2*x2) + 11.772*sin(x2)))/((0.1*sin(x2)**2 + 0.5)*(0.2*sin(x2)**2 + 1.0)**3), 0, 10.0*x4*(0.088*sin(x2)**2 - 0.04)/(0.2*sin(x2)**2 + 1.0)**2], [0, 0, 0, 0], [0, 0, 0, 0], [0, 0, 0, 0], [0, 0, 0, 0], [0, 0, 0, 0], [0, 0, 0, 0], [0, x4*(0.2 - 0.04*sin(x2)**2)*cos(x2)/(0.2*sin(x2)**2 + 1.0)**2, 0, 0.2*sin(x2)/(0.2*sin(x2)**2 + 1.0)], [0, 10.0*x4*(0.088*sin(x2)**2 - 0.04)/(0.2*sin(x2)**2 + 1.0)**2, 0, 0.2*sin(2*x2)/(0.1*cos(2*x2) - 1.1)]]"
      ]
     },
     "execution_count": 15,
     "metadata": {},
     "output_type": "execute_result"
    }
   ],
   "source": [
    "Ax_sym"
   ]
  },
  {
   "cell_type": "markdown",
   "metadata": {},
   "source": [
    "แม้ว่าจะสามารถใช้เมทริกซ์เชิงสัญลักษณ์นี้เพื่อหาคำตอบโดยตรง แต่จะใช้เวลาการคำนวณมาก วิธีการที่ดีกว่าคือแปลงเป็นฟังก์ชัน \n",
    "ซึ่งเราไม่จำเป็นต้องโค้ดนิพจน์ของสมาชิกโดยตรง แต่สามารถใช้ฟังก์ชัน lambdify() จากแพ็กเกจ SymPy \n",
    "ที่ช่วยในการแปลงเป็นฟังก์ชันสำหรับอิมพลิเมนต์โดยอัตโนมัติ"
   ]
  },
  {
   "cell_type": "code",
   "execution_count": 16,
   "metadata": {},
   "outputs": [],
   "source": [
    "dAdx_cartpole = lambdify((x1,x2,x3,x4,u), Ax_sym)"
   ]
  },
  {
   "cell_type": "markdown",
   "metadata": {},
   "source": [
    "สังเกตว่า dAdx_cartpole() เป็นระบบเวลาต่อเนื่อง หากต้องการเปรียบเทียบผลกับคำตอบที่ได้จาก JAX \n",
    "เราต้องดำเนินการอีกขั้นหนึ่งคือคำนวณเฮสเชียนนี้ผ่านฟังก์ชันหาปริพันธ์ RK4 โดยใช้วิธีการที่คล้ายกับในหัวข้อ C.1.4 \n",
    "เพียงแต่ในกรณีนี้เป็นเฮสเซียนแทนจาโคเบียน เขียนฟังก์ชันการคำนวณ dAdx_cartpole_rk4() ดังนี้"
   ]
  },
  {
   "cell_type": "code",
   "execution_count": 17,
   "metadata": {},
   "outputs": [],
   "source": [
    "def dAdx_cartpole_rk4(x,u):\n",
    "    # manually do RK4 on hessian\n",
    "    # 1. you must start initial xdd as a zero matrix\n",
    "    # 2. you must keep track of changes in x value and evaluate \n",
    "    # Hessian at that point!\n",
    "    \n",
    "    xdd_1 = np.zeros((16,4)) # initial Hessian elements are all zero!\n",
    "    f1 = cartpole(x,u).flatten()  # value output of \n",
    "    d2f1 = dAdx_cartpole(x[0],x[1],x[2],x[3],u) # d2f1 is 16x4 matrix\n",
    "\n",
    "    x_2 = x + 0.5*h*f1 # update x for 2nd cartpole() call\n",
    "    f2 = cartpole(x_2,u).flatten()\n",
    "    d2f2 = dAdx_cartpole(x_2[0],x_2[1],x_2[2],x_2[3],u)\n",
    "\n",
    "    x_3 = x + 0.5*h*f2\n",
    "    f3 = cartpole(x_3,u).flatten()\n",
    "    d2f3 = dAdx_cartpole(x_3[0],x_3[1],x_3[2],x_3[3],u)\n",
    "\n",
    "    x_4 = x + 0.5*h*f3\n",
    "    f4 = cartpole(x_4,u).flatten()\n",
    "    d2f4 = dAdx_cartpole(x_4[0],x_4[1],x_4[2],x_4[3],u)\n",
    "    d2ft = xdd_1 + (h/6.0)*(d2f1 + 2*d2f2 + 2*d2f3 + d2f4)\n",
    "    \n",
    "    return d2ft "
   ]
  },
  {
   "cell_type": "markdown",
   "metadata": {},
   "source": [
    "คำนวณ dAdx เปรียบเทียบกับผลที่ได้จาก JAX"
   ]
  },
  {
   "cell_type": "code",
   "execution_count": 18,
   "metadata": {},
   "outputs": [
    {
     "data": {
      "text/plain": [
       "array([[ 0.00000000e+00,  0.00000000e+00,  0.00000000e+00,\n",
       "         0.00000000e+00],\n",
       "       [ 0.00000000e+00,  0.00000000e+00,  0.00000000e+00,\n",
       "         0.00000000e+00],\n",
       "       [ 0.00000000e+00,  0.00000000e+00,  0.00000000e+00,\n",
       "         0.00000000e+00],\n",
       "       [ 0.00000000e+00,  0.00000000e+00,  0.00000000e+00,\n",
       "         0.00000000e+00],\n",
       "       [ 0.00000000e+00,  0.00000000e+00,  0.00000000e+00,\n",
       "         0.00000000e+00],\n",
       "       [ 0.00000000e+00,  0.00000000e+00,  0.00000000e+00,\n",
       "         0.00000000e+00],\n",
       "       [ 0.00000000e+00, -2.03187999e-02,  0.00000000e+00,\n",
       "        -4.17892837e-04],\n",
       "       [ 0.00000000e+00, -1.41618403e-01,  0.00000000e+00,\n",
       "        -8.35784447e-04],\n",
       "       [ 0.00000000e+00,  0.00000000e+00,  0.00000000e+00,\n",
       "         0.00000000e+00],\n",
       "       [ 0.00000000e+00,  0.00000000e+00,  0.00000000e+00,\n",
       "         0.00000000e+00],\n",
       "       [ 0.00000000e+00,  0.00000000e+00,  0.00000000e+00,\n",
       "         0.00000000e+00],\n",
       "       [ 0.00000000e+00,  0.00000000e+00,  0.00000000e+00,\n",
       "         0.00000000e+00],\n",
       "       [ 0.00000000e+00,  0.00000000e+00,  0.00000000e+00,\n",
       "         0.00000000e+00],\n",
       "       [ 0.00000000e+00,  0.00000000e+00,  0.00000000e+00,\n",
       "         0.00000000e+00],\n",
       "       [ 0.00000000e+00, -4.17892837e-04,  0.00000000e+00,\n",
       "        -6.25086796e-06],\n",
       "       [ 0.00000000e+00, -8.35784447e-04,  0.00000000e+00,\n",
       "        -1.25017257e-05]])"
      ]
     },
     "execution_count": 18,
     "metadata": {},
     "output_type": "execute_result"
    }
   ],
   "source": [
    "Ax_md = dAdx_cartpole_rk4(x_star,u_star)\n",
    "Ax_md"
   ]
  },
  {
   "cell_type": "markdown",
   "metadata": {},
   "source": [
    "ทดสอบโดยใช้ค่าสุ่ม รันเซลล์นี้หลายครั้ง ผลต่างจะต้องมีค่าน้อย"
   ]
  },
  {
   "cell_type": "code",
   "execution_count": 21,
   "metadata": {},
   "outputs": [
    {
     "data": {
      "text/plain": [
       "np.float32(0.03713284)"
      ]
     },
     "execution_count": 21,
     "metadata": {},
     "output_type": "execute_result"
    }
   ],
   "source": [
    "x_test = np.random.rand(4,)\n",
    "u_test = np.random.rand()\n",
    "Ax_ad_test = dAdx(x_test,u_test) # from JAX\n",
    "Ax_md_test = dAdx_cartpole_rk4(x_test,u_test) # from symbolic\n",
    "np.linalg.norm(Ax_md_test - Ax_ad_test)"
   ]
  },
  {
   "cell_type": "markdown",
   "metadata": {},
   "source": [
    "ใช้วิธีการเช่นนี้กับฟังก์ชันที่เหลือคือ dBdx(), dAdu(), dBdu() \n",
    "\n",
    "$$\n",
    "\\frac{\\partial B}{\\partial x} = \n",
    "\\left[\\begin{array}{cccc}\n",
    "\\frac{\\partial^2 f_1}{\\partial x_1 \\partial u} & \\frac{\\partial^2 f_1}{\\partial x_2 \\partial u} &\n",
    "\\frac{\\partial^2 f_1}{\\partial x_3 \\partial u} & \\frac{\\partial^2 f_1}{\\partial x_4 \\partial u} \\\\\n",
    "\\frac{\\partial^2 f_2}{\\partial x_1 \\partial u} & \\frac{\\partial^2 f_2}{\\partial x_2 \\partial u} &\n",
    "\\frac{\\partial^2 f_2}{\\partial x_3 \\partial u} & \\frac{\\partial^2 f_2}{\\partial x_4 \\partial u} \\\\\n",
    "\\frac{\\partial^2 f_3}{\\partial x_1 \\partial u} & \\frac{\\partial^2 f_3}{\\partial x_2 \\partial u} &\n",
    "\\frac{\\partial^2 f_3}{\\partial x_3 \\partial u} & \\frac{\\partial^2 f_3}{\\partial x_4 \\partial u} \\\\\n",
    "\\frac{\\partial^2 f_4}{\\partial x_1 \\partial u} & \\frac{\\partial^2 f_4}{\\partial x_2 \\partial u} &\n",
    "\\frac{\\partial^2 f_4}{\\partial x_3 \\partial u} & \\frac{\\partial^2 f_4}{\\partial x_4 \\partial u} \n",
    "\\end{array}\\right] \\tag{C.17}    \n",
    "$$\n",
    "\n",
    "$$\n",
    "\\frac{\\partial A}{\\partial u} = \n",
    "\\left[\\begin{array}{c}\n",
    "\\frac{\\partial^2 f_1}{\\partial x_1 \\partial u} \\\\\n",
    "\\frac{\\partial^2 f_2}{\\partial x_1 \\partial u} \\\\\n",
    "\\frac{\\partial^2 f_3}{\\partial x_1 \\partial u} \\\\\n",
    "\\frac{\\partial^2 f_4}{\\partial x_1 \\partial u} \\\\\n",
    "\\frac{\\partial^2 f_1}{\\partial x_2 \\partial u} \\\\\n",
    "\\frac{\\partial^2 f_2}{\\partial x_2 \\partial u} \\\\\n",
    "\\frac{\\partial^2 f_3}{\\partial x_2 \\partial u} \\\\\n",
    "\\frac{\\partial^2 f_4}{\\partial x_2 \\partial u} \\\\\n",
    "\\frac{\\partial^2 f_1}{\\partial x_3 \\partial u} \\\\\n",
    "\\frac{\\partial^2 f_2}{\\partial x_3 \\partial u} \\\\\n",
    "\\frac{\\partial^2 f_3}{\\partial x_3 \\partial u} \\\\\n",
    "\\frac{\\partial^2 f_4}{\\partial x_3 \\partial u} \\\\\n",
    "\\frac{\\partial^2 f_1}{\\partial x_4 \\partial u} \\\\\n",
    "\\frac{\\partial^2 f_2}{\\partial x_4 \\partial u} \\\\\n",
    "\\frac{\\partial^2 f_3}{\\partial x_4 \\partial u} \\\\\n",
    "\\frac{\\partial^2 f_4}{\\partial x_4 \\partial u} \n",
    "\\end{array}\\right] \\tag{C.18}   \n",
    "$$\n",
    "\n",
    "$$\n",
    "\\frac{\\partial B}{\\partial u} = \n",
    "\\left[\\begin{array}{c}\n",
    "\\frac{\\partial^2 f_1}{\\partial u^2} \\\\\n",
    "\\frac{\\partial^2 f_2}{\\partial u^2} \\\\\n",
    "\\frac{\\partial^2 f_3}{\\partial u^2} \\\\\n",
    "\\frac{\\partial^2 f_4}{\\partial u^2} \n",
    "\\end{array}\\right] \\tag{C.19}   \n",
    "$$\n"
   ]
  },
  {
   "cell_type": "code",
   "execution_count": 22,
   "metadata": {},
   "outputs": [],
   "source": [
    "# compute each element in C.16 - C.19.Some are equal.\n",
    "d2f1_x1u = diff(cartpole_sym[0],x1,u)\n",
    "d2f1_x2u = diff(cartpole_sym[0],x2,u)\n",
    "d2f1_x3u = diff(cartpole_sym[0],x3,u)\n",
    "d2f1_x4u = diff(cartpole_sym[0],x4,u)\n",
    "\n",
    "d2f2_x1u = diff(cartpole_sym[1],x1,u)\n",
    "d2f2_x2u = diff(cartpole_sym[1],x2,u)\n",
    "d2f2_x3u = diff(cartpole_sym[1],x3,u)\n",
    "d2f2_x4u = diff(cartpole_sym[1],x4,u)\n",
    "\n",
    "d2f3_x1u = diff(cartpole_sym[2],x1,u)\n",
    "d2f3_x2u = diff(cartpole_sym[2],x2,u)\n",
    "d2f3_x3u = diff(cartpole_sym[2],x3,u)\n",
    "d2f3_x4u = diff(cartpole_sym[2],x4,u)\n",
    "\n",
    "d2f4_x1u = diff(cartpole_sym[3],x1,u)\n",
    "d2f4_x2u = diff(cartpole_sym[3],x2,u)\n",
    "d2f4_x3u = diff(cartpole_sym[3],x3,u)\n",
    "d2f4_x4u = diff(cartpole_sym[3],x4,u)\n",
    "\n",
    "d2f1_u2 = diff(cartpole_sym[0],u,u)\n",
    "d2f2_u2 = diff(cartpole_sym[1],u,u)\n",
    "d2f3_u2 = diff(cartpole_sym[2],u,u)\n",
    "d2f4_u2 = diff(cartpole_sym[3],u,u)"
   ]
  },
  {
   "cell_type": "code",
   "execution_count": 23,
   "metadata": {},
   "outputs": [],
   "source": [
    "Bx_sym = Array([\n",
    "    [d2f1_x1u, d2f1_x2u, d2f1_x3u, d2f1_x4u],\n",
    "    [d2f2_x1u, d2f2_x2u, d2f2_x3u, d2f2_x4u],\n",
    "    [d2f3_x1u, d2f3_x2u, d2f3_x3u, d2f3_x4u],\n",
    "    [d2f4_x1u, d2f4_x2u, d2f4_x3u, d2f4_x4u]])[:,:,0]\n",
    "\n",
    "Au_sym = Array([\n",
    "    [d2f1_x1u],\n",
    "    [d2f2_x1u],\n",
    "    [d2f3_x1u],\n",
    "    [d2f4_x1u],\n",
    "    [d2f1_x2u],\n",
    "    [d2f2_x2u],\n",
    "    [d2f3_x2u],\n",
    "    [d2f4_x2u],\n",
    "    [d2f1_x3u],\n",
    "    [d2f2_x3u],\n",
    "    [d2f3_x3u],\n",
    "    [d2f4_x3u],\n",
    "    [d2f1_x4u],\n",
    "    [d2f2_x4u],\n",
    "    [d2f3_x4u],\n",
    "    [d2f4_x4u]])[:,:,0]\n",
    "    \n",
    "Bu_sym = Array([ \n",
    "    [d2f1_u2],\n",
    "    [d2f2_u2],\n",
    "    [d2f3_u2],\n",
    "    [d2f4_u2]])[:,:,0]\n",
    "\n"
   ]
  },
  {
   "cell_type": "code",
   "execution_count": 24,
   "metadata": {},
   "outputs": [
    {
     "data": {
      "text/latex": [
       "$\\displaystyle \\left[\\begin{matrix}0 & 0 & 0 & 0\\\\0 & 0 & 0 & 0\\\\0 & - \\frac{0.4 \\sin{\\left(x_{2} \\right)} \\cos{\\left(x_{2} \\right)}}{\\left(0.2 \\sin^{2}{\\left(x_{2} \\right)} + 1.0\\right)^{2}} & 0 & 0\\\\0 & \\left(\\frac{0.8 \\cos^{2}{\\left(x_{2} \\right)}}{\\left(0.2 \\sin^{2}{\\left(x_{2} \\right)} + 1\\right)^{2}} + \\frac{1}{0.1 \\sin^{2}{\\left(x_{2} \\right)} + 0.5}\\right) \\sin{\\left(x_{2} \\right)} & 0 & 0\\end{matrix}\\right]$"
      ],
      "text/plain": [
       "[[0, 0, 0, 0], [0, 0, 0, 0], [0, -0.4*sin(x2)*cos(x2)/(0.2*sin(x2)**2 + 1.0)**2, 0, 0], [0, (0.8*cos(x2)**2/(0.2*sin(x2)**2 + 1)**2 + 1/(0.1*sin(x2)**2 + 0.5))*sin(x2), 0, 0]]"
      ]
     },
     "execution_count": 24,
     "metadata": {},
     "output_type": "execute_result"
    }
   ],
   "source": [
    "Bx_sym"
   ]
  },
  {
   "cell_type": "code",
   "execution_count": 25,
   "metadata": {},
   "outputs": [
    {
     "data": {
      "text/latex": [
       "$\\displaystyle \\left[\\begin{matrix}0\\\\0\\\\0\\\\0\\\\0\\\\0\\\\- \\frac{0.4 \\sin{\\left(x_{2} \\right)} \\cos{\\left(x_{2} \\right)}}{\\left(0.2 \\sin^{2}{\\left(x_{2} \\right)} + 1.0\\right)^{2}}\\\\\\left(\\frac{0.8 \\cos^{2}{\\left(x_{2} \\right)}}{\\left(0.2 \\sin^{2}{\\left(x_{2} \\right)} + 1\\right)^{2}} + \\frac{1}{0.1 \\sin^{2}{\\left(x_{2} \\right)} + 0.5}\\right) \\sin{\\left(x_{2} \\right)}\\\\0\\\\0\\\\0\\\\0\\\\0\\\\0\\\\0\\\\0\\end{matrix}\\right]$"
      ],
      "text/plain": [
       "[[0], [0], [0], [0], [0], [0], [-0.4*sin(x2)*cos(x2)/(0.2*sin(x2)**2 + 1.0)**2], [(0.8*cos(x2)**2/(0.2*sin(x2)**2 + 1)**2 + 1/(0.1*sin(x2)**2 + 0.5))*sin(x2)], [0], [0], [0], [0], [0], [0], [0], [0]]"
      ]
     },
     "execution_count": 25,
     "metadata": {},
     "output_type": "execute_result"
    }
   ],
   "source": [
    "Au_sym"
   ]
  },
  {
   "cell_type": "code",
   "execution_count": 26,
   "metadata": {},
   "outputs": [
    {
     "data": {
      "text/latex": [
       "$\\displaystyle \\left[\\begin{matrix}0\\\\0\\\\0\\\\0\\end{matrix}\\right]$"
      ],
      "text/plain": [
       "[[0], [0], [0], [0]]"
      ]
     },
     "execution_count": 26,
     "metadata": {},
     "output_type": "execute_result"
    }
   ],
   "source": [
    "Bu_sym"
   ]
  },
  {
   "cell_type": "markdown",
   "metadata": {},
   "source": [
    "**หมายเหตุ :** จากผลนี้จะเห็นว่า Bu_sym มีค่าเป็นศูนย์ตลอด ดังนั้นในการวนซ้ำในวิธี DDP เราอาจละทิ้งพจน์ที่ขึ้นกับ dBdu() เพื่อประหยัดเวลาการคำนวณ"
   ]
  },
  {
   "cell_type": "code",
   "execution_count": 27,
   "metadata": {},
   "outputs": [],
   "source": [
    "# implementation\n",
    "dBdx_cartpole = lambdify((x1,x2,x3,x4,u), Bx_sym)\n",
    "dAdu_cartpole = lambdify((x1,x2,x3,x4,u), Au_sym)\n",
    "dBdu_cartpole = lambdify((x1,x2,x3,x4,u), Bu_sym)"
   ]
  },
  {
   "cell_type": "code",
   "execution_count": 28,
   "metadata": {},
   "outputs": [],
   "source": [
    "def dBdx_cartpole_rk4(x,u):   \n",
    "    xdd_1 = np.zeros((4,4)) # initial Hessian elements are all zero!\n",
    "    f1 = cartpole(x,u).flatten()  # value output of \n",
    "    d2f1 = dBdx_cartpole(x[0],x[1],x[2],x[3],u) # d2f1 is 16x4 matrix\n",
    "\n",
    "    x_2 = x + 0.5*h*f1 # update x for 2nd cartpole() call\n",
    "    print\n",
    "    f2 = cartpole(x_2,u).flatten()\n",
    "    d2f2 = dBdx_cartpole(x_2[0],x_2[1],x_2[2],x_2[3],u)\n",
    "\n",
    "    x_3 = x + 0.5*h*f2\n",
    "    f3 = cartpole(x_3,u).flatten()\n",
    "    d2f3 = dBdx_cartpole(x_3[0],x_3[1],x_3[2],x_3[3],u)\n",
    "\n",
    "    x_4 = x + 0.5*h*f3\n",
    "    f4 = cartpole(x_4,u).flatten()\n",
    "    d2f4 = dBdx_cartpole(x_4[0],x_4[1],x_4[2],x_4[3],u)\n",
    "    d2ft = xdd_1 + (h/6.0)*(d2f1 + 2*d2f2 + 2*d2f3 + d2f4)    \n",
    "    return d2ft \n",
    "\n",
    "def dAdu_cartpole_rk4(x,u):   \n",
    "    xdd_1 = np.zeros((16,1)) # initial Hessian elements are all zero!\n",
    "    f1 = cartpole(x,u).flatten()  # value output of \n",
    "    d2f1 = dAdu_cartpole(x[0],x[1],x[2],x[3],u) # d2f1 is 16x4 matrix\n",
    "\n",
    "    x_2 = x + 0.5*h*f1 # update x for 2nd cartpole() call\n",
    "    print\n",
    "    f2 = cartpole(x_2,u).flatten()\n",
    "    d2f2 = dAdu_cartpole(x_2[0],x_2[1],x_2[2],x_2[3],u)\n",
    "\n",
    "    x_3 = x + 0.5*h*f2\n",
    "    f3 = cartpole(x_3,u).flatten()\n",
    "    d2f3 = dAdu_cartpole(x_3[0],x_3[1],x_3[2],x_3[3],u)\n",
    "\n",
    "    x_4 = x + 0.5*h*f3\n",
    "    f4 = cartpole(x_4,u).flatten()\n",
    "    d2f4 = dAdu_cartpole(x_4[0],x_4[1],x_4[2],x_4[3],u)\n",
    "    d2ft = xdd_1 + (h/6.0)*(d2f1 + 2*d2f2 + 2*d2f3 + d2f4)    \n",
    "    return d2ft \n",
    "\n",
    "def dBdu_cartpole_rk4(x,u):   \n",
    "    xdd_1 = np.zeros((4,1)) # initial Hessian elements are all zero!\n",
    "    f1 = cartpole(x,u).flatten()  # value output of \n",
    "    d2f1 = dBdu_cartpole(x[0],x[1],x[2],x[3],u) # d2f1 is 16x4 matrix\n",
    "\n",
    "    x_2 = x + 0.5*h*f1 # update x for 2nd cartpole() call\n",
    "    print\n",
    "    f2 = cartpole(x_2,u).flatten()\n",
    "    d2f2 = dBdu_cartpole(x_2[0],x_2[1],x_2[2],x_2[3],u)\n",
    "\n",
    "    x_3 = x + 0.5*h*f2\n",
    "    f3 = cartpole(x_3,u).flatten()\n",
    "    d2f3 = dBdu_cartpole(x_3[0],x_3[1],x_3[2],x_3[3],u)\n",
    "\n",
    "    x_4 = x + 0.5*h*f3\n",
    "    f4 = cartpole(x_4,u).flatten()\n",
    "    d2f4 = dBdu_cartpole(x_4[0],x_4[1],x_4[2],x_4[3],u)\n",
    "    d2ft = xdd_1 + (h/6.0)*(d2f1 + 2*d2f2 + 2*d2f3 + d2f4)    \n",
    "    return d2ft \n"
   ]
  },
  {
   "cell_type": "markdown",
   "metadata": {},
   "source": [
    "ทดสอบโดยใช้ค่าสุ่ม รันเซลล์นี้หลายครั้ง ผลต่างจะต้องมีค่าน้อย"
   ]
  },
  {
   "cell_type": "code",
   "execution_count": 29,
   "metadata": {},
   "outputs": [
    {
     "data": {
      "text/plain": [
       "np.float32(0.0025793996)"
      ]
     },
     "execution_count": 29,
     "metadata": {},
     "output_type": "execute_result"
    }
   ],
   "source": [
    "x_test = np.random.rand(4,)\n",
    "u_test = np.random.rand()\n",
    "Bx_ad_test = dBdx(x_test,u_test) # from JAX\n",
    "Bx_md_test = dBdx_cartpole_rk4(x_test,u_test) # from symbolic\n",
    "np.linalg.norm(Bx_md_test - Bx_ad_test)"
   ]
  },
  {
   "cell_type": "code",
   "execution_count": 30,
   "metadata": {},
   "outputs": [
    {
     "data": {
      "text/plain": [
       "np.float32(0.0022751808)"
      ]
     },
     "execution_count": 30,
     "metadata": {},
     "output_type": "execute_result"
    }
   ],
   "source": [
    "x_test = np.random.rand(4,)\n",
    "u_test = np.random.rand()\n",
    "Au_ad_test = dAdu(x_test,u_test) # from JAX\n",
    "Au_md_test = dAdu_cartpole_rk4(x_test,u_test) # from symbolic\n",
    "np.linalg.norm(Au_md_test - Au_ad_test)"
   ]
  },
  {
   "cell_type": "code",
   "execution_count": 31,
   "metadata": {},
   "outputs": [
    {
     "data": {
      "text/plain": [
       "np.float32(6.666676e-05)"
      ]
     },
     "execution_count": 31,
     "metadata": {},
     "output_type": "execute_result"
    }
   ],
   "source": [
    "x_test = np.random.rand(4,)\n",
    "u_test = np.random.rand()\n",
    "Bu_ad_test = dBdu(x_test,u_test) # from JAX\n",
    "Bu_md_test = dBdu_cartpole_rk4(x_test,u_test) # from symbolic\n",
    "np.linalg.norm(Bu_md_test - Bu_ad_test)"
   ]
  },
  {
   "cell_type": "markdown",
   "metadata": {},
   "source": [
    "**หมายเหตุ :** จากการทดสอบนี้เราตั้งข้อสังเกตว่าแต่ละสมาชิกของเมทริกซ์/เวกเตอร์ที่ได้จากพจน์เฮสเซียนมีค่าน้อยมาก \n",
    "ดังนั้นผลจากพจน์เหล่านี้ในการปรับค่าอาจไม่คุ้มค่าเมื่อเปรียบเทียบกับเวลาที่ใช้ในการคำนวณ กล่าวคือการใช้อัลอกริทึมเกาส์-นิวตันในวิธี iLQR \n",
    "น่าจะเป็นทางเลือกที่ดีกว่าอัลกอริทึมนิวตันแบบเต็มในวิธี DDP "
   ]
  },
  {
   "cell_type": "code",
   "execution_count": null,
   "metadata": {},
   "outputs": [],
   "source": []
  },
  {
   "cell_type": "code",
   "execution_count": null,
   "metadata": {},
   "outputs": [],
   "source": []
  },
  {
   "cell_type": "code",
   "execution_count": null,
   "metadata": {},
   "outputs": [],
   "source": []
  },
  {
   "cell_type": "markdown",
   "metadata": {},
   "source": [
    "## บรรณานุกรม\n",
    "\n",
    "1. R. Tedrake and the Drake Development Team. [\"Drake: Model-based design and verification\n",
    " for robotics\"](https://drake.mit.edu). 2019.\n",
    "\n",
    "2. Z. Manchester et.al. [16-745 Optimal Control & Reinforcement Learning, \n",
    "Course materials](https://optimalcontrol.ri.cmu.edu/#learning-resources), Carnegie Mellon University. 2025.\n",
    "\n",
    "3. R. Tedrake. [Underactuated Robotics: Algorithms for Walking, Running, Swimming, Flying, and Manipulation (Course Notes for MIT 6.832)](https://underactuated.csail.mit.edu). 2023. \n"
   ]
  },
  {
   "cell_type": "markdown",
   "metadata": {},
   "source": [
    "<div align=\"center\">\n",
    "<img src=\"https://raw.githubusercontent.com/dewdotninja/sharing-github/refs/heads/master/dewninja_logo50.jpg\" alt=\"dewninja\"/>\n",
    "</div>\n",
    "<div align=\"center\">dew.ninja 2025</div>"
   ]
  }
 ],
 "metadata": {
  "kernelspec": {
   "display_name": "Python 3 (ipykernel)",
   "language": "python",
   "name": "python3"
  },
  "language_info": {
   "codemirror_mode": {
    "name": "ipython",
    "version": 3
   },
   "file_extension": ".py",
   "mimetype": "text/x-python",
   "name": "python",
   "nbconvert_exporter": "python",
   "pygments_lexer": "ipython3",
   "version": "3.12.9"
  }
 },
 "nbformat": 4,
 "nbformat_minor": 4
}
